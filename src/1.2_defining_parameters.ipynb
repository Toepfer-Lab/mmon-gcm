{
 "cells": [
  {
   "cell_type": "markdown",
   "id": "controlling-cisco",
   "metadata": {},
   "source": [
    "# Finding parameters"
   ]
  },
  {
   "cell_type": "markdown",
   "id": "egyptian-service",
   "metadata": {},
   "source": [
    "In order to constrain the model using photons, osmolarity, and co2 intake, it is necessary to have the required parameters"
   ]
  },
  {
   "cell_type": "code",
   "execution_count": null,
   "id": "exciting-large",
   "metadata": {},
   "outputs": [],
   "source": [
    "import pandas as pd\n",
    "\n",
    "modelparameters = {}"
   ]
  },
  {
   "cell_type": "markdown",
   "id": "super-disney",
   "metadata": {},
   "source": [
    "## Photons"
   ]
  },
  {
   "cell_type": "markdown",
   "id": "numeric-antique",
   "metadata": {},
   "source": [
    "The value for photon reflectance and transmission from Zhu et al (2010)"
   ]
  },
  {
   "cell_type": "code",
   "execution_count": null,
   "id": "marked-willow",
   "metadata": {},
   "outputs": [],
   "source": [
    "# proportion of photons absorbed by the leaf\n",
    "modelparameters[\"P_abs\"] = [0.9, r\"Dimensionless\", \"Zhu, Long, and Ort (2010)\"]"
   ]
  },
  {
   "cell_type": "markdown",
   "id": "grateful-belfast",
   "metadata": {},
   "source": [
    "The value for the thickness of an *Arabidopsis* leaf from Wuyts et al (2021)"
   ]
  },
  {
   "cell_type": "code",
   "execution_count": null,
   "id": "hired-antenna",
   "metadata": {},
   "outputs": [],
   "source": [
    "modelparameters[\"T_l\"] = [0.017 * 10 ** -2, r\"m\", \"Wuyts et al. (2010)\"]"
   ]
  },
  {
   "cell_type": "markdown",
   "id": "authorized-portsmouth",
   "metadata": {},
   "source": [
    "The are of the leaf being simulated was fixed at 1m$^2$"
   ]
  },
  {
   "cell_type": "code",
   "execution_count": null,
   "id": "presidential-concentration",
   "metadata": {},
   "outputs": [],
   "source": [
    "modelparameters[\"A_l\"] = [1, r\"m$^2$\", \"Fixed\"]"
   ]
  },
  {
   "cell_type": "markdown",
   "id": "domestic-honduras",
   "metadata": {},
   "source": [
    "The average volume of an *Arabidopsis* guard cell as the midpoint of the values given in table 1 of Jezek and Blatt (2017)"
   ]
  },
  {
   "cell_type": "code",
   "execution_count": null,
   "id": "included-kennedy",
   "metadata": {},
   "outputs": [],
   "source": [
    "j_b_upper = 0.65\n",
    "j_b_lower = 0.3\n",
    "V_gc_ind = (j_b_lower+j_b_upper)/2  # pL\n",
    "V_gc_ind = V_gc_ind * 10**-12  # dm3\n",
    "modelparameters[\"V_gc_ind\"] = [V_gc_ind, r\"dm$^3$\", \"Jezek and Blatt (2017)\"]"
   ]
  },
  {
   "cell_type": "markdown",
   "id": "comparative-florida",
   "metadata": {},
   "source": [
    "The photosynthetic efficient of guard cells compared to the mesophyll was taken from Lawson (2003). \n",
    "\n",
    "> In leaves of all species the values of photosynthetic efficiency for guard cells were either indistinguishable from or only slightly lower (minimum of 79%) than those of the underlying, spongy mesophyll cells.\n",
    "\n",
    "I therefore took the average of 100% and 79%, 90%."
   ]
  },
  {
   "cell_type": "code",
   "execution_count": null,
   "id": "constitutional-sharp",
   "metadata": {},
   "outputs": [],
   "source": [
    "modelparameters[\"FqFm\"] = [0.9, r\"Dimensionless\", \"Lawson (2003)\"]"
   ]
  },
  {
   "cell_type": "markdown",
   "id": "collected-center",
   "metadata": {},
   "source": [
    "The proportion of the number of chloroplasts in guard cells compared to mesophyll cells is taken as the ratio of the midpoint of values for each cell type in Fujiwara et al (2019)"
   ]
  },
  {
   "cell_type": "code",
   "execution_count": null,
   "id": "flush-operation",
   "metadata": {},
   "outputs": [],
   "source": [
    "upper_gc = 5.5\n",
    "lower_gc = 3.5\n",
    "midpoint_gc = (lower_gc+upper_gc)/2\n",
    "\n",
    "upper_me = 100\n",
    "lower_me = 30\n",
    "midpoint_me = (upper_me+lower_me)/2\n",
    "\n",
    "R_ch = midpoint_gc/midpoint_me\n",
    "\n",
    "modelparameters[\"R_ch\"] = [R_ch, r\"Dimensionless\", \"Fujiwara, Sanjaya, and Itoh (2019)\"]"
   ]
  },
  {
   "cell_type": "markdown",
   "id": "abroad-burden",
   "metadata": {},
   "source": [
    "The proportion of the leaf that is air from Earles et al (2018) for *Guzmania zahnii* from Table 2. "
   ]
  },
  {
   "cell_type": "code",
   "execution_count": null,
   "id": "dried-salvation",
   "metadata": {},
   "outputs": [],
   "source": [
    "modelparameters[\"L_air\"] = [0.37, r\"Dimensionless\", \"Earles et al. (2018)\"]"
   ]
  },
  {
   "cell_type": "markdown",
   "id": "sporting-loading",
   "metadata": {},
   "source": [
    "The proportion of the leaf that is epidermis from Wuyts et al 2010"
   ]
  },
  {
   "cell_type": "code",
   "execution_count": null,
   "id": "touched-trustee",
   "metadata": {},
   "outputs": [],
   "source": [
    "modelparameters[\"L_epidermis\"] = [0.15, r\"Dimensionless\", \"Wuyts et al. (2010)\"]"
   ]
  },
  {
   "cell_type": "markdown",
   "id": "dynamic-traffic",
   "metadata": {},
   "source": [
    "## Osmolarity"
   ]
  },
  {
   "cell_type": "markdown",
   "id": "bored-puppy",
   "metadata": {},
   "source": [
    "Wang 2017 use a value of 0.751 to be the propotion of the Guard Cell that is vacuole"
   ]
  },
  {
   "cell_type": "code",
   "execution_count": null,
   "id": "technological-recipient",
   "metadata": {},
   "outputs": [],
   "source": [
    "modelparameters[\"Vac_frac\"] = [0.751, r\"Dimensionless\",\n",
    "                               \"Wang et al. (2017)\"]  # proportion of guard cell that is vacuole"
   ]
  },
  {
   "cell_type": "markdown",
   "id": "recorded-satellite",
   "metadata": {},
   "source": [
    "The temperature in the model is taken to be 23C used by Horrer et al 2016. "
   ]
  },
  {
   "cell_type": "code",
   "execution_count": null,
   "id": "dramatic-street",
   "metadata": {},
   "outputs": [],
   "source": [
    "modelparameters[\"T\"] = [273.15+23, \"K\", \"Horrer et al. (2016)\"]"
   ]
  },
  {
   "cell_type": "markdown",
   "id": "floppy-single",
   "metadata": {},
   "source": [
    "Ideal gas constant, from NIST, (reference Tiesinga2019)"
   ]
  },
  {
   "cell_type": "code",
   "execution_count": null,
   "id": "numerical-extent",
   "metadata": {},
   "outputs": [],
   "source": [
    "R = 8.205*10**(-5)  # m3atmK-1mol-1\n",
    "R = R*10**3  # dm3atmK-1mol-1\n",
    "modelparameters[\"R\"] = [R, r\"dm$^3$$\\cdot$atm$\\cdot$K$^{-1}$$\\cdot$mol$^{-1}$\", \"Tiesinga et al. (2019)\"]"
   ]
  },
  {
   "cell_type": "markdown",
   "id": "empty-basketball",
   "metadata": {},
   "source": [
    "The density of guard cells per m$^2$ of leaf was taken by multiplying the density of stomata from Papanatsiou et al 2016 by two. This only takes into accound the abaxial surface of the leaf. Strangely, Flutsch et al (2020) had 98 mm$^2$, which is significantly less."
   ]
  },
  {
   "cell_type": "code",
   "execution_count": null,
   "id": "successful-comfort",
   "metadata": {},
   "outputs": [],
   "source": [
    "modelparameters[\"N_gcs\"] = [290 * 10 ** 6 * 2.0, r\"GCs$\\cdot$m$^{-2}$\", \"Papanatsiou, Amtmann, and Blatt (2016)\"]"
   ]
  },
  {
   "cell_type": "markdown",
   "id": "charming-diamond",
   "metadata": {},
   "source": [
    "The following parameters required for osmolarity are based on the updated OnGuard model (Wang et al 2017)."
   ]
  },
  {
   "cell_type": "code",
   "execution_count": null,
   "id": "modular-accordance",
   "metadata": {},
   "outputs": [],
   "source": [
    "modelparameters[\"n\"] = [2.5, \"atm\", \"Wang et al. (2017)\"]\n",
    "modelparameters[\"m\"] = [0.8, r\"atm$\\cdot$µm$^{-1}$\", \"Wang et al. (2017)\"]\n",
    "modelparameters[\"r\"] = [0.05 * 10 ** (-12), r\"dm$^3$ µm$^{-1}$\", \"Wang et al. (2017)\"]\n",
    "modelparameters[\"s\"] = [0.3 * 10 ** (-12), r\"dm$^3$\", \"Wang et al. (2017)\"]"
   ]
  },
  {
   "cell_type": "code",
   "execution_count": null,
   "id": "automated-motor",
   "metadata": {},
   "outputs": [],
   "source": [
    "apoplastic_concs_wang_2017 = {\n",
    "    \"K\": 10,\n",
    "    \"Ca\": 1,\n",
    "    \"Cl\": 12,\n",
    "    \"Suc\": 0.01,\n",
    "    \"MH2\": 3.2*10**(-6),\n",
    "    \"MH\": 7.9*10**(-5),\n",
    "    \"M\": 0.00999,\n",
    "}\n",
    "apoplastic_conc_wang_2017 = sum(apoplastic_concs_wang_2017.values())"
   ]
  },
  {
   "cell_type": "code",
   "execution_count": null,
   "id": "thick-exhaust",
   "metadata": {},
   "outputs": [],
   "source": [
    "modelparameters[\"C_apo\"] = [apoplastic_conc_wang_2017*10 **\n",
    "                            (-3), r\"mol$\\cdot$dm$^{-3}$\", \"Wang et al. (2017)\"]  # concentration of osmolytes in the apoplast"
   ]
  },
  {
   "cell_type": "markdown",
   "id": "5d2f47dd-0f4c-4c60-81d7-495918d4c3ab",
   "metadata": {},
   "source": [
    "## Apertures"
   ]
  },
  {
   "cell_type": "markdown",
   "id": "f260b794-fd4a-436b-97bf-0fdc8569fa78",
   "metadata": {},
   "source": [
    "We use as a source of apertures those from Horrer et al (2016). The list is apertures for the four phases of the model."
   ]
  },
  {
   "cell_type": "code",
   "execution_count": null,
   "id": "angry-pendant",
   "metadata": {},
   "outputs": [],
   "source": [
    "modelparameters[\"A_closed\"] = [1.6, r\"µm\", \"Horrer et al. (2016)\"]\n",
    "modelparameters[\"A_open\"] = [2.75, r\"µm\", \"Horrer et al. (2016)\"]"
   ]
  },
  {
   "cell_type": "code",
   "execution_count": null,
   "id": "british-utility",
   "metadata": {},
   "outputs": [],
   "source": [
    "modelparameters_df = pd.DataFrame.from_dict(modelparameters, orient=\"index\", columns=[\"Value\", \"Units\", \"Source\"])"
   ]
  },
  {
   "cell_type": "code",
   "execution_count": null,
   "id": "01a9ce75-cf3d-465e-bb28-5bc31c1ca723",
   "metadata": {},
   "outputs": [
    {
     "data": {
      "text/html": [
       "<div>\n",
       "<style scoped>\n",
       "    .dataframe tbody tr th:only-of-type {\n",
       "        vertical-align: middle;\n",
       "    }\n",
       "\n",
       "    .dataframe tbody tr th {\n",
       "        vertical-align: top;\n",
       "    }\n",
       "\n",
       "    .dataframe thead th {\n",
       "        text-align: right;\n",
       "    }\n",
       "</style>\n",
       "<table border=\"1\" class=\"dataframe\">\n",
       "  <thead>\n",
       "    <tr style=\"text-align: right;\">\n",
       "      <th></th>\n",
       "      <th>Value</th>\n",
       "      <th>Units</th>\n",
       "      <th>Source</th>\n",
       "    </tr>\n",
       "  </thead>\n",
       "  <tbody>\n",
       "    <tr>\n",
       "      <th>P_abs</th>\n",
       "      <td>9.000000e-01</td>\n",
       "      <td>Dimensionless</td>\n",
       "      <td>Zhu, Long, and Ort (2010)</td>\n",
       "    </tr>\n",
       "    <tr>\n",
       "      <th>T_l</th>\n",
       "      <td>1.700000e-04</td>\n",
       "      <td>m</td>\n",
       "      <td>Wuyts et al. (2010)</td>\n",
       "    </tr>\n",
       "    <tr>\n",
       "      <th>A_l</th>\n",
       "      <td>1.000000e+00</td>\n",
       "      <td>m$^2$</td>\n",
       "      <td>Fixed</td>\n",
       "    </tr>\n",
       "    <tr>\n",
       "      <th>V_gc_ind</th>\n",
       "      <td>4.750000e-13</td>\n",
       "      <td>dm$^3$</td>\n",
       "      <td>Jezek and Blatt (2017)</td>\n",
       "    </tr>\n",
       "    <tr>\n",
       "      <th>FqFm</th>\n",
       "      <td>9.000000e-01</td>\n",
       "      <td>Dimensionless</td>\n",
       "      <td>Lawson (2003)</td>\n",
       "    </tr>\n",
       "    <tr>\n",
       "      <th>R_ch</th>\n",
       "      <td>6.923077e-02</td>\n",
       "      <td>Dimensionless</td>\n",
       "      <td>Fujiwara, Sanjaya, and Itoh (2019)</td>\n",
       "    </tr>\n",
       "    <tr>\n",
       "      <th>L_air</th>\n",
       "      <td>3.700000e-01</td>\n",
       "      <td>Dimensionless</td>\n",
       "      <td>Earles et al. (2018)</td>\n",
       "    </tr>\n",
       "    <tr>\n",
       "      <th>L_epidermis</th>\n",
       "      <td>1.500000e-01</td>\n",
       "      <td>Dimensionless</td>\n",
       "      <td>Wuyts et al. (2010)</td>\n",
       "    </tr>\n",
       "    <tr>\n",
       "      <th>Vac_frac</th>\n",
       "      <td>7.510000e-01</td>\n",
       "      <td>Dimensionless</td>\n",
       "      <td>Wang et al. (2017)</td>\n",
       "    </tr>\n",
       "    <tr>\n",
       "      <th>T</th>\n",
       "      <td>2.961500e+02</td>\n",
       "      <td>K</td>\n",
       "      <td>Horrer et al. (2016)</td>\n",
       "    </tr>\n",
       "    <tr>\n",
       "      <th>R</th>\n",
       "      <td>8.205000e-02</td>\n",
       "      <td>dm$^3$$\\cdot$atm$\\cdot$K$^{-1}$$\\cdot$mol$^{-1}$</td>\n",
       "      <td>Tiesinga et al. (2019)</td>\n",
       "    </tr>\n",
       "    <tr>\n",
       "      <th>N_gcs</th>\n",
       "      <td>5.800000e+08</td>\n",
       "      <td>GCs$\\cdot$m$^{-2}$</td>\n",
       "      <td>Papanatsiou, Amtmann, and Blatt (2016)</td>\n",
       "    </tr>\n",
       "    <tr>\n",
       "      <th>n</th>\n",
       "      <td>2.500000e+00</td>\n",
       "      <td>atm</td>\n",
       "      <td>Wang et al. (2017)</td>\n",
       "    </tr>\n",
       "    <tr>\n",
       "      <th>m</th>\n",
       "      <td>8.000000e-01</td>\n",
       "      <td>atm$\\cdot$µm$^{-1}$</td>\n",
       "      <td>Wang et al. (2017)</td>\n",
       "    </tr>\n",
       "    <tr>\n",
       "      <th>r</th>\n",
       "      <td>5.000000e-14</td>\n",
       "      <td>dm$^3$ µm$^{-1}$</td>\n",
       "      <td>Wang et al. (2017)</td>\n",
       "    </tr>\n",
       "    <tr>\n",
       "      <th>s</th>\n",
       "      <td>3.000000e-13</td>\n",
       "      <td>dm$^3$</td>\n",
       "      <td>Wang et al. (2017)</td>\n",
       "    </tr>\n",
       "    <tr>\n",
       "      <th>C_apo</th>\n",
       "      <td>2.302007e-02</td>\n",
       "      <td>mol$\\cdot$dm$^{-3}$</td>\n",
       "      <td>Wang et al. (2017)</td>\n",
       "    </tr>\n",
       "    <tr>\n",
       "      <th>A_closed</th>\n",
       "      <td>1.600000e+00</td>\n",
       "      <td>µm</td>\n",
       "      <td>Horrer et al. (2016)</td>\n",
       "    </tr>\n",
       "    <tr>\n",
       "      <th>A_open</th>\n",
       "      <td>2.750000e+00</td>\n",
       "      <td>µm</td>\n",
       "      <td>Horrer et al. (2016)</td>\n",
       "    </tr>\n",
       "  </tbody>\n",
       "</table>\n",
       "</div>"
      ],
      "text/plain": [
       "                    Value                                             Units  \\\n",
       "P_abs        9.000000e-01                                     Dimensionless   \n",
       "T_l          1.700000e-04                                                 m   \n",
       "A_l          1.000000e+00                                             m$^2$   \n",
       "V_gc_ind     4.750000e-13                                            dm$^3$   \n",
       "FqFm         9.000000e-01                                     Dimensionless   \n",
       "R_ch         6.923077e-02                                     Dimensionless   \n",
       "L_air        3.700000e-01                                     Dimensionless   \n",
       "L_epidermis  1.500000e-01                                     Dimensionless   \n",
       "Vac_frac     7.510000e-01                                     Dimensionless   \n",
       "T            2.961500e+02                                                 K   \n",
       "R            8.205000e-02  dm$^3$$\\cdot$atm$\\cdot$K$^{-1}$$\\cdot$mol$^{-1}$   \n",
       "N_gcs        5.800000e+08                                GCs$\\cdot$m$^{-2}$   \n",
       "n            2.500000e+00                                               atm   \n",
       "m            8.000000e-01                               atm$\\cdot$µm$^{-1}$   \n",
       "r            5.000000e-14                                  dm$^3$ µm$^{-1}$   \n",
       "s            3.000000e-13                                            dm$^3$   \n",
       "C_apo        2.302007e-02                               mol$\\cdot$dm$^{-3}$   \n",
       "A_closed     1.600000e+00                                                µm   \n",
       "A_open       2.750000e+00                                                µm   \n",
       "\n",
       "                                             Source  \n",
       "P_abs                     Zhu, Long, and Ort (2010)  \n",
       "T_l                             Wuyts et al. (2010)  \n",
       "A_l                                           Fixed  \n",
       "V_gc_ind                     Jezek and Blatt (2017)  \n",
       "FqFm                                  Lawson (2003)  \n",
       "R_ch             Fujiwara, Sanjaya, and Itoh (2019)  \n",
       "L_air                          Earles et al. (2018)  \n",
       "L_epidermis                     Wuyts et al. (2010)  \n",
       "Vac_frac                         Wang et al. (2017)  \n",
       "T                              Horrer et al. (2016)  \n",
       "R                            Tiesinga et al. (2019)  \n",
       "N_gcs        Papanatsiou, Amtmann, and Blatt (2016)  \n",
       "n                                Wang et al. (2017)  \n",
       "m                                Wang et al. (2017)  \n",
       "r                                Wang et al. (2017)  \n",
       "s                                Wang et al. (2017)  \n",
       "C_apo                            Wang et al. (2017)  \n",
       "A_closed                       Horrer et al. (2016)  \n",
       "A_open                         Horrer et al. (2016)  "
      ]
     },
     "execution_count": null,
     "metadata": {},
     "output_type": "execute_result"
    }
   ],
   "source": [
    "modelparameters_df"
   ]
  },
  {
   "cell_type": "code",
   "execution_count": null,
   "id": "statutory-russian",
   "metadata": {},
   "outputs": [],
   "source": [
    "modelparameters_df.to_csv(\"../inputs/arabidopsis_parameters.csv\")"
   ]
  }
 ],
 "metadata": {
  "kernelspec": {
   "display_name": "mmon-gcm",
   "language": "python",
   "name": "mmon-gcm"
  }
 },
 "nbformat": 4,
 "nbformat_minor": 5
}
