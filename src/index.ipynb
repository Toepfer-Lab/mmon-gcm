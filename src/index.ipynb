{
 "cells": [
  {
   "cell_type": "raw",
   "metadata": {},
   "source": [
    "---\n",
    "description: The construction and analysis of a Multi-phase, Metabolic, Osmotic, iNtegrated\n",
    "  Guard Cell Model. Supporting the publication Sprent et al.\n",
    "output-file: index.html\n",
    "---"
   ]
  },
  {
   "cell_type": "markdown",
   "metadata": {},
   "source": [
    "# MMON-GCM"
   ]
  },
  {
   "cell_type": "markdown",
   "metadata": {},
   "source": [
    "## Installation"
   ]
  },
  {
   "cell_type": "markdown",
   "metadata": {},
   "source": [
    "This code does not work with python 3.10 because of a dependency issue with Escher: https://github.com/zakandrewking/escher/issues/377 . So make sure you install the package in a venv with e.g. python 3.9.\n",
    "\n",
    " 1. Clone the repo from GitHub.\n",
    " 2. Make a venv with e.g. conda: `conda create --name mmon-gcm python=3.9`\n",
    " 3. Install the package and dependencies in that virtualenv by running `pip install -e .` in the root of the repo\n",
    " 4. Run the notebook scripts in the order that they are numbered.\n",
    "\n",
    "The project uses nbdev2 to autocreate packages and documentation from jupyter notebooks."
   ]
  },
  {
   "cell_type": "markdown",
   "metadata": {},
   "source": [
    "### Contributions"
   ]
  },
  {
   "cell_type": "markdown",
   "metadata": {},
   "source": [
    "Noah Sprent developed and wrote the majority of the code. Maurice Cheung edited minor parts of the code for publication."
   ]
  }
 ],
 "metadata": {
  "kernelspec": {
   "display_name": "Python 3 (ipykernel)",
   "language": "python",
   "name": "python3"
  },
  "language_info": {
   "codemirror_mode": {
    "name": "ipython",
    "version": 3
   },
   "file_extension": ".py",
   "mimetype": "text/x-python",
   "name": "python",
   "nbconvert_exporter": "python",
   "pygments_lexer": "ipython3",
   "version": "3.9.18"
  }
 },
 "nbformat": 4,
 "nbformat_minor": 4
}
