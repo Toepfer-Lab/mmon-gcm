{
 "cells": [
  {
   "cell_type": "code",
   "execution_count": 87,
   "id": "458d9c08-2805-4b97-84a6-fb2455ede29d",
   "metadata": {},
   "outputs": [],
   "source": [
    "import json\n",
    "\n",
    "# Step 1: Read the JSON data from the file"
   ]
  },
  {
   "cell_type": "code",
   "execution_count": 105,
   "id": "941c2d21-7bac-4ec9-b748-f1d486ce9942",
   "metadata": {},
   "outputs": [],
   "source": [
    "def modify_phase(escher_data, shift):\n",
    "    new_data = escher_data.copy()\n",
    "\n",
    "    for key, value in new_data[1][\"reactions\"].items():\n",
    "        reaction_phase = int(new_data[1][\"reactions\"][key][\"bigg_id\"][-1])\n",
    "\n",
    "        new_phase = reaction_phase - shift\n",
    "\n",
    "        if new_phase == 0:\n",
    "                new_phase = 4\n",
    "        elif new_phase == -1:\n",
    "            new_phase = 3\n",
    "        elif new_phase == -2:\n",
    "            new_phase = 2\n",
    "\n",
    "        new_id_name = new_data[1][\"reactions\"][key][\"bigg_id\"][:-2] + f\"_{new_phase}\"\n",
    "\n",
    "        new_data[1][\"reactions\"][key][\"bigg_id\"] = new_id_name\n",
    "\n",
    "        new_data[1][\"reactions\"][key][\"name\"] = new_id_name\n",
    "\n",
    "        new_metabolites_dicts = []\n",
    "\n",
    "        for metabolite in escher_data[1][\"reactions\"][key][\"metabolites\"]:\n",
    "            metabolite_phase = int(metabolite[\"bigg_id\"][-1])\n",
    "\n",
    "            new_phase = metabolite_phase - shift\n",
    "\n",
    "            if new_phase == 0:\n",
    "                new_phase = 4\n",
    "            elif new_phase == -1:\n",
    "                new_phase = 3\n",
    "            elif new_phase == -2:\n",
    "                new_phase = 2\n",
    "\n",
    "            metabolite[\"bigg_id\"] = metabolite[\"bigg_id\"][:-2] + f\"_{new_phase}\"\n",
    "            new_metabolites_dicts.append(metabolite)\n",
    "\n",
    "            escher_data[1][\"reactions\"][key][\"metabolites\"] = new_metabolites_dicts\n",
    "\n",
    "    for key, value in escher_data[1][\"nodes\"].items():\n",
    "        if escher_data[1][\"nodes\"][key][\"node_type\"] == \"metabolite\":\n",
    "            node_phase = int(escher_data[1][\"nodes\"][key][\"bigg_id\"][-1])\n",
    "\n",
    "            new_phase = node_phase - shift\n",
    "\n",
    "            if new_phase == 0:\n",
    "                new_phase = 4\n",
    "            elif new_phase == -1:\n",
    "                new_phase = 3\n",
    "            elif new_phase == -2:\n",
    "                new_phase = 2\n",
    "\n",
    "            new_node_name = (\n",
    "                escher_data[1][\"nodes\"][key][\"bigg_id\"][:-2] + f\"_{new_phase}\"\n",
    "            )\n",
    "\n",
    "            escher_data[1][\"nodes\"][key][\"bigg_id\"] = new_node_name\n",
    "\n",
    "            escher_data[1][\"nodes\"][key][\"name\"] = new_node_name\n",
    "\n",
    "    return new_data"
   ]
  },
  {
   "cell_type": "code",
   "execution_count": 106,
   "id": "b39a530d-910d-42b5-8e49-defa61658b62",
   "metadata": {},
   "outputs": [],
   "source": [
    "for i in [1, 2, 3]:\n",
    "    with open(\"../inputs/map.json\", \"r\") as json_file:\n",
    "        escher_data = json.load(json_file)\n",
    "\n",
    "    new_data = modify_phase(escher_data, i)\n",
    "\n",
    "    with open(f\"../inputs/map_{i}.json\", \"w\") as json_file:\n",
    "        json.dump(new_data, json_file, indent=4)"
   ]
  }
 ],
 "metadata": {
  "kernelspec": {
   "display_name": "mmon-gcm",
   "language": "python",
   "name": "mmon-gcm"
  },
  "language_info": {
   "codemirror_mode": {
    "name": "ipython",
    "version": 3
   },
   "file_extension": ".py",
   "mimetype": "text/x-python",
   "name": "python",
   "nbconvert_exporter": "python",
   "pygments_lexer": "ipython3",
   "version": "3.9.17"
  }
 },
 "nbformat": 4,
 "nbformat_minor": 5
}
