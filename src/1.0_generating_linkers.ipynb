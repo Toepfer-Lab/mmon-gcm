{
 "cells": [
  {
   "cell_type": "markdown",
   "id": "3dfa1dfb-7154-45fd-acc4-d344587940e3",
   "metadata": {},
   "source": [
    "# Generating table for linkers/osmolytes"
   ]
  },
  {
   "cell_type": "markdown",
   "id": "ad1c0da6-04c7-48f0-b0e7-237d28712d31",
   "metadata": {},
   "source": [
    "This notebook describes the steps to generate the"
   ]
  },
  {
   "cell_type": "code",
   "execution_count": 1,
   "id": "c8f052a5-18a3-4e7d-bd11-327029be1333",
   "metadata": {},
   "outputs": [],
   "source": [
    "import pandas as pd"
   ]
  },
  {
   "cell_type": "code",
   "execution_count": 2,
   "id": "b26487b7-9c32-460d-ab9d-8add865621d1",
   "metadata": {},
   "outputs": [],
   "source": [
    "linkers_dict = {}"
   ]
  },
  {
   "cell_type": "markdown",
   "id": "3122c61c-bc09-4871-8ce9-e030d862ef9f",
   "metadata": {},
   "source": [
    "## Add the amino acids as linker reactions in the vacuole of both the guard cell and mesophyll cell. They have an osmotic effect in the guard cell but not the mesophyll"
   ]
  },
  {
   "cell_type": "code",
   "execution_count": 3,
   "id": "e0d4521c-aa19-4317-8e75-3dac9740600d",
   "metadata": {},
   "outputs": [],
   "source": [
    "amino_acid_list = [\n",
    "    '4_AMINO_BUTYRATE',\n",
    "    'LEU',\n",
    "    'GLY',\n",
    "    'VAL',\n",
    "    'L_ALPHA_ALANINE',\n",
    "    'ASN',\n",
    "    'MET',\n",
    "    'LYS',\n",
    "    'THR',\n",
    "    'ILE',\n",
    "    'SER',\n",
    "    'GLT',\n",
    "    'TRP',\n",
    "    'GLN',\n",
    "    'TYR',\n",
    "    'L_ASPARTATE',\n",
    "    'PRO',\n",
    "    'PHE',\n",
    "    'HIS',\n",
    "    'bHIS',\n",
    "    'CYS',\n",
    "    'ARG',\n",
    "]\n",
    "\n",
    "for cell, osmolarity in zip([\"me\", \"gc\"], [0, 1]):\n",
    "    for amino_acid in amino_acid_list:\n",
    "        linkers_dict[f\"{amino_acid}_v_{cell}\"] = osmolarity"
   ]
  },
  {
   "cell_type": "markdown",
   "id": "594d8512-fc00-4fe5-be08-0cb222d5de35",
   "metadata": {},
   "source": [
    "## Use vacuolar linkers from previous diel paper for mesophyll non-osmotic linkers"
   ]
  },
  {
   "cell_type": "code",
   "execution_count": 4,
   "id": "c345cc28-4931-43e8-9e4d-4295f78a101d",
   "metadata": {},
   "outputs": [],
   "source": [
    "me_linkers = [\n",
    "    \"MAL\",\n",
    "    \"aMAL\",\n",
    "    \"SUCROSE\",\n",
    "    \"CIT\",\n",
    "    \"aCIT\",\n",
    "]\n",
    "\n",
    "for me_linker in me_linkers:\n",
    "    linkers_dict[f\"{me_linker}_v_me\"] = 0"
   ]
  },
  {
   "cell_type": "markdown",
   "id": "0c1e9dd7-4991-41a7-af0d-4ee07f05af36",
   "metadata": {},
   "source": [
    "## Add non-osmotic apoplastic linkers based on what has been found to be present in the apoplast of guard cells"
   ]
  },
  {
   "cell_type": "code",
   "execution_count": 5,
   "id": "cffc64ec-2d58-4b10-bccf-58867a0092bb",
   "metadata": {},
   "outputs": [],
   "source": [
    "a_linkers = [\n",
    "    'Cl',\n",
    "    'FRU',\n",
    "    'GLC',\n",
    "    'K',\n",
    "    'MAL',\n",
    "    'NITRATE',\n",
    "    'SUCROSE',\n",
    "    'aMAL',\n",
    "]\n",
    "\n",
    "for a_linker in a_linkers:\n",
    "    linkers_dict[f\"{a_linker}_a\"] = 0"
   ]
  },
  {
   "cell_type": "markdown",
   "id": "24f5b529-6b05-4277-94b8-2fe1b9ace774",
   "metadata": {},
   "source": [
    "## Add osmotic linkers to cytoplasm and vacuole of GC based on what has been hypothesised to accumulate"
   ]
  },
  {
   "cell_type": "code",
   "execution_count": 6,
   "id": "d8a95886-98a2-4064-918d-ad7aad47acc9",
   "metadata": {},
   "outputs": [],
   "source": [
    "gc_c_linkers = [\n",
    "    'CIT',\n",
    "    'Cl',\n",
    "    'FRU',\n",
    "    'GLC',\n",
    "    'K',\n",
    "    'MAL',\n",
    "    'NITRATE',\n",
    "    'SUCROSE',\n",
    "]\n",
    "\n",
    "for gc_c_linker in gc_c_linkers:\n",
    "    linkers_dict[f\"{gc_c_linker}_c_gc\"] = 1"
   ]
  },
  {
   "cell_type": "code",
   "execution_count": 7,
   "id": "6b6a3f31-fcdf-43f0-bdb6-6151035487d4",
   "metadata": {},
   "outputs": [],
   "source": [
    "gc_v_linkers = [\n",
    "    'CIT',\n",
    "    'Cl',\n",
    "    'FRU',\n",
    "    'GLC',\n",
    "    'K',\n",
    "    'MAL',\n",
    "    'NITRATE',\n",
    "    'SUCROSE',\n",
    "    'aCIT',\n",
    "    'aMAL',\n",
    "]\n",
    "\n",
    "for gc_v_linker in gc_v_linkers:\n",
    "    linkers_dict[f\"{gc_v_linker}_v_gc\"] = 1"
   ]
  },
  {
   "cell_type": "markdown",
   "id": "a294109d-1474-4125-9199-d80175e8a1c1",
   "metadata": {},
   "source": [
    "## Add starch as a non-osmotic linker reaction in both the gc and me plastid"
   ]
  },
  {
   "cell_type": "code",
   "execution_count": 8,
   "id": "dcebebc2-67a5-4e4e-8a09-57b862c92b22",
   "metadata": {},
   "outputs": [],
   "source": [
    "linkers_dict[f\"STARCH_p_gc\"] = 0\n",
    "linkers_dict[\"STARCH_p_me\"] = 0"
   ]
  },
  {
   "cell_type": "markdown",
   "id": "bfe8524f-fe77-4ec8-983d-a645902a74a3",
   "metadata": {},
   "source": [
    "## Add palmitate fatty acid as a linker reaction to the GC cytoplasm"
   ]
  },
  {
   "cell_type": "markdown",
   "id": "c145d53f-a69b-4e4c-8ebb-bcd0d0b81f6c",
   "metadata": {},
   "source": [
    "Palmitate is the only fatty acid in the model. Adding other FAs and formation of lipids only makes a minor difference to energy costs involved (Unpublished work), so this is sufficient. Palmitate will not have an osmotic contribution because we assume it is stored in lipid droplets."
   ]
  },
  {
   "cell_type": "code",
   "execution_count": 9,
   "id": "250b1d1f-5890-43e4-ac53-4383c0650194",
   "metadata": {},
   "outputs": [],
   "source": [
    "linkers_dict[f\"PALMITATE_c_gc\"] = 0"
   ]
  },
  {
   "cell_type": "markdown",
   "id": "7ae6d216",
   "metadata": {},
   "source": [
    "## Add maltose as a linker reaction to the cytoplasm of GC (not ME)"
   ]
  },
  {
   "cell_type": "markdown",
   "id": "e482b9fc",
   "metadata": {},
   "source": [
    "Maltose contributes to osmotic pressure with osmotic coefficient of 1 in GC."
   ]
  },
  {
   "cell_type": "code",
   "execution_count": 10,
   "id": "f0b84988",
   "metadata": {},
   "outputs": [],
   "source": [
    "#linkers_dict[f\"MALTOSE_c_me\"] = 0\n",
    "linkers_dict[f\"MALTOSE_c_gc\"] = 1"
   ]
  },
  {
   "cell_type": "markdown",
   "id": "db7b48a0-6c96-422c-a26b-b0ccb8735bfc",
   "metadata": {},
   "source": [
    "## Save as .csv file"
   ]
  },
  {
   "cell_type": "code",
   "execution_count": 11,
   "id": "d377e71f-8e61-4477-8e71-578d0b58de2e",
   "metadata": {},
   "outputs": [],
   "source": [
    "osmolytes_df = pd.DataFrame.from_dict(linkers_dict, orient=\"Index\", columns=[\"Osmotic Coefficient\"])\n",
    "osmolytes_df.index.name = \"Linker\"\n",
    "osmolytes_df.to_csv(\"../inputs/osmolytes.csv\")"
   ]
  },
  {
   "cell_type": "markdown",
   "id": "f23ba7ff-244b-4854-bffe-0d4027561fb8",
   "metadata": {},
   "source": [
    "## Generate a prettier DF for investigating here if wanted"
   ]
  },
  {
   "cell_type": "code",
   "execution_count": 12,
   "id": "d320b9ea-3154-435f-8862-c1a43effa6f4",
   "metadata": {},
   "outputs": [],
   "source": [
    "def get_compartment_cell(linker):\n",
    "\n",
    "    split_name = linker.split(\"_\")\n",
    "    cell = split_name[-1]\n",
    "    if cell != \"a\":\n",
    "        compartment = split_name[-2]\n",
    "        metabolite = split_name[:-2]\n",
    "    else:\n",
    "        compartment = \"NA\"\n",
    "        metabolite = split_name[:-1]\n",
    "\n",
    "    if type(metabolite) == list:\n",
    "        metabolite = \"_\".join(metabolite)\n",
    "\n",
    "    return metabolite, compartment, cell"
   ]
  },
  {
   "cell_type": "code",
   "execution_count": 13,
   "id": "b4dca52e-50e1-4f75-a0a0-a74d89e9ca1f",
   "metadata": {},
   "outputs": [
    {
     "data": {
      "text/html": [
       "<div>\n",
       "<style scoped>\n",
       "    .dataframe tbody tr th:only-of-type {\n",
       "        vertical-align: middle;\n",
       "    }\n",
       "\n",
       "    .dataframe tbody tr th {\n",
       "        vertical-align: top;\n",
       "    }\n",
       "\n",
       "    .dataframe thead th {\n",
       "        text-align: right;\n",
       "    }\n",
       "</style>\n",
       "<table border=\"1\" class=\"dataframe\">\n",
       "  <thead>\n",
       "    <tr style=\"text-align: right;\">\n",
       "      <th></th>\n",
       "      <th></th>\n",
       "      <th></th>\n",
       "      <th>Osmotic Coefficient</th>\n",
       "    </tr>\n",
       "    <tr>\n",
       "      <th>Metabolite</th>\n",
       "      <th>Compartment</th>\n",
       "      <th>Cell</th>\n",
       "      <th></th>\n",
       "    </tr>\n",
       "  </thead>\n",
       "  <tbody>\n",
       "    <tr>\n",
       "      <th rowspan=\"2\" valign=\"top\">4_AMINO_BUTYRATE</th>\n",
       "      <th rowspan=\"2\" valign=\"top\">v</th>\n",
       "      <th>gc</th>\n",
       "      <td>1</td>\n",
       "    </tr>\n",
       "    <tr>\n",
       "      <th>me</th>\n",
       "      <td>0</td>\n",
       "    </tr>\n",
       "    <tr>\n",
       "      <th rowspan=\"2\" valign=\"top\">ARG</th>\n",
       "      <th rowspan=\"2\" valign=\"top\">v</th>\n",
       "      <th>gc</th>\n",
       "      <td>1</td>\n",
       "    </tr>\n",
       "    <tr>\n",
       "      <th>me</th>\n",
       "      <td>0</td>\n",
       "    </tr>\n",
       "    <tr>\n",
       "      <th>ASN</th>\n",
       "      <th>v</th>\n",
       "      <th>gc</th>\n",
       "      <td>1</td>\n",
       "    </tr>\n",
       "    <tr>\n",
       "      <th>...</th>\n",
       "      <th>...</th>\n",
       "      <th>...</th>\n",
       "      <td>...</td>\n",
       "    </tr>\n",
       "    <tr>\n",
       "      <th rowspan=\"3\" valign=\"top\">aMAL</th>\n",
       "      <th>NA</th>\n",
       "      <th>a</th>\n",
       "      <td>0</td>\n",
       "    </tr>\n",
       "    <tr>\n",
       "      <th rowspan=\"2\" valign=\"top\">v</th>\n",
       "      <th>gc</th>\n",
       "      <td>1</td>\n",
       "    </tr>\n",
       "    <tr>\n",
       "      <th>me</th>\n",
       "      <td>0</td>\n",
       "    </tr>\n",
       "    <tr>\n",
       "      <th rowspan=\"2\" valign=\"top\">bHIS</th>\n",
       "      <th rowspan=\"2\" valign=\"top\">v</th>\n",
       "      <th>gc</th>\n",
       "      <td>1</td>\n",
       "    </tr>\n",
       "    <tr>\n",
       "      <th>me</th>\n",
       "      <td>0</td>\n",
       "    </tr>\n",
       "  </tbody>\n",
       "</table>\n",
       "<p>79 rows × 1 columns</p>\n",
       "</div>"
      ],
      "text/plain": [
       "                                   Osmotic Coefficient\n",
       "Metabolite       Compartment Cell                     \n",
       "4_AMINO_BUTYRATE v           gc                      1\n",
       "                             me                      0\n",
       "ARG              v           gc                      1\n",
       "                             me                      0\n",
       "ASN              v           gc                      1\n",
       "...                                                ...\n",
       "aMAL             NA          a                       0\n",
       "                 v           gc                      1\n",
       "                             me                      0\n",
       "bHIS             v           gc                      1\n",
       "                             me                      0\n",
       "\n",
       "[79 rows x 1 columns]"
      ]
     },
     "execution_count": 13,
     "metadata": {},
     "output_type": "execute_result"
    }
   ],
   "source": [
    "osmolytes_df_prettyindex = pd.MultiIndex.from_tuples([get_compartment_cell(i) for i in osmolytes_df.index], names=[\n",
    "                                                     \"Metabolite\", \"Compartment\", \"Cell\"])\n",
    "osmolytes_df.index = osmolytes_df_prettyindex\n",
    "osmolytes_df = osmolytes_df.sort_index()\n",
    "osmolytes_df"
   ]
  },
  {
   "cell_type": "code",
   "execution_count": 14,
   "id": "60dcece4-4498-4fe4-8601-05a6ec682aeb",
   "metadata": {},
   "outputs": [],
   "source": [
    "def return_list_of_items(groupobject):\n",
    "    return \", \".join(list(groupobject.values.astype(\"str\")))"
   ]
  },
  {
   "cell_type": "code",
   "execution_count": 15,
   "id": "2b516305-b7f3-488c-8709-f92ccde1ccff",
   "metadata": {},
   "outputs": [
    {
     "data": {
      "text/html": [
       "<div>\n",
       "<style scoped>\n",
       "    .dataframe tbody tr th:only-of-type {\n",
       "        vertical-align: middle;\n",
       "    }\n",
       "\n",
       "    .dataframe tbody tr th {\n",
       "        vertical-align: top;\n",
       "    }\n",
       "\n",
       "    .dataframe thead th {\n",
       "        text-align: right;\n",
       "    }\n",
       "</style>\n",
       "<table border=\"1\" class=\"dataframe\">\n",
       "  <thead>\n",
       "    <tr style=\"text-align: right;\">\n",
       "      <th></th>\n",
       "      <th></th>\n",
       "      <th></th>\n",
       "      <th>Metabolite</th>\n",
       "    </tr>\n",
       "    <tr>\n",
       "      <th>Osmotic Coefficient</th>\n",
       "      <th>Cell</th>\n",
       "      <th>Compartment</th>\n",
       "      <th></th>\n",
       "    </tr>\n",
       "  </thead>\n",
       "  <tbody>\n",
       "    <tr>\n",
       "      <th rowspan=\"5\" valign=\"top\">0</th>\n",
       "      <th>a</th>\n",
       "      <th>NA</th>\n",
       "      <td>Cl, Fructose, Glucose, K, Malate, Nitrate, Suc...</td>\n",
       "    </tr>\n",
       "    <tr>\n",
       "      <th rowspan=\"2\" valign=\"top\">gc</th>\n",
       "      <th>c</th>\n",
       "      <td>Palmitate</td>\n",
       "    </tr>\n",
       "    <tr>\n",
       "      <th>p</th>\n",
       "      <td>Starch</td>\n",
       "    </tr>\n",
       "    <tr>\n",
       "      <th rowspan=\"2\" valign=\"top\">me</th>\n",
       "      <th>p</th>\n",
       "      <td>Starch</td>\n",
       "    </tr>\n",
       "    <tr>\n",
       "      <th>v</th>\n",
       "      <td>4_amino_butyrate, Arg, Asn, Citrate, Cys, Gln,...</td>\n",
       "    </tr>\n",
       "    <tr>\n",
       "      <th rowspan=\"2\" valign=\"top\">1</th>\n",
       "      <th rowspan=\"2\" valign=\"top\">gc</th>\n",
       "      <th>c</th>\n",
       "      <td>Citrate, Cl, Fructose, Glucose, K, Malate, Mal...</td>\n",
       "    </tr>\n",
       "    <tr>\n",
       "      <th>v</th>\n",
       "      <td>4_amino_butyrate, Arg, Asn, Citrate, Cys, Cl, ...</td>\n",
       "    </tr>\n",
       "  </tbody>\n",
       "</table>\n",
       "</div>"
      ],
      "text/plain": [
       "                                                                             Metabolite\n",
       "Osmotic Coefficient Cell Compartment                                                   \n",
       "0                   a    NA           Cl, Fructose, Glucose, K, Malate, Nitrate, Suc...\n",
       "                    gc   c                                                    Palmitate\n",
       "                         p                                                       Starch\n",
       "                    me   p                                                       Starch\n",
       "                         v            4_amino_butyrate, Arg, Asn, Citrate, Cys, Gln,...\n",
       "1                   gc   c            Citrate, Cl, Fructose, Glucose, K, Malate, Mal...\n",
       "                         v            4_amino_butyrate, Arg, Asn, Citrate, Cys, Cl, ..."
      ]
     },
     "execution_count": 15,
     "metadata": {},
     "output_type": "execute_result"
    }
   ],
   "source": [
    "linkers_met_dict = {\n",
    "    \"SUCROSE\": \"Sucrose\",\n",
    "    \"GLC\": \"Glucose\",\n",
    "    \"FRU\": \"Fructose\",\n",
    "    \"MAL\": \"Malate\",\n",
    "    \"CIT\": \"Citrate\",\n",
    "    \"Cl\": \"Cl\",\n",
    "    \"K\": \"K\",\n",
    "    \"NITRATE\": \"Nitrate\",\n",
    "    \"aMAL\": \"aMalate\",\n",
    "    \"STARCH\": \"Starch\",\n",
    "    \"aCIT\": \"aCitrate\",\n",
    "    \"bHIS\": \"bHis\",\n",
    "}\n",
    "\n",
    "osmolytes_tidy = osmolytes_df.reset_index().set_index([\"Osmotic Coefficient\", \"Cell\", \"Compartment\"]).sort_index()\n",
    "\n",
    "leftovers = set(osmolytes_tidy.Metabolite) - set(linkers_met_dict.keys())\n",
    "\n",
    "for l in leftovers:\n",
    "    linkers_met_dict[l] = l.capitalize()\n",
    "\n",
    "osmolytes_tidy.Metabolite = osmolytes_tidy.Metabolite.map(lambda x: linkers_met_dict[x])\n",
    "osmolytes_tidy = osmolytes_tidy.groupby([\"Osmotic Coefficient\", \"Cell\", \"Compartment\"]).agg(return_list_of_items)\n",
    "osmolytes_tidy.to_csv(\"../plant_cell_paper/supplemental_table_1.csv\")\n",
    "osmolytes_tidy"
   ]
  }
 ],
 "metadata": {
  "kernelspec": {
   "display_name": "Python 3 (ipykernel)",
   "language": "python",
   "name": "python3"
  },
  "language_info": {
   "codemirror_mode": {
    "name": "ipython",
    "version": 3
   },
   "file_extension": ".py",
   "mimetype": "text/x-python",
   "name": "python",
   "nbconvert_exporter": "python",
   "pygments_lexer": "ipython3",
   "version": "3.9.18"
  }
 },
 "nbformat": 4,
 "nbformat_minor": 5
}
