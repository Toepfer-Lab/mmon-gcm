{
 "cells": [
  {
   "cell_type": "raw",
   "id": "31544f7f",
   "metadata": {},
   "source": [
    "---\n",
    "output-file: analysealternativemodes.html\n",
    "title: Analysing alternative flux modes\n",
    "skip_showdoc: true\n",
    "---"
   ]
  },
  {
   "cell_type": "code",
   "execution_count": null,
   "id": "4d2e1d31-91e9-4fcc-87b2-48c5987a1a12",
   "metadata": {},
   "outputs": [],
   "source": [
    "# | default_exp analysealternativemodes"
   ]
  },
  {
   "cell_type": "code",
   "execution_count": null,
   "id": "db3439fc-fdae-48db-b1a6-4218d1d65401",
   "metadata": {},
   "outputs": [],
   "source": [
    "# | export\n",
    "\n",
    "import sys\n",
    "\n",
    "# from x import y syntax doesn't work because of nbdev export format\n",
    "import mmon_gcm.analysing\n",
    "import mmon_gcm.helper\n",
    "import networkx as nx\n",
    "from ipycytoscape import CytoscapeWidget"
   ]
  },
  {
   "cell_type": "code",
   "execution_count": null,
   "id": "15a9057c-6978-4f92-87fb-5093435b1ce8",
   "metadata": {},
   "outputs": [],
   "source": [
    "def visualise_graph(graph):\n",
    "\n",
    "    cyto = CytoscapeWidget()\n",
    "    cyto.graph.add_graph_from_networkx(subgraph)\n",
    "\n",
    "    cyto.set_style(\n",
    "        [\n",
    "            {\n",
    "                \"selector\": \"node\",\n",
    "                \"style\": {\n",
    "                    \"font-family\": \"helvetica\",\n",
    "                    \"font-size\": \"5px\",\n",
    "                    \"label\": \"data(id)\",\n",
    "                },\n",
    "            },\n",
    "            {\n",
    "                \"selector\": \"edge\",\n",
    "                \"style\": {\n",
    "                    \"font-family\": \"helvetica\",\n",
    "                    \"font-size\": \"5px\",\n",
    "                    \"label\": \"data(weight)\",\n",
    "                },\n",
    "            },\n",
    "        ]\n",
    "    )\n",
    "\n",
    "    # cyto.set_layout(name='circle')\n",
    "    cyto.set_layout(name=\"cose\")\n",
    "\n",
    "    return cyto"
   ]
  },
  {
   "cell_type": "code",
   "execution_count": null,
   "id": "d334b1ce-442e-4397-a047-7a3de5373b10",
   "metadata": {},
   "outputs": [],
   "source": [
    "def get_reactions_correlated_to_named(reaction_to_investigate, pearson_df, threshold):\n",
    "\n",
    "    reaction_correlations = pearson_df.loc[reaction_to_investigate]\n",
    "    correlated_reactions = list(reaction_correlations.loc[abs(reaction_correlations) > threshold].index)\n",
    "    correlated_df = pearson_df.loc[correlated_reactions, correlated_reactions]\n",
    "\n",
    "    positively_correlated = correlated_df.mask(correlated_df < 0, 0)\n",
    "\n",
    "    return positively_correlated"
   ]
  },
  {
   "cell_type": "code",
   "execution_count": null,
   "id": "4a66c947-e0e1-4851-9074-b7c9e3345681",
   "metadata": {},
   "outputs": [],
   "source": [
    "def get_list_of_subgraphs_from_correlation_df(correlation_df, threshold):\n",
    "\n",
    "    graph = nx.from_pandas_adjacency(mmon_gcm.analysing.get_adjacency(correlation_df, threshold))\n",
    "    subgraphs_list = [graph.subgraph(c).copy() for c in nx.connected_components(graph)]\n",
    "\n",
    "    return subgraphs_list"
   ]
  },
  {
   "cell_type": "markdown",
   "id": "72b80888-0afa-4634-8bcd-fe167ea9c5e4",
   "metadata": {},
   "source": [
    "As we observed variability in the flux solutions ([see solution files](outputs/model_solutions/), we wanted to see how much our conclusions rely on the assumption that the optimal solution minimises enzyme fluxes. We want to know:\n",
    "- Is the variability significant? How much deviation is there?\n",
    "- How typical is our pFBA solution, are our conclusions reasonable?\n",
    "- What are the alternative flux modes when there is variation? Are they actually different pathways? Do they imply a different biological story?"
   ]
  },
  {
   "cell_type": "markdown",
   "id": "86a5386b-8898-4d94-9e74-cb989fa27ed5",
   "metadata": {},
   "source": [
    "See [Notebook 5.1](5.1_generate_alternative_flux_modes_matrix.ipynb) for the theory behind the generation of the data analysed in this notebook, based on the method for accounting for enzyme costs outlined in Cheung et al. (2015). For each scenario in the paper the model was solved for 1000 random weights, using the script in [Notebook 5.2](5.2_run_alternative_flux_modes.ipynb). This notebook analyses these solutions in two ways:\n",
    "1. Looking at the pearson correlation coefficients:\n",
    "   > “The flux distributions predicted by cost-weighted FBA can be used to identify reactions that operate together or in parallel by calculating the Pearson correlation coefficient (r) for the set of reaction fluxes. This approach is similar to the concepts of reaction correlation coefficient (Poolman et al., 2007) and flux correlation (Poolman et al., 2009) used in conventional FBA, and it leads to a set of r values for the small metabolic network (Table II). Reactions that operate together have a positive r (e.g. between R5 and R6); reactions that work against each other (e.g. in parallel pathways) have a negative r (e.g. between R1, R2, and R3); and reactions that support fluxes with no necessary correlation have r close to 0 (e.g. between R1 and R4). These reaction correlation coefficients complement the flux range information from FVA by characterizing sets of reactions that operate together or in parallel. While alternative metabolic routes can be easily identified by inspection in a small metabolic network (Fig. 1), this is seldom possible in large-scale models with hundreds or even thousands of reactions.” (Cheung et al., 2015, p. 2)\n",
    "2. Looking at the fluxes when the solutions are averaged:\n",
    "    > \"However, by varying the weightings and generating an averaged solution, it is made clear that there are multiple ways in which the network might function. The averaged solution is not an optimal solution for the conventional FBA problem of flux minimization with uniform weighting (Table I shows that the sum of fluxes for a model with equal weightings is 2 units, whereas the averaged solution gives 2.161 units), but it does emphasize the potential contribution of alternative pathways. These may or may not operate simultaneously, but without further biochemical knowledge, it is not possible to rule out the possibility that all the pathways in the averaged solution contribute to the flux distribution.\" (Cheung et al., 2015, p. 2)"
   ]
  },
  {
   "cell_type": "markdown",
   "id": "2d291642-757a-4c9c-b6f7-803b55a6040d",
   "metadata": {},
   "source": [
    "NaN is observed for correlation where there is no standard deviation in one column. "
   ]
  },
  {
   "cell_type": "code",
   "execution_count": null,
   "id": "84a299dd-8b93-40f0-9c42-11d86f5531dc",
   "metadata": {},
   "outputs": [],
   "source": [
    "# This cell isn't exported to the .py file, so define here if running in notebook rather than as .py on e.g.a cluster\n",
    "\n",
    "sys.argv = [\"script_name\",\n",
    "            \"blue\",\n",
    "            False,\n",
    "            False,\n",
    "            \"../inputs\",\n",
    "            \"../outputs\",\n",
    "            \"../models\"]"
   ]
  },
  {
   "cell_type": "code",
   "execution_count": null,
   "id": "5b1902e9-9e35-4eb9-a939-cda46e7e8054",
   "metadata": {},
   "outputs": [],
   "source": [
    "# | export\n",
    "\n",
    "light = sys.argv[1]\n",
    "atpase_constrained = mmon_gcm.helper.convert_true_false(sys.argv[2])\n",
    "starch_knockout = mmon_gcm.helper.convert_true_false(sys.argv[3])\n",
    "input_dir = sys.argv[4]\n",
    "output_dir = sys.argv[5]\n",
    "model_dir = sys.argv[6]\n",
    "\n",
    "map_path = input_dir + \"/map.json\"\n",
    "json_model = model_dir + \"/4_stage_GC.json\"\n",
    "\n",
    "atpase_dict = {\n",
    "    True: \"constrained\",\n",
    "    False: \"unconstrained\"\n",
    "}\n",
    "\n",
    "starch_dict = {\n",
    "    True: \"ko\",\n",
    "    False: \"wt\",\n",
    "}"
   ]
  },
  {
   "cell_type": "code",
   "execution_count": null,
   "id": "446891f3-f667-4a60-8080-85d9dac85b0e",
   "metadata": {},
   "outputs": [],
   "source": [
    "# | export\n",
    "\n",
    "alternative_modes_df, pfba_df, averages_df = mmon_gcm.analysing.get_solution_dfs(\n",
    "    light, atpase_constrained, starch_knockout, output_dir\n",
    ")"
   ]
  },
  {
   "cell_type": "markdown",
   "id": "a1d24bc8-d7d2-4012-9fc3-b8453b5bdd6a",
   "metadata": {},
   "source": [
    "## How different is the average solution different from the pFBA solution?"
   ]
  },
  {
   "cell_type": "markdown",
   "id": "51886548-f216-4f40-9024-b9ec65509db7",
   "metadata": {},
   "source": [
    "- This will tell us whether our use of pFBA, and the way the solver picks equivalent reactions, has biased the reactions that show flux in the solutions we present\n",
    "- As the method is designed to add variability, comparing with the average is better than comparing with the maximal/minimal solutions, because the further from the mean the more biologically-unrealistic the solution becomes. This is the range that FVA gives.\n",
    "- We use percentage difference rather than absolute to see differences that would meaningfully affect our conclusions. If there are absolute values that are important then they will still show up because they will make up a big proportion of the reaction that they are important to, even if it's small for other reactions."
   ]
  },
  {
   "cell_type": "code",
   "execution_count": null,
   "id": "86ab5419-ae80-47ae-9c15-3bd45353a6b9",
   "metadata": {},
   "outputs": [],
   "source": [
    "# | export\n",
    "\n",
    "percentage_difference_df = mmon_gcm.analysing.get_percentage_difference_df(pfba_df, averages_df)"
   ]
  },
  {
   "cell_type": "code",
   "execution_count": null,
   "id": "dc9e59ff-7644-41de-9774-bd0f4cf65366",
   "metadata": {},
   "outputs": [
    {
     "data": {
      "application/vnd.jupyter.widget-view+json": {
       "model_id": "61c881bad9884adfbcd13fd579fdca90",
       "version_major": 2,
       "version_minor": 0
      },
      "text/plain": [
       "Builder(reaction_data={'EX_X_CO2_t_gc_2': 0.0, '2KG_OAA_mc_gc_2': 100.0, 'F16ALDOLASE_RXN_c_gc_2': 0.0, 'PYRUV…"
      ]
     },
     "metadata": {},
     "output_type": "display_data"
    }
   ],
   "source": [
    "# | export\n",
    "\n",
    "map = mmon_gcm.analysing.get_difference_map(percentage_difference_df, map_path, json_model)\n",
    "map"
   ]
  },
  {
   "cell_type": "markdown",
   "id": "346cf08f-0e6d-41eb-ad6b-46c93c68a20e",
   "metadata": {},
   "source": [
    "## Do the fluxes that decrease (in absolute terms) from pFBA to the average flux solution, correlate with one another?"
   ]
  },
  {
   "cell_type": "markdown",
   "id": "31904ea8-b78e-4aef-b021-b4698438f978",
   "metadata": {},
   "source": [
    "Basically what we're looking at here is how many different \"pFBA pathways\" potentially have alternatives. Is it all one pathway or different ones?"
   ]
  },
  {
   "cell_type": "code",
   "execution_count": null,
   "id": "ef3b19af-aecc-4e6a-85b0-01ee762a55eb",
   "metadata": {},
   "outputs": [],
   "source": [
    "# | export\n",
    "\n",
    "significance_threshold = (\n",
    "    0.1  # set threshold above which a correlation is considered to exist\n",
    ")"
   ]
  },
  {
   "cell_type": "markdown",
   "id": "640c3a78-3d1e-4442-b7e5-17964ba8d235",
   "metadata": {},
   "source": [
    "Here we only calculate the pearson for the reactions that are different, to speed things up:"
   ]
  },
  {
   "cell_type": "code",
   "execution_count": null,
   "id": "7680dac7-f57c-4693-b9ff-04b4b5c30507",
   "metadata": {},
   "outputs": [],
   "source": [
    "# | export\n",
    "\n",
    "pearson_df = mmon_gcm.analysing.get_pearson(alternative_modes_df.loc[percentage_difference_df.index])"
   ]
  },
  {
   "cell_type": "code",
   "execution_count": null,
   "id": "7762fa63-5f43-45e7-80e8-71b04fec6fa0",
   "metadata": {},
   "outputs": [],
   "source": [
    "# | export\n",
    "\n",
    "reactions_higher_in_pfba = percentage_difference_df[\"% Difference\"] < 0\n",
    "pfba_variable_pathways = pearson_df.loc[\n",
    "    reactions_higher_in_pfba, reactions_higher_in_pfba\n",
    "]"
   ]
  },
  {
   "cell_type": "markdown",
   "id": "5bab7f36-7ba7-4945-83f2-9f935db09c87",
   "metadata": {},
   "source": [
    "This doesn't currently work because of this bug: https://github.com/zakandrewking/escher/issues/377\n",
    "pfba_variable_pathways.style.apply(\n",
    "    lambda x: [\n",
    "        \"background: red\" if abs(x[v]) > significance_threshold and v != x.name else \"\"\n",
    "        for v in x.index\n",
    "    ],\n",
    "    axis=1,\n",
    ")"
   ]
  },
  {
   "cell_type": "code",
   "execution_count": null,
   "id": "afced06e-493d-455c-b2c8-eb8a9155c0c0",
   "metadata": {},
   "outputs": [],
   "source": [
    "# | export\n",
    "\n",
    "G = nx.from_pandas_adjacency(\n",
    "    mmon_gcm.analysing.get_adjacency(pfba_variable_pathways, significance_threshold)\n",
    ")\n",
    "S = [G.subgraph(c).copy() for c in nx.connected_components(G)]"
   ]
  },
  {
   "cell_type": "code",
   "execution_count": null,
   "id": "7354d0d3-718d-43b5-a926-aad1eae391d9",
   "metadata": {},
   "outputs": [
    {
     "data": {
      "application/vnd.jupyter.widget-view+json": {
       "model_id": "e70c7c269ea54c18af0dafc8de472910",
       "version_major": 2,
       "version_minor": 0
      },
      "text/plain": [
       "CytoscapeWidget(cytoscape_layout={'name': 'cose'}, cytoscape_style=[{'selector': 'node', 'style': {'font-famil…"
      ]
     },
     "metadata": {},
     "output_type": "display_data"
    }
   ],
   "source": [
    "subgraph = G\n",
    "\n",
    "cyto = CytoscapeWidget()\n",
    "cyto.graph.add_graph_from_networkx(subgraph)\n",
    "\n",
    "cyto.set_style(\n",
    "    [\n",
    "        {\n",
    "            \"selector\": \"node\",\n",
    "            \"style\": {\n",
    "                \"font-family\": \"helvetica\",\n",
    "                \"font-size\": \"5px\",\n",
    "                \"label\": \"data(id)\",\n",
    "            },\n",
    "        },\n",
    "        {\n",
    "            \"selector\": \"edge\",\n",
    "            \"style\": {\n",
    "                \"font-family\": \"helvetica\",\n",
    "                \"font-size\": \"5px\",\n",
    "                \"label\": \"data(weight)\",\n",
    "            },\n",
    "        },\n",
    "    ]\n",
    ")\n",
    "\n",
    "# cyto.set_layout(name='circle')\n",
    "cyto.set_layout(name=\"cose\")\n",
    "\n",
    "cyto"
   ]
  },
  {
   "cell_type": "code",
   "execution_count": null,
   "id": "f69b7952-4dde-4578-a0cd-57bef99e3836",
   "metadata": {},
   "outputs": [
    {
     "data": {
      "application/vnd.jupyter.widget-view+json": {
       "model_id": "8e04d1144ed24226bdceb4d9c26242c3",
       "version_major": 2,
       "version_minor": 0
      },
      "text/plain": [
       "Builder(reaction_data={'Pi_PROTON_mc_gc_2': 0, 'H_mc_gc_2': 0, 'MAL_Pi_mc_gc_2': 0, 'MALIC_NAD_RXN_m_gc_2': 0,…"
      ]
     },
     "metadata": {},
     "output_type": "display_data"
    }
   ],
   "source": [
    "# | export\n",
    "\n",
    "map = mmon_gcm.analysing.get_pfba_pathways_map(S, map_path, json_model)\n",
    "map.save_html(\n",
    "    output_dir +\n",
    "    f\"/alternative_weighting/analysis/{light}_{atpase_dict[atpase_constrained]}_{starch_dict[starch_knockout]}_pfba_pathways.html\"\n",
    ")\n",
    "map"
   ]
  },
  {
   "cell_type": "code",
   "execution_count": null,
   "id": "cb625e9f-7546-49f7-800a-64cfdf72c584",
   "metadata": {},
   "outputs": [],
   "source": [
    "import os\n",
    "\n",
    "import pandas as pd"
   ]
  },
  {
   "cell_type": "code",
   "execution_count": null,
   "id": "2e710b1d-581f-47c2-9153-2d2693e91f12",
   "metadata": {},
   "outputs": [],
   "source": [
    "# | export\n",
    "\n",
    "def get_reactions_to_investigate(csv_path):\n",
    "\n",
    "    if not os.path.exists(csv_path):\n",
    "        df = pd.DataFrame(columns=[\"Threshold\"])\n",
    "        df.index.name = \"Reactions\"\n",
    "        df.to_csv(csv_path)\n",
    "\n",
    "    df = pd.read_csv(csv_path, index_col=0)\n",
    "\n",
    "    return df"
   ]
  },
  {
   "cell_type": "code",
   "execution_count": null,
   "id": "f25d3286-0f6b-4a76-a674-91ede540c262",
   "metadata": {},
   "outputs": [],
   "source": [
    "csv_path = input_dir + \\\n",
    "    f'/alternative_weights_reactions/{light}_{atpase_dict[atpase_constrained]}_{starch_dict[starch_knockout]}.csv'\n",
    "reactions_threshold_df = get_reactions_to_investigate(csv_path)"
   ]
  },
  {
   "cell_type": "code",
   "execution_count": null,
   "id": "2ecf4238-21ae-4bfa-bb46-572f33589a14",
   "metadata": {},
   "outputs": [],
   "source": [
    "for row in reactions_threshold_df.iterrows():\n",
    "    reaction_to_investigate = row[0]\n",
    "    threshold = row[1][0]\n",
    "\n",
    "    correlation_df = get_reactions_correlated_to_named(reaction_to_investigate, pearson_df, threshold)\n",
    "\n",
    "    subgraphs_list = get_list_of_subgraphs_from_correlation_df(correlation_df, threshold)\n",
    "\n",
    "    alternatives_map = mmon_gcm.analysing.get_pfba_pathways_map(subgraphs_list, map_path, json_model)\n",
    "\n",
    "    alternatives_map.save_html(\n",
    "        output_dir + f'/alternative_weighting/analysis/{light}_{atpase_dict[atpase_constrained]}_{starch_dict[starch_knockout]}_{reaction_to_investigate}.html')"
   ]
  },
  {
   "cell_type": "code",
   "execution_count": null,
   "id": "bb786934-e0c4-4b7b-9a57-1fa2b45b1f59",
   "metadata": {},
   "outputs": [
    {
     "data": {
      "application/vnd.jupyter.widget-view+json": {
       "model_id": "cc7a896c7cbe4527bdbef8f6e7b972b3",
       "version_major": 2,
       "version_minor": 0
      },
      "text/plain": [
       "CytoscapeWidget(cytoscape_layout={'name': 'cose'}, cytoscape_style=[{'selector': 'node', 'style': {'font-famil…"
      ]
     },
     "metadata": {},
     "output_type": "display_data"
    }
   ],
   "source": [
    "visualise_graph(subgraphs_list)"
   ]
  },
  {
   "cell_type": "markdown",
   "id": "e6f58621-7cc7-4615-b1d3-cea8f7563f1a",
   "metadata": {},
   "source": [
    "## Notes on alternative pathways:"
   ]
  },
  {
   "cell_type": "markdown",
   "id": "993983e1-67bc-4291-bdf2-5db1920f4228",
   "metadata": {},
   "source": [
    "### blue_unconstrained_wt"
   ]
  },
  {
   "cell_type": "markdown",
   "id": "217e0540-16a8-4934-9b39-6e1b88a96de4",
   "metadata": {},
   "source": [
    "- MALIC_NAD_RXN_m_gc_2: Needed to use threshold of 0.4 to separate pathways, but can see that it's PEP carboxykinase + PEP dephosphorylase vs MALIC NAD. Although the conversion of MAL->OX in the mitochondria pops up for only the PEP carboxykinase route, this must also be used for MALIC.\n",
    "- ACONITATEDEHYDR_RXN_m_gc_2: At 0.1 threshold there's a lot of mess but drop it down to 0.4 and it's just whether or not this reaction happens in the mitochondrion or cytoplasm\n",
    "- SUCCCOASYN_RXN_m_gc_2: At 0.1 this includes some other reactions, but at 0.2 with pFBA this stage of the TCA cycle produces ATP which is then converted to GTP. The alternative is the direct production of GTP. Presumably this offers some sum-of-fluxes benefit because it doesn't require dealing with GTP.\n",
    "- PHOSGLYPHOS_RXN_c_gc_2: Used 0.25, and looks like this is just a question of whether ATP is produced in the plastid or in the cytoplasm, and shuffling it around.\n",
    "- 3PGAREARR_RXN_c_gc_2: Looks like the same as above"
   ]
  },
  {
   "cell_type": "markdown",
   "id": "d0b70b8b-1948-44be-8fa1-b3e68b35279c",
   "metadata": {},
   "source": [
    "### blue_unconstrained_ko"
   ]
  },
  {
   "cell_type": "markdown",
   "id": "b2cd6960-7516-42d5-bd21-f2eb991feee4",
   "metadata": {},
   "source": [
    "This looks the same as blue_unconstrained_wt. As the solutions were the same that makes sense."
   ]
  },
  {
   "cell_type": "markdown",
   "id": "8cef4791-0e8f-4239-aaa2-d5f85489b806",
   "metadata": {},
   "source": [
    "### blue_constrained_wt"
   ]
  },
  {
   "cell_type": "markdown",
   "id": "0d4bcd03-76aa-4cce-8b69-c1dfe55b41a0",
   "metadata": {},
   "source": [
    "- MALIC_NAD_RXN_m_gc_2: Needed to use threshold of 0.4 to separate pathways, but can see that it's PEP carboxykinase + PEP dephosphorylase vs MALIC NAD. Although the conversion of MAL->OX in the mitochondria pops up for only the PEP carboxykinase route, this must also be used for MALIC.\n",
    "- ACONITATEDEHYDR_RXN_m_gc_2: At 0.1 threshold there's a lot of mess but drop it down to 0.4 and it's just whether or not this reaction happens in the mitochondrion or cytoplasm\n",
    "- SUCCCOASYN_RXN_m_gc_2: At 0.1 this includes some other reactions, but at 0.2 with pFBA this stage of the TCA cycle produces ATP which is then converted to GTP. The alternative is the direct production of GTP. Presumably this offers some sum-of-fluxes benefit because it doesn't require dealing with GTP."
   ]
  },
  {
   "cell_type": "markdown",
   "id": "f2888956-e1b7-47d8-b4c5-da187c7d308c",
   "metadata": {},
   "source": [
    "### blue_constrained_ko"
   ]
  },
  {
   "cell_type": "markdown",
   "id": "44ca3888-2b06-406e-b890-289ed5bedc38",
   "metadata": {},
   "source": [
    "- RXN_1461_v_gc_2 (Sucrose breakdown in vacuole): Alternative is an equiavlent pathway via fructan that has a higher sum-of-fluxes.\n",
    "- K_c_gc_Linker_2: This is to do with basal osmolarity. K+ is correlated with all of the charged osmolytes in the cytoplasm, then alternatives are the others that can accumulate in the cytoplasm.\n",
    "- PEPDEPHOS_RXN_c_gc_2: Needed to use threshold of 0.4 to separate pathways, but can see that it's PEP carboxykinase + PEP dephosphorylase vs MALIC NAD. Although the conversion of MAL->OX in the mitochondria pops up for only the PEP carboxykinase route, this must also be used for MALIC.\n",
    "- ACONITATEDEHYDR_RXN_m_gc_2: This is just whether the reaction happens in the mitochondria or whether everything is shuttled to the cytoplasm to do it and then shuttled back again\n",
    "- SUCCCOASYN_RXN_m_gc_2: With pFBA this stage of the TCA cycle produces ATP which is then converted to GTP. The alternative is the direct production of GTP. Presumably this offers some sum-of-fluxes benefit because it doesn't require dealing with GTP."
   ]
  },
  {
   "cell_type": "markdown",
   "id": "cce5331a-f1dc-4e06-a89b-76876aa9b638",
   "metadata": {},
   "source": [
    "### white_constrained_wt"
   ]
  },
  {
   "cell_type": "markdown",
   "id": "b89ee89c-c0bd-4210-aca1-0fe6a1147844",
   "metadata": {},
   "source": [
    "- PHOSGLYPHOS_RXN_c_gc_2: This is just whether it happens in the plastid or the cytosol\n",
    "- TRIOSEPISOMERIZATION_RXN_p_gc_2: Again, just whether it happens in the plastid or the cytosol"
   ]
  },
  {
   "cell_type": "markdown",
   "id": "b6867764-ad23-4535-b474-1a0eee54f7fb",
   "metadata": {},
   "source": [
    "## white_constrained_ko"
   ]
  },
  {
   "cell_type": "markdown",
   "id": "9490a435-4d1e-4ee5-a69b-b0fdd979eced",
   "metadata": {},
   "source": [
    "- PHOSGLYPHOS_RXN_c_gc_2: This is just whether it happens in the plastid or the cytosol\n",
    "- TRIOSEPISOMERIZATION_RXN_p_gc_2: Whether it happens in the plastid or the cytosol\n",
    "- GLUC1PURIDYLTRANS_RXN_c_gc_2: Needs to be 0.52 to separate into two subgraphs. Basically two ways of getting between GLC and GLC_1_P. One via UDP and one via GDP glucose.\n",
    "- K_c_gc_Linker_2:This is to do with basal osmolarity. K+ is correlated with all of the charged osmolytes in the cytoplasm, then alternatives are the others that can accumulate in the cytoplasm.\n",
    "- SER_pc_gc_2: Whether SER is used or is converted to GLY and used.\n",
    "- RXN_1461_v_gc_2: Whether to use an equivalent reaction via FRUCTAN."
   ]
  },
  {
   "cell_type": "markdown",
   "id": "9355255a-b261-4b24-b2b2-e7355787f88d",
   "metadata": {},
   "source": [
    "## nops_constrained_wt"
   ]
  },
  {
   "cell_type": "markdown",
   "id": "222a0738-3a26-4d5e-837f-7d32cb909be5",
   "metadata": {},
   "source": [
    "- PHOSGLYPHOS_RXN_c_gc_2: Used 0.32, whether it's in the plastid or cytosol.\n",
    "- TRIOSEPISOMERIZATION_RXN_p_gc_2: Same as above, including 0.32. Just whether it's in plastid  or cytosol.\n",
    "- K_v_gc_Linker_2: Used 0.11. This is just shuffling things between c and v. \n",
    "- SUCCCOASYN_RXN_m_gc_2: With pFBA this stage of the TCA cycle produces ATP which is then converted to GTP. The alternative is the direct production of GTP. Presumably this offers some sum-of-fluxes benefit because it doesn't require dealing with GTP."
   ]
  },
  {
   "cell_type": "markdown",
   "id": "42f9a422-8895-4392-bd54-731364f2f573",
   "metadata": {},
   "source": [
    "## nops_constrained_ko"
   ]
  },
  {
   "cell_type": "markdown",
   "id": "045c35ab-db84-4d8a-8400-943f902c3b72",
   "metadata": {},
   "source": [
    "- K_v_gc_Linker_2: Used 0.11. This is just shuffling things between c and v.\n",
    "- SUCCCOASYN_RXN_m_gc_2: With pFBA this stage of the TCA cycle produces ATP which is then converted to GTP. The alternative is the direct production of GTP. Presumably this offers some sum-of-fluxes benefit because it doesn't require dealing with GTP."
   ]
  }
 ],
 "metadata": {
  "kernelspec": {
   "display_name": "mmon-gcm",
   "language": "python",
   "name": "mmon-gcm"
  }
 },
 "nbformat": 4,
 "nbformat_minor": 5
}
