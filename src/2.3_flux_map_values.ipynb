{
 "cells": [
  {
   "cell_type": "markdown",
   "id": "087cf99e-ebd1-4faf-94a9-b39ac3e96904",
   "metadata": {},
   "source": [
    "# Calculating line widths for flux maps"
   ]
  },
  {
   "cell_type": "markdown",
   "id": "a2d9dcef-05c6-4cbe-8c6d-fc14a0accaa6",
   "metadata": {},
   "source": [
    "For this, rather than taking values from solutions the values are inputted manually from the escher maps. It would be better from the solution dfs but I don't fancy coding this at the moment..."
   ]
  },
  {
   "cell_type": "code",
   "execution_count": null,
   "id": "8ba2e77f-133e-4d97-8764-2222bb95a1a4",
   "metadata": {},
   "outputs": [],
   "source": [
    "import itertools\n",
    "\n",
    "import numpy as np\n",
    "import pandas as pd"
   ]
  },
  {
   "cell_type": "code",
   "execution_count": null,
   "id": "90b03964-a4c4-4aac-a9d4-aeb5cca0c2b2",
   "metadata": {},
   "outputs": [
    {
     "name": "stderr",
     "output_type": "stream",
     "text": [
      "/tmp/ipykernel_3699541/2276567288.py:27: DeprecationWarning: In a future version, `df.iloc[:, i] = newvals` will attempt to set the values inplace instead of always setting a new array. To retain the old behavior, use either `df[df.columns[i]] = newvals` or, if columns are non-unique, `df.isetitem(i, newvals)`\n",
      "  solutions_df.loc[\n",
      "/tmp/ipykernel_3699541/2276567288.py:27: DeprecationWarning: In a future version, `df.iloc[:, i] = newvals` will attempt to set the values inplace instead of always setting a new array. To retain the old behavior, use either `df[df.columns[i]] = newvals` or, if columns are non-unique, `df.isetitem(i, newvals)`\n",
      "  solutions_df.loc[\n",
      "/tmp/ipykernel_3699541/2276567288.py:27: DeprecationWarning: In a future version, `df.iloc[:, i] = newvals` will attempt to set the values inplace instead of always setting a new array. To retain the old behavior, use either `df[df.columns[i]] = newvals` or, if columns are non-unique, `df.isetitem(i, newvals)`\n",
      "  solutions_df.loc[\n",
      "/tmp/ipykernel_3699541/2276567288.py:27: DeprecationWarning: In a future version, `df.iloc[:, i] = newvals` will attempt to set the values inplace instead of always setting a new array. To retain the old behavior, use either `df[df.columns[i]] = newvals` or, if columns are non-unique, `df.isetitem(i, newvals)`\n",
      "  solutions_df.loc[\n",
      "/tmp/ipykernel_3699541/2276567288.py:27: DeprecationWarning: In a future version, `df.iloc[:, i] = newvals` will attempt to set the values inplace instead of always setting a new array. To retain the old behavior, use either `df[df.columns[i]] = newvals` or, if columns are non-unique, `df.isetitem(i, newvals)`\n",
      "  solutions_df.loc[\n",
      "/tmp/ipykernel_3699541/2276567288.py:27: DeprecationWarning: In a future version, `df.iloc[:, i] = newvals` will attempt to set the values inplace instead of always setting a new array. To retain the old behavior, use either `df[df.columns[i]] = newvals` or, if columns are non-unique, `df.isetitem(i, newvals)`\n",
      "  solutions_df.loc[\n",
      "/tmp/ipykernel_3699541/2276567288.py:27: DeprecationWarning: In a future version, `df.iloc[:, i] = newvals` will attempt to set the values inplace instead of always setting a new array. To retain the old behavior, use either `df[df.columns[i]] = newvals` or, if columns are non-unique, `df.isetitem(i, newvals)`\n",
      "  solutions_df.loc[\n",
      "/tmp/ipykernel_3699541/2276567288.py:27: DeprecationWarning: In a future version, `df.iloc[:, i] = newvals` will attempt to set the values inplace instead of always setting a new array. To retain the old behavior, use either `df[df.columns[i]] = newvals` or, if columns are non-unique, `df.isetitem(i, newvals)`\n",
      "  solutions_df.loc[\n",
      "/tmp/ipykernel_3699541/2276567288.py:27: DeprecationWarning: In a future version, `df.iloc[:, i] = newvals` will attempt to set the values inplace instead of always setting a new array. To retain the old behavior, use either `df[df.columns[i]] = newvals` or, if columns are non-unique, `df.isetitem(i, newvals)`\n",
      "  solutions_df.loc[\n",
      "/tmp/ipykernel_3699541/2276567288.py:27: DeprecationWarning: In a future version, `df.iloc[:, i] = newvals` will attempt to set the values inplace instead of always setting a new array. To retain the old behavior, use either `df[df.columns[i]] = newvals` or, if columns are non-unique, `df.isetitem(i, newvals)`\n",
      "  solutions_df.loc[\n",
      "/tmp/ipykernel_3699541/2276567288.py:27: DeprecationWarning: In a future version, `df.iloc[:, i] = newvals` will attempt to set the values inplace instead of always setting a new array. To retain the old behavior, use either `df[df.columns[i]] = newvals` or, if columns are non-unique, `df.isetitem(i, newvals)`\n",
      "  solutions_df.loc[\n",
      "/tmp/ipykernel_3699541/2276567288.py:27: DeprecationWarning: In a future version, `df.iloc[:, i] = newvals` will attempt to set the values inplace instead of always setting a new array. To retain the old behavior, use either `df[df.columns[i]] = newvals` or, if columns are non-unique, `df.isetitem(i, newvals)`\n",
      "  solutions_df.loc[\n"
     ]
    }
   ],
   "source": [
    "conditions_permutations = [\n",
    "    [\"blue\", \"white\", \"nops\"],\n",
    "    [\"unconstrained\", \"constrained\"],\n",
    "    [\"wt\", \"starchko\"],\n",
    "    [\"fluxes\", \"minimum\", \"maximum\"],\n",
    "]\n",
    "\n",
    "solutions_df_columns = pd.MultiIndex.from_product(\n",
    "    conditions_permutations, names=[\"Light\", \"ATPase\", \"Starch\", \"Solution\"]\n",
    ")\n",
    "solutions_df = pd.DataFrame(columns=solutions_df_columns)\n",
    "\n",
    "conditions_list_of_lists = [\n",
    "    [\"blue\", \"white\", \"nops\"],\n",
    "    [\"unconstrained\", \"constrained\"],\n",
    "    [\"wt\", \"starchko\"],\n",
    "]\n",
    "conditions_iterations = list(itertools.product(*conditions_list_of_lists))\n",
    "\n",
    "cols_to_drop = []\n",
    "for conditions in conditions_iterations:\n",
    "    light_condition, atpase_condition, starch_condition = conditions\n",
    "    file_name = f\"../outputs/model_solutions/{light_condition}_{atpase_condition}_{starch_condition}.csv\"\n",
    "    try:\n",
    "        condition_df = pd.read_csv(file_name, index_col=0)\n",
    "        for col in [\"fluxes\", \"minimum\", \"maximum\"]:\n",
    "            solutions_df.loc[\n",
    "                :, (light_condition, atpase_condition, starch_condition, col)\n",
    "            ] = condition_df.loc[:, col]\n",
    "    except:\n",
    "        cols_to_drop.append(conditions)\n",
    "        print(f\"File {file_name} doesn't exist, skipping\")\n",
    "\n",
    "\n",
    "solutions_df_unphased = solutions_df.copy()\n",
    "index_phased = pd.MultiIndex.from_tuples(\n",
    "    [\n",
    "        (reaction[:-2], int(reaction[-1]))\n",
    "        if reaction[-1] in [\"1\", \"2\", \"3\", \"4\"]\n",
    "        else (reaction, None)\n",
    "        for reaction in solutions_df.index\n",
    "    ],\n",
    "    names=[\"Reaction\", \"Phase\"],\n",
    ")\n",
    "solutions_df.index = index_phased\n",
    "solutions_df = solutions_df.drop(cols_to_drop, axis=1)"
   ]
  },
  {
   "cell_type": "code",
   "execution_count": null,
   "id": "e71b9b5a-c6f3-4fbd-a1a2-62c6184c155e",
   "metadata": {},
   "outputs": [],
   "source": [
    "solutions_df = solutions_df.xs(\"fluxes\", level=\"Solution\", axis=1).xs(2, level=\"Phase\")"
   ]
  },
  {
   "cell_type": "code",
   "execution_count": null,
   "id": "8aee3812-d63e-4560-980f-31a646cd29d2",
   "metadata": {},
   "outputs": [],
   "source": [
    "flux_dict_used_for_current_lines = {\n",
    "    \"blue\": {\n",
    "        \"unconstrained\": {\n",
    "            \"wt\": {\n",
    "                \"mal_to_suc\": 0.000829,  # \"PEPCARBOXYKIN_RXN_c_gc_2\"\n",
    "                \"mal_deg\": 0.000768,  # \"MALIC_NAD_RXN_m_gc_2\"\n",
    "                \"mal_v_c\": 0.0106,  # \"MAL_vc_gc_2\"\n",
    "            },\n",
    "            \"starchko\": {\n",
    "                \"mal_to_suc\": 0.000829,  # \"PEPCARBOXYKIN_RXN_c_gc_2\"\n",
    "                \"mal_deg\": 0.000768,  # \"MALIC_NAD_RXN_m_gc_2\"\n",
    "                \"mal_v_c\": 0.0106,  # \"MAL_vc_gc_2\"\n",
    "            },\n",
    "        },\n",
    "        \"constrained\": {\n",
    "            \"wt\": {\n",
    "                \"starch_to_glc\": 0.00715,  # \"RXN_1827_p_gc_2\"\n",
    "                \"mal_deg\": 0.000537,  # \"MALIC_NAD_RXN_m_gc_2\"\n",
    "                \"mal_v_c\": 0.00358,  # \"MAL_vc_gc_2\"\n",
    "            },\n",
    "            \"starchko\": {\n",
    "                \"mal_deg\": 0.000351,  # \"PEPCARBOXYKIN_RXN_c_gc_2\"\n",
    "                \"mal_v_c\": 0.00234,  # \"MAL_vc_gc_2\"\n",
    "                \"suc_v_deg\": 0.0141,  # \"RXN_1461_v_gc_2\"\n",
    "            }\n",
    "        }\n",
    "    },\n",
    "    \"white\": {\n",
    "        \"constrained\": {\n",
    "            \"wt\": {\n",
    "                \"starch_to_glc\": 0.00675,  # \"RXN_1827_p_gc_2\"\n",
    "                \"ps_to_suc\": 0.00103,  # \"SUCROSE_PHOSPHATE_SYNTHASE_RXN_c_gc_2\"\n",
    "                \"mal_v_c\": 0.00503,  # \"MAL_vc_gc_2\"\n",
    "                \"mal_to_suc\": 0.000754,  # \"PEPCARBOXYKIN_RXN_c_gc_2\"\n",
    "            },\n",
    "            \"starchko\": {\n",
    "                \"suc_v_deg\": 0.0115,  # \"RXN_1461_v_gc_2\"\n",
    "                \"mal_c_v\": 0.00342,  # \"MAL_cv_gc_2\"\n",
    "                \"ps_to_glc\": 0.00128,  # \"GLUC1PURIDYLTRANS_RXN_c_gc_2\"\n",
    "                \"ps_to_ser\": 0.00103,  # \"PSERTRANSAM_RXN_p_gc_2\"\n",
    "                \"lasp_to_mal\": 0.00103,  # \"ASPAMINOTRANS_RXN_c_gc_2\"\n",
    "            }\n",
    "        }\n",
    "    },\n",
    "    \"nops\": {\n",
    "        \"constrained\": {\n",
    "            \"wt\": {\n",
    "                \"starch_to_glc\": 0.00539,  # \"GLC_pc_gc_2\"\n",
    "                \"starch_to_glc_mal\": 0.000281,  # \"MALTODEG_RXN_c_gc_2\"\n",
    "                \"suc_v_deg\": 0.00301,  # RXN_1461_v_gc_2\"\n",
    "                \"suc_c_v\": 0.00301,  # SUCROSE_PROTON_cv_gc_2\"\n",
    "                \"suc_c_deg\": 0.00453,  # \"RXN_1461_c_gc_2\"\n",
    "                \"cit_to_mal\": 0.0011,  # \"FUMHYDR_RXN_m_gc_2\"\n",
    "                \"starch_to_mal\": 0.000281,  # \"MALTODEG_RXN_c_gc_2\"\n",
    "            },\n",
    "            \"starchko\": {\n",
    "                \"suc_c_deg\": 0.00415,  # \"RXN_1461_c_gc_2\"\n",
    "                \"suc_v_deg\": 0.00963,  # RXN_1461_v_gc_2\"\n",
    "                \"suc_c_v\": 0.00507,  # SUCROSE_PROTON_cv_gc_2\"\n",
    "                \"mal_v_c\": 0.00321,  # \"MAL_vc_gc_2\"\n",
    "                \"cit_to_mal\": 0.000964,  # \"FUMHYDR_RXN_m_gc_2\"\n",
    "            }\n",
    "        }\n",
    "    }\n",
    "}"
   ]
  },
  {
   "cell_type": "code",
   "execution_count": null,
   "id": "d8cdeb0a-8afe-4c09-b0d4-e7c7b36ff218",
   "metadata": {},
   "outputs": [],
   "source": [
    "flux_dict = {\n",
    "    \"blue\": {\n",
    "        \"unconstrained\": {\n",
    "            \"wt\": {\n",
    "                \"mal_to_suc\": \"PEPCARBOXYKIN_RXN_c_gc_2\",\n",
    "                \"mal_deg\": \"MALIC_NAD_RXN_m_gc_2\",\n",
    "                \"mal_v_c\": \"MAL_vc_gc_2\",\n",
    "            },\n",
    "            \"starchko\": {\n",
    "                \"mal_to_suc\": \"PEPCARBOXYKIN_RXN_c_gc_2\",\n",
    "                \"mal_deg\": \"MALIC_NAD_RXN_m_gc_2\",\n",
    "                \"mal_v_c\": \"MAL_vc_gc_2\",\n",
    "            },\n",
    "        },\n",
    "        \"constrained\": {\n",
    "            \"wt\": {\n",
    "                \"starch_to_glc\": \"RXN_1827_p_gc_2\",\n",
    "                \"mal_deg\": \"MALIC_NAD_RXN_m_gc_2\",\n",
    "                \"mal_v_c\": \"MAL_vc_gc_2\",\n",
    "            },\n",
    "            \"starchko\": {\n",
    "                \"mal_deg\": \"PEPCARBOXYKIN_RXN_c_gc_2\",\n",
    "                \"mal_v_c\": \"MAL_vc_gc_2\",\n",
    "                \"suc_v_deg\": \"RXN_1461_v_gc_2\",\n",
    "            }\n",
    "        }\n",
    "    },\n",
    "    \"white\": {\n",
    "        \"constrained\": {\n",
    "            \"wt\": {\n",
    "                \"starch_to_glc\": \"RXN_1827_p_gc_2\",\n",
    "                \"ps_to_suc\": \"SUCROSE_PHOSPHATE_SYNTHASE_RXN_c_gc_2\",\n",
    "                \"mal_v_c\": \"MAL_vc_gc_2\",\n",
    "                \"mal_to_suc\": \"PEPCARBOXYKIN_RXN_c_gc_2\",\n",
    "            },\n",
    "            \"starchko\": {\n",
    "                \"suc_v_deg\": \"RXN_1461_v_gc_2\",\n",
    "                \"mal_c_v\": \"MAL_cv_gc_2\",\n",
    "                \"ps_to_glc\": \"GLUC1PURIDYLTRANS_RXN_c_gc_2\",\n",
    "                \"ps_to_ser\": \"PSERTRANSAM_RXN_p_gc_2\",\n",
    "                \"lasp_to_mal\": \"ASPAMINOTRANS_RXN_c_gc_2\",\n",
    "            }\n",
    "        }\n",
    "    },\n",
    "    \"nops\": {\n",
    "        \"constrained\": {\n",
    "            \"wt\": {\n",
    "                \"starch_to_glc\": \"GLC_pc_gc_2\",\n",
    "                \"starch_to_glc_mal\": \"MALTODEG_RXN_c_gc_2\",\n",
    "                \"suc_v_deg\": \"RXN_1461_v_gc_2\",\n",
    "                \"suc_c_v\": \"SUCROSE_PROTON_cv_gc_2\",\n",
    "                \"suc_c_deg\": \"RXN_1461_c_gc_2\",\n",
    "                \"cit_to_mal\": \"FUMHYDR_RXN_m_gc_2\",\n",
    "                \"starch_to_mal\": \"MALTODEG_RXN_c_gc_2\",\n",
    "            },\n",
    "            \"starchko\": {\n",
    "                \"suc_c_deg\": \"RXN_1461_c_gc_2\",\n",
    "                \"suc_v_deg\": \"RXN_1461_v_gc_2\",\n",
    "                \"suc_c_v\": \"SUCROSE_PROTON_cv_gc_2\",\n",
    "                \"mal_v_c\": \"MAL_vc_gc_2\",\n",
    "                \"cit_to_mal\": \"FUMHYDR_RXN_m_gc_2\",\n",
    "            }\n",
    "        }\n",
    "    }\n",
    "}"
   ]
  },
  {
   "cell_type": "code",
   "execution_count": null,
   "id": "b817002b-2bc4-4b82-bf73-5b3c150a903d",
   "metadata": {},
   "outputs": [],
   "source": [
    "conditions_list_of_lists = [\n",
    "    [\"blue\", \"white\", \"nops\"],\n",
    "    [\"unconstrained\", \"constrained\"],\n",
    "    [\"wt\", \"starchko\"],\n",
    "]\n",
    "conditions_iterations = list(itertools.product(*conditions_list_of_lists))"
   ]
  },
  {
   "cell_type": "code",
   "execution_count": null,
   "id": "ab00c72c-54be-4bdf-90d8-872e2129625e",
   "metadata": {},
   "outputs": [],
   "source": [
    "for light, light_dict in flux_dict.items():\n",
    "    for atpase, atpase_dict in light_dict.items():\n",
    "        for starch, starch_dict in atpase_dict.items():\n",
    "            for shorthand, reaction_name in starch_dict.items():\n",
    "                flux_dict[light][atpase][starch][shorthand] = solutions_df.loc[reaction_name[:-2],\n",
    "                                                                               (light, atpase, starch)]"
   ]
  },
  {
   "cell_type": "code",
   "execution_count": null,
   "id": "eadc275c-dd8e-4d96-9935-705878d45c36",
   "metadata": {},
   "outputs": [
    {
     "data": {
      "text/plain": [
       "Light  ATPase         Starch  \n",
       "blue   unconstrained  wt          0.000207\n",
       "                      starchko    0.000207\n",
       "       constrained    wt          0.000000\n",
       "                      starchko    0.000000\n",
       "white  unconstrained  wt          0.001035\n",
       "                      starchko    0.001035\n",
       "       constrained    wt          0.001034\n",
       "                      starchko    0.001277\n",
       "nops   unconstrained  wt         -0.000181\n",
       "                      starchko   -0.000181\n",
       "       constrained    wt          0.000000\n",
       "                      starchko    0.000000\n",
       "Name: GLUC1PURIDYLTRANS_RXN_c_gc, dtype: float64"
      ]
     },
     "execution_count": null,
     "metadata": {},
     "output_type": "execute_result"
    }
   ],
   "source": [
    "solutions_df.loc[\"GLUC1PURIDYLTRANS_RXN_c_gc\"]"
   ]
  },
  {
   "cell_type": "code",
   "execution_count": null,
   "id": "0b0052c9-6a58-456d-8ec8-6d7bb45bb28f",
   "metadata": {},
   "outputs": [
    {
     "data": {
      "text/plain": [
       "{'blue': {'unconstrained': {'wt': {'mal_to_suc': 0.0008289898627844,\n",
       "    'mal_deg': 0.0007676620759999,\n",
       "    'mal_v_c': 0.0106443462585623},\n",
       "   'starchko': {'mal_to_suc': 0.0008290421603011,\n",
       "    'mal_deg': 0.0007676645791103,\n",
       "    'mal_v_c': 0.0106447115960767}},\n",
       "  'constrained': {'wt': {'starch_to_glc': 0.0071546631221892,\n",
       "    'mal_deg': 0.0005368531416866,\n",
       "    'mal_v_c': 0.0035790209445786},\n",
       "   'starchko': {'mal_deg': 0.0003506965771044,\n",
       "    'mal_v_c': 0.0023379771806966,\n",
       "    'suc_v_deg': 0.0141231690783069}}},\n",
       " 'white': {'constrained': {'wt': {'starch_to_glc': 0.0067465664160409,\n",
       "    'ps_to_suc': 0.001033719635386,\n",
       "    'mal_v_c': 0.0050291967341846,\n",
       "    'mal_to_suc': 0.000754379510124},\n",
       "   'starchko': {'suc_v_deg': 0.01146912726653,\n",
       "    'mal_c_v': 0.0034203466880023,\n",
       "    'ps_to_glc': 0.0012772416843743,\n",
       "    'ps_to_ser': 0.0010261040064381,\n",
       "    'lasp_to_mal': 0.0010261040065314}}},\n",
       " 'nops': {'constrained': {'wt': {'starch_to_glc': 0.0053907431500898,\n",
       "    'starch_to_glc_mal': 0.0002812795634735,\n",
       "    'suc_v_deg': 0.0030110403954825,\n",
       "    'suc_c_v': 0.0030110403954826,\n",
       "    'suc_c_deg': 0.0045268507213508,\n",
       "    'cit_to_mal': 0.001125118253894,\n",
       "    'starch_to_mal': 0.0002812795634735},\n",
       "   'starchko': {'suc_c_deg': 0.0041457644120233,\n",
       "    'suc_v_deg': 0.0096267085453205,\n",
       "    'suc_c_v': 0.0050687919815562,\n",
       "    'mal_v_c': 0.0032123783212751,\n",
       "    'cit_to_mal': 0.0009637130634997}}}}"
      ]
     },
     "execution_count": null,
     "metadata": {},
     "output_type": "execute_result"
    }
   ],
   "source": [
    "flux_dict"
   ]
  },
  {
   "cell_type": "code",
   "execution_count": null,
   "id": "d8154e1f-8101-4d7d-a8f2-18fe06a4120a",
   "metadata": {},
   "outputs": [],
   "source": [
    "from sigfig import round"
   ]
  },
  {
   "cell_type": "code",
   "execution_count": null,
   "id": "0ed3c5ad-dc3e-4804-a594-211097d20efa",
   "metadata": {},
   "outputs": [
    {
     "name": "stdout",
     "output_type": "stream",
     "text": [
      "nops constrained wt cit_to_mal 0.00113 0.0011\n"
     ]
    }
   ],
   "source": [
    "for light in flux_dict.keys():\n",
    "    for atpase in flux_dict[light].keys():\n",
    "        for starch in flux_dict[light][atpase].keys():\n",
    "            for reaction in flux_dict[light][atpase][starch].keys():\n",
    "                if round(flux_dict[light][atpase][starch][reaction], sigfigs=3) - flux_dict_used_for_current_lines[light][atpase][starch][reaction] != 0:\n",
    "                    print(light, atpase, starch, reaction, round(\n",
    "                        flux_dict[light][atpase][starch][reaction], sigfigs=3), flux_dict_used_for_current_lines[light][atpase][starch][reaction])"
   ]
  },
  {
   "cell_type": "code",
   "execution_count": null,
   "id": "6c3c27df-8921-48a1-b304-16ecb361501a",
   "metadata": {},
   "outputs": [],
   "source": [
    "def NestedDictValues(d):\n",
    "    for v in d.values():\n",
    "        if isinstance(v, dict):\n",
    "            yield from NestedDictValues(v)\n",
    "        else:\n",
    "            yield v"
   ]
  },
  {
   "cell_type": "code",
   "execution_count": null,
   "id": "b7d2ca55-e394-4209-8781-07ef3caa5f02",
   "metadata": {},
   "outputs": [
    {
     "data": {
      "text/plain": [
       "0.0002812795634735"
      ]
     },
     "execution_count": null,
     "metadata": {},
     "output_type": "execute_result"
    }
   ],
   "source": [
    "min_flux = np.array(list(NestedDictValues(flux_dict))).min()\n",
    "min_flux"
   ]
  },
  {
   "cell_type": "code",
   "execution_count": null,
   "id": "0602a319-30c5-40dd-851e-15c18bcfbd9c",
   "metadata": {},
   "outputs": [
    {
     "data": {
      "text/plain": [
       "0.0141231690783069"
      ]
     },
     "execution_count": null,
     "metadata": {},
     "output_type": "execute_result"
    }
   ],
   "source": [
    "max_flux = np.array(list(NestedDictValues(flux_dict))).max()\n",
    "max_flux"
   ]
  },
  {
   "cell_type": "code",
   "execution_count": null,
   "id": "4e4d7fab-a228-4d93-91ab-eba1f32d8930",
   "metadata": {},
   "outputs": [
    {
     "data": {
      "text/plain": [
       "50.210434430077164"
      ]
     },
     "execution_count": null,
     "metadata": {},
     "output_type": "execute_result"
    }
   ],
   "source": [
    "max_flux/min_flux"
   ]
  },
  {
   "cell_type": "markdown",
   "id": "a85773b0-252b-4e79-8482-66420a5c7def",
   "metadata": {},
   "source": [
    "So we have a 50-fold difference between the smallest and largest flux. 5mm in the inkscape figures that I've created is probably the max I can do, so 0.1 is the minimum.\n",
    "\n",
    "Inkscape will only do widths to nearest 0.01mm I think, but allows you to input 3 numbers after the dp."
   ]
  },
  {
   "cell_type": "code",
   "execution_count": null,
   "id": "e0458f26-512d-4577-95f0-fdd59e8c6f9b",
   "metadata": {},
   "outputs": [],
   "source": [
    "def convert_fluxes_to_widths_linear(flux):\n",
    "    max_width_in_inkscape = 5\n",
    "    conversion = max_width_in_inkscape/max_flux\n",
    "\n",
    "    new_flux = conversion*flux\n",
    "    new_flux_rounded = round(new_flux, 3)\n",
    "\n",
    "    return new_flux_rounded"
   ]
  },
  {
   "cell_type": "code",
   "execution_count": null,
   "id": "11bbbe06-62e2-4997-b423-2c67e6af1ea1",
   "metadata": {},
   "outputs": [],
   "source": [
    "import matplotlib.pyplot as plt"
   ]
  },
  {
   "cell_type": "code",
   "execution_count": null,
   "id": "7b744e1e-3041-4dcf-8687-0e5ab583a5b5",
   "metadata": {},
   "outputs": [
    {
     "data": {
      "text/plain": [
       "[<matplotlib.lines.Line2D>]"
      ]
     },
     "execution_count": null,
     "metadata": {},
     "output_type": "execute_result"
    },
    {
     "data": {
      "image/png": "[encoded data removed]",
      "text/plain": [
       "<Figure size 640x480 with 1 Axes>"
      ]
     },
     "metadata": {},
     "output_type": "display_data"
    }
   ],
   "source": [
    "x = np.arange(0.0001, 0.014, 0.0001)\n",
    "y = [convert_fluxes_to_widths_linear(flux) for flux in x]\n",
    "\n",
    "plt.plot(x, y)"
   ]
  },
  {
   "cell_type": "code",
   "execution_count": null,
   "id": "9e33423a-bcf8-4826-802e-2c391286bcb2",
   "metadata": {},
   "outputs": [],
   "source": [
    "import copy"
   ]
  },
  {
   "cell_type": "code",
   "execution_count": null,
   "id": "f4e42df7-ffbb-4c2c-af41-beec261f28d3",
   "metadata": {},
   "outputs": [],
   "source": [
    "def convert_flux_dict(flux_dict):\n",
    "    converted_dict = copy.deepcopy(flux_dict)\n",
    "    for light_value, light_dict in flux_dict.items():\n",
    "        for atpase_constraint, atpase_dict in light_dict.items():\n",
    "            for phenotype, phenotype_dict in atpase_dict.items():\n",
    "                for reaction, reaction_value in phenotype_dict.items():\n",
    "                    converted_dict[light_value][atpase_constraint][phenotype][reaction] = convert_fluxes_to_widths_linear(\n",
    "                        reaction_value)\n",
    "\n",
    "    return converted_dict"
   ]
  },
  {
   "cell_type": "code",
   "execution_count": null,
   "id": "c0c7d858-158e-42f3-b949-d6f8d576d5ad",
   "metadata": {},
   "outputs": [
    {
     "name": "stderr",
     "output_type": "stream",
     "text": [
      "/home/nls119/lib/miniconda3/envs/mmon-gcm/lib/python3.10/site-packages/sigfig/sigfig.py:586: UserWarning: warning: 3 significant figures requested from number with only 2 significant figures\n",
      "  warn(\"warning: %d significant figures requested from number with only %d significant figures\" % (given['sigfigs'], len(num.map)))\n"
     ]
    }
   ],
   "source": [
    "converted_dict = convert_flux_dict(flux_dict)"
   ]
  },
  {
   "cell_type": "code",
   "execution_count": null,
   "id": "1686cca3-d947-4641-aa77-374eccf37735",
   "metadata": {},
   "outputs": [
    {
     "name": "stdout",
     "output_type": "stream",
     "text": [
      "blue_unconstrained_wt:\n",
      "mal_to_suc should be 0.293mm wide\n",
      "mal_deg should be 0.272mm wide\n",
      "mal_v_c should be 3.77mm wide\n",
      "\n",
      "\n",
      "blue_unconstrained_starchko:\n",
      "mal_to_suc should be 0.294mm wide\n",
      "mal_deg should be 0.272mm wide\n",
      "mal_v_c should be 3.77mm wide\n",
      "\n",
      "\n",
      "blue_constrained_wt:\n",
      "starch_to_glc should be 2.53mm wide\n",
      "mal_deg should be 0.19mm wide\n",
      "mal_v_c should be 1.27mm wide\n",
      "\n",
      "\n",
      "blue_constrained_starchko:\n",
      "mal_deg should be 0.124mm wide\n",
      "mal_v_c should be 0.828mm wide\n",
      "suc_v_deg should be 5.0mm wide\n",
      "\n",
      "\n",
      "white_constrained_wt:\n",
      "starch_to_glc should be 2.39mm wide\n",
      "ps_to_suc should be 0.366mm wide\n",
      "mal_v_c should be 1.78mm wide\n",
      "mal_to_suc should be 0.267mm wide\n",
      "\n",
      "\n",
      "white_constrained_starchko:\n",
      "suc_v_deg should be 4.06mm wide\n",
      "mal_c_v should be 1.21mm wide\n",
      "ps_to_glc should be 0.452mm wide\n",
      "ps_to_ser should be 0.363mm wide\n",
      "lasp_to_mal should be 0.363mm wide\n",
      "\n",
      "\n",
      "nops_constrained_wt:\n",
      "starch_to_glc should be 1.91mm wide\n",
      "starch_to_glc_mal should be 0.0996mm wide\n",
      "suc_v_deg should be 1.07mm wide\n",
      "suc_c_v should be 1.07mm wide\n",
      "suc_c_deg should be 1.6mm wide\n",
      "cit_to_mal should be 0.398mm wide\n",
      "starch_to_mal should be 0.0996mm wide\n",
      "\n",
      "\n",
      "nops_constrained_starchko:\n",
      "suc_c_deg should be 1.47mm wide\n",
      "suc_v_deg should be 3.41mm wide\n",
      "suc_c_v should be 1.79mm wide\n",
      "mal_v_c should be 1.14mm wide\n",
      "cit_to_mal should be 0.341mm wide\n",
      "\n",
      "\n"
     ]
    }
   ],
   "source": [
    "for light, light_dict in converted_dict.items():\n",
    "    for atpase, atpase_dict in light_dict.items():\n",
    "        for starch, starch_dict in atpase_dict.items():\n",
    "            print(f\"{light}_{atpase}_{starch}:\")\n",
    "            for shorthand, mm in starch_dict.items():\n",
    "                print(f\"{shorthand} should be {mm}mm wide\")\n",
    "            print(\"\\n\")"
   ]
  },
  {
   "cell_type": "markdown",
   "id": "f6ff69f4-9ba5-464f-bb7f-0554c41d67b8",
   "metadata": {},
   "source": [
    "## For the key:"
   ]
  },
  {
   "cell_type": "code",
   "execution_count": null,
   "id": "9f6c79d7-01c0-4740-a8b5-fbe691f2c934",
   "metadata": {},
   "outputs": [],
   "source": [
    "import cobra\n",
    "import pandas as pd\n",
    "from mmon_gcm.supermodel import SuperModel"
   ]
  },
  {
   "cell_type": "code",
   "execution_count": null,
   "id": "02997128-40c7-4ade-aec8-c3285d9a6ffe",
   "metadata": {},
   "outputs": [
    {
     "name": "stderr",
     "output_type": "stream",
     "text": [
      "No objective coefficients in model. Unclear what should be optimized\n",
      "/home/nls119/src/mmon-gcm2/mmon_gcm/supermodel.py:25: FutureWarning: iteritems is deprecated and will be removed in a future version. Use .items instead.\n",
      "  for parameter, value in parameters.iteritems():\n"
     ]
    }
   ],
   "source": [
    "parameters_df = pd.read_csv(\"../inputs/arabidopsis_parameters.csv\", index_col=0)\n",
    "four_stage_GC_model = cobra.io.sbml.read_sbml_model(\"../models/4_stage_GC.xml\")  # read model\n",
    "arabidopsis_supermodel = SuperModel(parameters_df.loc[:, \"Value\"], fba_model=four_stage_GC_model);"
   ]
  },
  {
   "cell_type": "code",
   "execution_count": null,
   "id": "6f408c27-035a-4f7a-a817-2921c54e2ac6",
   "metadata": {},
   "outputs": [
    {
     "data": {
      "text/plain": [
       "580000000.0"
      ]
     },
     "execution_count": null,
     "metadata": {},
     "output_type": "execute_result"
    }
   ],
   "source": [
    "arabidopsis_supermodel.N_gcs"
   ]
  },
  {
   "cell_type": "code",
   "execution_count": null,
   "id": "82797da9-cbdf-49e6-885c-c8405a348955",
   "metadata": {},
   "outputs": [
    {
     "data": {
      "text/plain": [
       "1.724137931034483e-11"
      ]
     },
     "execution_count": null,
     "metadata": {},
     "output_type": "execute_result"
    }
   ],
   "source": [
    "0.01/arabidopsis_supermodel.N_gcs"
   ]
  },
  {
   "cell_type": "code",
   "execution_count": null,
   "id": "0b3d8f0c-0628-45dc-92e3-35507dfba5a1",
   "metadata": {},
   "outputs": [],
   "source": [
    "moles_gc_h = 10 * 10 ** -15  # fmolesgc-1h-1"
   ]
  },
  {
   "cell_type": "code",
   "execution_count": null,
   "id": "c1474e01-fe39-436d-b6f5-3fd07496781f",
   "metadata": {},
   "outputs": [],
   "source": [
    "moles_m2_h = moles_gc_h*arabidopsis_supermodel.N_gcs  # molesh-1"
   ]
  },
  {
   "cell_type": "code",
   "execution_count": null,
   "id": "7cc08957-e4ed-4186-bba8-3a5178e3fbc5",
   "metadata": {},
   "outputs": [
    {
     "data": {
      "text/plain": [
       "0.005800000000000001"
      ]
     },
     "execution_count": null,
     "metadata": {},
     "output_type": "execute_result"
    }
   ],
   "source": [
    "mmoles_m2_h = moles_m2_h * 10 ** 3\n",
    "mmoles_m2_h"
   ]
  },
  {
   "cell_type": "code",
   "execution_count": null,
   "id": "aff46c17-99b7-4851-8b4e-45f8c1391cab",
   "metadata": {},
   "outputs": [
    {
     "data": {
      "text/plain": [
       "'2.05mm for a flux of 10 fmoles gc-1 h-1'"
      ]
     },
     "execution_count": null,
     "metadata": {},
     "output_type": "execute_result"
    }
   ],
   "source": [
    "f\"{convert_fluxes_to_widths_linear(mmoles_m2_h)}mm for a flux of 10 fmoles gc-1 h-1\""
   ]
  }
 ],
 "metadata": {
  "kernelspec": {
   "display_name": "mmon-gcm",
   "language": "python",
   "name": "mmon-gcm"
  }
 },
 "nbformat": 4,
 "nbformat_minor": 5
}
