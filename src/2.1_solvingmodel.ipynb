{
 "cells": [
  {
   "cell_type": "raw",
   "metadata": {},
   "source": [
    "---\n",
    "output-file: solvemodels.html\n",
    "title: Solving guard cell models for different parameters\n",
    "skip_showdoc: true\n",
    "---\n",
    "\n"
   ]
  },
  {
   "cell_type": "code",
   "execution_count": 1,
   "metadata": {},
   "outputs": [],
   "source": [
    "# | default_exp solvemodels"
   ]
  },
  {
   "cell_type": "markdown",
   "metadata": {},
   "source": [
    "## Setup"
   ]
  },
  {
   "cell_type": "code",
   "execution_count": 2,
   "metadata": {},
   "outputs": [],
   "source": [
    "# | export\n",
    "\n",
    "\n",
    "import json\n",
    "import sys\n",
    "\n",
    "import cobra\n",
    "# from x import y syntax doesn't work because of nbdev export format\n",
    "import mmon_gcm.buildingediting\n",
    "import mmon_gcm.solving\n",
    "import mmon_gcm.supermodel\n",
    "import pandas as pd"
   ]
  },
  {
   "cell_type": "code",
   "execution_count": 3,
   "metadata": {},
   "outputs": [],
   "source": [
    "# This cell isn't exported to the .py file, so define here if running in notebook rather than as .py on e.g.a cluster\n",
    "# This is where to adjust whether fva is run if running in notebook\n",
    "args = {\n",
    "    \"run_fva\": \"True\",\n",
    "    \"no_processes\": 3,\n",
    "    \"output_dir\": \"../outputs/model_solutions/\",\n",
    "    \"model_file\": \"../models/4_stage_GC.xml\",\n",
    "    \"map_file\": \"../inputs/map.json\",\n",
    "    \"parameters_file\": \"../inputs/arabidopsis_parameters.csv\",\n",
    "\n",
    "}\n",
    "\n",
    "sys.argv = [\"script_name\"] + list(args.values())"
   ]
  },
  {
   "cell_type": "code",
   "execution_count": 4,
   "metadata": {},
   "outputs": [],
   "source": [
    "# | export\n",
    "\n",
    "run_fva = sys.argv[1]\n",
    "if run_fva == \"True\":\n",
    "    run_fva = True\n",
    "elif run_fva == \"False\":\n",
    "    run_fva = False\n",
    "else:\n",
    "    raise ValueError(f\"Please specify True or False for run_fva, not {run_fva}\")\n",
    "\n",
    "no_processes = int(sys.argv[2])\n",
    "output_dir = sys.argv[3]\n",
    "model_file = sys.argv[4]\n",
    "map_file = sys.argv[5]\n",
    "parameters_file = sys.argv[6]"
   ]
  },
  {
   "cell_type": "markdown",
   "metadata": {},
   "source": [
    "## Instantiate and apply base constraints to model"
   ]
  },
  {
   "cell_type": "markdown",
   "metadata": {},
   "source": [
    "### Import FBA model"
   ]
  },
  {
   "cell_type": "code",
   "execution_count": 5,
   "metadata": {},
   "outputs": [
    {
     "name": "stderr",
     "output_type": "stream",
     "text": [
      "No objective coefficients in model. Unclear what should be optimized\n"
     ]
    }
   ],
   "source": [
    "# | export\n",
    "\n",
    "four_stage_GC_model = cobra.io.sbml.read_sbml_model(model_file)  # read model"
   ]
  },
  {
   "cell_type": "markdown",
   "metadata": {},
   "source": [
    "Decrease tolerance"
   ]
  },
  {
   "cell_type": "code",
   "execution_count": 6,
   "metadata": {},
   "outputs": [
    {
     "name": "stdout",
     "output_type": "stream",
     "text": [
      "1e-07\n",
      "1e-07\n",
      "1e-08\n"
     ]
    }
   ],
   "source": [
    "# | export\n",
    "\n",
    "print(four_stage_GC_model.solver.configuration.tolerances.integrality)\n",
    "print(four_stage_GC_model.solver.configuration.tolerances.feasibility)\n",
    "four_stage_GC_model.solver.configuration.tolerances.feasibility = 1e-8  # 1e-9 takes a long time to solve\n",
    "print(four_stage_GC_model.solver.configuration.tolerances.feasibility)"
   ]
  },
  {
   "cell_type": "markdown",
   "metadata": {},
   "source": [
    "### Define reactions to use for FVA"
   ]
  },
  {
   "cell_type": "code",
   "execution_count": 7,
   "metadata": {},
   "outputs": [],
   "source": [
    "# | export\n",
    "\n",
    "if run_fva == True:\n",
    "\n",
    "    linker_list = [\n",
    "        reaction\n",
    "        for reaction in four_stage_GC_model.reactions\n",
    "        if \"gc_Linker_2\" in reaction.id\n",
    "        or \"gc_Linker_1\" in reaction.id\n",
    "        or \"_total_pseudolinker_1\" in reaction.id\n",
    "        or \"_total_pseudolinker_2\" in reaction.id\n",
    "        or \"ae_gc\" in reaction.id\n",
    "    ]\n",
    "\n",
    "    extra_fva_rxns = set()\n",
    "\n",
    "    with open(map_file, \"r+\") as f:\n",
    "        map_data = json.load(f)\n",
    "\n",
    "    for reaction in map_data[1][\"reactions\"].values():\n",
    "        extra_fva_rxns.add(four_stage_GC_model.reactions.get_by_id(reaction[\"bigg_id\"]))\n",
    "\n",
    "    fva_list = list(set(linker_list) | extra_fva_rxns)\n",
    "\n",
    "else:\n",
    "    fva_list = []"
   ]
  },
  {
   "cell_type": "markdown",
   "metadata": {},
   "source": [
    "### Instantiate Supermodel"
   ]
  },
  {
   "cell_type": "markdown",
   "metadata": {},
   "source": [
    "Import parameters from csv, created in [parameters notebook](02_parameters.ipynb)"
   ]
  },
  {
   "cell_type": "code",
   "execution_count": 8,
   "metadata": {},
   "outputs": [
    {
     "data": {
      "text/html": [
       "<div>\n",
       "<style scoped>\n",
       "    .dataframe tbody tr th:only-of-type {\n",
       "        vertical-align: middle;\n",
       "    }\n",
       "\n",
       "    .dataframe tbody tr th {\n",
       "        vertical-align: top;\n",
       "    }\n",
       "\n",
       "    .dataframe thead th {\n",
       "        text-align: right;\n",
       "    }\n",
       "</style>\n",
       "<table border=\"1\" class=\"dataframe\">\n",
       "  <thead>\n",
       "    <tr style=\"text-align: right;\">\n",
       "      <th></th>\n",
       "      <th>Value</th>\n",
       "      <th>Units</th>\n",
       "      <th>Source</th>\n",
       "    </tr>\n",
       "  </thead>\n",
       "  <tbody>\n",
       "    <tr>\n",
       "      <th>P_abs</th>\n",
       "      <td>9.000000e-01</td>\n",
       "      <td>Dimensionless</td>\n",
       "      <td>Zhu, Long, and Ort (2010)</td>\n",
       "    </tr>\n",
       "    <tr>\n",
       "      <th>T_l</th>\n",
       "      <td>1.700000e-04</td>\n",
       "      <td>m</td>\n",
       "      <td>Wuyts et al. (2010)</td>\n",
       "    </tr>\n",
       "    <tr>\n",
       "      <th>A_l</th>\n",
       "      <td>1.000000e+00</td>\n",
       "      <td>m$^2$</td>\n",
       "      <td>Fixed</td>\n",
       "    </tr>\n",
       "    <tr>\n",
       "      <th>V_gc_ind</th>\n",
       "      <td>4.750000e-13</td>\n",
       "      <td>dm$^3$</td>\n",
       "      <td>Jezek and Blatt (2017)</td>\n",
       "    </tr>\n",
       "    <tr>\n",
       "      <th>FqFm</th>\n",
       "      <td>9.000000e-01</td>\n",
       "      <td>Dimensionless</td>\n",
       "      <td>Lawson (2003)</td>\n",
       "    </tr>\n",
       "    <tr>\n",
       "      <th>R_ch</th>\n",
       "      <td>6.923077e-02</td>\n",
       "      <td>Dimensionless</td>\n",
       "      <td>Fujiwara, Sanjaya, and Itoh (2019)</td>\n",
       "    </tr>\n",
       "    <tr>\n",
       "      <th>L_air</th>\n",
       "      <td>3.700000e-01</td>\n",
       "      <td>Dimensionless</td>\n",
       "      <td>Earles et al. (2018)</td>\n",
       "    </tr>\n",
       "    <tr>\n",
       "      <th>L_epidermis</th>\n",
       "      <td>1.500000e-01</td>\n",
       "      <td>Dimensionless</td>\n",
       "      <td>Wuyts et al. (2010)</td>\n",
       "    </tr>\n",
       "    <tr>\n",
       "      <th>Vac_frac</th>\n",
       "      <td>7.510000e-01</td>\n",
       "      <td>Dimensionless</td>\n",
       "      <td>Wang et al. (2017)</td>\n",
       "    </tr>\n",
       "    <tr>\n",
       "      <th>T</th>\n",
       "      <td>2.961500e+02</td>\n",
       "      <td>K</td>\n",
       "      <td>Horrer et al. (2016)</td>\n",
       "    </tr>\n",
       "    <tr>\n",
       "      <th>R</th>\n",
       "      <td>8.205000e-02</td>\n",
       "      <td>dm$^3$$\\cdot$atm$\\cdot$K$^{-1}$$\\cdot$mol$^{-1}$</td>\n",
       "      <td>Tiesinga et al. (2019)</td>\n",
       "    </tr>\n",
       "    <tr>\n",
       "      <th>N_gcs</th>\n",
       "      <td>5.800000e+08</td>\n",
       "      <td>GCs$\\cdot$m$^{-2}$</td>\n",
       "      <td>Papanatsiou, Amtmann, and Blatt (2016)</td>\n",
       "    </tr>\n",
       "    <tr>\n",
       "      <th>n</th>\n",
       "      <td>2.500000e+00</td>\n",
       "      <td>atm</td>\n",
       "      <td>Wang et al. (2017)</td>\n",
       "    </tr>\n",
       "    <tr>\n",
       "      <th>m</th>\n",
       "      <td>8.000000e-01</td>\n",
       "      <td>atm$\\cdot$µm$^{-1}$</td>\n",
       "      <td>Wang et al. (2017)</td>\n",
       "    </tr>\n",
       "    <tr>\n",
       "      <th>r</th>\n",
       "      <td>5.000000e-14</td>\n",
       "      <td>dm$^3$ µm$^{-1}$</td>\n",
       "      <td>Wang et al. (2017)</td>\n",
       "    </tr>\n",
       "    <tr>\n",
       "      <th>s</th>\n",
       "      <td>3.000000e-13</td>\n",
       "      <td>dm$^3$</td>\n",
       "      <td>Wang et al. (2017)</td>\n",
       "    </tr>\n",
       "    <tr>\n",
       "      <th>C_apo</th>\n",
       "      <td>2.302007e-02</td>\n",
       "      <td>mol$\\cdot$dm$^{-3}$</td>\n",
       "      <td>Wang et al. (2017)</td>\n",
       "    </tr>\n",
       "    <tr>\n",
       "      <th>A_closed</th>\n",
       "      <td>1.600000e+00</td>\n",
       "      <td>µm</td>\n",
       "      <td>Horrer et al. (2016)</td>\n",
       "    </tr>\n",
       "    <tr>\n",
       "      <th>A_open</th>\n",
       "      <td>2.750000e+00</td>\n",
       "      <td>µm</td>\n",
       "      <td>Horrer et al. (2016)</td>\n",
       "    </tr>\n",
       "  </tbody>\n",
       "</table>\n",
       "</div>"
      ],
      "text/plain": [
       "                    Value                                             Units  \\\n",
       "P_abs        9.000000e-01                                     Dimensionless   \n",
       "T_l          1.700000e-04                                                 m   \n",
       "A_l          1.000000e+00                                             m$^2$   \n",
       "V_gc_ind     4.750000e-13                                            dm$^3$   \n",
       "FqFm         9.000000e-01                                     Dimensionless   \n",
       "R_ch         6.923077e-02                                     Dimensionless   \n",
       "L_air        3.700000e-01                                     Dimensionless   \n",
       "L_epidermis  1.500000e-01                                     Dimensionless   \n",
       "Vac_frac     7.510000e-01                                     Dimensionless   \n",
       "T            2.961500e+02                                                 K   \n",
       "R            8.205000e-02  dm$^3$$\\cdot$atm$\\cdot$K$^{-1}$$\\cdot$mol$^{-1}$   \n",
       "N_gcs        5.800000e+08                                GCs$\\cdot$m$^{-2}$   \n",
       "n            2.500000e+00                                               atm   \n",
       "m            8.000000e-01                               atm$\\cdot$µm$^{-1}$   \n",
       "r            5.000000e-14                                  dm$^3$ µm$^{-1}$   \n",
       "s            3.000000e-13                                            dm$^3$   \n",
       "C_apo        2.302007e-02                               mol$\\cdot$dm$^{-3}$   \n",
       "A_closed     1.600000e+00                                                µm   \n",
       "A_open       2.750000e+00                                                µm   \n",
       "\n",
       "                                             Source  \n",
       "P_abs                     Zhu, Long, and Ort (2010)  \n",
       "T_l                             Wuyts et al. (2010)  \n",
       "A_l                                           Fixed  \n",
       "V_gc_ind                     Jezek and Blatt (2017)  \n",
       "FqFm                                  Lawson (2003)  \n",
       "R_ch             Fujiwara, Sanjaya, and Itoh (2019)  \n",
       "L_air                          Earles et al. (2018)  \n",
       "L_epidermis                     Wuyts et al. (2010)  \n",
       "Vac_frac                         Wang et al. (2017)  \n",
       "T                              Horrer et al. (2016)  \n",
       "R                            Tiesinga et al. (2019)  \n",
       "N_gcs        Papanatsiou, Amtmann, and Blatt (2016)  \n",
       "n                                Wang et al. (2017)  \n",
       "m                                Wang et al. (2017)  \n",
       "r                                Wang et al. (2017)  \n",
       "s                                Wang et al. (2017)  \n",
       "C_apo                            Wang et al. (2017)  \n",
       "A_closed                       Horrer et al. (2016)  \n",
       "A_open                         Horrer et al. (2016)  "
      ]
     },
     "execution_count": 8,
     "metadata": {},
     "output_type": "execute_result"
    }
   ],
   "source": [
    "# | export\n",
    "\n",
    "parameters_df = pd.read_csv(parameters_file, index_col=0)\n",
    "parameters_df"
   ]
  },
  {
   "cell_type": "code",
   "execution_count": 9,
   "metadata": {},
   "outputs": [],
   "source": [
    "# | export\n",
    "\n",
    "arabidopsis_supermodel = mmon_gcm.supermodel.SuperModel(parameters_df.loc[:, \"Value\"], fba_model=four_stage_GC_model)"
   ]
  },
  {
   "cell_type": "code",
   "execution_count": 10,
   "metadata": {},
   "outputs": [
    {
     "name": "stdout",
     "output_type": "stream",
     "text": [
      "Volume in phase 0 is 0.38pL\n",
      "Volume in phase 1 is 0.4375pL\n",
      "Volume in phase 2 is 0.38pL\n",
      "Volume in phase 3 is 0.38pL\n"
     ]
    }
   ],
   "source": [
    "# | export\n",
    "\n",
    "arabidopsis_supermodel.get_volumes(printouts=True);"
   ]
  },
  {
   "cell_type": "markdown",
   "metadata": {},
   "source": [
    "This is a little different to Jezek and Blatt (2017), where they have closed as 0.3-0.4pL and open as 0.5-0.65. Open apertures are on the small side but still within their range (2-6). Wang used a volume of 0.4pL."
   ]
  },
  {
   "cell_type": "markdown",
   "metadata": {},
   "source": [
    "### Constrain SuperModel"
   ]
  },
  {
   "cell_type": "markdown",
   "metadata": {},
   "source": [
    "#### Constrain osmolarity of the model using the equation from the OnGuard model (Hills et al 2012)"
   ]
  },
  {
   "cell_type": "code",
   "execution_count": 11,
   "metadata": {},
   "outputs": [
    {
     "name": "stdout",
     "output_type": "stream",
     "text": [
      "Raw osmolarities: [0.039359327616195004, 0.05492236409486689, 0.039359327616195004, 0.039359327616195004]\n",
      "Osmolarities in mM: [178.58134127 216.44281417 178.58134127 178.58134127]\n",
      "Change in osmolarity: 37.86147289566091mM\n",
      "c osmolarities constrained to [0.00980047 0.01367567 0.00980047 0.00980047]\n",
      "v osmolarities constrained to [0.02955886 0.0412467  0.02955886 0.02955886]\n"
     ]
    }
   ],
   "source": [
    "# | export\n",
    "\n",
    "arabidopsis_supermodel.constrain_osmolarity(printouts=True);"
   ]
  },
  {
   "cell_type": "code",
   "execution_count": 12,
   "metadata": {},
   "outputs": [],
   "source": [
    "import numpy as np"
   ]
  },
  {
   "cell_type": "code",
   "execution_count": 13,
   "metadata": {},
   "outputs": [
    {
     "data": {
      "text/plain": [
       "array([0.03935933, 0.05492236, 0.03935933, 0.03935933])"
      ]
     },
     "execution_count": 13,
     "metadata": {},
     "output_type": "execute_result"
    }
   ],
   "source": [
    "np.array(arabidopsis_supermodel.get_osmolarities())"
   ]
  },
  {
   "cell_type": "code",
   "execution_count": 14,
   "metadata": {},
   "outputs": [
    {
     "name": "stdout",
     "output_type": "stream",
     "text": [
      "Help on method get_osmolarities in module mmon_gcm.supermodel:\n",
      "\n",
      "get_osmolarities(apertures='default', equation='onguard', printouts=False) method of mmon_gcm.supermodel.SuperModel instance\n",
      "    Calculates the osmolarities at each phase of the model using the equation\n",
      "    specified, default is onguard. Adds these as an attribute to the SuperModel\n",
      "\n"
     ]
    }
   ],
   "source": [
    "help(arabidopsis_supermodel.get_osmolarities)"
   ]
  },
  {
   "cell_type": "code",
   "execution_count": 15,
   "metadata": {},
   "outputs": [
    {
     "name": "stdout",
     "output_type": "stream",
     "text": [
      "Closed fmoles: 67.86090968309483\n",
      "Open fmoles: 94.69373119804636\n",
      "Increase in fmoles: 26.832821514951533\n"
     ]
    }
   ],
   "source": [
    "mmoles_per_m2 = np.array(arabidopsis_supermodel.get_osmolarities())\n",
    "mmoles_per_gc = mmoles_per_m2 / arabidopsis_supermodel.N_gcs\n",
    "moles_per_gc = mmoles_per_gc * 10 ** -3\n",
    "fmoles_per_gc = moles_per_gc / 10 ** -15\n",
    "print(f\"Closed fmoles: {fmoles_per_gc[0]}\")\n",
    "print(f\"Open fmoles: {fmoles_per_gc[1]}\")\n",
    "print(f\"Increase in fmoles: {fmoles_per_gc[1] - fmoles_per_gc[0]}\")"
   ]
  },
  {
   "cell_type": "markdown",
   "metadata": {},
   "source": [
    "#### Constrain photons using a PPFD of 150µmolm$^{-2}$s$^{-1}$, same as used in Horrer et al (2016)"
   ]
  },
  {
   "cell_type": "code",
   "execution_count": 16,
   "metadata": {},
   "outputs": [
    {
     "name": "stdout",
     "output_type": "stream",
     "text": [
      "Total leaf volume: 0.17dm3\n",
      "Guard cell volume in 1m2 leaf: 0.0003dm3\n",
      "Mesophyll cell volume in 1m2 leaf: 0.091dm3\n",
      "Proportion of the leaf that is gc: 0.003\n",
      "PPFD 150umolphotonsm-2\n",
      "Photon influx into leaf: 486.0 mmolphotonsm-2hr-1\n",
      "e = 0.062\n",
      "Photon influx into Guard cells: 0.092mmolphotonsm-2hr-1\n",
      "Photon influx into mesophyll cells: 485.908mmolphotonsm-2hr-1\n"
     ]
    }
   ],
   "source": [
    "# | export\n",
    "\n",
    "arabidopsis_supermodel.constrain_photons(150, printouts=True);"
   ]
  },
  {
   "cell_type": "code",
   "execution_count": 17,
   "metadata": {},
   "outputs": [],
   "source": [
    "# | export\n",
    "\n",
    "arabidopsis_supermodel.add_maintenance();"
   ]
  },
  {
   "cell_type": "markdown",
   "metadata": {},
   "source": [
    "## Blue Light"
   ]
  },
  {
   "cell_type": "markdown",
   "metadata": {},
   "source": [
    "### ATPase unconstrained"
   ]
  },
  {
   "cell_type": "markdown",
   "metadata": {},
   "source": [
    "#### WT"
   ]
  },
  {
   "cell_type": "code",
   "execution_count": 18,
   "metadata": {},
   "outputs": [
    {
     "name": "stdout",
     "output_type": "stream",
     "text": [
      "Started running pFBA (and FVA) @ 2023-07-28 18:19:56.326037\n",
      "Running pFBA\n",
      "Running FVA on 5 reactions using 3 processes\n",
      "AMMONIUM_ae_gc_1\n",
      "RXN_10786_c_gc_2\n",
      "aMAL_ae_gc_1\n",
      "ARG_v_gc_Linker_1\n",
      "HIS_v_gc_Linker_2\n",
      "aMAL_ae_gc_1\n",
      "AMMONIUM_ae_gc_1\n",
      "RXN_10786_c_gc_2\n",
      "ARG_v_gc_Linker_1\n",
      "HIS_v_gc_Linker_2\n",
      "Finished running pFBA (and FVA) @ 2023-07-28 18:20:32.572953, that took 0.6041152636210124 minutes\n"
     ]
    }
   ],
   "source": [
    "# | export\n",
    "\n",
    "with arabidopsis_supermodel.fba_model as m:\n",
    "\n",
    "    m.reactions.Photon_tx_gc_2.upper_bound = 0\n",
    "    m.reactions.Photon_tx_me_2.upper_bound = 0\n",
    "\n",
    "    blue_unconstrained_wt, blue_unconstrained_wt_solution = mmon_gcm.solving.get_pfba_fva_solution(\n",
    "        m, rxn_list=fva_list, processes=no_processes)"
   ]
  },
  {
   "cell_type": "code",
   "execution_count": null,
   "metadata": {},
   "outputs": [],
   "source": [
    "# | export\n",
    "\n",
    "blue_unconstrained_wt_solution.to_csv(output_dir + f\"blue_unconstrained_wt.csv\")"
   ]
  },
  {
   "cell_type": "markdown",
   "metadata": {},
   "source": [
    "#### Starch KO"
   ]
  },
  {
   "cell_type": "code",
   "execution_count": null,
   "metadata": {},
   "outputs": [],
   "source": [
    "# | export\n",
    "\n",
    "with arabidopsis_supermodel.fba_model as m:\n",
    "\n",
    "    m.reactions.Photon_tx_gc_2.upper_bound = 0\n",
    "    m.reactions.Photon_tx_me_2.upper_bound = 0\n",
    "    mmon_gcm.buildingediting.set_bounds_multi(m, \"RXN_1827_p_gc\", 0, 0)\n",
    "\n",
    "    blue_unconstrained_starchko, blue_unconstrained_starchko_solution = mmon_gcm.solving.get_pfba_fva_solution(\n",
    "        m, rxn_list=fva_list, processes=no_processes)"
   ]
  },
  {
   "cell_type": "code",
   "execution_count": null,
   "metadata": {},
   "outputs": [],
   "source": [
    "# | export\n",
    "\n",
    "blue_unconstrained_starchko_solution.to_csv(output_dir + \"blue_unconstrained_starchko.csv\")"
   ]
  },
  {
   "cell_type": "markdown",
   "metadata": {},
   "source": [
    "### Constrained ATPase"
   ]
  },
  {
   "cell_type": "markdown",
   "metadata": {},
   "source": [
    "#### WT"
   ]
  },
  {
   "cell_type": "code",
   "execution_count": null,
   "metadata": {},
   "outputs": [],
   "source": [
    "# | export\n",
    "\n",
    "with arabidopsis_supermodel.fba_model as m:\n",
    "\n",
    "    m.reactions.Photon_tx_gc_2.upper_bound = 0\n",
    "    m.reactions.Photon_tx_me_2.upper_bound = 0\n",
    "\n",
    "    gc_atpase_upper_bound = arabidopsis_supermodel.get_atpase_constraint_value(7.48)\n",
    "    mmon_gcm.buildingediting.set_bounds_multi(m, \"PROTON_ATPase_c_gc\", 0, gc_atpase_upper_bound)\n",
    "\n",
    "    blue_constrained_wt, blue_constrained_wt_solution = mmon_gcm.solving.get_pfba_fva_solution(\n",
    "        m, rxn_list=fva_list, processes=no_processes)"
   ]
  },
  {
   "cell_type": "code",
   "execution_count": null,
   "metadata": {},
   "outputs": [],
   "source": [
    "# | export\n",
    "\n",
    "blue_constrained_wt_solution.to_csv(output_dir + \"blue_constrained_wt.csv\")"
   ]
  },
  {
   "cell_type": "markdown",
   "metadata": {},
   "source": [
    "#### Starch KO"
   ]
  },
  {
   "cell_type": "code",
   "execution_count": null,
   "metadata": {},
   "outputs": [],
   "source": [
    "# | export\n",
    "\n",
    "with arabidopsis_supermodel.fba_model as m:\n",
    "\n",
    "    m.reactions.Photon_tx_gc_2.upper_bound = 0\n",
    "    m.reactions.Photon_tx_me_2.upper_bound = 0\n",
    "\n",
    "    gc_atpase_upper_bound = arabidopsis_supermodel.get_atpase_constraint_value(7.48)\n",
    "    mmon_gcm.buildingediting.set_bounds_multi(m, \"PROTON_ATPase_c_gc\", 0, gc_atpase_upper_bound)\n",
    "\n",
    "    mmon_gcm.buildingediting.set_bounds_multi(m, \"RXN_1827_p_gc\", 0, 0)\n",
    "\n",
    "    blue_constrained_starchko, blue_constrained_starchko_solution = mmon_gcm.solving.get_pfba_fva_solution(\n",
    "        m, rxn_list=fva_list, processes=no_processes)"
   ]
  },
  {
   "cell_type": "code",
   "execution_count": null,
   "metadata": {},
   "outputs": [],
   "source": [
    "# | export\n",
    "\n",
    "blue_constrained_starchko_solution.to_csv(output_dir + \"blue_constrained_starchko.csv\")"
   ]
  },
  {
   "cell_type": "markdown",
   "metadata": {},
   "source": [
    "## White Light"
   ]
  },
  {
   "cell_type": "markdown",
   "metadata": {},
   "source": [
    "### Unconstrained ATPase"
   ]
  },
  {
   "cell_type": "markdown",
   "metadata": {},
   "source": [
    "#### WT"
   ]
  },
  {
   "cell_type": "code",
   "execution_count": null,
   "metadata": {},
   "outputs": [],
   "source": [
    "# | export\n",
    "\n",
    "with arabidopsis_supermodel.fba_model as m:\n",
    "\n",
    "    white_unconstrained_wt, white_unconstrained_wt_solution = mmon_gcm.solving.get_pfba_fva_solution(\n",
    "        m, rxn_list=fva_list, processes=no_processes)"
   ]
  },
  {
   "cell_type": "code",
   "execution_count": null,
   "metadata": {},
   "outputs": [],
   "source": [
    "# | export\n",
    "\n",
    "white_unconstrained_wt_solution.to_csv(output_dir + \"white_unconstrained_wt.csv\")"
   ]
  },
  {
   "cell_type": "markdown",
   "metadata": {},
   "source": [
    "#### Starch KO"
   ]
  },
  {
   "cell_type": "code",
   "execution_count": null,
   "metadata": {},
   "outputs": [],
   "source": [
    "# | export\n",
    "\n",
    "with arabidopsis_supermodel.fba_model as m:\n",
    "\n",
    "    mmon_gcm.buildingediting.set_bounds_multi(m, \"RXN_1827_p_gc\", 0, 0)\n",
    "\n",
    "    white_unconstrained_starchko, white_unconstrained_starchko_solution = mmon_gcm.solving.get_pfba_fva_solution(\n",
    "        m, rxn_list=fva_list, processes=no_processes)"
   ]
  },
  {
   "cell_type": "code",
   "execution_count": null,
   "metadata": {},
   "outputs": [],
   "source": [
    "# | export\n",
    "\n",
    "white_unconstrained_starchko_solution.to_csv(output_dir + \"white_unconstrained_starchko.csv\")"
   ]
  },
  {
   "cell_type": "markdown",
   "metadata": {},
   "source": [
    "### Constrained ATPase"
   ]
  },
  {
   "cell_type": "markdown",
   "metadata": {},
   "source": [
    "#### WT"
   ]
  },
  {
   "cell_type": "code",
   "execution_count": null,
   "metadata": {},
   "outputs": [],
   "source": [
    "# | export\n",
    "\n",
    "with arabidopsis_supermodel.fba_model as m:\n",
    "\n",
    "    gc_atpase_upper_bound = arabidopsis_supermodel.get_atpase_constraint_value(7.48)\n",
    "    mmon_gcm.buildingediting.set_bounds_multi(m, \"PROTON_ATPase_c_gc\", 0, gc_atpase_upper_bound)\n",
    "\n",
    "    white_constrained_wt, white_constrained_wt_solution = mmon_gcm.solving.get_pfba_fva_solution(\n",
    "        m, rxn_list=fva_list, processes=no_processes)"
   ]
  },
  {
   "cell_type": "code",
   "execution_count": null,
   "metadata": {},
   "outputs": [],
   "source": [
    "# | export\n",
    "\n",
    "white_constrained_wt_solution.to_csv(output_dir + \"white_constrained_wt.csv\")"
   ]
  },
  {
   "cell_type": "markdown",
   "metadata": {},
   "source": [
    "#### Starch KO"
   ]
  },
  {
   "cell_type": "code",
   "execution_count": null,
   "metadata": {},
   "outputs": [],
   "source": [
    "# | export\n",
    "\n",
    "with arabidopsis_supermodel.fba_model as m:\n",
    "\n",
    "    gc_atpase_upper_bound = arabidopsis_supermodel.get_atpase_constraint_value(7.48)\n",
    "    mmon_gcm.buildingediting.set_bounds_multi(m, \"PROTON_ATPase_c_gc\", 0, gc_atpase_upper_bound)\n",
    "\n",
    "    mmon_gcm.buildingediting.set_bounds_multi(m, \"RXN_1827_p_gc\", 0, 0)\n",
    "\n",
    "    white_constrained_starchko, white_constrained_starchko_solution = mmon_gcm.solving.get_pfba_fva_solution(\n",
    "        m, rxn_list=fva_list, processes=no_processes)"
   ]
  },
  {
   "cell_type": "code",
   "execution_count": null,
   "metadata": {},
   "outputs": [],
   "source": [
    "# | export\n",
    "\n",
    "white_constrained_starchko_solution.to_csv(output_dir + \"white_constrained_starchko.csv\")"
   ]
  },
  {
   "cell_type": "markdown",
   "metadata": {},
   "source": [
    "## Guard cell has no photosynthetic capacity"
   ]
  },
  {
   "cell_type": "markdown",
   "metadata": {},
   "source": [
    "### Unconstrained ATPase"
   ]
  },
  {
   "cell_type": "markdown",
   "metadata": {},
   "source": [
    "#### WT"
   ]
  },
  {
   "cell_type": "code",
   "execution_count": null,
   "metadata": {},
   "outputs": [],
   "source": [
    "# | export\n",
    "\n",
    "with arabidopsis_supermodel.fba_model as m:\n",
    "\n",
    "    for p in [1, 2, 3, 4]:\n",
    "        m.reactions.get_by_id(f\"Photon_tx_gc_{p}\").bounds = (0, 0)\n",
    "\n",
    "    nops_unconstrained_wt, nops_unconstrained_wt_solution = mmon_gcm.solving.get_pfba_fva_solution(\n",
    "        m, rxn_list=fva_list, processes=no_processes)"
   ]
  },
  {
   "cell_type": "code",
   "execution_count": null,
   "metadata": {},
   "outputs": [],
   "source": [
    "# | export\n",
    "\n",
    "nops_unconstrained_wt_solution.to_csv(output_dir + \"nops_unconstrained_wt.csv\")"
   ]
  },
  {
   "cell_type": "markdown",
   "metadata": {},
   "source": [
    "#### Starch KO"
   ]
  },
  {
   "cell_type": "code",
   "execution_count": null,
   "metadata": {},
   "outputs": [],
   "source": [
    "# | export\n",
    "\n",
    "with arabidopsis_supermodel.fba_model as m:\n",
    "\n",
    "    for p in [1, 2, 3, 4]:\n",
    "        m.reactions.get_by_id(f\"Photon_tx_gc_{p}\").bounds = (0, 0)\n",
    "\n",
    "    mmon_gcm.buildingediting.set_bounds_multi(m, \"RXN_1827_p_gc\", 0, 0)\n",
    "\n",
    "    nops_unconstrained_starchko, nops_unconstrained_starchko_solution = mmon_gcm.solving.get_pfba_fva_solution(\n",
    "        m, rxn_list=fva_list, processes=no_processes)"
   ]
  },
  {
   "cell_type": "code",
   "execution_count": null,
   "metadata": {},
   "outputs": [],
   "source": [
    "# | export\n",
    "\n",
    "nops_unconstrained_starchko_solution.to_csv(output_dir + \"nops_unconstrained_starchko.csv\")"
   ]
  },
  {
   "cell_type": "markdown",
   "metadata": {},
   "source": [
    "### Constrained ATPase"
   ]
  },
  {
   "cell_type": "markdown",
   "metadata": {},
   "source": [
    "#### WT"
   ]
  },
  {
   "cell_type": "code",
   "execution_count": null,
   "metadata": {},
   "outputs": [],
   "source": [
    "# | export\n",
    "\n",
    "with arabidopsis_supermodel.fba_model as m:\n",
    "\n",
    "    for p in [1, 2, 3, 4]:\n",
    "        m.reactions.get_by_id(f\"Photon_tx_gc_{p}\").bounds = (0, 0)\n",
    "\n",
    "    gc_atpase_upper_bound = arabidopsis_supermodel.get_atpase_constraint_value(7.48)\n",
    "    mmon_gcm.buildingediting.set_bounds_multi(m, \"PROTON_ATPase_c_gc\", 0, gc_atpase_upper_bound)\n",
    "\n",
    "    nops_unconstrained_wt, nops_unconstrained_wt_solution = mmon_gcm.solving.get_pfba_fva_solution(\n",
    "        m, rxn_list=fva_list, processes=no_processes)"
   ]
  },
  {
   "cell_type": "code",
   "execution_count": null,
   "metadata": {},
   "outputs": [],
   "source": [
    "# | export\n",
    "\n",
    "nops_unconstrained_wt_solution.to_csv(output_dir + \"nops_constrained_wt.csv\")"
   ]
  },
  {
   "cell_type": "markdown",
   "metadata": {},
   "source": [
    "#### Starch KO"
   ]
  },
  {
   "cell_type": "code",
   "execution_count": null,
   "metadata": {},
   "outputs": [],
   "source": [
    "# | export\n",
    "\n",
    "with arabidopsis_supermodel.fba_model as m:\n",
    "\n",
    "    for p in [1, 2, 3, 4]:\n",
    "        m.reactions.get_by_id(f\"Photon_tx_gc_{p}\").bounds = (0, 0)\n",
    "\n",
    "    gc_atpase_upper_bound = arabidopsis_supermodel.get_atpase_constraint_value(7.48)\n",
    "    mmon_gcm.buildingediting.set_bounds_multi(m, \"PROTON_ATPase_c_gc\", 0, gc_atpase_upper_bound)\n",
    "\n",
    "    mmon_gcm.buildingediting.set_bounds_multi(m, \"RXN_1827_p_gc\", 0, 0)\n",
    "\n",
    "    nops_unconstrained_starchko, nops_unconstrained_starchko_solution = mmon_gcm.solving.get_pfba_fva_solution(\n",
    "        m, rxn_list=fva_list, processes=no_processes)"
   ]
  },
  {
   "cell_type": "code",
   "execution_count": null,
   "metadata": {},
   "outputs": [],
   "source": [
    "# | export\n",
    "\n",
    "nops_unconstrained_starchko_solution.to_csv(output_dir + \"nops_constrained_starchko.csv\")"
   ]
  }
 ],
 "metadata": {
  "kernelspec": {
   "display_name": "mmon-gcm",
   "language": "python",
   "name": "mmon-gcm"
  },
  "language_info": {
   "codemirror_mode": {
    "name": "ipython",
    "version": 3
   },
   "file_extension": ".py",
   "mimetype": "text/x-python",
   "name": "python",
   "nbconvert_exporter": "python",
   "pygments_lexer": "ipython3",
   "version": "3.9.17"
  }
 },
 "nbformat": 4,
 "nbformat_minor": 4
}
