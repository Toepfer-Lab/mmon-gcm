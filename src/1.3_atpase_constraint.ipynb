{
 "cells": [
  {
   "cell_type": "markdown",
   "id": "similar-county",
   "metadata": {},
   "source": [
    "# Is H+ATPase limiting?"
   ]
  },
  {
   "cell_type": "markdown",
   "id": "duplicate-living",
   "metadata": {},
   "source": [
    "Jezek et al. (2019) wrote a follow-up OnGuard paper, where they added a constraint-relaxation-recovery mechanism into the model. The justification for this was:\n",
    "\n",
    "> No physiologically reasonable manipulation of model parameters defining the H+‐ATPase, the K+ and Cl− (anion) channels, their populations at the plasma membrane, or of other transporters participating in guard cell solute accumulation, could bring the model‐predicted stomatal opening substantially closer to the experimentally observed kinetics.\n",
    "\n",
    "They therefore added a the CRR mechanism into the model which was able to reconcile the kinetics of stomatal conductance experimentally and in the model. \n",
    "\n",
    "Despite this, they also say in the discussion:\n",
    "\n",
    "> Of course, other mechanisms may also accommodate the accelerated stomatal kinetics. For example, there is a substantial body of evidence supporting carbon flow from starch or fructans to sucrose or malate during stomatal opening, and reverse flows during stomatal closure (Dittrich & Raschke, 1977; Outlaw, 2003; Santelia & Lawson,2016; Santelia & Lunn, 2017), especially under low light (Horrer et al., 2016). \n",
    "\n",
    "Flutsch et al (2020) investigated the kinetics of stomatal opening in amy3bam1 and aha1 knockouts. The amy3bam1 mutant cannot degrade starch and the aha1 mutant can't pump protons out of the guard cell, which drives K+/Mal/Cl uptake into the guard cell. It also is part of the starch signaling pathway. They found that there was no impact on the H+-ATPase or kinetics of K+/Cl- uptake in the amy3bam1 knockout, suggesting that starch is not degraded to power the H+-ATPase pump, but rather it is a source of osmoticum in the form of glucose. However, the amy3bam1 mutants had slower opening kinetics. \n",
    "\n",
    "This would be consistent with a H+-ATPase that is not able to provide osmoticum at a sufficient rate for opening. It is saturated regardless of whether or not starch is available. As our model does not degrade starch, instead meeting all the osmotic requirements of opening using K+/Cl- uptake, we wanted to see what would happen if we added a constraint on the rate of the H+-ATPase. This notebook explores the experimental rate of the H+-ATPase that Flutsch et al (2020) estimated and compares it to the rate in the model that is required for the Guard Cell to open, in order to see whether adding a constraint would affect the model. "
   ]
  },
  {
   "cell_type": "markdown",
   "id": "coordinated-middle",
   "metadata": {},
   "source": [
    "## Setup"
   ]
  },
  {
   "cell_type": "code",
   "execution_count": 1,
   "id": "better-highway",
   "metadata": {},
   "outputs": [],
   "source": [
    "import cobra\n",
    "import pandas as pd\n",
    "from matplotlib import pyplot as plt\n",
    "from mmon_gcm.supermodel import SuperModel"
   ]
  },
  {
   "cell_type": "code",
   "execution_count": 2,
   "id": "cross-mineral",
   "metadata": {},
   "outputs": [
    {
     "name": "stderr",
     "output_type": "stream",
     "text": [
      "No objective coefficients in model. Unclear what should be optimized\n"
     ]
    }
   ],
   "source": [
    "four_stage_GC_model = cobra.io.sbml.read_sbml_model(\"../models/4_stage_GC.xml\")  # read model"
   ]
  },
  {
   "cell_type": "code",
   "execution_count": 3,
   "id": "accessible-wednesday",
   "metadata": {},
   "outputs": [],
   "source": [
    "solution = pd.read_csv(\"../outputs/model_solutions/blue_unconstrained_starchko.csv\", index_col=0)"
   ]
  },
  {
   "cell_type": "code",
   "execution_count": 4,
   "id": "opposed-british",
   "metadata": {},
   "outputs": [],
   "source": [
    "parameters_df = pd.read_csv(\"../inputs/arabidopsis_parameters.csv\", index_col=0)"
   ]
  },
  {
   "cell_type": "markdown",
   "id": "amateur-determination",
   "metadata": {},
   "source": [
    "## Calculating H+-ATPase flux in the model in fmoles/gc/h-1"
   ]
  },
  {
   "cell_type": "code",
   "execution_count": 5,
   "id": "graduate-abraham",
   "metadata": {},
   "outputs": [
    {
     "name": "stdout",
     "output_type": "stream",
     "text": [
      "ATPase flux is 0.0069318825380567 mmoles m-2 leaf h-1\n"
     ]
    }
   ],
   "source": [
    "atpase_flux = solution.loc[\"PROTON_ATPase_c_gc_2\", \"fluxes\"]\n",
    "print(f\"ATPase flux is {atpase_flux} mmoles m-2 leaf h-1\")"
   ]
  },
  {
   "cell_type": "code",
   "execution_count": 6,
   "id": "dietary-frank",
   "metadata": {},
   "outputs": [],
   "source": [
    "n_gcs = parameters_df.loc[\"N_gcs\", \"Value\"]"
   ]
  },
  {
   "cell_type": "code",
   "execution_count": 7,
   "id": "single-wallpaper",
   "metadata": {},
   "outputs": [],
   "source": [
    "flux_per_gc_moles = atpase_flux / n_gcs * 10**-3"
   ]
  },
  {
   "cell_type": "code",
   "execution_count": 8,
   "id": "alpine-chart",
   "metadata": {},
   "outputs": [
    {
     "name": "stdout",
     "output_type": "stream",
     "text": [
      "Rate of H+-ATPase is 12.0 fmoles gc-1 h-1\n"
     ]
    }
   ],
   "source": [
    "flux_per_gc_fmoles = flux_per_gc_moles * 10**15\n",
    "flux_per_gc_fmoles_rounded = flux_per_gc_fmoles.round(1)\n",
    "print(f\"Rate of H+-ATPase is {flux_per_gc_fmoles_rounded} fmoles gc-1 h-1\")"
   ]
  },
  {
   "cell_type": "markdown",
   "id": "descending-grammar",
   "metadata": {},
   "source": [
    "## Comparing with Flutsch"
   ]
  },
  {
   "cell_type": "markdown",
   "id": "ce605da5-e4a8-4bda-bb88-52bf71744c4b",
   "metadata": {},
   "source": [
    "According to their Supplemental file 1, Flutsch et al say that guard cells can provide 17 fmoles H+ h-1 (0.017 pmoles)."
   ]
  },
  {
   "cell_type": "markdown",
   "id": "d5854d08-2688-4b39-89e5-04937b32f2c1",
   "metadata": {},
   "source": [
    "## Comparing with Papanatsiou et al 2019"
   ]
  },
  {
   "cell_type": "markdown",
   "id": "a6bf8fe2-e5cf-468e-828e-78f47145eb5f",
   "metadata": {},
   "source": [
    "(From supplementary methods of Papanatsiou et al., 2019:)\n",
    ">\"Between the fully closed and fully open state of the stoma, the osmotic content of an Arabidopsis guard\n",
    "cell rises by approximately 200 to 300 mM on a cell volume basis (5). Roughly half of this\n",
    "osmotic content is made up of K+ transported across the plasma membrane and translates to\n",
    "approximately 70 fmol of K+ per guard cell.\"  \n",
    "5 - Engineer, C. B. et al. (2016) ‘CO2 Sensing and CO2 Regulation of Stomatal Conductance: Advances and Open Questions’, Trends in Plant Science. Elsevier Ltd, 21(1), pp. 16–30. doi: 10.1016/j.tplants.2015.08.014. \n",
    "\n",
    "But there is nothing in the Engineer paper that references this..."
   ]
  },
  {
   "cell_type": "markdown",
   "id": "velvet-playlist",
   "metadata": {},
   "source": [
    "## Comparing with OnGuard"
   ]
  },
  {
   "cell_type": "markdown",
   "id": "stone-testimony",
   "metadata": {},
   "source": [
    "I ran the default model that comes with OnGuard version 3 'RCA5-wt-191120-wt' using the Summer 2022 release of OnGuard. Modifying it by unticking the 'CRR' box. I ran it for 24 hours and exported the results as a csv:"
   ]
  },
  {
   "cell_type": "code",
   "execution_count": 9,
   "id": "bc3f07b0-8671-4cb4-9302-8b7a61760a28",
   "metadata": {},
   "outputs": [
    {
     "data": {
      "text/html": [
       "<div>\n",
       "<style scoped>\n",
       "    .dataframe tbody tr th:only-of-type {\n",
       "        vertical-align: middle;\n",
       "    }\n",
       "\n",
       "    .dataframe tbody tr th {\n",
       "        vertical-align: top;\n",
       "    }\n",
       "\n",
       "    .dataframe thead th {\n",
       "        text-align: right;\n",
       "    }\n",
       "</style>\n",
       "<table border=\"1\" class=\"dataframe\">\n",
       "  <thead>\n",
       "    <tr style=\"text-align: right;\">\n",
       "      <th></th>\n",
       "      <th>Time /s</th>\n",
       "      <th>Time /min</th>\n",
       "      <th>Time /d</th>\n",
       "      <th>Vpm /mV</th>\n",
       "      <th>Vtp /mV</th>\n",
       "      <th>VT /pL</th>\n",
       "      <th>Vac %-age</th>\n",
       "      <th>SA /um</th>\n",
       "      <th>TP /atm</th>\n",
       "      <th>Unnamed: 10</th>\n",
       "      <th>...</th>\n",
       "      <th>VPD/KPa</th>\n",
       "      <th>Unnamed: 140</th>\n",
       "      <th>CRR Value</th>\n",
       "      <th>CRR Recovery</th>\n",
       "      <th>Unnamed: 143</th>\n",
       "      <th>Ciso(0) /mM</th>\n",
       "      <th>'Mott' (*1000)</th>\n",
       "      <th>Ciso' /mM</th>\n",
       "      <th>Osm[Cyt] /mM</th>\n",
       "      <th>Unnamed: 148</th>\n",
       "    </tr>\n",
       "    <tr>\n",
       "      <th>Time /hr</th>\n",
       "      <th></th>\n",
       "      <th></th>\n",
       "      <th></th>\n",
       "      <th></th>\n",
       "      <th></th>\n",
       "      <th></th>\n",
       "      <th></th>\n",
       "      <th></th>\n",
       "      <th></th>\n",
       "      <th></th>\n",
       "      <th></th>\n",
       "      <th></th>\n",
       "      <th></th>\n",
       "      <th></th>\n",
       "      <th></th>\n",
       "      <th></th>\n",
       "      <th></th>\n",
       "      <th></th>\n",
       "      <th></th>\n",
       "      <th></th>\n",
       "      <th></th>\n",
       "    </tr>\n",
       "  </thead>\n",
       "  <tbody>\n",
       "    <tr>\n",
       "      <th>0.00000</th>\n",
       "      <td>0.0</td>\n",
       "      <td>0.00000</td>\n",
       "      <td>0.00000</td>\n",
       "      <td>-62.1</td>\n",
       "      <td>-35.5</td>\n",
       "      <td>0.381</td>\n",
       "      <td>79.172</td>\n",
       "      <td>1.629</td>\n",
       "      <td>4.303</td>\n",
       "      <td>NaN</td>\n",
       "      <td>...</td>\n",
       "      <td>-0.943</td>\n",
       "      <td>NaN</td>\n",
       "      <td>1</td>\n",
       "      <td>2.630280e-25</td>\n",
       "      <td>NaN</td>\n",
       "      <td>23.1003</td>\n",
       "      <td>5.73262</td>\n",
       "      <td>28.8329</td>\n",
       "      <td>204.713</td>\n",
       "      <td>NaN</td>\n",
       "    </tr>\n",
       "    <tr>\n",
       "      <th>0.00639</th>\n",
       "      <td>23.0</td>\n",
       "      <td>0.38342</td>\n",
       "      <td>0.00027</td>\n",
       "      <td>-62.9</td>\n",
       "      <td>-35.5</td>\n",
       "      <td>0.381</td>\n",
       "      <td>79.162</td>\n",
       "      <td>1.629</td>\n",
       "      <td>4.303</td>\n",
       "      <td>NaN</td>\n",
       "      <td>...</td>\n",
       "      <td>-0.943</td>\n",
       "      <td>NaN</td>\n",
       "      <td>1</td>\n",
       "      <td>2.630280e-25</td>\n",
       "      <td>NaN</td>\n",
       "      <td>23.0992</td>\n",
       "      <td>5.73783</td>\n",
       "      <td>28.8370</td>\n",
       "      <td>204.752</td>\n",
       "      <td>NaN</td>\n",
       "    </tr>\n",
       "    <tr>\n",
       "      <th>0.01306</th>\n",
       "      <td>47.0</td>\n",
       "      <td>0.78353</td>\n",
       "      <td>0.00054</td>\n",
       "      <td>-63.7</td>\n",
       "      <td>-35.4</td>\n",
       "      <td>0.381</td>\n",
       "      <td>79.161</td>\n",
       "      <td>1.629</td>\n",
       "      <td>4.303</td>\n",
       "      <td>NaN</td>\n",
       "      <td>...</td>\n",
       "      <td>-0.943</td>\n",
       "      <td>NaN</td>\n",
       "      <td>1</td>\n",
       "      <td>2.630280e-25</td>\n",
       "      <td>NaN</td>\n",
       "      <td>23.0991</td>\n",
       "      <td>5.73811</td>\n",
       "      <td>28.8372</td>\n",
       "      <td>204.793</td>\n",
       "      <td>NaN</td>\n",
       "    </tr>\n",
       "    <tr>\n",
       "      <th>0.01881</th>\n",
       "      <td>67.7</td>\n",
       "      <td>1.12838</td>\n",
       "      <td>0.00078</td>\n",
       "      <td>-64.3</td>\n",
       "      <td>-35.4</td>\n",
       "      <td>0.381</td>\n",
       "      <td>79.164</td>\n",
       "      <td>1.629</td>\n",
       "      <td>4.303</td>\n",
       "      <td>NaN</td>\n",
       "      <td>...</td>\n",
       "      <td>-0.943</td>\n",
       "      <td>NaN</td>\n",
       "      <td>1</td>\n",
       "      <td>2.630280e-25</td>\n",
       "      <td>NaN</td>\n",
       "      <td>23.0990</td>\n",
       "      <td>5.73851</td>\n",
       "      <td>28.8375</td>\n",
       "      <td>204.829</td>\n",
       "      <td>NaN</td>\n",
       "    </tr>\n",
       "    <tr>\n",
       "      <th>0.02486</th>\n",
       "      <td>89.5</td>\n",
       "      <td>1.49185</td>\n",
       "      <td>0.00104</td>\n",
       "      <td>-64.9</td>\n",
       "      <td>-35.4</td>\n",
       "      <td>0.381</td>\n",
       "      <td>79.168</td>\n",
       "      <td>1.629</td>\n",
       "      <td>4.303</td>\n",
       "      <td>NaN</td>\n",
       "      <td>...</td>\n",
       "      <td>-0.943</td>\n",
       "      <td>NaN</td>\n",
       "      <td>1</td>\n",
       "      <td>2.630280e-25</td>\n",
       "      <td>NaN</td>\n",
       "      <td>23.0990</td>\n",
       "      <td>5.73911</td>\n",
       "      <td>28.8381</td>\n",
       "      <td>204.867</td>\n",
       "      <td>NaN</td>\n",
       "    </tr>\n",
       "    <tr>\n",
       "      <th>...</th>\n",
       "      <td>...</td>\n",
       "      <td>...</td>\n",
       "      <td>...</td>\n",
       "      <td>...</td>\n",
       "      <td>...</td>\n",
       "      <td>...</td>\n",
       "      <td>...</td>\n",
       "      <td>...</td>\n",
       "      <td>...</td>\n",
       "      <td>...</td>\n",
       "      <td>...</td>\n",
       "      <td>...</td>\n",
       "      <td>...</td>\n",
       "      <td>...</td>\n",
       "      <td>...</td>\n",
       "      <td>...</td>\n",
       "      <td>...</td>\n",
       "      <td>...</td>\n",
       "      <td>...</td>\n",
       "      <td>...</td>\n",
       "      <td>...</td>\n",
       "    </tr>\n",
       "    <tr>\n",
       "      <th>23.97191</th>\n",
       "      <td>86298.9</td>\n",
       "      <td>1438.31476</td>\n",
       "      <td>0.99883</td>\n",
       "      <td>-59.9</td>\n",
       "      <td>-36.4</td>\n",
       "      <td>0.380</td>\n",
       "      <td>79.641</td>\n",
       "      <td>1.609</td>\n",
       "      <td>4.287</td>\n",
       "      <td>NaN</td>\n",
       "      <td>...</td>\n",
       "      <td>-0.943</td>\n",
       "      <td>NaN</td>\n",
       "      <td>1</td>\n",
       "      <td>2.630280e-25</td>\n",
       "      <td>NaN</td>\n",
       "      <td>23.1004</td>\n",
       "      <td>5.66717</td>\n",
       "      <td>28.7675</td>\n",
       "      <td>204.079</td>\n",
       "      <td>NaN</td>\n",
       "    </tr>\n",
       "    <tr>\n",
       "      <th>23.97842</th>\n",
       "      <td>86322.3</td>\n",
       "      <td>1438.70519</td>\n",
       "      <td>0.99910</td>\n",
       "      <td>-59.9</td>\n",
       "      <td>-36.4</td>\n",
       "      <td>0.380</td>\n",
       "      <td>79.642</td>\n",
       "      <td>1.609</td>\n",
       "      <td>4.287</td>\n",
       "      <td>NaN</td>\n",
       "      <td>...</td>\n",
       "      <td>-0.943</td>\n",
       "      <td>NaN</td>\n",
       "      <td>1</td>\n",
       "      <td>2.630280e-25</td>\n",
       "      <td>NaN</td>\n",
       "      <td>23.1004</td>\n",
       "      <td>5.66763</td>\n",
       "      <td>28.7680</td>\n",
       "      <td>204.084</td>\n",
       "      <td>NaN</td>\n",
       "    </tr>\n",
       "    <tr>\n",
       "      <th>23.98431</th>\n",
       "      <td>86343.5</td>\n",
       "      <td>1439.05839</td>\n",
       "      <td>0.99935</td>\n",
       "      <td>-60.0</td>\n",
       "      <td>-36.4</td>\n",
       "      <td>0.380</td>\n",
       "      <td>79.642</td>\n",
       "      <td>1.609</td>\n",
       "      <td>4.287</td>\n",
       "      <td>NaN</td>\n",
       "      <td>...</td>\n",
       "      <td>-0.943</td>\n",
       "      <td>NaN</td>\n",
       "      <td>1</td>\n",
       "      <td>2.630280e-25</td>\n",
       "      <td>NaN</td>\n",
       "      <td>23.1004</td>\n",
       "      <td>5.66814</td>\n",
       "      <td>28.7685</td>\n",
       "      <td>204.089</td>\n",
       "      <td>NaN</td>\n",
       "    </tr>\n",
       "    <tr>\n",
       "      <th>23.99081</th>\n",
       "      <td>86366.9</td>\n",
       "      <td>1439.44890</td>\n",
       "      <td>0.99962</td>\n",
       "      <td>-59.9</td>\n",
       "      <td>-36.4</td>\n",
       "      <td>0.380</td>\n",
       "      <td>79.643</td>\n",
       "      <td>1.609</td>\n",
       "      <td>4.287</td>\n",
       "      <td>NaN</td>\n",
       "      <td>...</td>\n",
       "      <td>-0.943</td>\n",
       "      <td>NaN</td>\n",
       "      <td>1</td>\n",
       "      <td>2.630280e-25</td>\n",
       "      <td>NaN</td>\n",
       "      <td>23.1004</td>\n",
       "      <td>5.66859</td>\n",
       "      <td>28.7690</td>\n",
       "      <td>204.094</td>\n",
       "      <td>NaN</td>\n",
       "    </tr>\n",
       "    <tr>\n",
       "      <th>23.99670</th>\n",
       "      <td>86388.1</td>\n",
       "      <td>1439.80211</td>\n",
       "      <td>0.99986</td>\n",
       "      <td>-60.0</td>\n",
       "      <td>-36.4</td>\n",
       "      <td>0.380</td>\n",
       "      <td>79.643</td>\n",
       "      <td>1.609</td>\n",
       "      <td>4.287</td>\n",
       "      <td>NaN</td>\n",
       "      <td>...</td>\n",
       "      <td>-0.943</td>\n",
       "      <td>NaN</td>\n",
       "      <td>1</td>\n",
       "      <td>2.630280e-25</td>\n",
       "      <td>NaN</td>\n",
       "      <td>23.1004</td>\n",
       "      <td>5.66910</td>\n",
       "      <td>28.7695</td>\n",
       "      <td>204.099</td>\n",
       "      <td>NaN</td>\n",
       "    </tr>\n",
       "  </tbody>\n",
       "</table>\n",
       "<p>3905 rows × 148 columns</p>\n",
       "</div>"
      ],
      "text/plain": [
       "          Time /s   Time /min  Time /d  Vpm /mV  Vtp /mV  VT /pL  Vac %-age  \\\n",
       "Time /hr                                                                      \n",
       "0.00000       0.0     0.00000  0.00000    -62.1    -35.5   0.381     79.172   \n",
       "0.00639      23.0     0.38342  0.00027    -62.9    -35.5   0.381     79.162   \n",
       "0.01306      47.0     0.78353  0.00054    -63.7    -35.4   0.381     79.161   \n",
       "0.01881      67.7     1.12838  0.00078    -64.3    -35.4   0.381     79.164   \n",
       "0.02486      89.5     1.49185  0.00104    -64.9    -35.4   0.381     79.168   \n",
       "...           ...         ...      ...      ...      ...     ...        ...   \n",
       "23.97191  86298.9  1438.31476  0.99883    -59.9    -36.4   0.380     79.641   \n",
       "23.97842  86322.3  1438.70519  0.99910    -59.9    -36.4   0.380     79.642   \n",
       "23.98431  86343.5  1439.05839  0.99935    -60.0    -36.4   0.380     79.642   \n",
       "23.99081  86366.9  1439.44890  0.99962    -59.9    -36.4   0.380     79.643   \n",
       "23.99670  86388.1  1439.80211  0.99986    -60.0    -36.4   0.380     79.643   \n",
       "\n",
       "          SA /um  TP /atm  Unnamed: 10  ...  VPD/KPa  Unnamed: 140  CRR Value  \\\n",
       "Time /hr                                ...                                     \n",
       "0.00000    1.629    4.303          NaN  ...   -0.943           NaN          1   \n",
       "0.00639    1.629    4.303          NaN  ...   -0.943           NaN          1   \n",
       "0.01306    1.629    4.303          NaN  ...   -0.943           NaN          1   \n",
       "0.01881    1.629    4.303          NaN  ...   -0.943           NaN          1   \n",
       "0.02486    1.629    4.303          NaN  ...   -0.943           NaN          1   \n",
       "...          ...      ...          ...  ...      ...           ...        ...   \n",
       "23.97191   1.609    4.287          NaN  ...   -0.943           NaN          1   \n",
       "23.97842   1.609    4.287          NaN  ...   -0.943           NaN          1   \n",
       "23.98431   1.609    4.287          NaN  ...   -0.943           NaN          1   \n",
       "23.99081   1.609    4.287          NaN  ...   -0.943           NaN          1   \n",
       "23.99670   1.609    4.287          NaN  ...   -0.943           NaN          1   \n",
       "\n",
       "          CRR Recovery  Unnamed: 143  Ciso(0) /mM  'Mott' (*1000)  Ciso' /mM  \\\n",
       "Time /hr                                                                       \n",
       "0.00000   2.630280e-25           NaN      23.1003         5.73262    28.8329   \n",
       "0.00639   2.630280e-25           NaN      23.0992         5.73783    28.8370   \n",
       "0.01306   2.630280e-25           NaN      23.0991         5.73811    28.8372   \n",
       "0.01881   2.630280e-25           NaN      23.0990         5.73851    28.8375   \n",
       "0.02486   2.630280e-25           NaN      23.0990         5.73911    28.8381   \n",
       "...                ...           ...          ...             ...        ...   \n",
       "23.97191  2.630280e-25           NaN      23.1004         5.66717    28.7675   \n",
       "23.97842  2.630280e-25           NaN      23.1004         5.66763    28.7680   \n",
       "23.98431  2.630280e-25           NaN      23.1004         5.66814    28.7685   \n",
       "23.99081  2.630280e-25           NaN      23.1004         5.66859    28.7690   \n",
       "23.99670  2.630280e-25           NaN      23.1004         5.66910    28.7695   \n",
       "\n",
       "          Osm[Cyt] /mM  Unnamed: 148  \n",
       "Time /hr                              \n",
       "0.00000        204.713           NaN  \n",
       "0.00639        204.752           NaN  \n",
       "0.01306        204.793           NaN  \n",
       "0.01881        204.829           NaN  \n",
       "0.02486        204.867           NaN  \n",
       "...                ...           ...  \n",
       "23.97191       204.079           NaN  \n",
       "23.97842       204.084           NaN  \n",
       "23.98431       204.089           NaN  \n",
       "23.99081       204.094           NaN  \n",
       "23.99670       204.099           NaN  \n",
       "\n",
       "[3905 rows x 148 columns]"
      ]
     },
     "execution_count": 9,
     "metadata": {},
     "output_type": "execute_result"
    }
   ],
   "source": [
    "# import csv and tidy up\n",
    "onguard_df = pd.read_csv(\"../inputs/RCA5-wt-191120-wt-001.csv\")\n",
    "onguard_df = onguard_df.set_index(\"Time /hr\")\n",
    "onguard_df"
   ]
  },
  {
   "cell_type": "markdown",
   "id": "cc38b169-825f-4541-85b7-c6b39089b317",
   "metadata": {},
   "source": [
    "Where did their original kinetics for the H+-ATPase come from?\n",
    "\n",
    "From Hills et al (2012):\n",
    "\n",
    "> H+-ATPase: The parameters are fully constrained by experimental analysis of the Vicia guard cell H+-ATPase (Blatt 1987a; Blatt 1988a; Blatt and Clint 1989; Clint and Blatt 1989) and equivalent analysis of the Chara H+-ATPase (Blatt et al. 1990a), the latter providing expansion \n",
    "to a 4-state carrier cycle to describe its pH dependence explicitly. The model incorporates [Ca2+]i sensitivity as an inhibitory ligand (Ki, 400 nM and nh, 3 to give >90% inhibition at 1 μM [Ca2+]i; see Kinoshita, et al. (1995) and light as a stimulatory ligand [K1/2, 50 μmol m-2 s-1 and nh, 1, 20-fold enhancement over dark activity; see Goh, et al. (1995) and Kinoshita and Shimazaki (Kinoshita and Shimazaki 1999)].\n",
    "\n",
    "\n",
    "> 4-State H+-ATPase [3000000 units] (4-State 'Slayman' Pump)\n",
    "#'H' Stoichiometry = +1; binds at 4->1 (in) and 3->2 (ex);\n",
    "K12 = 2000, K23 = 50000, K34 = 500, K41 = 2e+09,\n",
    "K21 = 100, K32 = 1e+08, K43 = 10,\n",
    " K14 = 200;\n",
    "Light-Sensitive: Yes: L1⁄2 = 50 μEinsteins, Fmin = 5%\n",
    "Ligand-Gates:\n",
    "Ca-inhibited (cytosol): Kd= 2.5e-07, Hill= 3;\n"
   ]
  },
  {
   "cell_type": "markdown",
   "id": "exciting-clerk",
   "metadata": {},
   "source": [
    "## Stomatal aperture sanity check"
   ]
  },
  {
   "cell_type": "markdown",
   "id": "comparative-spirit",
   "metadata": {},
   "source": [
    "First, a sanity check on the stomatal aperture:"
   ]
  },
  {
   "cell_type": "code",
   "execution_count": 10,
   "id": "sublime-links",
   "metadata": {},
   "outputs": [
    {
     "data": {
      "text/plain": [
       "<Axes: xlabel='Time /hr', ylabel='Aperture (µm)'>"
      ]
     },
     "execution_count": 10,
     "metadata": {},
     "output_type": "execute_result"
    },
    {
     "data": {
      "image/png": "[encoded data removed]",
      "text/plain": [
       "<Figure size 640x480 with 1 Axes>"
      ]
     },
     "metadata": {},
     "output_type": "display_data"
    }
   ],
   "source": [
    "onguard_df[\"SA /um\"].plot(ylabel=\"Aperture (µm)\")"
   ]
  },
  {
   "cell_type": "code",
   "execution_count": 11,
   "id": "improving-anime",
   "metadata": {},
   "outputs": [
    {
     "data": {
      "text/plain": [
       "<Axes: xlabel='Time /hr', ylabel='Aperture (µm)'>"
      ]
     },
     "execution_count": 11,
     "metadata": {},
     "output_type": "execute_result"
    },
    {
     "data": {
      "image/png": "[encoded data removed]",
      "text/plain": [
       "<Figure size 640x480 with 1 Axes>"
      ]
     },
     "metadata": {},
     "output_type": "display_data"
    }
   ],
   "source": [
    "onguard_df[onguard_df.index < 1][\"SA /um\"].plot(ylabel=\"Aperture (µm)\")"
   ]
  },
  {
   "cell_type": "markdown",
   "id": "applicable-settlement",
   "metadata": {},
   "source": [
    "Our aperture is 1.6-2.75, so pretty similar over half an hour to what they are seeing over one hour"
   ]
  },
  {
   "cell_type": "markdown",
   "id": "quiet-ocean",
   "metadata": {},
   "source": [
    "### Osmolarity sanity check"
   ]
  },
  {
   "cell_type": "code",
   "execution_count": 12,
   "id": "tender-parallel",
   "metadata": {},
   "outputs": [],
   "source": [
    "cyt_df = onguard_df.filter(regex=\"mM\").filter(regex=\"Cyt\")\n",
    "vac_df = onguard_df.filter(regex=\"mM\").filter(regex=\"Vac\")"
   ]
  },
  {
   "cell_type": "code",
   "execution_count": 13,
   "id": "ranking-league",
   "metadata": {},
   "outputs": [],
   "source": [
    "def just_inside_brackets(string_to_be_pruned):\n",
    "    return string_to_be_pruned.split(\"]\")[0][1:]"
   ]
  },
  {
   "cell_type": "code",
   "execution_count": 14,
   "id": "minor-municipality",
   "metadata": {},
   "outputs": [],
   "source": [
    "vac_df.columns = [just_inside_brackets(col) + \" mM\" for col in vac_df.columns]\n",
    "cyt_df.columns = [just_inside_brackets(col) + \" mM\" for col in cyt_df.columns]"
   ]
  },
  {
   "cell_type": "code",
   "execution_count": 15,
   "id": "weighted-brook",
   "metadata": {},
   "outputs": [],
   "source": [
    "vac_frac = 79.2589 / 100"
   ]
  },
  {
   "cell_type": "code",
   "execution_count": 16,
   "id": "integrated-secondary",
   "metadata": {},
   "outputs": [],
   "source": [
    "total_df = vac_df * vac_frac + cyt_df * (1 - vac_frac)"
   ]
  },
  {
   "cell_type": "code",
   "execution_count": 17,
   "id": "entertaining-seller",
   "metadata": {},
   "outputs": [
    {
     "data": {
      "text/plain": [
       "<Axes: xlabel='Time /hr', ylabel='Total osmolytes'>"
      ]
     },
     "execution_count": 17,
     "metadata": {},
     "output_type": "execute_result"
    },
    {
     "data": {
      "image/png": "[encoded data removed]",
      "text/plain": [
       "<Figure size 640x480 with 1 Axes>"
      ]
     },
     "metadata": {},
     "output_type": "display_data"
    }
   ],
   "source": [
    "total_df[onguard_df.index < 1].sum(axis=1).plot(ylabel=\"Total osmolytes\")"
   ]
  },
  {
   "cell_type": "markdown",
   "id": "applied-wellington",
   "metadata": {},
   "source": [
    "Our osmolarities go from 178mM to 215mM for the same aperture range, so there's something not quite right somewhere maybe..."
   ]
  },
  {
   "cell_type": "markdown",
   "id": "great-confidentiality",
   "metadata": {},
   "source": [
    "### H$^+$-ATPase flux"
   ]
  },
  {
   "cell_type": "markdown",
   "id": "jewish-offering",
   "metadata": {},
   "source": [
    "Now, let's see what the H+-ATPase flux is doing:"
   ]
  },
  {
   "cell_type": "code",
   "execution_count": 18,
   "id": "distributed-assembly",
   "metadata": {},
   "outputs": [
    {
     "data": {
      "text/plain": [
       "<Axes: xlabel='Time /hr'>"
      ]
     },
     "execution_count": 18,
     "metadata": {},
     "output_type": "execute_result"
    },
    {
     "data": {
      "image/png": "[encoded data removed]",
      "text/plain": [
       "<Figure size 640x480 with 1 Axes>"
      ]
     },
     "metadata": {},
     "output_type": "display_data"
    }
   ],
   "source": [
    "# get the flux of the H+-ATPase in units of fmoles/h\n",
    "atpase_h = onguard_df[\"HATP[H]\"] * 3600\n",
    "atpase_h.plot()"
   ]
  },
  {
   "cell_type": "markdown",
   "id": "powered-bulletin",
   "metadata": {},
   "source": [
    "The flux through the H+-ATPASe increases over the first hour or so, but we are only interested in the first half an hour ish:"
   ]
  },
  {
   "cell_type": "code",
   "execution_count": 19,
   "id": "further-defeat",
   "metadata": {},
   "outputs": [],
   "source": [
    "from scipy import stats\n",
    "\n",
    "linreg = stats.linregress(x=onguard_df[onguard_df.index < 0.5].index, y=atpase_h[onguard_df.index < 0.5])"
   ]
  },
  {
   "cell_type": "code",
   "execution_count": 20,
   "id": "hybrid-joshua",
   "metadata": {},
   "outputs": [
    {
     "data": {
      "text/plain": [
       "Text(0, 0.5, 'H+-ATPase flux (fmol/h)')"
      ]
     },
     "execution_count": 20,
     "metadata": {},
     "output_type": "execute_result"
    },
    {
     "data": {
      "image/png": "[encoded data removed]",
      "text/plain": [
       "<Figure size 640x480 with 1 Axes>"
      ]
     },
     "metadata": {},
     "output_type": "display_data"
    }
   ],
   "source": [
    "plt.plot(onguard_df[onguard_df.index < 1].index, atpase_h[onguard_df.index < 1])\n",
    "plt.plot(onguard_df[onguard_df.index < 0.5].index,\n",
    "         (onguard_df[onguard_df.index < 0.5].index) * linreg.slope + linreg.intercept)\n",
    "plt.ylabel(\"H+-ATPase flux (fmol/h)\")"
   ]
  },
  {
   "cell_type": "markdown",
   "id": "2283a3d8-5f1d-46e8-8db2-76a40f0a867d",
   "metadata": {},
   "source": [
    "As the increase in flux through the H+-ATPase looks pretty linear from 0 to 0.5 hours, we can take the average over this time period and use it as our constraint"
   ]
  },
  {
   "cell_type": "code",
   "execution_count": 21,
   "id": "subject-blond",
   "metadata": {},
   "outputs": [
    {
     "data": {
      "text/plain": [
       "7.499933868292683"
      ]
     },
     "execution_count": 21,
     "metadata": {},
     "output_type": "execute_result"
    }
   ],
   "source": [
    "atpase_h[onguard_df.index < 0.5].mean()"
   ]
  },
  {
   "cell_type": "markdown",
   "id": "b955c2d9-e861-4f48-8a7a-ef227d48c752",
   "metadata": {},
   "source": [
    "## Conclusions"
   ]
  },
  {
   "cell_type": "markdown",
   "id": "2e9c610f-7c40-4dcb-bed7-231fb08539ac",
   "metadata": {},
   "source": [
    "So even though the Flutsch value is higher (17 fmoles/h), it looks like this value from the OnGuard model might be a good value to use as our constraint, as it will about half the H+-ATPase rate for us (7.5 fmoles/h vs 13.9 fmoles/h)."
   ]
  }
 ],
 "metadata": {
  "kernelspec": {
   "display_name": "Python 3 (ipykernel)",
   "language": "python",
   "name": "python3"
  },
  "language_info": {
   "codemirror_mode": {
    "name": "ipython",
    "version": 3
   },
   "file_extension": ".py",
   "mimetype": "text/x-python",
   "name": "python",
   "nbconvert_exporter": "python",
   "pygments_lexer": "ipython3",
   "version": "3.9.18"
  }
 },
 "nbformat": 4,
 "nbformat_minor": 5
}
