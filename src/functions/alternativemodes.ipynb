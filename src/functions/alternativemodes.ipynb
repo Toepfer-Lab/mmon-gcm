{
 "cells": [
  {
   "cell_type": "raw",
   "id": "4a6d2a06",
   "metadata": {},
   "source": [
    "---\n",
    "output-file: alternativemodes.html\n",
    "title: alternativemodes\n",
    "\n",
    "---\n",
    "\n"
   ]
  },
  {
   "cell_type": "code",
   "execution_count": null,
   "id": "c9cc8c7f-a552-46f2-8484-c2f07ed20d9d",
   "metadata": {},
   "outputs": [],
   "source": [
    "#| default_exp alternativemodes"
   ]
  },
  {
   "cell_type": "code",
   "execution_count": null,
   "id": "084eecff-0c62-4bc1-8dad-69e9f8a763e9",
   "metadata": {},
   "outputs": [],
   "source": [
    "#| export\n",
    "from mmon_gcm.solving import pfba_Weighted"
   ]
  },
  {
   "cell_type": "code",
   "execution_count": null,
   "id": "60cd0810-d75c-4619-81aa-0c41208578f2",
   "metadata": {},
   "outputs": [],
   "source": [
    "#| export\n",
    "\n",
    "\n",
    "def get_real_reaction_ids(model):\n",
    "    \"\"\"\n",
    "    This function takes a COBRApy model object and returns a list of\n",
    "    reaction ids without phase tags that are considered to be 'real',\n",
    "    excluding reactions that combine others, constraint pseudoreactions,\n",
    "    boundary reactions.\n",
    "    \"\"\"\n",
    "    reactions_to_weight = []\n",
    "    for reaction in model.reactions:\n",
    "        if (\n",
    "            not (\n",
    "                \"constraint\" in reaction.id\n",
    "                or \"overall\" in reaction.id\n",
    "                or \"sum\" in reaction.id\n",
    "                or reaction.id[:2] == \"EX\"\n",
    "            )\n",
    "            and reaction.id[-1:] == \"1\"\n",
    "        ):  # take reaction id without phase information\n",
    "            reactions_to_weight.append(reaction.id[:-2])\n",
    "    return reactions_to_weight"
   ]
  },
  {
   "cell_type": "code",
   "execution_count": null,
   "id": "7febb6d2-65ed-4096-806a-1baebb53eaf6",
   "metadata": {},
   "outputs": [],
   "source": [
    "#| export\n",
    "\n",
    "\n",
    "def solve_model_with_weightings(weightings, model, temp_results_path):\n",
    "    print(f\"Solving solution {weightings.name}\")\n",
    "\n",
    "    weightings_dict = dict(weightings)\n",
    "    model, solution = pfba_Weighted(\n",
    "        model, weightings=weightings_dict, objective=\"Phloem_tx_overall\"\n",
    "    )\n",
    "\n",
    "    if temp_results_path != None:\n",
    "        temp_solution_path = temp_results_path / (str(weightings.name) + \".csv\")\n",
    "        print(temp_solution_path)\n",
    "        solution.fluxes.to_csv(temp_solution_path)\n",
    "\n",
    "    return solution.fluxes"
   ]
  }
 ],
 "metadata": {
  "kernelspec": {
   "display_name": "mmon-gcm",
   "language": "python",
   "name": "mmon-gcm"
  },
  "language_info": {
   "codemirror_mode": {
    "name": "ipython",
    "version": 3
   },
   "file_extension": ".py",
   "mimetype": "text/x-python",
   "name": "python",
   "nbconvert_exporter": "python",
   "pygments_lexer": "ipython3",
   "version": "3.9.17"
  }
 },
 "nbformat": 4,
 "nbformat_minor": 5
}
