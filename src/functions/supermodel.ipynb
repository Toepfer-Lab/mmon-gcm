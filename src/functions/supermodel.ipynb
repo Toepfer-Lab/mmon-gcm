{
 "cells": [
  {
   "cell_type": "raw",
   "id": "1cb9835d",
   "metadata": {},
   "source": [
    "---\n",
    "description: This module contains the code for creating a supermodel class, which\n",
    "  is a class that includes the parameters that are used for constraining the FBA model\n",
    "output-file: supermodel.html\n",
    "title: supermodel\n",
    "\n",
    "---\n",
    "\n"
   ]
  },
  {
   "cell_type": "code",
   "execution_count": null,
   "id": "norman-receptor",
   "metadata": {},
   "outputs": [],
   "source": [
    "#| default_exp supermodel"
   ]
  },
  {
   "cell_type": "code",
   "execution_count": null,
   "id": "joint-committee",
   "metadata": {},
   "outputs": [],
   "source": [
    "#| include: false\n",
    "from nbdev.showdoc import *\n",
    "\n",
    "%load_ext autoreload\n",
    "%autoreload 2"
   ]
  },
  {
   "cell_type": "code",
   "execution_count": null,
   "id": "terminal-budget",
   "metadata": {},
   "outputs": [],
   "source": [
    "#| export\n",
    "import math\n",
    "import warnings\n",
    "\n",
    "import numpy as np\n",
    "from mmon_gcm.buildingediting import check_number_of_models"
   ]
  },
  {
   "cell_type": "markdown",
   "id": "359c87f0-f0d8-44a7-90f1-4ba0be91b9d8",
   "metadata": {},
   "source": [
    "From Hills et al. (2012):\n",
    "> $ VT = \\frac{\\sqrt{(C_{apo} + q/RT)^2 + 4pQT/RT} - C_{apo} - q/RT}{2p/RT} $ (16)\n",
    "\n",
    "where:\n",
    "\n",
    "$VT$ is the total volume of the guard cell\n",
    "\n",
    "$C_{apo}$ is the sum of osmolarity in the apoplast.\n",
    "\n",
    "$ q = n - m \\cdot s / r $\n",
    "\n",
    "where n, m, s and r are empirical parameters\n",
    "\n",
    "$R$ is the ideal gas constant\n",
    "\n",
    "$T$ is temperature\n",
    "\n",
    "$ p = m/r $\n",
    "\n",
    "QT is total osmolarity of the guard cell"
   ]
  },
  {
   "cell_type": "markdown",
   "id": "27588fc3-06ee-4209-99ca-73ec7facfeac",
   "metadata": {},
   "source": [
    "They also provide a relationship between volume and aperture:\n",
    "\n",
    "$ A_s = (VT - s)/r $ (17)"
   ]
  },
  {
   "cell_type": "markdown",
   "id": "9f72c8fd-e973-4c71-9d5b-9e3b2f9a8cb4",
   "metadata": {},
   "source": [
    "As we want a way to calculate total osmolarity from aperture we can rearrange (and just say VT is V and QT is Q) to get:\n",
    "\n",
    "$ V = A_s \\cdot r + s $\n",
    "\n",
    "and:\n",
    "\n",
    "$ Q = \\frac{RT}{4p} \\cdot \\left(\\left(\\frac{2\\cdot V\\cdot p}{RT} + C_{apo} + \\frac{q}{RT}\\right)^2 - \\left(C_{apo} + \\frac{q}{RT}\\right)^2\\right) $"
   ]
  },
  {
   "cell_type": "code",
   "execution_count": null,
   "id": "contemporary-subscriber",
   "metadata": {},
   "outputs": [],
   "source": [
    "#| export\n",
    "\n",
    "\n",
    "class SuperModel:\n",
    "    \"\"\"The supermodel class is a class that includes the FBA model object as well as all the parameters used to constrain it. It provides methods to constrain the FBA model\"\"\"\n",
    "\n",
    "    def __init__(self, parameters, fba_model=None):\n",
    "        \"\"\"Initialise the supermodel using the FBA model and adding the parameters from parameters as attributes\"\"\"\n",
    "\n",
    "        if fba_model != None:\n",
    "            self.fba_model = fba_model.copy()\n",
    "        else:\n",
    "            warnings.warn(\"No fba model added to the Supermodel, fine if that's what you want\")\n",
    "\n",
    "        for parameter, value in parameters.items():\n",
    "            self.__setattr__(parameter, value)\n",
    "\n",
    "        self.apertures = [\n",
    "            self.A_closed,\n",
    "            self.A_open,\n",
    "            self.A_closed,\n",
    "            self.A_closed,\n",
    "        ]\n",
    "\n",
    "    def get_volumes(self, apertures=\"default\", printouts=False, per_guard_cell=True):\n",
    "        \"\"\"Returns a list containing the volume of the guard cells, in dm$^3$, at each phase, calculated using the OnGuard equation\"\"\"\n",
    "\n",
    "        self.apertures = self.__getattribute__(\"apertures\") if apertures == \"default\" else apertures\n",
    "\n",
    "        # get the volume of an individual guard cell using the relationship between aperture and volume from OnGuard\n",
    "        volumes_individual = [aperture * self.r + self.s for aperture in self.apertures]\n",
    "\n",
    "        # multiply volume of an individual guard cell by the number of guard cells in 1m2 of leaf\n",
    "        volumes_total = [volume_individual * self.N_gcs for volume_individual in volumes_individual]\n",
    "\n",
    "        if per_guard_cell == True:\n",
    "            if printouts == True:\n",
    "                for phase, volume in enumerate(volumes_individual):\n",
    "                    volume_per_cell = volume * 10**12\n",
    "                    print(f\"Volume in phase {phase} is {volume_per_cell}pL\")\n",
    "\n",
    "            return volumes_individual  # dm3\n",
    "\n",
    "        else:\n",
    "            if printouts == True:\n",
    "                for phase, volume in enumerate(volumes_total):\n",
    "                    print(f\"Volume in phase {phase} is {volume}\" r\"dm3\")\n",
    "\n",
    "            return np.array(volumes_total)  # dm3\n",
    "\n",
    "    def get_osmolarities(self, apertures=\"default\", equation=\"onguard\", printouts=False):\n",
    "        \"\"\"Calculates the osmolarities at each phase of the model using the equation\n",
    "        specified, default is onguard. Adds these as an attribute to the SuperModel\"\"\"\n",
    "\n",
    "        self.apertures = self.__getattribute__(\"apertures\") if apertures == \"default\" else apertures\n",
    "\n",
    "        q = self.n - self.m * self.s / self.r  # atm\n",
    "        p = self.m / self.r  # atm/dm3\n",
    "\n",
    "        if equation == \"onguard\":\n",
    "            osmolarities = [\n",
    "                (\n",
    "                    (\n",
    "                        ((2.0 * (aperture * self.r + self.s) * p) / (self.R * self.T))\n",
    "                        + self.C_apo\n",
    "                        + (q / (self.R * self.T))\n",
    "                    )\n",
    "                    ** 2.0\n",
    "                    - (self.C_apo + (q / (self.R * self.T))) ** 2.0\n",
    "                )\n",
    "                / ((4.0 * p) / (self.R * self.T))\n",
    "                for aperture in self.apertures\n",
    "            ]\n",
    "            osmolarities = [\n",
    "                osmolarity * self.N_gcs * 10**3 for osmolarity in osmolarities\n",
    "            ]  # make total os and convert to mM\n",
    "\n",
    "        elif equation == \"macrobbie\":\n",
    "            osmolarities = [\n",
    "                (\n",
    "                    (((2.5 * math.exp(0.16 * aperture)) * ((aperture * self.r + self.s) * self.N_gcs)) / (0.082 * 293))\n",
    "                    * 10**3\n",
    "                )\n",
    "                for aperture in self.apertures\n",
    "            ]\n",
    "\n",
    "        elif equation == \"userset\":\n",
    "            osmolarities = osmolarities\n",
    "\n",
    "        else:\n",
    "            raise ValueError(equation)\n",
    "\n",
    "        if printouts == True:\n",
    "            print(f\"Raw osmolarities: {osmolarities}\")\n",
    "            osmolarites_mM = np.array(osmolarities) / np.array(self.get_volumes(self.apertures, per_guard_cell=False))\n",
    "            print(f\"Osmolarities in mM: {osmolarites_mM}\")\n",
    "            osmolarity_change = osmolarites_mM[1] - osmolarites_mM[0]\n",
    "            print(f\"Change in osmolarity: {osmolarity_change}mM\")\n",
    "\n",
    "        return osmolarities  # mmoles.m-2\n",
    "\n",
    "    def constrain_osmolarity(\n",
    "        self,\n",
    "        apertures=\"default\",\n",
    "        printouts=False,\n",
    "        osequation=\"onguard\",\n",
    "    ):\n",
    "        \"\"\"This method constrains the fba_model of the supermodel using\n",
    "        osmolarities calculated using `SuperModel.get_osmolarities`\"\"\"\n",
    "\n",
    "        self.apertures = self.__getattribute__(\"apertures\") if apertures == \"default\" else apertures\n",
    "\n",
    "        osmolarities = self.get_osmolarities(self.apertures, equation=osequation, printouts=printouts)\n",
    "\n",
    "        compartments_volumes_dict = {\"c\": 1 - self.Vac_frac, \"v\": self.Vac_frac}\n",
    "\n",
    "        for compartment, fraction in compartments_volumes_dict.items():\n",
    "            compartment_osmolarity = np.array(osmolarities) * fraction\n",
    "\n",
    "            constraints = [\n",
    "                self.fba_model.problem.Constraint(\n",
    "                    self.fba_model.reactions.get_by_id(\n",
    "                        f\"pseudoOs_constraint_{compartment}_gc_\" + str(phase + 1)\n",
    "                    ).flux_expression\n",
    "                    - osmolarity,\n",
    "                    lb=0,\n",
    "                    ub=0,\n",
    "                )\n",
    "                for phase, osmolarity in enumerate(compartment_osmolarity)\n",
    "            ]\n",
    "\n",
    "            for constraint in constraints:\n",
    "                self.fba_model.add_cons_vars(constraint)\n",
    "\n",
    "            if printouts:\n",
    "                print(f\"{compartment} osmolarities constrained to {compartment_osmolarity}\")\n",
    "\n",
    "        return self\n",
    "\n",
    "    def get_prop_gc(self, printouts=False):\n",
    "        \"\"\"This method returns the proportion of the volume of the leaf that is guard cells\"\"\"\n",
    "\n",
    "        V_l = self.T_l * self.A_l  # volume of leaf is area x thickness\n",
    "        V_l = V_l * 10**3  # (Total leaf volume) m3 -> dm3 = 10**3\n",
    "\n",
    "        V_gc = self.V_gc_ind * self.N_gcs  # total volume of gc in leaf\n",
    "\n",
    "        # volume of meosphyll is leaf that isn't epidermis or air\n",
    "        V_me = V_l * (1 - self.L_epidermis) * (1 - self.L_air)\n",
    "\n",
    "        v_prop_gc = V_gc / V_me  # volume of gc is negligable\n",
    "\n",
    "        if printouts == True:\n",
    "            print(f\"Total leaf volume: {V_l}dm3\")\n",
    "            gc_volume_rounded = round(V_gc, 4)\n",
    "            print(f\"Guard cell volume in 1m2 leaf: {gc_volume_rounded}dm3\")\n",
    "            me_volume_rounded = round(V_me, 3)\n",
    "            print(f\"Mesophyll cell volume in 1m2 leaf: {me_volume_rounded}dm3\")\n",
    "            v_prop_gc_rounded = round(v_prop_gc, 4)\n",
    "            print(f\"Proportion of the leaf that is gc: {v_prop_gc_rounded}\")\n",
    "\n",
    "        return v_prop_gc\n",
    "\n",
    "    def get_photons(self, PPFD, printouts=False):\n",
    "        \"\"\"This method constrains photon influx into the model in accordance with\n",
    "        the equation outlined in the documentation\"\"\"\n",
    "\n",
    "        P = PPFD * self.P_abs\n",
    "        P = P * 10**-3 * 60 * 60  # umolessec-1 -> mmoleshr-1\n",
    "\n",
    "        e = self.FqFm * self.R_ch * self.R_ch_vol # added ratio of chloroplast volumes GC:MC\n",
    "\n",
    "        v_prop_gc = self.get_prop_gc(printouts=printouts)\n",
    "\n",
    "        P_gc = e * v_prop_gc * P\n",
    "\n",
    "        P_me = P - P_gc\n",
    "\n",
    "        if printouts == True:\n",
    "            print(f\"PPFD {PPFD}umolphotonsm-2\")\n",
    "            P_influx_rounded = round(P, 3)\n",
    "            print(f\"Photon influx into leaf: {P_influx_rounded} mmolphotonsm-2hr-1\")\n",
    "            e_rounded = round(e, 3)\n",
    "            print(f\"e = {e_rounded}\")\n",
    "            P_gc_rounded = round(P_gc, 3)\n",
    "            print(f\"Photon influx into Guard cells: {P_gc_rounded}mmolphotonsm-2hr-1\")\n",
    "            P_me_rounded = round(P_me, 3)\n",
    "            print(f\"Photon influx into mesophyll cells: {P_me_rounded}mmolphotonsm-2hr-1\")\n",
    "\n",
    "        return P_gc, P_me\n",
    "\n",
    "    def constrain_photons(self, PPFD, printouts=False):\n",
    "        \"\"\"This method constrains the fba_model of the supermodel using\n",
    "        osmolarities calculated using `SuperModel.get_osmolarities`\"\"\"\n",
    "\n",
    "        P_gc, P_me = self.get_photons(PPFD=PPFD, printouts=printouts)\n",
    "\n",
    "        for i, p in enumerate([0, P_gc, P_gc, 0], start=1):\n",
    "            self.fba_model.reactions.get_by_id(\"Photon_tx_gc_\" + str(i)).bounds = 0, p\n",
    "\n",
    "        for i, p in enumerate([0, P_me, P_me, 0], start=1):\n",
    "            self.fba_model.reactions.get_by_id(\"Photon_tx_me_\" + str(i)).bounds = 0, p\n",
    "\n",
    "        return self\n",
    "\n",
    "    def add_maintenance(self, me=True, gc=True, gc_scaling=1, \n",
    "                        printouts=False, gc_ratio=4.427086760474383e-05): #gc_ratio from 2.0_compute_maintenance\n",
    "        \"\"\"\n",
    "        This function constrains the maintenance reactions in the model\n",
    "        relative to the input of photons into the model.\n",
    "        Maintenance value based on Toepfer et al., (2020)\n",
    "        \"\"\"\n",
    "\n",
    "        model = self.fba_model\n",
    "        prop_gc = gc_ratio\n",
    "        \n",
    "        # Maintenance in the dark - convert unit to mmol/m^2/h\n",
    "        dark_maintenance = 2.7851 * 10**-3 * 60 * 60  # umolessec-1 -> mmoleshr-1\n",
    "\n",
    "        for i in range(1, check_number_of_models(model) + 1):\n",
    "            if me == True:\n",
    "                me_maintenance = model.problem.Constraint(\n",
    "                    (\n",
    "                        model.reactions.get_by_id(\"ATPase_tx_me_\" + str(i)).flux_expression\n",
    "                        - (model.reactions.get_by_id(\"Photon_tx_me_\" + str(i)).flux_expression\n",
    "                        * 0.0049 + (dark_maintenance * (1 - prop_gc)))\n",
    "\n",
    "                    ),\n",
    "                    lb=0,\n",
    "                    ub=0,\n",
    "                )\n",
    "                model.add_cons_vars(me_maintenance)\n",
    "\n",
    "            if gc == True:\n",
    "                gc_maintenance = model.problem.Constraint(\n",
    "                    (\n",
    "                       model.reactions.get_by_id(\"ATPase_tx_gc_\" + str(i)).flux_expression\n",
    "                        - (\n",
    "                            (model.reactions.get_by_id(\"Photon_tx_gc_\" + str(i)).flux_expression\n",
    "                             * 0.0049 + (dark_maintenance * prop_gc))\n",
    "                            * gc_scaling\n",
    "                        )\n",
    "                    ),\n",
    "                    lb=0,\n",
    "                    ub=0,\n",
    "                )\n",
    "                model.add_cons_vars(gc_maintenance)\n",
    "\n",
    "        return self\n",
    "\n",
    "    def get_atpase_constraint_value(self, flux_fmoles):\n",
    "        \"\"\"\n",
    "        This method takes the flux in fmoles/h per guard cell for the H+-ATPase and returns the flux in mmoles/h/m2 that this corresponds to for the supermodel\n",
    "        \"\"\"\n",
    "\n",
    "        flux_per_gc_moles = flux_fmoles / (10**15)\n",
    "        atpase_flux = flux_per_gc_moles / (10**-3) * self.N_gcs\n",
    "\n",
    "        return atpase_flux"
   ]
  },
  {
   "cell_type": "code",
   "execution_count": null,
   "id": "higher-friday",
   "metadata": {},
   "outputs": [
    {
     "data": {
      "text/markdown": [
       "---\n",
       "\n",
       "### SuperModel\n",
       "\n",
       ">      SuperModel (parameters, fba_model=None)\n",
       "\n",
       "The supermodel class is a class that includes the FBA model object as well as all the parameters used to constrain it. It provides methods to constrain the FBA model"
      ],
      "text/plain": [
       "---\n",
       "\n",
       "### SuperModel\n",
       "\n",
       ">      SuperModel (parameters, fba_model=None)\n",
       "\n",
       "The supermodel class is a class that includes the FBA model object as well as all the parameters used to constrain it. It provides methods to constrain the FBA model"
      ]
     },
     "execution_count": null,
     "metadata": {},
     "output_type": "execute_result"
    }
   ],
   "source": [
    "show_doc(SuperModel)"
   ]
  },
  {
   "cell_type": "code",
   "execution_count": null,
   "id": "velvet-sustainability",
   "metadata": {},
   "outputs": [
    {
     "data": {
      "text/markdown": [
       "---\n",
       "\n",
       "### SuperModel.get_volumes\n",
       "\n",
       ">      SuperModel.get_volumes (apertures='default', printouts=False,\n",
       ">                              per_guard_cell=True)\n",
       "\n",
       "Returns a list containing the volume of the guard cells, in dm$^3$, at each phase, calculated using the OnGuard equation"
      ],
      "text/plain": [
       "---\n",
       "\n",
       "### SuperModel.get_volumes\n",
       "\n",
       ">      SuperModel.get_volumes (apertures='default', printouts=False,\n",
       ">                              per_guard_cell=True)\n",
       "\n",
       "Returns a list containing the volume of the guard cells, in dm$^3$, at each phase, calculated using the OnGuard equation"
      ]
     },
     "execution_count": null,
     "metadata": {},
     "output_type": "execute_result"
    }
   ],
   "source": [
    "show_doc(SuperModel.get_volumes)"
   ]
  },
  {
   "cell_type": "markdown",
   "id": "soviet-research",
   "metadata": {},
   "source": [
    "Here the default is for `per_guard_cell` to be True, meaning that the list that is returned is a volume per individual cell, however setting this to false will return the colume of guard cell within the 1m$^2$ of leaf being simulated."
   ]
  },
  {
   "cell_type": "code",
   "execution_count": null,
   "id": "moderate-gossip",
   "metadata": {},
   "outputs": [
    {
     "data": {
      "text/markdown": [
       "---\n",
       "\n",
       "### SuperModel.get_osmolarities\n",
       "\n",
       ">      SuperModel.get_osmolarities (apertures='default', equation='onguard',\n",
       ">                                   printouts=False)\n",
       "\n",
       "Calculates the osmolarities at each phase of the model using the equation\n",
       "specified, default is onguard. Adds these as an attribute to the SuperModel"
      ],
      "text/plain": [
       "---\n",
       "\n",
       "### SuperModel.get_osmolarities\n",
       "\n",
       ">      SuperModel.get_osmolarities (apertures='default', equation='onguard',\n",
       ">                                   printouts=False)\n",
       "\n",
       "Calculates the osmolarities at each phase of the model using the equation\n",
       "specified, default is onguard. Adds these as an attribute to the SuperModel"
      ]
     },
     "execution_count": null,
     "metadata": {},
     "output_type": "execute_result"
    }
   ],
   "source": [
    "show_doc(SuperModel.get_osmolarities)"
   ]
  },
  {
   "cell_type": "code",
   "execution_count": null,
   "id": "assured-material",
   "metadata": {},
   "outputs": [
    {
     "data": {
      "text/markdown": [
       "---\n",
       "\n",
       "### SuperModel.constrain_osmolarity\n",
       "\n",
       ">      SuperModel.constrain_osmolarity (apertures='default', printouts=False,\n",
       ">                                       osequation='onguard')\n",
       "\n",
       "This method constrains the fba_model of the supermodel using\n",
       "osmolarities calculated using `SuperModel.get_osmolarities`"
      ],
      "text/plain": [
       "---\n",
       "\n",
       "### SuperModel.constrain_osmolarity\n",
       "\n",
       ">      SuperModel.constrain_osmolarity (apertures='default', printouts=False,\n",
       ">                                       osequation='onguard')\n",
       "\n",
       "This method constrains the fba_model of the supermodel using\n",
       "osmolarities calculated using `SuperModel.get_osmolarities`"
      ]
     },
     "execution_count": null,
     "metadata": {},
     "output_type": "execute_result"
    }
   ],
   "source": [
    "show_doc(SuperModel.constrain_osmolarity)"
   ]
  },
  {
   "cell_type": "code",
   "execution_count": null,
   "id": "annual-liechtenstein",
   "metadata": {},
   "outputs": [
    {
     "data": {
      "text/markdown": [
       "---\n",
       "\n",
       "### SuperModel.get_prop_gc\n",
       "\n",
       ">      SuperModel.get_prop_gc (printouts=False)\n",
       "\n",
       "This method returns the proportion of the volume of the leaf that is guard cells"
      ],
      "text/plain": [
       "---\n",
       "\n",
       "### SuperModel.get_prop_gc\n",
       "\n",
       ">      SuperModel.get_prop_gc (printouts=False)\n",
       "\n",
       "This method returns the proportion of the volume of the leaf that is guard cells"
      ]
     },
     "execution_count": null,
     "metadata": {},
     "output_type": "execute_result"
    }
   ],
   "source": [
    "show_doc(SuperModel.get_prop_gc)"
   ]
  },
  {
   "cell_type": "code",
   "execution_count": null,
   "id": "classical-attitude",
   "metadata": {},
   "outputs": [
    {
     "data": {
      "text/markdown": [
       "---\n",
       "\n",
       "### SuperModel.get_photons\n",
       "\n",
       ">      SuperModel.get_photons (PPFD, printouts=False)\n",
       "\n",
       "This method constrains photon influx into the model in accordance with\n",
       "the equation outlined in the documentation"
      ],
      "text/plain": [
       "---\n",
       "\n",
       "### SuperModel.get_photons\n",
       "\n",
       ">      SuperModel.get_photons (PPFD, printouts=False)\n",
       "\n",
       "This method constrains photon influx into the model in accordance with\n",
       "the equation outlined in the documentation"
      ]
     },
     "execution_count": null,
     "metadata": {},
     "output_type": "execute_result"
    }
   ],
   "source": [
    "show_doc(SuperModel.get_photons)"
   ]
  },
  {
   "cell_type": "code",
   "execution_count": null,
   "id": "possible-words",
   "metadata": {},
   "outputs": [
    {
     "data": {
      "text/markdown": [
       "---\n",
       "\n",
       "### SuperModel.constrain_photons\n",
       "\n",
       ">      SuperModel.constrain_photons (PPFD, printouts=False)\n",
       "\n",
       "This method constrains the fba_model of the supermodel using\n",
       "osmolarities calculated using `SuperModel.get_osmolarities`"
      ],
      "text/plain": [
       "---\n",
       "\n",
       "### SuperModel.constrain_photons\n",
       "\n",
       ">      SuperModel.constrain_photons (PPFD, printouts=False)\n",
       "\n",
       "This method constrains the fba_model of the supermodel using\n",
       "osmolarities calculated using `SuperModel.get_osmolarities`"
      ]
     },
     "execution_count": null,
     "metadata": {},
     "output_type": "execute_result"
    }
   ],
   "source": [
    "show_doc(SuperModel.constrain_photons)"
   ]
  },
  {
   "cell_type": "code",
   "execution_count": null,
   "id": "allied-venezuela",
   "metadata": {},
   "outputs": [
    {
     "data": {
      "text/markdown": [
       "---\n",
       "\n",
       "### SuperModel.add_maintenance\n",
       "\n",
       ">      SuperModel.add_maintenance (me=True, gc=False, gc_scaling=1,\n",
       ">                                  printouts=False)\n",
       "\n",
       "This function constrains the maintenance reactions in the model\n",
       "relative to the input of photons into the model.\n",
       "\n",
       "|    | **Type** | **Default** | **Details** |\n",
       "| -- | -------- | ----------- | ----------- |\n",
       "| me | bool | True |  |\n",
       "| gc | bool | False |  |\n",
       "| gc_scaling | int | 1 |  |\n",
       "| printouts | bool | False | default gc_scaling was 0.3 |"
      ],
      "text/plain": [
       "---\n",
       "\n",
       "### SuperModel.add_maintenance\n",
       "\n",
       ">      SuperModel.add_maintenance (me=True, gc=False, gc_scaling=1,\n",
       ">                                  printouts=False)\n",
       "\n",
       "This function constrains the maintenance reactions in the model\n",
       "relative to the input of photons into the model.\n",
       "\n",
       "|    | **Type** | **Default** | **Details** |\n",
       "| -- | -------- | ----------- | ----------- |\n",
       "| me | bool | True |  |\n",
       "| gc | bool | False |  |\n",
       "| gc_scaling | int | 1 |  |\n",
       "| printouts | bool | False | default gc_scaling was 0.3 |"
      ]
     },
     "execution_count": null,
     "metadata": {},
     "output_type": "execute_result"
    }
   ],
   "source": [
    "show_doc(SuperModel.add_maintenance)"
   ]
  }
 ],
 "metadata": {
  "kernelspec": {
   "display_name": "python3",
   "language": "python",
   "name": "python3"
  }
 },
 "nbformat": 4,
 "nbformat_minor": 5
}
