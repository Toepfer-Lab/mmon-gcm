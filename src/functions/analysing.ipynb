{
 "cells": [
  {
   "cell_type": "raw",
   "id": "a11d52ed",
   "metadata": {},
   "source": [
    "---\n",
    "output-file: analysing.html\n",
    "title: Analysing\n",
    "---"
   ]
  },
  {
   "cell_type": "code",
   "execution_count": null,
   "id": "678143df-421c-43cd-800b-62352fb17f30",
   "metadata": {},
   "outputs": [],
   "source": [
    "#| default_exp analysing"
   ]
  },
  {
   "cell_type": "code",
   "execution_count": null,
   "id": "66a9fa36-0e76-4bdd-9d12-96472132b6d2",
   "metadata": {},
   "outputs": [
    {
     "ename": "ImportError",
     "evalue": "cannot import name 'soft_unicode' from 'markupsafe' (/home/nls119/lib/miniconda3/envs/mmon-gcm/lib/python3.10/site-packages/markupsafe/__init__.py)",
     "output_type": "error",
     "traceback": [
      "\u001b[0;31m---------------------------------------------------------------------------\u001b[0m",
      "\u001b[0;31mImportError\u001b[0m                               Traceback (most recent call last)",
      "Cell \u001b[0;32mIn[2], line 4\u001b[0m\n\u001b[1;32m      1\u001b[0m \u001b[38;5;66;03m#| export\u001b[39;00m\n\u001b[1;32m      3\u001b[0m \u001b[38;5;28;01mimport\u001b[39;00m \u001b[38;5;21;01mjson\u001b[39;00m\n\u001b[0;32m----> 4\u001b[0m \u001b[38;5;28;01mimport\u001b[39;00m \u001b[38;5;21;01mescher\u001b[39;00m\n\u001b[1;32m      5\u001b[0m \u001b[38;5;28;01mimport\u001b[39;00m \u001b[38;5;21;01mnumpy\u001b[39;00m \u001b[38;5;28;01mas\u001b[39;00m \u001b[38;5;21;01mnp\u001b[39;00m\n\u001b[1;32m      6\u001b[0m \u001b[38;5;28;01mimport\u001b[39;00m \u001b[38;5;21;01mpandas\u001b[39;00m \u001b[38;5;28;01mas\u001b[39;00m \u001b[38;5;21;01mpd\u001b[39;00m\n",
      "File \u001b[0;32m~/lib/miniconda3/envs/mmon-gcm/lib/python3.10/site-packages/escher/__init__.py:11\u001b[0m\n\u001b[1;32m      2\u001b[0m rc \u001b[38;5;241m=\u001b[39m {}\n\u001b[1;32m      5\u001b[0m \u001b[38;5;28;01mfrom\u001b[39;00m \u001b[38;5;21;01mescher\u001b[39;00m\u001b[38;5;21;01m.\u001b[39;00m\u001b[38;5;21;01mversion\u001b[39;00m \u001b[38;5;28;01mimport\u001b[39;00m (\n\u001b[1;32m      6\u001b[0m     __version__,\n\u001b[1;32m      7\u001b[0m     __schema_version__,\n\u001b[1;32m      8\u001b[0m     __map_model_version__,\n\u001b[1;32m      9\u001b[0m )\n\u001b[0;32m---> 11\u001b[0m \u001b[38;5;28;01mfrom\u001b[39;00m \u001b[38;5;21;01mescher\u001b[39;00m\u001b[38;5;21;01m.\u001b[39;00m\u001b[38;5;21;01mplots\u001b[39;00m \u001b[38;5;28;01mimport\u001b[39;00m (\n\u001b[1;32m     12\u001b[0m     Builder,\n\u001b[1;32m     13\u001b[0m     list_available_maps,\n\u001b[1;32m     14\u001b[0m     list_available_models,\n\u001b[1;32m     15\u001b[0m )\n\u001b[1;32m     18\u001b[0m \u001b[38;5;28;01mdef\u001b[39;00m \u001b[38;5;21m_jupyter_nbextension_paths\u001b[39m():\n\u001b[1;32m     19\u001b[0m     \u001b[38;5;28;01mreturn\u001b[39;00m [{\n\u001b[1;32m     20\u001b[0m         \u001b[38;5;124m'\u001b[39m\u001b[38;5;124msection\u001b[39m\u001b[38;5;124m'\u001b[39m: \u001b[38;5;124m'\u001b[39m\u001b[38;5;124mnotebook\u001b[39m\u001b[38;5;124m'\u001b[39m,\n\u001b[1;32m     21\u001b[0m         \u001b[38;5;124m'\u001b[39m\u001b[38;5;124msrc\u001b[39m\u001b[38;5;124m'\u001b[39m: \u001b[38;5;124m'\u001b[39m\u001b[38;5;124mstatic\u001b[39m\u001b[38;5;124m'\u001b[39m,\n\u001b[1;32m     22\u001b[0m         \u001b[38;5;124m'\u001b[39m\u001b[38;5;124mdest\u001b[39m\u001b[38;5;124m'\u001b[39m: \u001b[38;5;124m'\u001b[39m\u001b[38;5;124mescher\u001b[39m\u001b[38;5;124m'\u001b[39m,\n\u001b[1;32m     23\u001b[0m         \u001b[38;5;124m'\u001b[39m\u001b[38;5;124mrequire\u001b[39m\u001b[38;5;124m'\u001b[39m: \u001b[38;5;124m'\u001b[39m\u001b[38;5;124mescher/extension\u001b[39m\u001b[38;5;124m'\u001b[39m\n\u001b[1;32m     24\u001b[0m     }]\n",
      "File \u001b[0;32m~/lib/miniconda3/envs/mmon-gcm/lib/python3.10/site-packages/escher/plots.py:20\u001b[0m\n\u001b[1;32m     18\u001b[0m \u001b[38;5;28;01mimport\u001b[39;00m \u001b[38;5;21;01mshutil\u001b[39;00m\n\u001b[1;32m     19\u001b[0m \u001b[38;5;28;01mimport\u001b[39;00m \u001b[38;5;21;01mre\u001b[39;00m\n\u001b[0;32m---> 20\u001b[0m \u001b[38;5;28;01mfrom\u001b[39;00m \u001b[38;5;21;01mjinja2\u001b[39;00m \u001b[38;5;28;01mimport\u001b[39;00m Environment, PackageLoader, Template\n\u001b[1;32m     21\u001b[0m \u001b[38;5;28;01mimport\u001b[39;00m \u001b[38;5;21;01mcodecs\u001b[39;00m\n\u001b[1;32m     22\u001b[0m \u001b[38;5;28;01mimport\u001b[39;00m \u001b[38;5;21;01mrandom\u001b[39;00m\n",
      "File \u001b[0;32m~/lib/miniconda3/envs/mmon-gcm/lib/python3.10/site-packages/jinja2/__init__.py:12\u001b[0m\n\u001b[1;32m     10\u001b[0m \u001b[38;5;28;01mfrom\u001b[39;00m \u001b[38;5;21;01m.\u001b[39;00m\u001b[38;5;21;01mbccache\u001b[39;00m \u001b[38;5;28;01mimport\u001b[39;00m FileSystemBytecodeCache\n\u001b[1;32m     11\u001b[0m \u001b[38;5;28;01mfrom\u001b[39;00m \u001b[38;5;21;01m.\u001b[39;00m\u001b[38;5;21;01mbccache\u001b[39;00m \u001b[38;5;28;01mimport\u001b[39;00m MemcachedBytecodeCache\n\u001b[0;32m---> 12\u001b[0m \u001b[38;5;28;01mfrom\u001b[39;00m \u001b[38;5;21;01m.\u001b[39;00m\u001b[38;5;21;01menvironment\u001b[39;00m \u001b[38;5;28;01mimport\u001b[39;00m Environment\n\u001b[1;32m     13\u001b[0m \u001b[38;5;28;01mfrom\u001b[39;00m \u001b[38;5;21;01m.\u001b[39;00m\u001b[38;5;21;01menvironment\u001b[39;00m \u001b[38;5;28;01mimport\u001b[39;00m Template\n\u001b[1;32m     14\u001b[0m \u001b[38;5;28;01mfrom\u001b[39;00m \u001b[38;5;21;01m.\u001b[39;00m\u001b[38;5;21;01mexceptions\u001b[39;00m \u001b[38;5;28;01mimport\u001b[39;00m TemplateAssertionError\n",
      "File \u001b[0;32m~/lib/miniconda3/envs/mmon-gcm/lib/python3.10/site-packages/jinja2/environment.py:25\u001b[0m\n\u001b[1;32m     23\u001b[0m \u001b[38;5;28;01mfrom\u001b[39;00m \u001b[38;5;21;01m.\u001b[39;00m\u001b[38;5;21;01mcompiler\u001b[39;00m \u001b[38;5;28;01mimport\u001b[39;00m CodeGenerator\n\u001b[1;32m     24\u001b[0m \u001b[38;5;28;01mfrom\u001b[39;00m \u001b[38;5;21;01m.\u001b[39;00m\u001b[38;5;21;01mcompiler\u001b[39;00m \u001b[38;5;28;01mimport\u001b[39;00m generate\n\u001b[0;32m---> 25\u001b[0m \u001b[38;5;28;01mfrom\u001b[39;00m \u001b[38;5;21;01m.\u001b[39;00m\u001b[38;5;21;01mdefaults\u001b[39;00m \u001b[38;5;28;01mimport\u001b[39;00m BLOCK_END_STRING\n\u001b[1;32m     26\u001b[0m \u001b[38;5;28;01mfrom\u001b[39;00m \u001b[38;5;21;01m.\u001b[39;00m\u001b[38;5;21;01mdefaults\u001b[39;00m \u001b[38;5;28;01mimport\u001b[39;00m BLOCK_START_STRING\n\u001b[1;32m     27\u001b[0m \u001b[38;5;28;01mfrom\u001b[39;00m \u001b[38;5;21;01m.\u001b[39;00m\u001b[38;5;21;01mdefaults\u001b[39;00m \u001b[38;5;28;01mimport\u001b[39;00m COMMENT_END_STRING\n",
      "File \u001b[0;32m~/lib/miniconda3/envs/mmon-gcm/lib/python3.10/site-packages/jinja2/defaults.py:3\u001b[0m\n\u001b[1;32m      1\u001b[0m \u001b[38;5;66;03m# -*- coding: utf-8 -*-\u001b[39;00m\n\u001b[1;32m      2\u001b[0m \u001b[38;5;28;01mfrom\u001b[39;00m \u001b[38;5;21;01m.\u001b[39;00m\u001b[38;5;21;01m_compat\u001b[39;00m \u001b[38;5;28;01mimport\u001b[39;00m range_type\n\u001b[0;32m----> 3\u001b[0m \u001b[38;5;28;01mfrom\u001b[39;00m \u001b[38;5;21;01m.\u001b[39;00m\u001b[38;5;21;01mfilters\u001b[39;00m \u001b[38;5;28;01mimport\u001b[39;00m FILTERS \u001b[38;5;28;01mas\u001b[39;00m DEFAULT_FILTERS  \u001b[38;5;66;03m# noqa: F401\u001b[39;00m\n\u001b[1;32m      4\u001b[0m \u001b[38;5;28;01mfrom\u001b[39;00m \u001b[38;5;21;01m.\u001b[39;00m\u001b[38;5;21;01mtests\u001b[39;00m \u001b[38;5;28;01mimport\u001b[39;00m TESTS \u001b[38;5;28;01mas\u001b[39;00m DEFAULT_TESTS  \u001b[38;5;66;03m# noqa: F401\u001b[39;00m\n\u001b[1;32m      5\u001b[0m \u001b[38;5;28;01mfrom\u001b[39;00m \u001b[38;5;21;01m.\u001b[39;00m\u001b[38;5;21;01mutils\u001b[39;00m \u001b[38;5;28;01mimport\u001b[39;00m Cycler\n",
      "File \u001b[0;32m~/lib/miniconda3/envs/mmon-gcm/lib/python3.10/site-packages/jinja2/filters.py:13\u001b[0m\n\u001b[1;32m     11\u001b[0m \u001b[38;5;28;01mfrom\u001b[39;00m \u001b[38;5;21;01mmarkupsafe\u001b[39;00m \u001b[38;5;28;01mimport\u001b[39;00m escape\n\u001b[1;32m     12\u001b[0m \u001b[38;5;28;01mfrom\u001b[39;00m \u001b[38;5;21;01mmarkupsafe\u001b[39;00m \u001b[38;5;28;01mimport\u001b[39;00m Markup\n\u001b[0;32m---> 13\u001b[0m \u001b[38;5;28;01mfrom\u001b[39;00m \u001b[38;5;21;01mmarkupsafe\u001b[39;00m \u001b[38;5;28;01mimport\u001b[39;00m soft_unicode\n\u001b[1;32m     15\u001b[0m \u001b[38;5;28;01mfrom\u001b[39;00m \u001b[38;5;21;01m.\u001b[39;00m\u001b[38;5;21;01m_compat\u001b[39;00m \u001b[38;5;28;01mimport\u001b[39;00m abc\n\u001b[1;32m     16\u001b[0m \u001b[38;5;28;01mfrom\u001b[39;00m \u001b[38;5;21;01m.\u001b[39;00m\u001b[38;5;21;01m_compat\u001b[39;00m \u001b[38;5;28;01mimport\u001b[39;00m imap\n",
      "\u001b[0;31mImportError\u001b[0m: cannot import name 'soft_unicode' from 'markupsafe' (/home/nls119/lib/miniconda3/envs/mmon-gcm/lib/python3.10/site-packages/markupsafe/__init__.py)"
     ]
    }
   ],
   "source": [
    "#| export\n",
    "\n",
    "import json\n",
    "import escher\n",
    "import numpy as np\n",
    "import pandas as pd\n",
    "import tol_colors as tc\n",
    "from escher import Builder\n",
    "from matplotlib.colors import rgb2hex\n",
    "from mmon_gcm.buildingediting import check_number_of_models"
   ]
  },
  {
   "cell_type": "code",
   "execution_count": null,
   "id": "275c8858-4234-4433-af84-c44ae64f4eea",
   "metadata": {},
   "outputs": [],
   "source": [
    "#| export\n",
    "\n",
    "\n",
    "def get_phase_times(model):\n",
    "    return np.arange(1, check_number_of_models(model) + 1)"
   ]
  },
  {
   "cell_type": "code",
   "execution_count": null,
   "id": "54a9e85c-c470-4ccf-aaf6-eb10bade591c",
   "metadata": {},
   "outputs": [],
   "source": [
    "#| export\n",
    "\n",
    "\n",
    "def get_phase_length(model, phase):\n",
    "    return round(\n",
    "        -1\n",
    "        / model.reactions.get_by_id(f\"Cl_c_gc_Linker_{phase}\").get_coefficient(\n",
    "            f\"Cl_c_gc_{phase}\"\n",
    "        ),\n",
    "        1,\n",
    "    )"
   ]
  },
  {
   "cell_type": "code",
   "execution_count": null,
   "id": "3b9841cd-daf2-49b1-bbf6-b73e4ab0607e",
   "metadata": {},
   "outputs": [],
   "source": [
    "#| export\n",
    "\n",
    "\n",
    "def get_phase_lengths(model):\n",
    "    return [get_phase_length(model, phase) for phase in get_phase_times(model)]"
   ]
  },
  {
   "cell_type": "code",
   "execution_count": null,
   "id": "605207e0-b41a-4409-9035-3513975afabe",
   "metadata": {},
   "outputs": [],
   "source": [
    "#| export\n",
    "\n",
    "\n",
    "def adjust_for_phases(series_object, model):\n",
    "    phase = series_object.name[1]\n",
    "    phase_length = get_phase_length(model, phase)\n",
    "    return series_object * phase_length"
   ]
  },
  {
   "cell_type": "code",
   "execution_count": null,
   "id": "ba1c1ea3-57d6-4fc3-89c2-c790fdf3a6d5",
   "metadata": {},
   "outputs": [],
   "source": [
    "#| export\n",
    "\n",
    "\n",
    "def get_only_gc_opening(df):\n",
    "\n",
    "    reactions_list = df.index\n",
    "    gc_opening_reactions = [\n",
    "        reaction\n",
    "        for reaction in reactions_list\n",
    "        if \"_gc_2\" in reaction\n",
    "        or \"_gc_Linker_2\" in reaction\n",
    "        and \"pseudo\" not in reaction\n",
    "        and \"EX_\" not in reaction\n",
    "    ]\n",
    "\n",
    "    filtered_df = df.loc[gc_opening_reactions]\n",
    "\n",
    "    return filtered_df"
   ]
  },
  {
   "cell_type": "code",
   "execution_count": null,
   "id": "a140e69a-8d91-4ffb-8d34-2f82118063b3",
   "metadata": {},
   "outputs": [],
   "source": [
    "#| export\n",
    "\n",
    "\n",
    "def get_pearson(df):\n",
    "    pearson_array = np.corrcoef(df.values)\n",
    "\n",
    "    pearson_df = pd.DataFrame(pearson_array, index=df.index, columns=df.index)\n",
    "\n",
    "    return pearson_df"
   ]
  },
  {
   "cell_type": "code",
   "execution_count": null,
   "id": "687cc8ba-f06a-41e3-9be5-3f3512a383b9",
   "metadata": {},
   "outputs": [],
   "source": [
    "#| export\n",
    "\n",
    "\n",
    "def get_solution_dfs(\n",
    "    light, atpase_constrained, starch_knockout, outputs_path, cutoff_flux=1 * 10 ** -8\n",
    "):\n",
    "\n",
    "    if atpase_constrained == False:\n",
    "        atpase = \"unconstrained\"\n",
    "    else:\n",
    "        atpase = \"constrained\"\n",
    "\n",
    "    if starch_knockout == False:\n",
    "        starch = \"wt\"\n",
    "    else:\n",
    "        starch = \"ko\"\n",
    "\n",
    "    starch_translation_dict = {\"starchko\": \"ko\", \"ko\": \"starchko\", \"wt\": \"wt\"}\n",
    "\n",
    "    alternative_modes_df = pd.read_csv(\n",
    "        outputs_path + f\"/alternative_weighting/solution_{light}_{atpase}_{starch}.csv\",\n",
    "        index_col=0,\n",
    "    ).transpose()\n",
    "\n",
    "    pfba_df = pd.read_csv(\n",
    "        outputs_path\n",
    "        + f\"/model_solutions/{light}_{atpase}_{starch_translation_dict[starch]}.csv\",\n",
    "        index_col=0,\n",
    "    ).loc[:, \"fluxes\"]\n",
    "\n",
    "    averages_df = alternative_modes_df.mean(axis=1)\n",
    "\n",
    "    # ignore fluxes below the cutoff_flux\n",
    "    for df in [alternative_modes_df, pfba_df, averages_df]:\n",
    "        df.mask(abs(df) < cutoff_flux, 0, inplace=True)\n",
    "\n",
    "    alternative_modes_df, pfba_df, averages_df = [\n",
    "        get_only_gc_opening(df) for df in [alternative_modes_df, pfba_df, averages_df]\n",
    "    ]\n",
    "\n",
    "    return alternative_modes_df, pfba_df, averages_df"
   ]
  },
  {
   "cell_type": "code",
   "execution_count": null,
   "id": "479048a7-ff1c-4861-aa19-1ae11da5e37c",
   "metadata": {},
   "outputs": [],
   "source": [
    "#| export\n",
    "\n",
    "\n",
    "def check_for_missing(reaction_list, map_path):\n",
    "\n",
    "    with open(map_path, \"r\") as read_file:\n",
    "        map_json = json.load(read_file)\n",
    "\n",
    "    map_rxns = [reaction[\"bigg_id\"] for reaction in map_json[1][\"reactions\"].values()]\n",
    "\n",
    "    missing_reactions = [\n",
    "        reaction for reaction in reaction_list if reaction not in map_rxns\n",
    "    ]\n",
    "\n",
    "    if len(missing_reactions) != 0:\n",
    "        warnings.warn(\"There are some reactions that aren't in the map\")\n",
    "        return missing_reactions"
   ]
  },
  {
   "cell_type": "code",
   "execution_count": null,
   "id": "8868f899-9168-49b7-b25e-ad3ec2b37404",
   "metadata": {},
   "outputs": [],
   "source": [
    "#| export\n",
    "\n",
    "\n",
    "def get_escher_map(\n",
    "    model_solution, map=\"inputs/map.json\", json_model=\"models/4_stage_GC.json\", **kwargs\n",
    "):\n",
    "    \n",
    "    builder = Builder(model_json=json_model, **kwargs)\n",
    "    builder.map_json = map\n",
    "    builder.reaction_data = model_solution\n",
    "    builder.scroll_behavior = \"zoom\"\n",
    "    builder.reaction_styles = [\"color\", \"size\", \"text\"]\n",
    "\n",
    "    builder.reaction_no_data_color = \"#DDDDDD\"\n",
    "    builder.reaction_no_data_size = 5\n",
    "\n",
    "    return builder"
   ]
  },
  {
   "cell_type": "code",
   "execution_count": null,
   "id": "3509d852-00fc-42a3-b241-96a888c82fa5",
   "metadata": {},
   "outputs": [],
   "source": [
    "#| export\n",
    "\n",
    "\n",
    "def get_difference_biggest_to_smallest(row):\n",
    "\n",
    "    row = abs(row)\n",
    "\n",
    "    return pd.Series(\n",
    "        [(row[1] - row[0]) / row.max() * 100, row.idxmax()],\n",
    "        index=[\"% Difference\", \"Larger\"],\n",
    "    )"
   ]
  },
  {
   "cell_type": "code",
   "execution_count": null,
   "id": "ef1a756b-65a6-49a5-a881-6c8cb32312fe",
   "metadata": {},
   "outputs": [],
   "source": [
    "#| export\n",
    "\n",
    "\n",
    "def replace_with_1_0(value, threshold):\n",
    "    if abs(value) < threshold:\n",
    "        return 0\n",
    "    # elif value<threshold*-1:\n",
    "    #    return -1\n",
    "    else:\n",
    "        return round(value, 2)"
   ]
  },
  {
   "cell_type": "code",
   "execution_count": null,
   "id": "79019a8a-aaa8-4336-a7ca-08f6c4e64041",
   "metadata": {},
   "outputs": [],
   "source": [
    "#| export\n",
    "\n",
    "\n",
    "def get_adjacency(df, threshold):\n",
    "    np.fill_diagonal(df.values, 0)\n",
    "    df = df.applymap(replace_with_1_0, threshold=threshold)\n",
    "    return df"
   ]
  },
  {
   "cell_type": "code",
   "execution_count": null,
   "id": "df08dca6-11be-422a-b371-d16165730585",
   "metadata": {},
   "outputs": [],
   "source": [
    "#| export\n",
    "\n",
    "\n",
    "def get_percentage_difference_df(pfba_df, averages_df):\n",
    "\n",
    "    difference_df = pd.DataFrame(pfba_df - averages_df, columns=[\"Difference\"])\n",
    "    combined_df = pd.concat([pfba_df, averages_df], axis=1, keys=[\"pFBA\", \"Average\"])\n",
    "    combined_df = combined_df.loc[abs(difference_df.Difference) > 10 ** -8]\n",
    "    percentage_difference_df = combined_df.apply(\n",
    "        get_difference_biggest_to_smallest, axis=1\n",
    "    )\n",
    "    percentage_difference_df[\"% Difference\"] = percentage_difference_df[\n",
    "        \"% Difference\"\n",
    "    ].round()\n",
    "\n",
    "    return percentage_difference_df"
   ]
  },
  {
   "cell_type": "code",
   "execution_count": null,
   "id": "588ea093-9f0d-431d-8a17-8604c994da65",
   "metadata": {},
   "outputs": [],
   "source": [
    "#| export\n",
    "\n",
    "\n",
    "def get_difference_map(percentage_difference_df, map_path, json_model):\n",
    "\n",
    "    reaction_scale_different = [\n",
    "        {\"type\": \"value\", \"value\": -100, \"color\": \"#2166AC\", \"size\": 20},\n",
    "        {\"type\": \"value\", \"value\": 0, \"color\": \"#F7F7F7\", \"size\": 20},\n",
    "        {\"type\": \"value\", \"value\": 100, \"color\": \"#B2182B\", \"size\": 20},\n",
    "    ]\n",
    "\n",
    "    missing = check_for_missing(\n",
    "        percentage_difference_df.index, map_path,\n",
    "    )\n",
    "    map = get_escher_map(\n",
    "        percentage_difference_df.loc[:, \"% Difference\"],\n",
    "        reaction_scale=reaction_scale_different,\n",
    "        map=map_path,\n",
    "        json_model=json_model,\n",
    "    )\n",
    "\n",
    "    return map"
   ]
  },
  {
   "cell_type": "code",
   "execution_count": null,
   "id": "d5a8bea8-e63d-47a4-be2c-92e4eefddaec",
   "metadata": {},
   "outputs": [],
   "source": [
    "#| export\n",
    "\n",
    "\n",
    "def get_pfba_pathways_map(subgraph_list, map_path, json_model):\n",
    "\n",
    "    colours = [\n",
    "        rgb2hex(tc.tol_cmap(\"rainbow_discrete\", lut=len(subgraph_list))(i))\n",
    "        for i in np.linspace(0, 1, num=len(subgraph_list))\n",
    "    ]\n",
    "\n",
    "    reaction_scale = [\n",
    "        {\"type\": \"value\", \"value\": i, \"color\": colour, \"size\": 30}\n",
    "        for i, colour in enumerate(colours)\n",
    "    ]\n",
    "\n",
    "    reaction_values = {}\n",
    "\n",
    "    for i, subgraph in enumerate(subgraph_list):\n",
    "        for node in subgraph.nodes:\n",
    "            reaction_values[node] = i\n",
    "\n",
    "    map = get_escher_map(\n",
    "        reaction_values,\n",
    "        reaction_scale=reaction_scale,\n",
    "        map=map_path,\n",
    "        json_model=json_model,\n",
    "    )\n",
    "\n",
    "    return map"
   ]
  }
 ],
 "metadata": {
  "kernelspec": {
   "display_name": "mmon-gcm",
   "language": "python",
   "name": "mmon-gcm"
  }
 },
 "nbformat": 4,
 "nbformat_minor": 5
}
