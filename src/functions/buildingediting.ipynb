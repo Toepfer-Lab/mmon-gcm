{
 "cells": [
  {
   "cell_type": "raw",
   "metadata": {},
   "source": [
    "---\n",
    "description: This module contains the code for building and editing the guard cell\n",
    "  model\n",
    "output-file: buildingediting.html\n",
    "title: buildingediting\n",
    "\n",
    "---\n",
    "\n"
   ]
  },
  {
   "cell_type": "code",
   "execution_count": null,
   "metadata": {},
   "outputs": [],
   "source": [
    "# | default_exp buildingediting"
   ]
  },
  {
   "cell_type": "code",
   "execution_count": null,
   "metadata": {},
   "outputs": [],
   "source": [
    "# | include: false\n",
    "from nbdev.showdoc import *\n",
    "\n",
    "%load_ext autoreload\n",
    "%autoreload 2"
   ]
  },
  {
   "cell_type": "code",
   "execution_count": null,
   "metadata": {},
   "outputs": [],
   "source": [
    "# | export\n",
    "import cobra"
   ]
  },
  {
   "cell_type": "code",
   "execution_count": null,
   "metadata": {},
   "outputs": [],
   "source": [
    "# | export\n",
    "def add_metabolite(model, name, compartment=\"default\", multi=True):\n",
    "    \"\"\"\n",
    "    This function adds a metabolite to the given model, and returns this metabolite.\n",
    "    If multi is set to true it will be added to every phase of the model.\n",
    "    \"\"\"\n",
    "    if multi == True:\n",
    "        for i in range(1, check_number_of_models(model) + 1):\n",
    "            new_name = name + \"_\" + str(i)\n",
    "            metabolite = cobra.core.Metabolite(new_name)\n",
    "            metabolite.id = new_name\n",
    "            metabolite.name = new_name\n",
    "            metabolite.compartment = compartment\n",
    "            model.add_metabolites([metabolite])\n",
    "    else:\n",
    "        metabolite = cobra.core.Metabolite(name)\n",
    "        metabolite.id = name\n",
    "        metabolite.name = name\n",
    "        metabolite.compartment = compartment\n",
    "        model.add_metabolites([metabolite])\n",
    "\n",
    "    return metabolite"
   ]
  },
  {
   "cell_type": "code",
   "execution_count": null,
   "metadata": {},
   "outputs": [
    {
     "data": {
      "text/markdown": [
       "<h4 id=\"add_metabolite\" class=\"doc_header\"><code>add_metabolite</code><a href=\"__main__.py#L2\" class=\"source_link\" style=\"float:right\">[source]</a></h4>\n",
       "\n",
       "> <code>add_metabolite</code>(**`model`**, **`name`**, **`compartment`**=*`'default'`*, **`multi`**=*`True`*)\n",
       "\n",
       "This function adds a metabolite to the given model, and returns this metabolite.\n",
       "If multi is set to true it will be added to every phase of the model."
      ],
      "text/plain": [
       "<IPython.core.display.Markdown object>"
      ]
     },
     "metadata": {},
     "output_type": "display_data"
    }
   ],
   "source": [
    "show_doc(add_metabolite)"
   ]
  },
  {
   "cell_type": "code",
   "execution_count": null,
   "metadata": {},
   "outputs": [],
   "source": [
    "# | export\n",
    "def add_reaction(model, name, multi=True):\n",
    "    \"\"\"\n",
    "    This function adds a reaction to the given model, and returns this reaction.\n",
    "    If multi is set to true it will be added to every phase of the model.\n",
    "    \"\"\"\n",
    "    if multi == True:\n",
    "        for i in range(1, check_number_of_models(model) + 1):\n",
    "            new_name = name + \"_\" + str(i)\n",
    "            reaction = cobra.core.Reaction(new_name)\n",
    "            reaction.id = new_name\n",
    "            reaction.name = new_name\n",
    "            model.add_reactions([reaction])\n",
    "    else:\n",
    "        reaction = cobra.core.Reaction(name)\n",
    "        reaction.id = name\n",
    "        reaction.name = name\n",
    "        model.add_reactions([reaction])\n",
    "    return reaction"
   ]
  },
  {
   "cell_type": "code",
   "execution_count": null,
   "metadata": {},
   "outputs": [
    {
     "data": {
      "text/markdown": [
       "<h4 id=\"add_reaction\" class=\"doc_header\"><code>add_reaction</code><a href=\"__main__.py#L2\" class=\"source_link\" style=\"float:right\">[source]</a></h4>\n",
       "\n",
       "> <code>add_reaction</code>(**`model`**, **`name`**, **`multi`**=*`True`*)\n",
       "\n",
       "This function adds a reaction to the given model, and returns this reaction.\n",
       "If multi is set to true it will be added to every phase of the model."
      ],
      "text/plain": [
       "<IPython.core.display.Markdown object>"
      ]
     },
     "metadata": {},
     "output_type": "display_data"
    }
   ],
   "source": [
    "show_doc(add_reaction)"
   ]
  },
  {
   "cell_type": "code",
   "execution_count": null,
   "metadata": {},
   "outputs": [],
   "source": [
    "# | export\n",
    "def split_model(model, labels):\n",
    "    \"\"\"\n",
    "    This function takes two arguments: the model to be split and the labels for the models to split it into.\n",
    "    len(labels) number of models will be created, with the suffix \"_label\" to define them.\n",
    "    \"\"\"\n",
    "\n",
    "    number_of_models = len(labels)\n",
    "    old_model = model.copy()\n",
    "\n",
    "    # Create new metabolites for models\n",
    "    old_metabolites = []\n",
    "    for i in range(len(model.metabolites)):\n",
    "        old_metabolite = model.metabolites[i]\n",
    "        for j in labels:\n",
    "            new_metabolite = old_metabolite.copy()\n",
    "            new_metabolite.name = new_metabolite.name + \"_\" + str(j)\n",
    "            new_metabolite.id = new_metabolite.id + \"_\" + str(j)\n",
    "            model.add_metabolites(new_metabolite)\n",
    "        old_metabolites.append(old_metabolite)\n",
    "\n",
    "    # Create new reactions for models\n",
    "    old_reactions = []\n",
    "    for i in range(len(model.reactions)):\n",
    "        old_reaction = model.reactions[i]\n",
    "        for j in labels:\n",
    "            new_reaction = old_reaction.copy()\n",
    "            new_reaction.name = new_reaction.name + \"_\" + str(j)\n",
    "            new_reaction.id = new_reaction.id + \"_\" + str(j)\n",
    "            new_metabolites = {}\n",
    "            for metabolite, value in new_reaction.metabolites.items():\n",
    "                new_metabolites[str(metabolite) + \"_\" + str(j)] = value\n",
    "            model.add_reactions([new_reaction])\n",
    "            new_reaction = model.reactions.get_by_id(new_reaction.id)\n",
    "            new_reaction.subtract_metabolites(new_reaction.metabolites)\n",
    "            new_reaction.add_metabolites(new_metabolites)\n",
    "        old_reactions.append(old_reaction)\n",
    "\n",
    "    # Remove old reactions and metabolites\n",
    "    model.remove_reactions(old_reactions)\n",
    "    model.remove_metabolites(old_metabolites)\n",
    "\n",
    "    # tests\n",
    "\n",
    "    # Check no. of metabolites and reactions is equal\n",
    "    if (\n",
    "        len(model.reactions) == number_of_models * len(old_model.reactions)\n",
    "        and len(model.metabolites) == number_of_models * len(old_model.metabolites)\n",
    "    ) == False:\n",
    "        raise UserWarning(\"Number of metabolites and reactants does not match\")\n",
    "\n",
    "    empty_reactions = []\n",
    "    for reaction in model.reactions:\n",
    "        if len(reaction.metabolites) == 0:\n",
    "            empty_reactions.append(reaction.name)\n",
    "    if len(empty_reactions) != 0:\n",
    "        raise UserWarning(\n",
    "            \"There are some reactions with no metabolites, they are: \"\n",
    "            + str(emptyreactions)\n",
    "        )"
   ]
  },
  {
   "cell_type": "code",
   "execution_count": null,
   "metadata": {},
   "outputs": [
    {
     "data": {
      "text/markdown": [
       "<h4 id=\"split_model\" class=\"doc_header\"><code>split_model</code><a href=\"__main__.py#L2\" class=\"source_link\" style=\"float:right\">[source]</a></h4>\n",
       "\n",
       "> <code>split_model</code>(**`model`**, **`labels`**)\n",
       "\n",
       "This function takes two arguments: the model to be split and the labels for the models to split it into.\n",
       "len(labels) number of models will be created, with the suffix \"_label\" to define them."
      ],
      "text/plain": [
       "<IPython.core.display.Markdown object>"
      ]
     },
     "metadata": {},
     "output_type": "display_data"
    }
   ],
   "source": [
    "show_doc(split_model)"
   ]
  },
  {
   "cell_type": "code",
   "execution_count": null,
   "metadata": {},
   "outputs": [],
   "source": [
    "# | export\n",
    "def check_number_of_models(model):\n",
    "    \"\"\"\n",
    "    This function returns the number of phases of the model based on the maximal number of the last tag\n",
    "    \"\"\"\n",
    "    submodel_numbers = set()\n",
    "    for metabolite in model.metabolites:\n",
    "        try:\n",
    "            submodel_numbers.add(int(metabolite.name[-1:]))\n",
    "        except:\n",
    "            pass\n",
    "    try:\n",
    "        model_number = max(submodel_numbers)\n",
    "    except:\n",
    "        model_number = 1\n",
    "    return model_number"
   ]
  },
  {
   "cell_type": "code",
   "execution_count": null,
   "metadata": {},
   "outputs": [
    {
     "data": {
      "text/markdown": [
       "<h4 id=\"check_number_of_models\" class=\"doc_header\"><code>check_number_of_models</code><a href=\"__main__.py#L2\" class=\"source_link\" style=\"float:right\">[source]</a></h4>\n",
       "\n",
       "> <code>check_number_of_models</code>(**`model`**)\n",
       "\n",
       "This function returns the number of phases of the model based on the maximal number of the last tag"
      ],
      "text/plain": [
       "<IPython.core.display.Markdown object>"
      ]
     },
     "metadata": {},
     "output_type": "display_data"
    }
   ],
   "source": [
    "show_doc(check_number_of_models)"
   ]
  },
  {
   "cell_type": "code",
   "execution_count": null,
   "metadata": {},
   "outputs": [],
   "source": [
    "# | export\n",
    "def set_bounds_multi(model, reaction_id, lower_flux, upper_flux):\n",
    "    \"\"\"\n",
    "    Constrain a reaction's flux in all phases\n",
    "    \"\"\"\n",
    "\n",
    "    for i in range(1, check_number_of_models(model) + 1):\n",
    "        model.reactions.get_by_id(reaction_id + \"_\" + str(i)).bounds = (\n",
    "            lower_flux,\n",
    "            upper_flux,\n",
    "        )\n",
    "\n",
    "    return model"
   ]
  },
  {
   "cell_type": "code",
   "execution_count": null,
   "metadata": {},
   "outputs": [
    {
     "data": {
      "text/markdown": [
       "<h4 id=\"set_bounds_multi\" class=\"doc_header\"><code>set_bounds_multi</code><a href=\"__main__.py#L2\" class=\"source_link\" style=\"float:right\">[source]</a></h4>\n",
       "\n",
       "> <code>set_bounds_multi</code>(**`model`**, **`reaction_id`**, **`lower_flux`**, **`upper_flux`**)\n",
       "\n",
       "Constrain a reaction's flux in all phases"
      ],
      "text/plain": [
       "<IPython.core.display.Markdown object>"
      ]
     },
     "metadata": {},
     "output_type": "display_data"
    }
   ],
   "source": [
    "show_doc(set_bounds_multi)"
   ]
  },
  {
   "cell_type": "code",
   "execution_count": null,
   "metadata": {},
   "outputs": [],
   "source": [
    "# | export\n",
    "def add_linkers(model, linkers_file, compartments, cells, phase_times):\n",
    "    \"\"\"\n",
    "    This function adds linker reactions for osmolytes to a phased model of guard cell, and adds osmolarity and charge linker pseudoreactions.\n",
    "    It takes five arguments:\n",
    "    model: the model to which linkers are to be added\n",
    "    linkersfile: a .csv file with a list of osmolytes and their osmotic coefficients, leave the osmotic coefficient at 0 to add as a linker but not contribute to osmolarity\n",
    "    compartments: a list of the compartments to add linker reactions to within cells\n",
    "    cells: a list of cell tags to be used\n",
    "    phase_times: a list of the lengths of each phase, for scaling of the linker reactions\n",
    "    \"\"\"\n",
    "\n",
    "    number_of_models = check_number_of_models(model)\n",
    "    linkers = def_linkers(linkers_file)\n",
    "    cell_compartments = []\n",
    "    for compartment in compartments:\n",
    "        if compartment == \"a\":\n",
    "            cell_compartments.append(compartment)\n",
    "        else:\n",
    "            for cell in cells:\n",
    "                cell_compartments.append(compartment + \"_\" + cell)\n",
    "\n",
    "    # create the linker reactions from the 'osmolytes' list\n",
    "    new_reactions = []\n",
    "    for linker in linkers:\n",
    "        add_reaction(model, linker + \"_Linker\")\n",
    "\n",
    "    # add pseudometabolites to represent accumulation reactions\n",
    "    for compartment in cell_compartments:\n",
    "        add_metabolite(model, \"pseudoOs_\" + compartment, compartment)\n",
    "        add_metabolite(model, \"pseudoCharge_\" + compartment, compartment)\n",
    "\n",
    "    # add metabolites to linker reactions which are scaled according to phase lengths\n",
    "    for compartment in cell_compartments:\n",
    "        for linker in linkers:\n",
    "            if \"_\" + compartment in linker:\n",
    "                for i in range(1, number_of_models):\n",
    "                    model.reactions.get_by_id(\n",
    "                        linker + \"_Linker_\" + str(i)\n",
    "                    ).add_metabolites(\n",
    "                        {\n",
    "                            linker + \"_\" + str(i): (1.0 / phase_times[i - 1]) * -1,\n",
    "                            linker + \"_\" + str(i + 1): (1.0 / phase_times[i]) * 1,\n",
    "                            \"pseudoOs_\"\n",
    "                            + compartment\n",
    "                            + \"_\"\n",
    "                            + str(i): int(\n",
    "                                linkers[linker]\n",
    "                            ),  # this is where the contribution is 0 if osmotic coeffient is set to 0\n",
    "                            \"pseudoCharge_\"\n",
    "                            + compartment\n",
    "                            + \"_\"\n",
    "                            + str(i): float(\n",
    "                                model.metabolites.get_by_id(\n",
    "                                    linker + \"_\" + str(i)\n",
    "                                ).charge\n",
    "                            )\n",
    "                            * (1.0 / phase_times[i - 1])\n",
    "                            * -1,\n",
    "                        }\n",
    "                    )\n",
    "                model.reactions.get_by_id(\n",
    "                    linker + \"_Linker_\" + str(number_of_models)\n",
    "                ).add_metabolites(\n",
    "                    {\n",
    "                        linker\n",
    "                        + \"_\"\n",
    "                        + str(number_of_models): (\n",
    "                            1.0 / phase_times[number_of_models - 1]\n",
    "                        )\n",
    "                        * -1,\n",
    "                        linker + \"_\" + str(1): (1.0 / phase_times[0]) * 1,\n",
    "                        \"pseudoOs_\"\n",
    "                        + compartment\n",
    "                        + \"_\"\n",
    "                        + str(number_of_models): int(linkers[linker]),\n",
    "                        \"pseudoCharge_\"\n",
    "                        + compartment\n",
    "                        + \"_\"\n",
    "                        + str(number_of_models): float(\n",
    "                            model.metabolites.get_by_id(linker + \"_\" + str(i)).charge\n",
    "                        )\n",
    "                        * (1.0 / phase_times[number_of_models - 1])\n",
    "                        * -1,\n",
    "                    }\n",
    "                )\n",
    "\n",
    "    # add osmotic constraint reactions\n",
    "\n",
    "    add_reaction(model, f\"pseudoOs_constraint_a\", multi=True)\n",
    "    add_metabolites_to_reaction_multi(model, f\"pseudoOs_constraint_a\", {\n",
    "        f\"pseudoOs_a\": -1,\n",
    "    })\n",
    "\n",
    "    for cell in cells:\n",
    "        for compartment in compartments:\n",
    "            if compartment != \"a\":\n",
    "                add_reaction(model, f\"pseudoOs_constraint_{compartment}_{cell}\", multi=True)\n",
    "                add_metabolites_to_reaction_multi(model, f\"pseudoOs_constraint_{compartment}_{cell}\", {\n",
    "                    f\"pseudoOs_{compartment}_{cell}\": -1,\n",
    "                }\n",
    "                )\n",
    "    # tests\n",
    "\n",
    "    # run a basic test to ensure new reactions have metabolites attached to them\n",
    "    empty_reactions = []\n",
    "    for reaction in model.reactions:\n",
    "        if len(reaction.metabolites) == 0:\n",
    "            empty_reactions.append(reaction.name)\n",
    "    if len(empty_reactions) != 0:\n",
    "        raise UserWarning(\n",
    "            \"There are some reactions with no metabolites, they are: \"\n",
    "            + str(empty_reactions)\n",
    "        )"
   ]
  },
  {
   "cell_type": "code",
   "execution_count": null,
   "metadata": {},
   "outputs": [
    {
     "data": {
      "text/markdown": [
       "<h4 id=\"add_linkers\" class=\"doc_header\"><code>add_linkers</code><a href=\"__main__.py#L2\" class=\"source_link\" style=\"float:right\">[source]</a></h4>\n",
       "\n",
       "> <code>add_linkers</code>(**`model`**, **`linkers_file`**, **`compartments`**, **`cells`**, **`phase_times`**)\n",
       "\n",
       "This function adds linker reactions for osmolytes to a phased model of guard cell, and adds osmolarity and charge linker pseudoreactions.\n",
       "It takes five arguments:\n",
       "model: the model to which linkers are to be added\n",
       "linkersfile: a .csv file with a list of osmolytes and their osmotic coefficients\n",
       "compartments: a dictionary with the tags of compartments as keys and their relative volumes as values\n",
       "cells: a list of cell tags to be used\n",
       "phase_times: a list of the lengths of each phase, for scaling of the linker reactions"
      ],
      "text/plain": [
       "<IPython.core.display.Markdown object>"
      ]
     },
     "metadata": {},
     "output_type": "display_data"
    }
   ],
   "source": [
    "show_doc(add_linkers)"
   ]
  },
  {
   "cell_type": "code",
   "execution_count": null,
   "metadata": {},
   "outputs": [],
   "source": [
    "# | export\n",
    "def def_linkers(file):\n",
    "    \"\"\"\n",
    "    This function creates a dict of osmolytes and their osmotic coefficients from the .csv file, and is used by addlinkers\n",
    "    \"\"\"\n",
    "    import csv\n",
    "\n",
    "    with open(file, mode=\"r\") as csv_file:\n",
    "        csv_linkers = csv.DictReader(csv_file)\n",
    "        linkers = {}\n",
    "        line_count = 0\n",
    "        for linker in csv_linkers:\n",
    "            if line_count == 0:\n",
    "                line_count += 1\n",
    "            linkers[linker[\"Linker\"]] = linker[\"Osmotic Coefficient\"]\n",
    "            line_count += 1\n",
    "    return linkers"
   ]
  },
  {
   "cell_type": "code",
   "execution_count": null,
   "metadata": {},
   "outputs": [
    {
     "data": {
      "text/markdown": [
       "<h4 id=\"def_linkers\" class=\"doc_header\"><code>def_linkers</code><a href=\"__main__.py#L2\" class=\"source_link\" style=\"float:right\">[source]</a></h4>\n",
       "\n",
       "> <code>def_linkers</code>(**`file`**)\n",
       "\n",
       "This function creates a dict of osmolytes and their osmotic coefficients from the .csv file, and is used by addlinkers"
      ],
      "text/plain": [
       "<IPython.core.display.Markdown object>"
      ]
     },
     "metadata": {},
     "output_type": "display_data"
    }
   ],
   "source": [
    "show_doc(def_linkers)"
   ]
  },
  {
   "cell_type": "code",
   "execution_count": null,
   "metadata": {},
   "outputs": [],
   "source": [
    "# | export\n",
    "\n",
    "\n",
    "def add_metabolites_to_reaction_multi(model, reaction, metabolites_dict):\n",
    "    \"\"\"\n",
    "    This function adds a dictionary of metabolites to a reaction in every phase of the model\n",
    "    \"\"\"\n",
    "    for i in range(1, check_number_of_models(model) + 1):\n",
    "        for metabolite in metabolites_dict:\n",
    "            model.reactions.get_by_id(f\"{reaction}_{i}\").add_metabolites(\n",
    "                {f\"{metabolite}_{i}\": metabolites_dict[metabolite]}\n",
    "            )"
   ]
  },
  {
   "cell_type": "code",
   "execution_count": null,
   "metadata": {},
   "outputs": [
    {
     "data": {
      "text/markdown": [
       "<h4 id=\"add_metabolites_to_reaction_multi\" class=\"doc_header\"><code>add_metabolites_to_reaction_multi</code><a href=\"__main__.py#L3\" class=\"source_link\" style=\"float:right\">[source]</a></h4>\n",
       "\n",
       "> <code>add_metabolites_to_reaction_multi</code>(**`model`**, **`reaction`**, **`metabolites_dict`**)\n",
       "\n",
       "This function adds a dictionary of metabolites to a reaction in every phase of the model"
      ],
      "text/plain": [
       "<IPython.core.display.Markdown object>"
      ]
     },
     "metadata": {},
     "output_type": "display_data"
    }
   ],
   "source": [
    "show_doc(add_metabolites_to_reaction_multi)"
   ]
  }
 ],
 "metadata": {
  "kernelspec": {
   "display_name": "mmon-gcm",
   "language": "python",
   "name": "mmon-gcm"
  }
 },
 "nbformat": 4,
 "nbformat_minor": 4
}
