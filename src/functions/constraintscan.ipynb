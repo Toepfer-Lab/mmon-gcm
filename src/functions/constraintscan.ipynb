{
 "cells": [
  {
   "cell_type": "raw",
   "id": "b15335cb",
   "metadata": {},
   "source": [
    "---\n",
    "output-file: constraintscan.html\n",
    "title: constraintscan\n",
    "\n",
    "---\n",
    "\n"
   ]
  },
  {
   "cell_type": "code",
   "execution_count": null,
   "id": "pressing-crawford",
   "metadata": {},
   "outputs": [],
   "source": [
    "#| default_exp constraintscan"
   ]
  },
  {
   "cell_type": "code",
   "execution_count": null,
   "id": "sacred-anaheim",
   "metadata": {},
   "outputs": [],
   "source": [
    "#| export\n",
    "import numpy as np\n",
    "import pandas as pd\n",
    "from mmon_gcm.solving import pfba_Weighted\n",
    "from mmon_gcm.supermodel import SuperModel"
   ]
  },
  {
   "cell_type": "code",
   "execution_count": null,
   "id": "regulated-major",
   "metadata": {},
   "outputs": [],
   "source": [
    "#| export\n",
    "\n",
    "def normalise_within_bounds(constraint_series, parameter_df):\n",
    "    lower_bound = parameter_df[\"Lower\"]\n",
    "    upper_bound = parameter_df[\"Upper\"]\n",
    "\n",
    "    return (constraint_series * (upper_bound - lower_bound) + lower_bound)"
   ]
  },
  {
   "cell_type": "code",
   "execution_count": null,
   "id": "elementary-pioneer",
   "metadata": {},
   "outputs": [],
   "source": [
    "#| export\n",
    "\n",
    "def generate_constraints_df(constraints_df, params_df):\n",
    "    '''\n",
    "    This functions takes a list of constraints along with a dataframe that contains the bounds for the parameters that these constraints should apply to\n",
    "    It uses the bounds from the dataframe with the values from the constraints_list to generate a dataframe of constraints for running a constraint scan\n",
    "    '''\n",
    "\n",
    "    # firstly, use the values between 0-1 to get a value for the parameter between the bounds\n",
    "    values_df = constraints_df.apply(normalise_within_bounds, args=([params_df]), axis=1)\n",
    "\n",
    "    # next, remove solutions where the open aperture is larger than the closed\n",
    "\n",
    "    open_less_closed_number = np.array(values_df[\"A_open\"] < values_df[\"A_closed\"]).sum()\n",
    "\n",
    "    print(f'Removing {open_less_closed_number} combinations where open aperture is smaller than closed')\n",
    "\n",
    "    values_df = values_df[values_df[\"A_closed\"] < values_df[\"A_open\"]]\n",
    "\n",
    "    return values_df"
   ]
  },
  {
   "cell_type": "code",
   "execution_count": null,
   "id": "sitting-numbers",
   "metadata": {},
   "outputs": [],
   "source": [
    "#| export\n",
    "\n",
    "def solve_model_for_constraint_scan(constraints, fba_model, light_colour, printouts=False):\n",
    "    \n",
    "    solution_number = constraints.name\n",
    "\n",
    "    super_model = SuperModel(constraints.T, fba_model=fba_model)\n",
    "    super_model.constrain_osmolarity(printouts=printouts)\n",
    "    super_model.constrain_photons(150, printouts=printouts)\n",
    "    gc_atpase_upper_bound = super_model.get_atpase_constraint_value(constraints.loc[\"ATPase\"])\n",
    "\n",
    "    for p in [1, 2, 3, 4]:\n",
    "        super_model.fba_model.reactions.get_by_id(f\"PROTON_ATPase_c_gc_{p}\").bounds = (0, gc_atpase_upper_bound)\n",
    "\n",
    "    if printouts is True:\n",
    "        print(f\"ATPase constrained to {gc_atpase_upper_bound}\")\n",
    "\n",
    "    if light_colour == \"blue\":\n",
    "        super_model.fba_model.reactions.Photon_tx_gc_2.upper_bound = 0\n",
    "        super_model.fba_model.reactions.Photon_tx_me_2.upper_bound = 0\n",
    "        \n",
    "    elif light_colour == \"none\":\n",
    "        for i in [1,2,3,4]:\n",
    "            super_model.fba_model.reactions.get_by_id(f\"Photon_tx_gc_{i}\").upper_bound = 0\n",
    "\n",
    "    elif light_colour == \"white\":\n",
    "        pass\n",
    "\n",
    "    else:\n",
    "        raise ValueError(\"Light should be either blue or white\")\n",
    "        \n",
    "    try:\n",
    "        print(f\"Solving model {solution_number}\")\n",
    "        super_model.fba_model, solution = pfba_Weighted(super_model.fba_model, objective=\"Phloem_tx_overall\")\n",
    "        print(f\"Solved model {solution_number}\")\n",
    "    \n",
    "    except:\n",
    "        print(f\"{solution_number} is infeasible\")\n",
    "        solution = pd.NA\n",
    "\n",
    "    return solution"
   ]
  }
 ],
 "metadata": {
  "kernelspec": {
   "display_name": "mmon-gcm",
   "language": "python",
   "name": "mmon-gcm"
  }
 },
 "nbformat": 4,
 "nbformat_minor": 5
}
