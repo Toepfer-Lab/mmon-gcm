{
 "cells": [
  {
   "cell_type": "raw",
   "id": "ecbcf73e",
   "metadata": {},
   "source": [
    "---\n",
    "output-file: helper.html\n",
    "title: Helper functions\n",
    "\n",
    "---\n",
    "\n"
   ]
  },
  {
   "cell_type": "code",
   "execution_count": null,
   "id": "3fc1767f-0b14-4ed8-85a6-f5f36f86e5b0",
   "metadata": {},
   "outputs": [],
   "source": [
    "#| default_exp helper"
   ]
  },
  {
   "cell_type": "code",
   "execution_count": null,
   "id": "78ffa74f-ef88-4cb0-b5f9-f9f46cf00fde",
   "metadata": {},
   "outputs": [],
   "source": [
    "#| export\n",
    "\n",
    "def convert_true_false(true_false):\n",
    "    \n",
    "    if true_false == True or true_false == False:\n",
    "        return true_false\n",
    "    elif true_false == \"True\":\n",
    "        return True\n",
    "    elif true_false == \"False\":\n",
    "        return False\n",
    "    else:\n",
    "        raise ValueError(\"Please enter either True or False\")"
   ]
  }
 ],
 "metadata": {
  "kernelspec": {
   "display_name": "mmon-gcm",
   "language": "python",
   "name": "mmon-gcm"
  }
 },
 "nbformat": 4,
 "nbformat_minor": 5
}
