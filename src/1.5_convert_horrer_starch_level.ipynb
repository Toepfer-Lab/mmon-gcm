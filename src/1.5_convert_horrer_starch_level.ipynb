{
 "cells": [
  {
   "cell_type": "markdown",
   "metadata": {},
   "source": [
    "# Starch amount estimation"
   ]
  },
  {
   "cell_type": "markdown",
   "metadata": {},
   "source": [
    "Here we use the values determined in Horrer et al. (2016) in order to determine an experimental value for the level of starch degradation we should expect to see in our model. "
   ]
  },
  {
   "cell_type": "code",
   "execution_count": 1,
   "metadata": {},
   "outputs": [],
   "source": [
    "import pandas as pd"
   ]
  },
  {
   "cell_type": "code",
   "execution_count": 2,
   "metadata": {},
   "outputs": [
    {
     "data": {
      "text/html": [
       "<div>\n",
       "<style scoped>\n",
       "    .dataframe tbody tr th:only-of-type {\n",
       "        vertical-align: middle;\n",
       "    }\n",
       "\n",
       "    .dataframe tbody tr th {\n",
       "        vertical-align: top;\n",
       "    }\n",
       "\n",
       "    .dataframe thead th {\n",
       "        text-align: right;\n",
       "    }\n",
       "</style>\n",
       "<table border=\"1\" class=\"dataframe\">\n",
       "  <thead>\n",
       "    <tr style=\"text-align: right;\">\n",
       "      <th></th>\n",
       "      <th>Starch content per guard cell (pg)</th>\n",
       "    </tr>\n",
       "    <tr>\n",
       "      <th>Time of day</th>\n",
       "      <th></th>\n",
       "    </tr>\n",
       "  </thead>\n",
       "  <tbody>\n",
       "    <tr>\n",
       "      <th>End of night</th>\n",
       "      <td>41.928130</td>\n",
       "    </tr>\n",
       "    <tr>\n",
       "      <th>1h Light</th>\n",
       "      <td>12.103688</td>\n",
       "    </tr>\n",
       "  </tbody>\n",
       "</table>\n",
       "</div>"
      ],
      "text/plain": [
       "              Starch content per guard cell (pg)\n",
       "Time of day                                     \n",
       "End of night                           41.928130\n",
       "1h Light                               12.103688"
      ]
     },
     "execution_count": 2,
     "metadata": {},
     "output_type": "execute_result"
    }
   ],
   "source": [
    "starchdf = pd.DataFrame([[\"End of night\", 41.92813034], [\"1h Light\", 12.10368844]],\n",
    "                        columns=[\"Time of day\", \"Starch content per guard cell (pg)\"])\n",
    "starchdf = starchdf.set_index(\"Time of day\")\n",
    "starchdf"
   ]
  },
  {
   "cell_type": "markdown",
   "metadata": {},
   "source": [
    "This table is found in the supplementary files of Horrer (2016). We can calculate glucose equivalents from starch by dividing by 162 g/mol, as Horrer et al did:"
   ]
  },
  {
   "cell_type": "code",
   "execution_count": 3,
   "metadata": {},
   "outputs": [
    {
     "data": {
      "text/html": [
       "<div>\n",
       "<style scoped>\n",
       "    .dataframe tbody tr th:only-of-type {\n",
       "        vertical-align: middle;\n",
       "    }\n",
       "\n",
       "    .dataframe tbody tr th {\n",
       "        vertical-align: top;\n",
       "    }\n",
       "\n",
       "    .dataframe thead th {\n",
       "        text-align: right;\n",
       "    }\n",
       "</style>\n",
       "<table border=\"1\" class=\"dataframe\">\n",
       "  <thead>\n",
       "    <tr style=\"text-align: right;\">\n",
       "      <th></th>\n",
       "      <th>Starch content per guard cell (pg)</th>\n",
       "      <th>Glucose equivalents (pmol)</th>\n",
       "    </tr>\n",
       "    <tr>\n",
       "      <th>Time of day</th>\n",
       "      <th></th>\n",
       "      <th></th>\n",
       "    </tr>\n",
       "  </thead>\n",
       "  <tbody>\n",
       "    <tr>\n",
       "      <th>End of night</th>\n",
       "      <td>41.928130</td>\n",
       "      <td>0.258816</td>\n",
       "    </tr>\n",
       "    <tr>\n",
       "      <th>1h Light</th>\n",
       "      <td>12.103688</td>\n",
       "      <td>0.074714</td>\n",
       "    </tr>\n",
       "  </tbody>\n",
       "</table>\n",
       "</div>"
      ],
      "text/plain": [
       "              Starch content per guard cell (pg)  Glucose equivalents (pmol)\n",
       "Time of day                                                                 \n",
       "End of night                           41.928130                    0.258816\n",
       "1h Light                               12.103688                    0.074714"
      ]
     },
     "execution_count": 3,
     "metadata": {},
     "output_type": "execute_result"
    }
   ],
   "source": [
    "starchdf[\"Glucose equivalents (pmol)\"] = starchdf[\"Starch content per guard cell (pg)\"]/162\n",
    "starchdf"
   ]
  },
  {
   "cell_type": "markdown",
   "metadata": {},
   "source": [
    "In our model we use the glucose equivalents as a measure of starch.\n",
    "\n",
    "We use a value of $580 \\times 10^6$ for the number of guard cells in our model, and therefore we can calculate the expected amount of starch in the model at the two times, and the expected amount of degradation."
   ]
  },
  {
   "cell_type": "code",
   "execution_count": 4,
   "metadata": {},
   "outputs": [
    {
     "data": {
      "text/html": [
       "<div>\n",
       "<style scoped>\n",
       "    .dataframe tbody tr th:only-of-type {\n",
       "        vertical-align: middle;\n",
       "    }\n",
       "\n",
       "    .dataframe tbody tr th {\n",
       "        vertical-align: top;\n",
       "    }\n",
       "\n",
       "    .dataframe thead th {\n",
       "        text-align: right;\n",
       "    }\n",
       "</style>\n",
       "<table border=\"1\" class=\"dataframe\">\n",
       "  <thead>\n",
       "    <tr style=\"text-align: right;\">\n",
       "      <th></th>\n",
       "      <th>Starch content per guard cell (pg)</th>\n",
       "      <th>Glucose equivalents (pmol)</th>\n",
       "      <th>Starch amount (mmole/m2)</th>\n",
       "    </tr>\n",
       "    <tr>\n",
       "      <th>Time of day</th>\n",
       "      <th></th>\n",
       "      <th></th>\n",
       "      <th></th>\n",
       "    </tr>\n",
       "  </thead>\n",
       "  <tbody>\n",
       "    <tr>\n",
       "      <th>End of night</th>\n",
       "      <td>41.928130</td>\n",
       "      <td>0.258816</td>\n",
       "      <td>0.150113</td>\n",
       "    </tr>\n",
       "    <tr>\n",
       "      <th>1h Light</th>\n",
       "      <td>12.103688</td>\n",
       "      <td>0.074714</td>\n",
       "      <td>0.043334</td>\n",
       "    </tr>\n",
       "  </tbody>\n",
       "</table>\n",
       "</div>"
      ],
      "text/plain": [
       "              Starch content per guard cell (pg)  Glucose equivalents (pmol)  \\\n",
       "Time of day                                                                    \n",
       "End of night                           41.928130                    0.258816   \n",
       "1h Light                               12.103688                    0.074714   \n",
       "\n",
       "              Starch amount (mmole/m2)  \n",
       "Time of day                             \n",
       "End of night                  0.150113  \n",
       "1h Light                      0.043334  "
      ]
     },
     "execution_count": 4,
     "metadata": {},
     "output_type": "execute_result"
    }
   ],
   "source": [
    "N_gc = 290 * 10 ** 6 * 2  # number of stomata/m^2 *2 gives number of guard cells\n",
    "starchdf[\"Starch amount (mmole/m2)\"] = starchdf[\"Glucose equivalents (pmol)\"]*N_gc*10**-9  # 10**-9 to convert to mmol\n",
    "starchdf"
   ]
  },
  {
   "cell_type": "code",
   "execution_count": 5,
   "metadata": {},
   "outputs": [
    {
     "name": "stdout",
     "output_type": "stream",
     "text": [
      "Expected starch degradation amount is therefore 184.101 fmoles/GC\n"
     ]
    }
   ],
   "source": [
    "print(\"Expected starch degradation amount is therefore %s fmoles/GC\" %\n",
    "      round((starchdf.at[\"End of night\", \"Glucose equivalents (pmol)\"]-starchdf.at[\"1h Light\", \"Glucose equivalents (pmol)\"])*1000, 3))"
   ]
  },
  {
   "cell_type": "code",
   "execution_count": 6,
   "metadata": {},
   "outputs": [
    {
     "name": "stdout",
     "output_type": "stream",
     "text": [
      "Expected starch degradation amount is therefore 0.107 mmoles/m2\n"
     ]
    }
   ],
   "source": [
    "print(\"Expected starch degradation amount is therefore %s mmoles/m2\" %\n",
    "      round((starchdf.at[\"End of night\", \"Starch amount (mmole/m2)\"]-starchdf.at[\"1h Light\", \"Starch amount (mmole/m2)\"]), 3))"
   ]
  }
 ],
 "metadata": {
  "kernelspec": {
   "display_name": "Python 3 (ipykernel)",
   "language": "python",
   "name": "python3"
  },
  "language_info": {
   "codemirror_mode": {
    "name": "ipython",
    "version": 3
   },
   "file_extension": ".py",
   "mimetype": "text/x-python",
   "name": "python",
   "nbconvert_exporter": "python",
   "pygments_lexer": "ipython3",
   "version": "3.9.18"
  }
 },
 "nbformat": 4,
 "nbformat_minor": 4
}
