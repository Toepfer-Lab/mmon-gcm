{
 "cells": [
  {
   "cell_type": "markdown",
   "metadata": {},
   "source": [
    "# Building model\n",
    "\n",
    "> This is the code that is used to build the 4-phase integrated guard cell and mesophyll cell model from the original core plant model"
   ]
  },
  {
   "cell_type": "markdown",
   "metadata": {},
   "source": [
    "## Set up"
   ]
  },
  {
   "cell_type": "code",
   "execution_count": null,
   "metadata": {},
   "outputs": [],
   "source": [
    "import cobra\n",
    "import pandas as pd\n",
    "from mmon_gcm.buildingediting import (\n",
    "    add_linkers,\n",
    "    add_metabolite,\n",
    "    add_metabolites_to_reaction_multi,\n",
    "    add_reaction,\n",
    "    check_number_of_models,\n",
    "    set_bounds_multi,\n",
    "    split_model,\n",
    ")"
   ]
  },
  {
   "cell_type": "code",
   "execution_count": null,
   "metadata": {},
   "outputs": [],
   "source": [
    "%load_ext autoreload\n",
    "%autoreload 2"
   ]
  },
  {
   "cell_type": "code",
   "execution_count": null,
   "metadata": {},
   "outputs": [
    {
     "name": "stderr",
     "output_type": "stream",
     "text": [
      "No objective coefficients in model. Unclear what should be optimized\n"
     ]
    }
   ],
   "source": [
    "model = cobra.io.read_sbml_model(\"../models/PlantCoreMetabolism_v1_2_2_3fbc.xml\")"
   ]
  },
  {
   "cell_type": "markdown",
   "metadata": {},
   "source": [
    "## Add charge to model"
   ]
  },
  {
   "cell_type": "code",
   "execution_count": null,
   "metadata": {},
   "outputs": [],
   "source": [
    "charges = pd.read_csv(\"../inputs/charges.csv\")\n",
    "charges.set_index(\"Metabolite\")\n",
    "for index, row in charges.iterrows():\n",
    "    model.metabolites.get_by_id(row[1]).charge = row[0]"
   ]
  },
  {
   "cell_type": "markdown",
   "metadata": {},
   "source": [
    "## Changes to Both Cells"
   ]
  },
  {
   "cell_type": "markdown",
   "metadata": {},
   "source": [
    "### K+"
   ]
  },
  {
   "cell_type": "code",
   "execution_count": null,
   "metadata": {},
   "outputs": [],
   "source": [
    "for metabolite in model.metabolites:\n",
    "    if \"KI_\" in metabolite.id:\n",
    "        metabolite.id = metabolite.id[:1] + metabolite.id[-2:]\n",
    "        metabolite.name = metabolite.id\n",
    "model.reactions.K_rev_vc.name = \"K_cv\"\n",
    "model.reactions.K_rev_vc.id = \"K_cv\"\n",
    "model.metabolites.K_e.charge = 1"
   ]
  },
  {
   "cell_type": "markdown",
   "metadata": {},
   "source": [
    "### Cl-"
   ]
  },
  {
   "cell_type": "code",
   "execution_count": null,
   "metadata": {},
   "outputs": [],
   "source": [
    "add_metabolite(model, \"Cl_e\", \"e\", multi=False)\n",
    "add_metabolite(model, \"Cl_c\", \"c\", multi=False)\n",
    "add_metabolite(model, \"Cl_v\", \"v\", multi=False)\n",
    "model.metabolites.Cl_e.notes = {\"INCHI\": [\"InChI=1S/ClH/h1H/p-1\"], \"SMILES\": [\"Cl-\"]}\n",
    "model.metabolites.Cl_e.charge = -1\n",
    "model.metabolites.Cl_c.notes = model.metabolites.Cl_e.notes.copy()\n",
    "model.metabolites.Cl_c.charge = -1\n",
    "model.metabolites.Cl_v.notes = model.metabolites.Cl_e.notes.copy()\n",
    "model.metabolites.Cl_v.charge = -1\n",
    "\n",
    "add_reaction(model, \"Cl_tx\", multi=False)\n",
    "model.reactions.Cl_tx.add_metabolites({\"Cl_e\": 1})\n",
    "model.reactions.Cl_tx.lower_bound = -1000"
   ]
  },
  {
   "cell_type": "markdown",
   "metadata": {},
   "source": [
    "### CIT"
   ]
  },
  {
   "cell_type": "code",
   "execution_count": null,
   "metadata": {},
   "outputs": [],
   "source": [
    "for metabolite in model.metabolites:\n",
    "    if \"CIT_\" in metabolite.id and \"aCIT\" not in metabolite.id:\n",
    "        metabolite.charge = -3"
   ]
  },
  {
   "cell_type": "code",
   "execution_count": null,
   "metadata": {},
   "outputs": [],
   "source": [
    "model.metabolites.aCIT_v.charge = -2"
   ]
  },
  {
   "cell_type": "markdown",
   "metadata": {},
   "source": [
    "### MAL"
   ]
  },
  {
   "cell_type": "code",
   "execution_count": null,
   "metadata": {},
   "outputs": [],
   "source": [
    "for metabolite in model.metabolites:\n",
    "    if \"MAL_\" in metabolite.id and \"aMAL\" not in metabolite.id:\n",
    "        metabolite.charge = -2"
   ]
  },
  {
   "cell_type": "code",
   "execution_count": null,
   "metadata": {},
   "outputs": [],
   "source": [
    "model.metabolites.aMAL_v.charge = -1"
   ]
  },
  {
   "cell_type": "code",
   "execution_count": null,
   "metadata": {},
   "outputs": [
    {
     "data": {
      "text/html": [
       "\n",
       "        <table>\n",
       "            <tr>\n",
       "                <td><strong>Metabolite identifier</strong></td><td>aMAL_e</td>\n",
       "            </tr><tr>\n",
       "                <td><strong>Name</strong></td><td>aMAL_e</td>\n",
       "            </tr><tr>\n",
       "                <td><strong>Memory address</strong></td>\n",
       "                <td>0x7e0687d07f40</td>\n",
       "            </tr><tr>\n",
       "                <td><strong>Formula</strong></td><td>None</td>\n",
       "            </tr><tr>\n",
       "                <td><strong>Compartment</strong></td><td>e</td>\n",
       "            </tr><tr>\n",
       "                <td><strong>In 0 reaction(s)</strong></td><td>\n",
       "                    \n",
       "                    </td>\n",
       "            </tr>\n",
       "        </table>"
      ],
      "text/plain": [
       "<Metabolite aMAL_e>"
      ]
     },
     "execution_count": null,
     "metadata": {},
     "output_type": "execute_result"
    }
   ],
   "source": [
    "add_metabolite(model, \"MAL_e\", \"e\", multi=False)\n",
    "add_metabolite(model, \"aMAL_e\", \"e\", multi=False)"
   ]
  },
  {
   "cell_type": "code",
   "execution_count": null,
   "metadata": {},
   "outputs": [],
   "source": [
    "model.metabolites.MAL_e.notes = model.metabolites.MAL_v.notes.copy()\n",
    "model.metabolites.aMAL_e.notes = model.metabolites.aMAL_v.notes.copy()\n",
    "model.metabolites.MAL_e.charge = model.metabolites.MAL_v.charge\n",
    "model.metabolites.aMAL_e.charge = model.metabolites.aMAL_v.charge"
   ]
  },
  {
   "cell_type": "code",
   "execution_count": null,
   "metadata": {},
   "outputs": [],
   "source": [
    "add_reaction(model, \"MAL_tx\", multi=False)\n",
    "model.reactions.MAL_tx.add_metabolites(\n",
    "    {\n",
    "        \"MAL_e\": 0.7,\n",
    "        \"aMAL_e\": 0.3,\n",
    "    }\n",
    ")\n",
    "model.reactions.MAL_tx.lower_bound = -1000"
   ]
  },
  {
   "cell_type": "markdown",
   "metadata": {},
   "source": [
    "### MAL Anion Export Channel (Cl/Mal)"
   ]
  },
  {
   "cell_type": "code",
   "execution_count": null,
   "metadata": {},
   "outputs": [],
   "source": [
    "add_reaction(model, \"MAL_ce\", multi=False)\n",
    "model.reactions.MAL_ce.name = \"MAL R/S-Type Anion Channel\"\n",
    "model.reactions.MAL_ce.add_metabolites(\n",
    "    {\"MAL_c\": -1, \"MAL_e\": 0.7, \"aMAL_e\": 0.3, \"PROTON_e\": -0.3}\n",
    ")"
   ]
  },
  {
   "cell_type": "markdown",
   "metadata": {},
   "source": [
    "### NADPHox"
   ]
  },
  {
   "cell_type": "code",
   "execution_count": null,
   "metadata": {},
   "outputs": [],
   "source": [
    "# change names to make consistent with the rest of the model\n",
    "for reaction in model.reactions:\n",
    "    if \"NADPHox\" in reaction.id:\n",
    "        reaction.name = reaction.id[:7] + \"_\" + reaction.id[7:]\n",
    "        reaction.id = reaction.id[:7] + \"_\" + reaction.id[7:]"
   ]
  },
  {
   "cell_type": "markdown",
   "metadata": {},
   "source": [
    "### Remove reactions only active in germinating seeds"
   ]
  },
  {
   "cell_type": "markdown",
   "metadata": {},
   "source": [
    "Arabidopsis Peroxisomal Citrate Synthase Is Required for Fatty Acid Respiration and Seed Germination\n",
    "Itsara Pracharoenwattana, Johanna E. Cornah, Steven M. Smith\n",
    "The Plant Cell Jul 2005, 17 (7) 2037-2048; DOI: 10.1105/tpc.105.031856\n",
    "\n",
    "Coordinate expression of transcriptionally regulated isocitrate lyase and malate synthase genes in Brassica napus L.\n",
    "L Comai, R A Dietrich, D J Maslyar, C S Baden, J J Harada\n",
    "The Plant Cell Mar 1989, 1 (3) 293-300; DOI: 10.1105/tpc.1.3.293"
   ]
  },
  {
   "cell_type": "code",
   "execution_count": null,
   "metadata": {},
   "outputs": [],
   "source": [
    "model.reactions.MALSYN_RXN_x.bounds = 0, 0\n",
    "model.reactions.CITSYN_RXN_x.bounds = 0, 0"
   ]
  },
  {
   "cell_type": "markdown",
   "metadata": {},
   "source": [
    "### Setting disproportionating enzyme irreversible in the direction of maltose degradation"
   ]
  },
  {
   "cell_type": "markdown",
   "metadata": {},
   "source": [
    "Critchley, J.H., Zeeman, S.C., Takaha, T., Smith, A.M. and Smith, S.M. (2001), A critical role for disproportionating enzyme in starch breakdown is revealed by a knock-out mutation in Arabidopsis. The Plant Journal, 26: 89-100. https://doi.org/10.1046/j.1365-313x.2001.01012.x"
   ]
  },
  {
   "cell_type": "code",
   "execution_count": null,
   "metadata": {},
   "outputs": [],
   "source": [
    "model.reactions.MALTODEG_RXN_c.bounds = 0, cobra.Configuration().upper_bound"
   ]
  },
  {
   "cell_type": "markdown",
   "metadata": {},
   "source": [
    "## Split Model into Mesophyll (me) and Guard Cell (gc)"
   ]
  },
  {
   "cell_type": "markdown",
   "metadata": {},
   "source": [
    "Use`split_model` to duplicate the model and add the tags \"me\" and \"gc\" to each one"
   ]
  },
  {
   "cell_type": "code",
   "execution_count": null,
   "metadata": {},
   "outputs": [
    {
     "name": "stderr",
     "output_type": "stream",
     "text": [
      "/home/maurice/miniconda3/envs/mmon-gcm/lib/python3.9/site-packages/cobra/core/group.py:147: UserWarning: need to pass in a list\n",
      "  warn(\"need to pass in a list\")\n"
     ]
    }
   ],
   "source": [
    "split_model(model, [\"me\", \"gc\"])"
   ]
  },
  {
   "cell_type": "markdown",
   "metadata": {},
   "source": [
    "## Adding GC-specific transporters "
   ]
  },
  {
   "cell_type": "code",
   "execution_count": null,
   "metadata": {},
   "outputs": [
    {
     "data": {
      "text/html": [
       "\n",
       "        <table>\n",
       "            <tr>\n",
       "                <td><strong>Reaction identifier</strong></td><td>PROTON_ATPase_c_gc</td>\n",
       "            </tr><tr>\n",
       "                <td><strong>Name</strong></td><td>PROTON_ATPase_c_gc</td>\n",
       "            </tr><tr>\n",
       "                <td><strong>Memory address</strong></td>\n",
       "                <td>0x7e0686ad35b0</td>\n",
       "            </tr><tr>\n",
       "                <td><strong>Stoichiometry</strong></td>\n",
       "                <td>\n",
       "                    <p style='text-align:right'>0.65 ATP_c_gc + 0.45 PROTON_c_gc + WATER_c_gc + 0.35 aATP_c_gc --> 0.5 ADP_c_gc + PROTON_e_gc + 0.7 Pi_c_gc + 0.5 aADP_c_gc + 0.3 aPi_c_gc</p>\n",
       "                    <p style='text-align:right'>0.65 ATP_gc + 0.45 PROTON_gc + WATER_gc + 0.35 aATP[c]_gc --> 0.5 ADP_gc + PROTON_gc + 0.7 Pi[c]_gc + 0.5 aADP[c]_gc + 0.3 aPi[c]_gc</p>\n",
       "                </td>\n",
       "            </tr><tr>\n",
       "                <td><strong>GPR</strong></td><td></td>\n",
       "            </tr><tr>\n",
       "                <td><strong>Lower bound</strong></td><td>0.0</td>\n",
       "            </tr><tr>\n",
       "                <td><strong>Upper bound</strong></td><td>1000.0</td>\n",
       "            </tr>\n",
       "        </table>\n",
       "        "
      ],
      "text/plain": [
       "<Reaction PROTON_ATPase_c_gc>"
      ]
     },
     "execution_count": null,
     "metadata": {},
     "output_type": "execute_result"
    }
   ],
   "source": [
    "model.reactions.PROTON_ATPase_c_gc"
   ]
  },
  {
   "cell_type": "markdown",
   "metadata": {},
   "source": [
    "### Inward-rectifying K+ Channel"
   ]
  },
  {
   "cell_type": "markdown",
   "metadata": {},
   "source": [
    "#### Remove dependence for protons"
   ]
  },
  {
   "cell_type": "code",
   "execution_count": null,
   "metadata": {},
   "outputs": [],
   "source": [
    "model.reactions.K_ec_gc.name = \"Apoplastic Inward-Rectifying K+ Channel\"\n",
    "model.reactions.K_ec_gc.add_metabolites({\"PROTON_e_gc\": 1, \"PROTON_c_gc\": -1})"
   ]
  },
  {
   "cell_type": "code",
   "execution_count": null,
   "metadata": {},
   "outputs": [
    {
     "data": {
      "text/html": [
       "\n",
       "        <table>\n",
       "            <tr>\n",
       "                <td><strong>Reaction identifier</strong></td><td>K_ec_gc</td>\n",
       "            </tr><tr>\n",
       "                <td><strong>Name</strong></td><td>Apoplastic Inward-Rectifying K+ Channel</td>\n",
       "            </tr><tr>\n",
       "                <td><strong>Memory address</strong></td>\n",
       "                <td>0x7e0686b12bb0</td>\n",
       "            </tr><tr>\n",
       "                <td><strong>Stoichiometry</strong></td>\n",
       "                <td>\n",
       "                    <p style='text-align:right'>K_e_gc --> K_c_gc</p>\n",
       "                    <p style='text-align:right'>K_e_gc --> K_c_gc</p>\n",
       "                </td>\n",
       "            </tr><tr>\n",
       "                <td><strong>GPR</strong></td><td></td>\n",
       "            </tr><tr>\n",
       "                <td><strong>Lower bound</strong></td><td>0.0</td>\n",
       "            </tr><tr>\n",
       "                <td><strong>Upper bound</strong></td><td>1000.0</td>\n",
       "            </tr>\n",
       "        </table>\n",
       "        "
      ],
      "text/plain": [
       "<Reaction K_ec_gc>"
      ]
     },
     "execution_count": null,
     "metadata": {},
     "output_type": "execute_result"
    }
   ],
   "source": [
    "model.reactions.K_ec_gc"
   ]
  },
  {
   "cell_type": "markdown",
   "metadata": {},
   "source": [
    "### Outward-rectifying K+ Channel"
   ]
  },
  {
   "cell_type": "code",
   "execution_count": null,
   "metadata": {},
   "outputs": [],
   "source": [
    "add_reaction(model, \"K_ce_gc\", multi=False)\n",
    "model.reactions.K_ce_gc.name = \"Apoplastic Outward-Rectifying K+ Channel\"\n",
    "model.reactions.K_ce_gc.add_metabolites({\"K_c_gc\": -1, \"K_e_gc\": 1})"
   ]
  },
  {
   "cell_type": "markdown",
   "metadata": {},
   "source": [
    "### H+-coupled K+ Symport"
   ]
  },
  {
   "cell_type": "code",
   "execution_count": null,
   "metadata": {},
   "outputs": [
    {
     "data": {
      "text/html": [
       "\n",
       "        <table>\n",
       "            <tr>\n",
       "                <td><strong>Reaction identifier</strong></td><td>K_PROTON_ec_gc</td>\n",
       "            </tr><tr>\n",
       "                <td><strong>Name</strong></td><td>H+-Coupled K+ Symport</td>\n",
       "            </tr><tr>\n",
       "                <td><strong>Memory address</strong></td>\n",
       "                <td>0x7e0687d43760</td>\n",
       "            </tr><tr>\n",
       "                <td><strong>Stoichiometry</strong></td>\n",
       "                <td>\n",
       "                    <p style='text-align:right'>K_e_gc + PROTON_e_gc --> K_c_gc + PROTON_c_gc</p>\n",
       "                    <p style='text-align:right'>K_e_gc + PROTON_gc --> K_c_gc + PROTON_gc</p>\n",
       "                </td>\n",
       "            </tr><tr>\n",
       "                <td><strong>GPR</strong></td><td></td>\n",
       "            </tr><tr>\n",
       "                <td><strong>Lower bound</strong></td><td>0.0</td>\n",
       "            </tr><tr>\n",
       "                <td><strong>Upper bound</strong></td><td>1000.0</td>\n",
       "            </tr>\n",
       "        </table>\n",
       "        "
      ],
      "text/plain": [
       "<Reaction K_PROTON_ec_gc>"
      ]
     },
     "execution_count": null,
     "metadata": {},
     "output_type": "execute_result"
    }
   ],
   "source": [
    "add_reaction(model, \"K_PROTON_ec_gc\", multi=False)\n",
    "model.reactions.K_PROTON_ec_gc.name = \"H+-Coupled K+ Symport\"\n",
    "model.reactions.K_PROTON_ec_gc.add_metabolites(\n",
    "    {\"K_e_gc\": -1, \"K_c_gc\": 1, \"PROTON_e_gc\": -1, \"PROTON_c_gc\": 1}\n",
    ")\n",
    "model.reactions.K_PROTON_ec_gc"
   ]
  },
  {
   "cell_type": "markdown",
   "metadata": {},
   "source": [
    "### Cl- Import Channel"
   ]
  },
  {
   "cell_type": "code",
   "execution_count": null,
   "metadata": {},
   "outputs": [],
   "source": [
    "add_reaction(model, \"Cl_ec_gc\", multi=False)\n",
    "model.reactions.Cl_ec_gc.name = \"Cl Apoplastic Import Channel\"\n",
    "model.reactions.Cl_ec_gc.add_metabolites({\"Cl_e_gc\": -1, \"Cl_c_gc\": 1})"
   ]
  },
  {
   "cell_type": "markdown",
   "metadata": {},
   "source": [
    "### H+-Coupled Cl- Symport"
   ]
  },
  {
   "cell_type": "code",
   "execution_count": null,
   "metadata": {},
   "outputs": [],
   "source": [
    "add_reaction(model, \"Cl_PROTON_ec_gc\", multi=False)\n",
    "model.reactions.Cl_PROTON_ec_gc.name = \"H+-Coupled Cl- Symport\"\n",
    "model.reactions.Cl_PROTON_ec_gc.add_metabolites(\n",
    "    {\"Cl_e_gc\": -2, \"Cl_c_gc\": 2, \"PROTON_e_gc\": -1, \"PROTON_c_gc\": 1}\n",
    ")"
   ]
  },
  {
   "cell_type": "markdown",
   "metadata": {},
   "source": [
    "### Cl- Anion Export Channel (Cl/Mal)"
   ]
  },
  {
   "cell_type": "code",
   "execution_count": null,
   "metadata": {},
   "outputs": [],
   "source": [
    "add_reaction(model, \"Cl_ce_gc\", multi=False)\n",
    "model.reactions.Cl_ce_gc.name = \"Cl- R/S-Type Anion Channel\"\n",
    "model.reactions.Cl_ce_gc.add_metabolites({\"Cl_c_gc\": -1, \"Cl_e_gc\": 1})"
   ]
  },
  {
   "cell_type": "markdown",
   "metadata": {},
   "source": [
    "### ATPase Malate Importer"
   ]
  },
  {
   "cell_type": "code",
   "execution_count": null,
   "metadata": {},
   "outputs": [],
   "source": [
    "add_reaction(model, \"MAL_ATPASE_ec_gc\", multi=False)\n",
    "model.reactions.MAL_ATPASE_ec_gc.add_metabolites(\n",
    "    {\n",
    "        \"MAL_e_gc\": -0.7,\n",
    "        \"aMAL_e_gc\": -0.3,\n",
    "        \"MAL_c_gc\": 1,\n",
    "        \"ATP_c_gc\": -0.65,\n",
    "        \"aATP_c_gc\": -0.35,\n",
    "        \"WATER_c_gc\": -1,\n",
    "        \"ADP_c_gc\": 1,\n",
    "        \"Pi_c_gc\": 0.7,\n",
    "        \"aPi_c_gc\": 0.3,\n",
    "        \"PROTON_c_gc\": +0.85,\n",
    "    }\n",
    ")"
   ]
  },
  {
   "cell_type": "markdown",
   "metadata": {},
   "source": [
    "### Glucose Apoplastic Symport Channel"
   ]
  },
  {
   "cell_type": "code",
   "execution_count": null,
   "metadata": {},
   "outputs": [
    {
     "data": {
      "text/html": [
       "\n",
       "        <table>\n",
       "            <tr>\n",
       "                <td><strong>Reaction identifier</strong></td><td>GLC_PROTON_ec_gc</td>\n",
       "            </tr><tr>\n",
       "                <td><strong>Name</strong></td><td>H+-Coupled Glucose Symport</td>\n",
       "            </tr><tr>\n",
       "                <td><strong>Memory address</strong></td>\n",
       "                <td>0x7e0686c9c8e0</td>\n",
       "            </tr><tr>\n",
       "                <td><strong>Stoichiometry</strong></td>\n",
       "                <td>\n",
       "                    <p style='text-align:right'>GLC_e_gc + PROTON_e_gc --> GLC_c_gc + PROTON_c_gc</p>\n",
       "                    <p style='text-align:right'>GLC_gc + PROTON_gc --> GLC_gc + PROTON_gc</p>\n",
       "                </td>\n",
       "            </tr><tr>\n",
       "                <td><strong>GPR</strong></td><td></td>\n",
       "            </tr><tr>\n",
       "                <td><strong>Lower bound</strong></td><td>0.0</td>\n",
       "            </tr><tr>\n",
       "                <td><strong>Upper bound</strong></td><td>1000.0</td>\n",
       "            </tr>\n",
       "        </table>\n",
       "        "
      ],
      "text/plain": [
       "<Reaction GLC_PROTON_ec_gc>"
      ]
     },
     "execution_count": null,
     "metadata": {},
     "output_type": "execute_result"
    }
   ],
   "source": [
    "model.reactions.GLC_ec_gc.id = \"GLC_PROTON_ec_gc\"\n",
    "model.reactions.GLC_PROTON_ec_gc.name = \"H+-Coupled Glucose Symport\"\n",
    "model.reactions.GLC_PROTON_ec_gc"
   ]
  },
  {
   "cell_type": "markdown",
   "metadata": {},
   "source": [
    "### Glucose Exporter"
   ]
  },
  {
   "cell_type": "code",
   "execution_count": null,
   "metadata": {},
   "outputs": [],
   "source": [
    "add_reaction(model, \"GLC_ce_gc\", multi=False)\n",
    "model.reactions.GLC_ce_gc.name = \"Glucose Apoplastic Exporter\"\n",
    "model.reactions.GLC_ce_gc.add_metabolites({\"GLC_c_gc\": -1, \"GLC_e_gc\": 1})"
   ]
  },
  {
   "cell_type": "markdown",
   "metadata": {},
   "source": [
    "### Sucrose Apoplastic Symport Channel"
   ]
  },
  {
   "cell_type": "code",
   "execution_count": null,
   "metadata": {},
   "outputs": [],
   "source": [
    "# Renaming Sucrose_tx\n",
    "model.reactions.Sucrose_tx_gc.id = \"SUCROSE_tx_gc\""
   ]
  },
  {
   "cell_type": "code",
   "execution_count": null,
   "metadata": {},
   "outputs": [
    {
     "data": {
      "text/html": [
       "\n",
       "        <table>\n",
       "            <tr>\n",
       "                <td><strong>Reaction identifier</strong></td><td>SUCROSE_PROTON_ec_gc</td>\n",
       "            </tr><tr>\n",
       "                <td><strong>Name</strong></td><td>H+-Coupled Sucrose Symport</td>\n",
       "            </tr><tr>\n",
       "                <td><strong>Memory address</strong></td>\n",
       "                <td>0x7e06869a2cd0</td>\n",
       "            </tr><tr>\n",
       "                <td><strong>Stoichiometry</strong></td>\n",
       "                <td>\n",
       "                    <p style='text-align:right'>PROTON_e_gc + SUCROSE_e_gc --> PROTON_c_gc + SUCROSE_c_gc</p>\n",
       "                    <p style='text-align:right'>PROTON_gc + SUCROSE_gc --> PROTON_gc + SUCROSE_gc</p>\n",
       "                </td>\n",
       "            </tr><tr>\n",
       "                <td><strong>GPR</strong></td><td></td>\n",
       "            </tr><tr>\n",
       "                <td><strong>Lower bound</strong></td><td>0.0</td>\n",
       "            </tr><tr>\n",
       "                <td><strong>Upper bound</strong></td><td>1000</td>\n",
       "            </tr>\n",
       "        </table>\n",
       "        "
      ],
      "text/plain": [
       "<Reaction SUCROSE_PROTON_ec_gc>"
      ]
     },
     "execution_count": null,
     "metadata": {},
     "output_type": "execute_result"
    }
   ],
   "source": [
    "model.reactions.Sucrose_ec_gc.id = \"SUCROSE_PROTON_ec_gc\"\n",
    "model.reactions.SUCROSE_PROTON_ec_gc.name = \"H+-Coupled Sucrose Symport\"\n",
    "model.reactions.SUCROSE_PROTON_ec_gc.upper_bound = 1000\n",
    "model.reactions.SUCROSE_PROTON_ec_gc"
   ]
  },
  {
   "cell_type": "markdown",
   "metadata": {},
   "source": [
    "### Sucrose Exporter"
   ]
  },
  {
   "cell_type": "code",
   "execution_count": null,
   "metadata": {},
   "outputs": [],
   "source": [
    "add_reaction(model, \"SUCROSE_ce_gc\", multi=False)\n",
    "model.reactions.SUCROSE_ce_gc.name = \"Sucrose Apoplastic Exporter\"\n",
    "model.reactions.SUCROSE_ce_gc.add_metabolites({\"SUCROSE_c_gc\": -1, \"SUCROSE_e_gc\": 1})"
   ]
  },
  {
   "cell_type": "markdown",
   "metadata": {},
   "source": [
    "### Fructose Apoplastic Symport Channel"
   ]
  },
  {
   "cell_type": "code",
   "execution_count": null,
   "metadata": {},
   "outputs": [],
   "source": [
    "add_metabolite(model, \"FRU_e_gc\", \"e\", multi=False)\n",
    "model.metabolites.FRU_e_gc.notes = model.metabolites.FRU_c_gc.notes.copy()\n",
    "model.metabolites.FRU_e_gc.charge = 0"
   ]
  },
  {
   "cell_type": "code",
   "execution_count": null,
   "metadata": {},
   "outputs": [],
   "source": [
    "add_reaction(model, \"FRU_PROTON_ec_gc\", multi=False)\n",
    "model.reactions.FRU_PROTON_ec_gc.name = \"H+-Coupled Fructose Symport\"\n",
    "model.reactions.FRU_PROTON_ec_gc.add_metabolites(\n",
    "    {\"FRU_e_gc\": -1, \"FRU_c_gc\": 1, \"PROTON_e_gc\": -1, \"PROTON_c_gc\": 1}\n",
    ")"
   ]
  },
  {
   "cell_type": "markdown",
   "metadata": {},
   "source": [
    "### Fructose Exporter"
   ]
  },
  {
   "cell_type": "code",
   "execution_count": null,
   "metadata": {},
   "outputs": [],
   "source": [
    "add_reaction(model, \"FRU_ce_gc\", multi=False)\n",
    "model.reactions.FRU_ce_gc.name = \"Fructose Apoplastic Exporter\"\n",
    "model.reactions.FRU_ce_gc.add_metabolites({\"FRU_c_gc\": -1, \"FRU_e_gc\": 1})"
   ]
  },
  {
   "cell_type": "markdown",
   "metadata": {},
   "source": [
    "### Cell-Wall Invertase"
   ]
  },
  {
   "cell_type": "code",
   "execution_count": null,
   "metadata": {},
   "outputs": [
    {
     "data": {
      "text/html": [
       "\n",
       "        <table>\n",
       "            <tr>\n",
       "                <td><strong>Reaction identifier</strong></td><td>cwINV_gc</td>\n",
       "            </tr><tr>\n",
       "                <td><strong>Name</strong></td><td>cwINV_gc</td>\n",
       "            </tr><tr>\n",
       "                <td><strong>Memory address</strong></td>\n",
       "                <td>0x7e0687d43a60</td>\n",
       "            </tr><tr>\n",
       "                <td><strong>Stoichiometry</strong></td>\n",
       "                <td>\n",
       "                    <p style='text-align:right'>--></p>\n",
       "                    <p style='text-align:right'>--></p>\n",
       "                </td>\n",
       "            </tr><tr>\n",
       "                <td><strong>GPR</strong></td><td></td>\n",
       "            </tr><tr>\n",
       "                <td><strong>Lower bound</strong></td><td>0.0</td>\n",
       "            </tr><tr>\n",
       "                <td><strong>Upper bound</strong></td><td>1000.0</td>\n",
       "            </tr>\n",
       "        </table>\n",
       "        "
      ],
      "text/plain": [
       "<Reaction cwINV_gc>"
      ]
     },
     "execution_count": null,
     "metadata": {},
     "output_type": "execute_result"
    }
   ],
   "source": [
    "add_reaction(model, \"cwINV_gc\", multi=False)"
   ]
  },
  {
   "cell_type": "code",
   "execution_count": null,
   "metadata": {},
   "outputs": [],
   "source": [
    "model.reactions.cwINV_gc.add_metabolites(\n",
    "    {\"SUCROSE_e_gc\": -1, \"WATER_e_gc\": -1, \"FRU_e_gc\": 1, \"GLC_e_gc\": 1}\n",
    ")"
   ]
  },
  {
   "cell_type": "markdown",
   "metadata": {},
   "source": [
    "### K+ Import Channel\n",
    "\n",
    "(TPK-Type and Fast-vacuolar)"
   ]
  },
  {
   "cell_type": "code",
   "execution_count": null,
   "metadata": {},
   "outputs": [
    {
     "data": {
      "text/html": [
       "\n",
       "        <table>\n",
       "            <tr>\n",
       "                <td><strong>Reaction identifier</strong></td><td>K_cv_gc</td>\n",
       "            </tr><tr>\n",
       "                <td><strong>Name</strong></td><td>K+ Tonoplastic Import Channel</td>\n",
       "            </tr><tr>\n",
       "                <td><strong>Memory address</strong></td>\n",
       "                <td>0x7e0686aa7dc0</td>\n",
       "            </tr><tr>\n",
       "                <td><strong>Stoichiometry</strong></td>\n",
       "                <td>\n",
       "                    <p style='text-align:right'>K_c_gc + PROTON_v_gc --> K_v_gc + PROTON_c_gc</p>\n",
       "                    <p style='text-align:right'>K_c_gc + PROTON_gc --> K_v_gc + PROTON_gc</p>\n",
       "                </td>\n",
       "            </tr><tr>\n",
       "                <td><strong>GPR</strong></td><td></td>\n",
       "            </tr><tr>\n",
       "                <td><strong>Lower bound</strong></td><td>0.0</td>\n",
       "            </tr><tr>\n",
       "                <td><strong>Upper bound</strong></td><td>1000.0</td>\n",
       "            </tr>\n",
       "        </table>\n",
       "        "
      ],
      "text/plain": [
       "<Reaction K_cv_gc>"
      ]
     },
     "execution_count": null,
     "metadata": {},
     "output_type": "execute_result"
    }
   ],
   "source": [
    "model.reactions.K_cv_gc.name = \"K+ Tonoplastic Import Channel\"\n",
    "model.reactions.K_cv_gc"
   ]
  },
  {
   "cell_type": "markdown",
   "metadata": {},
   "source": [
    "### NHX-Type K+/H+ Antiport"
   ]
  },
  {
   "cell_type": "code",
   "execution_count": null,
   "metadata": {},
   "outputs": [],
   "source": [
    "add_reaction(model, \"K_PROTON_cv_gc\", multi=False)\n",
    "model.reactions.K_PROTON_cv_gc.name = \"NHX-Type K+/H+ Antiport\"\n",
    "model.reactions.K_PROTON_cv_gc.add_metabolites(\n",
    "    {\"K_c_gc\": -1, \"K_v_gc\": 1, \"PROTON_v_gc\": -1, \"PROTON_c_gc\": 1}\n",
    ")"
   ]
  },
  {
   "cell_type": "markdown",
   "metadata": {},
   "source": [
    "### K+ Tonoplastic Export Channel\n",
    "\n",
    "Slow Vacuolar Channel"
   ]
  },
  {
   "cell_type": "code",
   "execution_count": null,
   "metadata": {},
   "outputs": [],
   "source": [
    "add_reaction(model, \"K_vc_gc\", multi=False)\n",
    "model.reactions.K_vc_gc.name = \"K+ Tonoplastic Export Slow Vacuolar Channel\"\n",
    "model.reactions.K_vc_gc.add_metabolites({\"K_v_gc\": -1, \"K_c_gc\": 1})"
   ]
  },
  {
   "cell_type": "markdown",
   "metadata": {},
   "source": [
    "### CLC-Type Cl-/H+ Antiport Vacoular Import Channel"
   ]
  },
  {
   "cell_type": "code",
   "execution_count": null,
   "metadata": {},
   "outputs": [],
   "source": [
    "add_reaction(model, \"Cl_PROTON_cv_gc\", multi=False)\n",
    "model.reactions.Cl_PROTON_cv_gc.name = (\n",
    "    \"CLC-Type Cl-/H+ Antiport Vacoular Import Channel\"\n",
    ")\n",
    "model.reactions.Cl_PROTON_cv_gc.add_metabolites(\n",
    "    {\n",
    "        \"Cl_v_gc\": 1,\n",
    "        \"Cl_c_gc\": -1,\n",
    "        \"PROTON_c_gc\": 2,\n",
    "        \"PROTON_v_gc\": -2,\n",
    "    }\n",
    ")"
   ]
  },
  {
   "cell_type": "markdown",
   "metadata": {},
   "source": [
    "### VCL Cl- Vacuolar Import Channel"
   ]
  },
  {
   "cell_type": "code",
   "execution_count": null,
   "metadata": {},
   "outputs": [],
   "source": [
    "add_reaction(model, \"Cl_cv_gc\", multi=False)\n",
    "model.reactions.Cl_cv_gc.name = \"VCL Cl- Vacuolar Import Channel\"\n",
    "model.reactions.Cl_cv_gc.add_metabolites({\"Cl_c_gc\": -1, \"Cl_v_gc\": 1})"
   ]
  },
  {
   "cell_type": "markdown",
   "metadata": {},
   "source": [
    "### Cl- Vacuolar Export Channel"
   ]
  },
  {
   "cell_type": "code",
   "execution_count": null,
   "metadata": {},
   "outputs": [],
   "source": [
    "model.reactions.Cl_cv_gc.lower_bound = -1000"
   ]
  },
  {
   "cell_type": "markdown",
   "metadata": {},
   "source": [
    "### MAL Import Channel (AMLT)"
   ]
  },
  {
   "cell_type": "code",
   "execution_count": null,
   "metadata": {},
   "outputs": [
    {
     "data": {
      "text/html": [
       "\n",
       "        <table>\n",
       "            <tr>\n",
       "                <td><strong>Reaction identifier</strong></td><td>MAL_cv_gc</td>\n",
       "            </tr><tr>\n",
       "                <td><strong>Name</strong></td><td>VMAL-type MAL Channel (Import)</td>\n",
       "            </tr><tr>\n",
       "                <td><strong>Memory address</strong></td>\n",
       "                <td>0x7e0686ab9190</td>\n",
       "            </tr><tr>\n",
       "                <td><strong>Stoichiometry</strong></td>\n",
       "                <td>\n",
       "                    <p style='text-align:right'>MAL_c_gc + 0.3 PROTON_v_gc --> 0.7 MAL_v_gc + 0.3 aMAL_v_gc</p>\n",
       "                    <p style='text-align:right'>MAL_gc + 0.3 PROTON_gc --> 0.7 MAL_gc + 0.3 aMAL[v]_gc</p>\n",
       "                </td>\n",
       "            </tr><tr>\n",
       "                <td><strong>GPR</strong></td><td></td>\n",
       "            </tr><tr>\n",
       "                <td><strong>Lower bound</strong></td><td>0.0</td>\n",
       "            </tr><tr>\n",
       "                <td><strong>Upper bound</strong></td><td>1000.0</td>\n",
       "            </tr>\n",
       "        </table>\n",
       "        "
      ],
      "text/plain": [
       "<Reaction MAL_cv_gc>"
      ]
     },
     "execution_count": null,
     "metadata": {},
     "output_type": "execute_result"
    }
   ],
   "source": [
    "model.reactions.MAL_PROTON_vc_gc.id = \"MAL_cv_gc\"\n",
    "model.reactions.MAL_cv_gc.name = \"VMAL-type MAL Channel (Import)\"\n",
    "model.reactions.MAL_cv_gc"
   ]
  },
  {
   "cell_type": "markdown",
   "metadata": {},
   "source": [
    "### MAL Export Channel (AMLT)"
   ]
  },
  {
   "cell_type": "code",
   "execution_count": null,
   "metadata": {},
   "outputs": [],
   "source": [
    "add_reaction(model, \"MAL_vc_gc\", multi=False)\n",
    "model.reactions.MAL_vc_gc.name = \"VMAL-type MAL Channel (Export)\"\n",
    "model.reactions.MAL_vc_gc.add_metabolites(\n",
    "    {\n",
    "        \"MAL_v_gc\": -0.7,\n",
    "        \"aMAL_v_gc\": -0.3,\n",
    "        \"MAL_c_gc\": 1,\n",
    "        \"PROTON_c_gc\": 0.3,\n",
    "    }\n",
    ")"
   ]
  },
  {
   "cell_type": "markdown",
   "metadata": {},
   "source": [
    "### MAL Export Symporter\n",
    "\n",
    "Already in Model"
   ]
  },
  {
   "cell_type": "code",
   "execution_count": null,
   "metadata": {},
   "outputs": [
    {
     "data": {
      "text/html": [
       "\n",
       "        <table>\n",
       "            <tr>\n",
       "                <td><strong>Reaction identifier</strong></td><td>MAL_PROTON_rev_vc_gc</td>\n",
       "            </tr><tr>\n",
       "                <td><strong>Name</strong></td><td>MAL Export Symporter</td>\n",
       "            </tr><tr>\n",
       "                <td><strong>Memory address</strong></td>\n",
       "                <td>0x7e068696ca90</td>\n",
       "            </tr><tr>\n",
       "                <td><strong>Stoichiometry</strong></td>\n",
       "                <td>\n",
       "                    <p style='text-align:right'>0.7 MAL_v_gc + 1.7 PROTON_v_gc + 0.3 aMAL_v_gc --> MAL_c_gc + 2.0 PROTON_c_gc</p>\n",
       "                    <p style='text-align:right'>0.7 MAL_gc + 1.7 PROTON_gc + 0.3 aMAL[v]_gc --> MAL_gc + 2.0 PROTON_gc</p>\n",
       "                </td>\n",
       "            </tr><tr>\n",
       "                <td><strong>GPR</strong></td><td></td>\n",
       "            </tr><tr>\n",
       "                <td><strong>Lower bound</strong></td><td>0.0</td>\n",
       "            </tr><tr>\n",
       "                <td><strong>Upper bound</strong></td><td>1000.0</td>\n",
       "            </tr>\n",
       "        </table>\n",
       "        "
      ],
      "text/plain": [
       "<Reaction MAL_PROTON_rev_vc_gc>"
      ]
     },
     "execution_count": null,
     "metadata": {},
     "output_type": "execute_result"
    }
   ],
   "source": [
    "model.reactions.MAL_PROTON_rev_vc_gc.name = \"MAL Export Symporter\"\n",
    "model.reactions.MAL_PROTON_rev_vc_gc"
   ]
  },
  {
   "cell_type": "markdown",
   "metadata": {},
   "source": [
    "### Fructose Import Antiporter\n",
    "\n",
    "Previously in the model"
   ]
  },
  {
   "cell_type": "code",
   "execution_count": null,
   "metadata": {},
   "outputs": [
    {
     "data": {
      "text/html": [
       "\n",
       "        <table>\n",
       "            <tr>\n",
       "                <td><strong>Reaction identifier</strong></td><td>FRU_PROTON_rev_cv_gc</td>\n",
       "            </tr><tr>\n",
       "                <td><strong>Name</strong></td><td>Fructose Tonoplastic Import Antiporter</td>\n",
       "            </tr><tr>\n",
       "                <td><strong>Memory address</strong></td>\n",
       "                <td>0x7e0686ea8fa0</td>\n",
       "            </tr><tr>\n",
       "                <td><strong>Stoichiometry</strong></td>\n",
       "                <td>\n",
       "                    <p style='text-align:right'>FRU_c_gc + PROTON_v_gc --> FRU_v_gc + PROTON_c_gc</p>\n",
       "                    <p style='text-align:right'>FRU[c]_gc + PROTON_gc --> FRU[v]_gc + PROTON_gc</p>\n",
       "                </td>\n",
       "            </tr><tr>\n",
       "                <td><strong>GPR</strong></td><td></td>\n",
       "            </tr><tr>\n",
       "                <td><strong>Lower bound</strong></td><td>0.0</td>\n",
       "            </tr><tr>\n",
       "                <td><strong>Upper bound</strong></td><td>1000.0</td>\n",
       "            </tr>\n",
       "        </table>\n",
       "        "
      ],
      "text/plain": [
       "<Reaction FRU_PROTON_rev_cv_gc>"
      ]
     },
     "execution_count": null,
     "metadata": {},
     "output_type": "execute_result"
    }
   ],
   "source": [
    "model.reactions.FRU_PROTON_rev_vc_gc.id = \"FRU_PROTON_rev_cv_gc\"\n",
    "model.reactions.FRU_PROTON_rev_cv_gc.name = \"Fructose Tonoplastic Import Antiporter\"\n",
    "model.reactions.FRU_PROTON_rev_cv_gc"
   ]
  },
  {
   "cell_type": "markdown",
   "metadata": {},
   "source": [
    "### Fructose Import Symporter"
   ]
  },
  {
   "cell_type": "code",
   "execution_count": null,
   "metadata": {},
   "outputs": [],
   "source": [
    "add_reaction(model, \"FRU_PROTON_cv_gc\", multi=False)\n",
    "model.reactions.FRU_PROTON_cv_gc.name = \"Fructose Tonoplastic Import Symporter\"\n",
    "model.reactions.FRU_PROTON_cv_gc.add_metabolites(\n",
    "    {\"PROTON_c_gc\": -1, \"PROTON_v_gc\": 1, \"FRU_c_gc\": -1, \"FRU_v_gc\": 1}\n",
    ")"
   ]
  },
  {
   "cell_type": "markdown",
   "metadata": {},
   "source": [
    "### Fructose Export"
   ]
  },
  {
   "cell_type": "code",
   "execution_count": null,
   "metadata": {},
   "outputs": [
    {
     "data": {
      "text/html": [
       "\n",
       "        <table>\n",
       "            <tr>\n",
       "                <td><strong>Reaction identifier</strong></td><td>FRU_vc_gc</td>\n",
       "            </tr><tr>\n",
       "                <td><strong>Name</strong></td><td>FRU_vc_gc</td>\n",
       "            </tr><tr>\n",
       "                <td><strong>Memory address</strong></td>\n",
       "                <td>0x7e0686b245e0</td>\n",
       "            </tr><tr>\n",
       "                <td><strong>Stoichiometry</strong></td>\n",
       "                <td>\n",
       "                    <p style='text-align:right'>FRU_v_gc --> FRU_c_gc</p>\n",
       "                    <p style='text-align:right'>FRU[v]_gc --> FRU[c]_gc</p>\n",
       "                </td>\n",
       "            </tr><tr>\n",
       "                <td><strong>GPR</strong></td><td></td>\n",
       "            </tr><tr>\n",
       "                <td><strong>Lower bound</strong></td><td>0.0</td>\n",
       "            </tr><tr>\n",
       "                <td><strong>Upper bound</strong></td><td>1000.0</td>\n",
       "            </tr>\n",
       "        </table>\n",
       "        "
      ],
      "text/plain": [
       "<Reaction FRU_vc_gc>"
      ]
     },
     "execution_count": null,
     "metadata": {},
     "output_type": "execute_result"
    }
   ],
   "source": [
    "model.reactions.FRU_vc_gc"
   ]
  },
  {
   "cell_type": "markdown",
   "metadata": {},
   "source": [
    "### Glucose Tonoplastic Antiporter"
   ]
  },
  {
   "cell_type": "code",
   "execution_count": null,
   "metadata": {},
   "outputs": [
    {
     "data": {
      "text/html": [
       "\n",
       "        <table>\n",
       "            <tr>\n",
       "                <td><strong>Reaction identifier</strong></td><td>GLC_PROTON_rev_cv_gc</td>\n",
       "            </tr><tr>\n",
       "                <td><strong>Name</strong></td><td>Glucose Tonoplastic Import Antiporter</td>\n",
       "            </tr><tr>\n",
       "                <td><strong>Memory address</strong></td>\n",
       "                <td>0x7e0686d1de50</td>\n",
       "            </tr><tr>\n",
       "                <td><strong>Stoichiometry</strong></td>\n",
       "                <td>\n",
       "                    <p style='text-align:right'>GLC_c_gc + PROTON_v_gc --> GLC_v_gc + PROTON_c_gc</p>\n",
       "                    <p style='text-align:right'>GLC_gc + PROTON_gc --> GLC_gc + PROTON_gc</p>\n",
       "                </td>\n",
       "            </tr><tr>\n",
       "                <td><strong>GPR</strong></td><td></td>\n",
       "            </tr><tr>\n",
       "                <td><strong>Lower bound</strong></td><td>0.0</td>\n",
       "            </tr><tr>\n",
       "                <td><strong>Upper bound</strong></td><td>1000.0</td>\n",
       "            </tr>\n",
       "        </table>\n",
       "        "
      ],
      "text/plain": [
       "<Reaction GLC_PROTON_rev_cv_gc>"
      ]
     },
     "execution_count": null,
     "metadata": {},
     "output_type": "execute_result"
    }
   ],
   "source": [
    "model.reactions.GLC_PROTON_rev_vc_gc.id = \"GLC_PROTON_rev_cv_gc\"\n",
    "model.reactions.GLC_PROTON_rev_cv_gc.name = \"Glucose Tonoplastic Import Antiporter\"\n",
    "model.reactions.GLC_PROTON_rev_cv_gc"
   ]
  },
  {
   "cell_type": "markdown",
   "metadata": {},
   "source": [
    "### Glucose Tonoplastic Symporter"
   ]
  },
  {
   "cell_type": "code",
   "execution_count": null,
   "metadata": {},
   "outputs": [],
   "source": [
    "add_reaction(model, \"GLC_PROTON_cv_gc\", multi=False)\n",
    "model.reactions.GLC_PROTON_cv_gc.name = \"Glucose Tonoplastic Import Symporter\"\n",
    "model.reactions.GLC_PROTON_cv_gc.add_metabolites(\n",
    "    {\"PROTON_c_gc\": -1, \"PROTON_v_gc\": 1, \"GLC_c_gc\": -1, \"GLC_v_gc\": 1}\n",
    ")"
   ]
  },
  {
   "cell_type": "markdown",
   "metadata": {},
   "source": [
    "### Glucose Export Channel"
   ]
  },
  {
   "cell_type": "code",
   "execution_count": null,
   "metadata": {},
   "outputs": [
    {
     "data": {
      "text/html": [
       "\n",
       "        <table>\n",
       "            <tr>\n",
       "                <td><strong>Reaction identifier</strong></td><td>GLC_vc_gc</td>\n",
       "            </tr><tr>\n",
       "                <td><strong>Name</strong></td><td>GLC_vc_gc</td>\n",
       "            </tr><tr>\n",
       "                <td><strong>Memory address</strong></td>\n",
       "                <td>0x7e0686a9df70</td>\n",
       "            </tr><tr>\n",
       "                <td><strong>Stoichiometry</strong></td>\n",
       "                <td>\n",
       "                    <p style='text-align:right'>GLC_v_gc --> GLC_c_gc</p>\n",
       "                    <p style='text-align:right'>GLC_gc --> GLC_gc</p>\n",
       "                </td>\n",
       "            </tr><tr>\n",
       "                <td><strong>GPR</strong></td><td></td>\n",
       "            </tr><tr>\n",
       "                <td><strong>Lower bound</strong></td><td>0.0</td>\n",
       "            </tr><tr>\n",
       "                <td><strong>Upper bound</strong></td><td>1000.0</td>\n",
       "            </tr>\n",
       "        </table>\n",
       "        "
      ],
      "text/plain": [
       "<Reaction GLC_vc_gc>"
      ]
     },
     "execution_count": null,
     "metadata": {},
     "output_type": "execute_result"
    }
   ],
   "source": [
    "model.reactions.GLC_vc_gc"
   ]
  },
  {
   "cell_type": "markdown",
   "metadata": {},
   "source": [
    "### Sucrose Tonoplastic Importer"
   ]
  },
  {
   "cell_type": "code",
   "execution_count": null,
   "metadata": {},
   "outputs": [],
   "source": [
    "add_reaction(model, \"SUCROSE_cv_gc\", multi=False)\n",
    "model.reactions.SUCROSE_cv_gc.name = \"Sucrose Free Tonoplastic Import\"\n",
    "model.reactions.SUCROSE_cv_gc.add_metabolites(\n",
    "    {\n",
    "        \"SUCROSE_c_gc\": -1,\n",
    "        \"SUCROSE_v_gc\": 1,\n",
    "    }\n",
    ")"
   ]
  },
  {
   "cell_type": "markdown",
   "metadata": {},
   "source": [
    "### Sucrose Tonoplastic Import Antiporter\n",
    "\n",
    "Already in the model"
   ]
  },
  {
   "cell_type": "code",
   "execution_count": null,
   "metadata": {},
   "outputs": [
    {
     "data": {
      "text/html": [
       "\n",
       "        <table>\n",
       "            <tr>\n",
       "                <td><strong>Reaction identifier</strong></td><td>SUCROSE_PROTON_cv_gc</td>\n",
       "            </tr><tr>\n",
       "                <td><strong>Name</strong></td><td>Sucrose Tonoplastic Import Antiporter</td>\n",
       "            </tr><tr>\n",
       "                <td><strong>Memory address</strong></td>\n",
       "                <td>0x7e0686f28d30</td>\n",
       "            </tr><tr>\n",
       "                <td><strong>Stoichiometry</strong></td>\n",
       "                <td>\n",
       "                    <p style='text-align:right'>PROTON_v_gc + SUCROSE_c_gc --> PROTON_c_gc + SUCROSE_v_gc</p>\n",
       "                    <p style='text-align:right'>PROTON_gc + SUCROSE_gc --> PROTON_gc + SUCROSE_gc</p>\n",
       "                </td>\n",
       "            </tr><tr>\n",
       "                <td><strong>GPR</strong></td><td></td>\n",
       "            </tr><tr>\n",
       "                <td><strong>Lower bound</strong></td><td>0.0</td>\n",
       "            </tr><tr>\n",
       "                <td><strong>Upper bound</strong></td><td>1000.0</td>\n",
       "            </tr>\n",
       "        </table>\n",
       "        "
      ],
      "text/plain": [
       "<Reaction SUCROSE_PROTON_cv_gc>"
      ]
     },
     "execution_count": null,
     "metadata": {},
     "output_type": "execute_result"
    }
   ],
   "source": [
    "model.reactions.SUCROSE_PROTON_vc_gc.id = \"SUCROSE_PROTON_cv_gc\"\n",
    "model.reactions.SUCROSE_PROTON_cv_gc.name = \"Sucrose Tonoplastic Import Antiporter\"\n",
    "model.reactions.SUCROSE_PROTON_cv_gc"
   ]
  },
  {
   "cell_type": "markdown",
   "metadata": {},
   "source": [
    "### Sucrose Tonoplastic Export Symporter"
   ]
  },
  {
   "cell_type": "code",
   "execution_count": null,
   "metadata": {},
   "outputs": [],
   "source": [
    "model.reactions.SUCROSE_PROTON_rev_vc_gc.id = \"SUCROSE_PROTON_vc_gc\"\n",
    "model.reactions.SUCROSE_PROTON_vc_gc.name = \"Sucrose Tonoplastic Export Symporter\""
   ]
  },
  {
   "cell_type": "markdown",
   "metadata": {},
   "source": [
    "### Tonoplastic PPase"
   ]
  },
  {
   "cell_type": "code",
   "execution_count": null,
   "metadata": {},
   "outputs": [
    {
     "data": {
      "text/html": [
       "\n",
       "        <table>\n",
       "            <tr>\n",
       "                <td><strong>Reaction identifier</strong></td><td>PROTON_PPi_rev_vc_gc</td>\n",
       "            </tr><tr>\n",
       "                <td><strong>Name</strong></td><td>PROTON_PPi_rev_vc_gc</td>\n",
       "            </tr><tr>\n",
       "                <td><strong>Memory address</strong></td>\n",
       "                <td>0x7e06869e5670</td>\n",
       "            </tr><tr>\n",
       "                <td><strong>Stoichiometry</strong></td>\n",
       "                <td>\n",
       "                    <p style='text-align:right'>0.65 PPI_c_gc + 0.25 PROTON_c_gc + WATER_c_gc + 0.35 aPPI_c_gc --> PROTON_v_gc + 1.4 Pi_c_gc + 0.6 aPi_c_gc</p>\n",
       "                    <p style='text-align:right'>0.65 PPI_gc + 0.25 PROTON_gc + WATER_gc + 0.35 aPPI[c]_gc --> PROTON_gc + 1.4 Pi[c]_gc + 0.6 aPi[c]_gc</p>\n",
       "                </td>\n",
       "            </tr><tr>\n",
       "                <td><strong>GPR</strong></td><td></td>\n",
       "            </tr><tr>\n",
       "                <td><strong>Lower bound</strong></td><td>0.0</td>\n",
       "            </tr><tr>\n",
       "                <td><strong>Upper bound</strong></td><td>1000.0</td>\n",
       "            </tr>\n",
       "        </table>\n",
       "        "
      ],
      "text/plain": [
       "<Reaction PROTON_PPi_rev_vc_gc>"
      ]
     },
     "execution_count": null,
     "metadata": {},
     "output_type": "execute_result"
    }
   ],
   "source": [
    "model.reactions.PROTON_PPi_rev_vc_gc"
   ]
  },
  {
   "cell_type": "markdown",
   "metadata": {},
   "source": [
    "### Tonoplastic H+ ATPase"
   ]
  },
  {
   "cell_type": "code",
   "execution_count": null,
   "metadata": {},
   "outputs": [
    {
     "data": {
      "text/html": [
       "\n",
       "        <table>\n",
       "            <tr>\n",
       "                <td><strong>Reaction identifier</strong></td><td>PROTONATP_rev_vc_gc</td>\n",
       "            </tr><tr>\n",
       "                <td><strong>Name</strong></td><td>PROTONATP_rev_vc_gc</td>\n",
       "            </tr><tr>\n",
       "                <td><strong>Memory address</strong></td>\n",
       "                <td>0x7e0686febb20</td>\n",
       "            </tr><tr>\n",
       "                <td><strong>Stoichiometry</strong></td>\n",
       "                <td>\n",
       "                    <p style='text-align:right'>0.65 ATP_c_gc + 1.45 PROTON_c_gc + WATER_c_gc + 0.35 aATP_c_gc --> 0.5 ADP_c_gc + 2.0 PROTON_v_gc + 0.7 Pi_c_gc + 0.5 aADP_c_gc + 0.3 aPi_c_gc</p>\n",
       "                    <p style='text-align:right'>0.65 ATP_gc + 1.45 PROTON_gc + WATER_gc + 0.35 aATP[c]_gc --> 0.5 ADP_gc + 2.0 PROTON_gc + 0.7 Pi[c]_gc + 0.5 aADP[c]_gc + 0.3 aPi[c]_gc</p>\n",
       "                </td>\n",
       "            </tr><tr>\n",
       "                <td><strong>GPR</strong></td><td></td>\n",
       "            </tr><tr>\n",
       "                <td><strong>Lower bound</strong></td><td>0.0</td>\n",
       "            </tr><tr>\n",
       "                <td><strong>Upper bound</strong></td><td>1000.0</td>\n",
       "            </tr>\n",
       "        </table>\n",
       "        "
      ],
      "text/plain": [
       "<Reaction PROTONATP_rev_vc_gc>"
      ]
     },
     "execution_count": null,
     "metadata": {},
     "output_type": "execute_result"
    }
   ],
   "source": [
    "model.reactions.PROTONATP_rev_vc_gc"
   ]
  },
  {
   "cell_type": "code",
   "execution_count": null,
   "metadata": {},
   "outputs": [],
   "source": [
    "add_reaction(model, \"PROTON_ec_gc\", multi=False)\n",
    "model.reactions.PROTON_ec_gc.name = \"Plasma membrane proton leakage\"\n",
    "model.reactions.PROTON_ec_gc.add_metabolites(\n",
    "    {\n",
    "        \"PROTON_e_gc\": -1,\n",
    "        \"PROTON_c_gc\": 1,\n",
    "    }\n",
    ")"
   ]
  },
  {
   "cell_type": "code",
   "execution_count": null,
   "metadata": {},
   "outputs": [],
   "source": [
    "add_reaction(model, \"PROTON_vc_gc\", multi=False)\n",
    "model.reactions.PROTON_vc_gc.name = \"Tonoplast membrane proton leakage\"\n",
    "model.reactions.PROTON_vc_gc.add_metabolites(\n",
    "    {\n",
    "        \"PROTON_v_gc\": -1,\n",
    "        \"PROTON_c_gc\": 1,\n",
    "    }\n",
    ")"
   ]
  },
  {
   "cell_type": "markdown",
   "metadata": {},
   "source": [
    "## Constrain Channels in Guard Cell"
   ]
  },
  {
   "cell_type": "code",
   "execution_count": null,
   "metadata": {},
   "outputs": [],
   "source": [
    "for channel in [\"Cl_ec\", \"K_cv\", \"FRU_PROTON_cv\", \"GLC_PROTON_cv\", \"SUCROSE_cv\"]:\n",
    "    model.reactions.get_by_id(channel + \"_gc\").bounds = 0, 0"
   ]
  },
  {
   "cell_type": "markdown",
   "metadata": {},
   "source": [
    "## Adding apoplast and exchanges"
   ]
  },
  {
   "cell_type": "markdown",
   "metadata": {},
   "source": [
    "In this section we add an apoplastic compartment and set the influx of osmolites to be from this compartment rather than as boundary reactions. "
   ]
  },
  {
   "cell_type": "markdown",
   "metadata": {},
   "source": [
    "### Removing tx_me"
   ]
  },
  {
   "cell_type": "markdown",
   "metadata": {},
   "source": [
    "Here we remove all the boundary reactions from the mesophyll cell except for:\n",
    " - Maintenance reactions\n",
    " - Photon influx\n",
    " - Phloem output\n",
    " - Gas transfer (O2 and CO2)"
   ]
  },
  {
   "cell_type": "code",
   "execution_count": null,
   "metadata": {},
   "outputs": [],
   "source": [
    "tx_me = []\n",
    "for reaction in model.reactions:\n",
    "    if \"_tx_me\" in reaction.id:\n",
    "        tx_me.append(reaction)\n",
    "keep = [\n",
    "    \"Photon_tx_me\",\n",
    "    \"Phloem_output_tx_me\",\n",
    "    \"NADPHox_c_tx_me\",\n",
    "    \"NADPHox_m_tx_me\",\n",
    "    \"NADPHox_p_tx_me\",\n",
    "    \"O2_tx_me\",\n",
    "    \"CO2_tx_me\",\n",
    "    \"ATPase_tx_me\",\n",
    "]\n",
    "for reaction in keep:\n",
    "    tx_me.remove(model.reactions.get_by_id(reaction))\n",
    "\n",
    "model.remove_reactions(tx_me)"
   ]
  },
  {
   "cell_type": "markdown",
   "metadata": {},
   "source": [
    "### Removing tx_gc"
   ]
  },
  {
   "cell_type": "markdown",
   "metadata": {},
   "source": [
    "See above for removing tx_me reactions, only difference is in this case we don't have a phloem output reaction"
   ]
  },
  {
   "cell_type": "code",
   "execution_count": null,
   "metadata": {},
   "outputs": [],
   "source": [
    "tx_gc = []\n",
    "for reaction in model.reactions:\n",
    "    if \"_tx_gc\" in reaction.id:\n",
    "        tx_gc.append(reaction)\n",
    "keep = [\n",
    "    \"Photon_tx_gc\",\n",
    "    \"NADPHox_c_tx_gc\",\n",
    "    \"NADPHox_m_tx_gc\",\n",
    "    \"NADPHox_p_tx_gc\",\n",
    "    \"O2_tx_gc\",\n",
    "    \"CO2_tx_gc\",\n",
    "    \"ATPase_tx_gc\",\n",
    "]\n",
    "for reaction in keep:\n",
    "    tx_gc.remove(model.reactions.get_by_id(reaction))\n",
    "\n",
    "model.remove_reactions(tx_gc)"
   ]
  },
  {
   "cell_type": "markdown",
   "metadata": {},
   "source": [
    "### Adding tx to apo and adding exchanges"
   ]
  },
  {
   "cell_type": "markdown",
   "metadata": {},
   "source": [
    "Now for the species that are present in the extracellular compartment of the guard cell we:\n",
    "- Add the species to the apoplastic compartment with the tag \"a\"\n",
    "- Add a boundary reaction into this compartment for the species\n",
    "- Add a transfer reaction  to allow them to be transferred between the guard cell extracellular compartment and the apoplast\n",
    "- Add a transfer reaction to allow them to be transferred between the mesophyll cell extracellular compartment and the apoplast\n",
    "\n",
    "All these actions are free and reversible, as we are assuming that really the extracellular space and the apoplast are all the same. The apoplastic compartment just gives us an easy way to track influx/efflux of metabolites as well as osmolite levels in that compartment."
   ]
  },
  {
   "cell_type": "code",
   "execution_count": null,
   "metadata": {},
   "outputs": [
    {
     "data": {
      "text/html": [
       "\n",
       "        <table>\n",
       "            <tr>\n",
       "                <td><strong>Metabolite identifier</strong></td><td>FRU_e_me</td>\n",
       "            </tr><tr>\n",
       "                <td><strong>Name</strong></td><td>FRU_e_me</td>\n",
       "            </tr><tr>\n",
       "                <td><strong>Memory address</strong></td>\n",
       "                <td>0x7e0687e36250</td>\n",
       "            </tr><tr>\n",
       "                <td><strong>Formula</strong></td><td>None</td>\n",
       "            </tr><tr>\n",
       "                <td><strong>Compartment</strong></td><td>e</td>\n",
       "            </tr><tr>\n",
       "                <td><strong>In 0 reaction(s)</strong></td><td>\n",
       "                    \n",
       "                    </td>\n",
       "            </tr>\n",
       "        </table>"
      ],
      "text/plain": [
       "<Metabolite FRU_e_me>"
      ]
     },
     "execution_count": null,
     "metadata": {},
     "output_type": "execute_result"
    }
   ],
   "source": [
    "# fructose wasn't in the extracellular compartment of mesophyll before\n",
    "add_metabolite(model, \"FRU_e_me\", \"e\", multi=False)"
   ]
  },
  {
   "cell_type": "code",
   "execution_count": null,
   "metadata": {},
   "outputs": [],
   "source": [
    "add_reaction(model, \"Sucrose_ce_me\", multi=False)  # sucrose transport out of the mesophyll cell wasn't allowed before\n",
    "model.reactions.Sucrose_ce_me.add_metabolites({\"SUCROSE_c_me\": -1, \"SUCROSE_e_me\": 1})"
   ]
  },
  {
   "cell_type": "code",
   "execution_count": null,
   "metadata": {},
   "outputs": [
    {
     "name": "stdout",
     "output_type": "stream",
     "text": [
      "[<Metabolite NITRATE_e_gc>, <Metabolite SUCROSE_e_gc>, <Metabolite WATER_e_gc>, <Metabolite MGII_e_gc>, <Metabolite GLC_e_gc>, <Metabolite PROTON_e_gc>, <Metabolite CARBON_DIOXIDE_e_gc>, <Metabolite CAII_e_gc>, <Metabolite Pi_e_gc>, <Metabolite SULFATE_e_gc>, <Metabolite OXYGEN_MOLECULE_e_gc>, <Metabolite Photon_e_gc>, <Metabolite K_e_gc>, <Metabolite AMMONIUM_e_gc>, <Metabolite Cl_e_gc>, <Metabolite MAL_e_gc>, <Metabolite aMAL_e_gc>, <Metabolite FRU_e_gc>]\n"
     ]
    }
   ],
   "source": [
    "ea_reactions = []\n",
    "for metabolite in model.metabolites:\n",
    "    if \"_e_gc\" in metabolite.id:\n",
    "        ea_reactions.append(metabolite)\n",
    "\n",
    "print(ea_reactions)\n",
    "\n",
    "# don't want these to be transferred in the apoplast, they already have individual boundary reactions in each cell type\n",
    "remove = [\"Photon\", \"OXYGEN_MOLECULE\", \"CARBON_DIOXIDE\", \"PROTON\"]\n",
    "for name in remove:\n",
    "    ea_reactions.remove(model.metabolites.get_by_id(name + \"_e_gc\"))\n",
    "\n",
    "for metabolite in ea_reactions:\n",
    "\n",
    "    add_metabolite(model, metabolite.id[:-4] + \"a\", \"a\", multi=False)\n",
    "    model.metabolites.get_by_id(metabolite.id[:-4] + \"a\").charge = metabolite.charge\n",
    "    model.metabolites.get_by_id(metabolite.id[:-4] + \"a\").notes = metabolite.notes\n",
    "\n",
    "    add_reaction(model, metabolite.id[:-4] + \"a_tx\", multi=False)\n",
    "    model.reactions.get_by_id(metabolite.id[:-4] + \"a_tx\").add_metabolites(\n",
    "        {metabolite.id[:-4] + \"a\": 1}\n",
    "    )\n",
    "    model.reactions.get_by_id(metabolite.id[:-4] + \"a_tx\").lower_bound = -1000\n",
    "\n",
    "    add_reaction(model, metabolite.id[:-4] + \"ae_gc\", multi=False)\n",
    "    model.reactions.get_by_id(metabolite.id[:-4] + \"ae_gc\").add_metabolites(\n",
    "        {metabolite: 1, metabolite.id[:-4] + \"a\": -1}\n",
    "    )\n",
    "    model.reactions.get_by_id(metabolite.id[:-4] + \"ae_gc\").lower_bound = -1000\n",
    "\n",
    "    add_reaction(model, metabolite.id[:-4] + \"ae_me\", multi=False)\n",
    "    model.reactions.get_by_id(metabolite.id[:-4] + \"ae_me\").add_metabolites(\n",
    "        {metabolite.id[:-4] + \"e_me\": 1, metabolite.id[:-4] + \"a\": -1}\n",
    "    )\n",
    "    model.reactions.get_by_id(metabolite.id[:-4] + \"ae_me\").lower_bound = -1000"
   ]
  },
  {
   "cell_type": "markdown",
   "metadata": {},
   "source": [
    "### List of all boundary reactions:"
   ]
  },
  {
   "cell_type": "code",
   "execution_count": null,
   "metadata": {},
   "outputs": [
    {
     "name": "stdout",
     "output_type": "stream",
     "text": [
      "Photon_tx_me\n",
      "Photon_tx_gc\n",
      "NADPHox_m_tx_me\n",
      "NADPHox_m_tx_gc\n",
      "CO2_tx_me\n",
      "CO2_tx_gc\n",
      "O2_tx_me\n",
      "O2_tx_gc\n",
      "Phloem_output_tx_me\n",
      "NADPHox_c_tx_me\n",
      "NADPHox_c_tx_gc\n",
      "ATPase_tx_me\n",
      "ATPase_tx_gc\n",
      "NADPHox_p_tx_me\n",
      "NADPHox_p_tx_gc\n",
      "NITRATE_a_tx\n",
      "SUCROSE_a_tx\n",
      "WATER_a_tx\n",
      "MGII_a_tx\n",
      "GLC_a_tx\n",
      "CAII_a_tx\n",
      "Pi_a_tx\n",
      "SULFATE_a_tx\n",
      "K_a_tx\n",
      "AMMONIUM_a_tx\n",
      "Cl_a_tx\n",
      "MAL_a_tx\n",
      "aMAL_a_tx\n",
      "FRU_a_tx\n"
     ]
    }
   ],
   "source": [
    "for reaction in model.reactions:\n",
    "    if \"_tx\" in reaction.id:\n",
    "        print(reaction.id)"
   ]
  },
  {
   "cell_type": "markdown",
   "metadata": {},
   "source": [
    "## Constrain free exchange and starch breakdown"
   ]
  },
  {
   "cell_type": "markdown",
   "metadata": {},
   "source": [
    "Prevent:\n",
    "- Free import into the apoplast of energy-carrying metabolites like Glucose, malate, sucrose, fructose. \n",
    "- Free exchange of protons.\n",
    "- Alpha-glucosidase starch degradation pathway as it isn't used"
   ]
  },
  {
   "cell_type": "code",
   "execution_count": null,
   "metadata": {},
   "outputs": [],
   "source": [
    "for reaction in [\n",
    "    \"GLC_a_tx\",\n",
    "    \"MAL_a_tx\",\n",
    "    \"SUCROSE_a_tx\",\n",
    "    \"FRU_a_tx\",\n",
    "    \"RXN_1826_p_me\",\n",
    "    \"RXN_1826_p_gc\",\n",
    "    \"MALTODEXGLUCOSID_RXN_p_me\",\n",
    "    \"MALTODEXGLUCOSID_RXN_p_gc\",\n",
    "]:\n",
    "    model.reactions.get_by_id(reaction).bounds = (0, 0)"
   ]
  },
  {
   "cell_type": "markdown",
   "metadata": {},
   "source": [
    "## Quadruple model into 4 phases"
   ]
  },
  {
   "cell_type": "code",
   "execution_count": null,
   "metadata": {},
   "outputs": [],
   "source": [
    "split_model(model, range(1, 5))"
   ]
  },
  {
   "cell_type": "markdown",
   "metadata": {},
   "source": [
    "## Add Linker Reactions With Pseudometabolites (Osmolarity and Charge)"
   ]
  },
  {
   "cell_type": "markdown",
   "metadata": {},
   "source": [
    "```{important}\n",
    "Set phase times here\n",
    "```"
   ]
  },
  {
   "cell_type": "code",
   "execution_count": null,
   "metadata": {},
   "outputs": [],
   "source": [
    "compartments = [\"c\", \"v\", \"p\", \"a\"]\n",
    "\n",
    "cells = [\n",
    "    \"gc\",\n",
    "    \"me\",\n",
    "]\n",
    "phase_times = [6.0, 0.5, 11.5, 6.0]"
   ]
  },
  {
   "cell_type": "code",
   "execution_count": null,
   "metadata": {},
   "outputs": [],
   "source": [
    "add_linkers(model, \"../inputs/osmolytes.csv\", compartments, cells, phase_times)"
   ]
  },
  {
   "cell_type": "code",
   "execution_count": null,
   "metadata": {},
   "outputs": [],
   "source": [
    "prefix_metabolites = {\n",
    "    \"a\": {\n",
    "        \"v_gc\": {\n",
    "            \"MAL\": 0.7,\n",
    "            \"CIT\": 0.5,\n",
    "        },\n",
    "        \"a\": {\n",
    "            \"MAL\": 0.7,\n",
    "        },\n",
    "        \"v_me\": {\n",
    "            \"MAL\": 0.7,\n",
    "            \"CIT\": 0.5,\n",
    "        },\n",
    "    },\n",
    "    \"b\": {\"v_me\": {\"HIS\": 0}, \"v_gc\": {\"HIS\": 0}},\n",
    "}"
   ]
  },
  {
   "cell_type": "code",
   "execution_count": null,
   "metadata": {},
   "outputs": [],
   "source": [
    "for prefix, compartments in prefix_metabolites.items():\n",
    "    for compartment, metabolites in compartments.items():\n",
    "        for metabolite, ratio in metabolites.items():\n",
    "            if ratio == 0:\n",
    "                set_bounds_multi(\n",
    "                    model, metabolite + \"_\" + compartment + \"_Linker\", 0, 0\n",
    "                )\n",
    "            elif ratio == 1:\n",
    "                set_bounds_multi(\n",
    "                    prefix + model, metabolite + \"_\" + compartment + \"_Linker\", 0, 0\n",
    "                )\n",
    "            else:\n",
    "                add_metabolite(\n",
    "                    model, metabolite + \"_\" + compartment + \"_prefixpseudometabolite\"\n",
    "                )\n",
    "                for phase in range(check_number_of_models(model)):\n",
    "                    model.reactions.get_by_id(\n",
    "                        f\"{metabolite}_{compartment}_Linker_\" + str(phase + 1)\n",
    "                    ).add_metabolites(\n",
    "                        {\n",
    "                            model.metabolites.get_by_id(\n",
    "                                f\"{metabolite}_{compartment}_prefixpseudometabolite_\" +\n",
    "                                str(phase + 1)\n",
    "                            ): 1 -\n",
    "                            ratio\n",
    "                        }\n",
    "                    )\n",
    "                    model.reactions.get_by_id(\n",
    "                        f\"{prefix}{metabolite}_{compartment}_Linker_\" + str(phase + 1)\n",
    "                    ).add_metabolites(\n",
    "                        {\n",
    "                            model.metabolites.get_by_id(\n",
    "                                f\"{metabolite}_{compartment}_prefixpseudometabolite_\"\n",
    "                                + str(phase + 1)\n",
    "                            ): -ratio\n",
    "                        }\n",
    "                    )"
   ]
  },
  {
   "cell_type": "markdown",
   "metadata": {},
   "source": [
    "## Add Maintenance Reactions"
   ]
  },
  {
   "cell_type": "markdown",
   "metadata": {},
   "source": [
    "Remove maintenance phase constraint (no forcing same maintenance for each phase)"
   ]
  },
  {
   "cell_type": "code",
   "execution_count": null,
   "metadata": {},
   "outputs": [],
   "source": [
    "number_of_models = check_number_of_models(model)\n",
    "for cell in [\"gc\", \"me\"]:\n",
    "    add_metabolite(model, \"maintenance_ratio_constraint_\" + cell, \"pseudo\")\n",
    "    #add_metabolite(model, \"maintenance_phase_constraint_\" + cell, \"pseudo\")\n",
    "    add_reaction(model, \"maintenance_phase_overall_\" + cell, multi=\"\")\n",
    "    for i in range(1, number_of_models + 1):\n",
    "        for x in [\"c\", \"m\", \"p\"]:\n",
    "            reaction = model.reactions.get_by_id(f\"NADPHox_{x}_tx_{cell}_\" + str(i))\n",
    "            reaction.add_metabolites(\n",
    "                {f\"maintenance_ratio_constraint_{cell}_\" + str(i): -3}\n",
    "            )\n",
    "        reaction = model.reactions.get_by_id(f\"ATPase_tx_{cell}_\" + str(i))\n",
    "        reaction.add_metabolites(\n",
    "            {\n",
    "                f\"maintenance_ratio_constraint_{cell}_\" + str(i): 1,\n",
    "                #f\"maintenance_phase_constraint_{cell}_\" + str(i): 1,\n",
    "            }\n",
    "        )\n",
    "        #model.reactions.get_by_id(f\"maintenance_phase_overall_{cell}\").add_metabolites(\n",
    "        #    {f\"maintenance_phase_constraint_{cell}_\" + str(i): -1}\n",
    "        #)"
   ]
  },
  {
   "cell_type": "markdown",
   "metadata": {},
   "source": [
    "## Add Phloem_tx Overall"
   ]
  },
  {
   "cell_type": "code",
   "execution_count": null,
   "metadata": {},
   "outputs": [],
   "source": [
    "number_of_models = check_number_of_models(model)\n",
    "day = [2, 3]\n",
    "night = [1, 4]\n",
    "add_metabolite(model, \"pseudoPhloem_me\", \"pseudo\")\n",
    "add_metabolite(model, \"pseudoPhloem_day_me\", \"pseudo\", multi=\"\")\n",
    "add_metabolite(model, \"pseudoPhloem_night_me\", \"pseudo\", multi=\"\")\n",
    "add_reaction(model, \"Phloem_constraint_day\", multi=\"\")\n",
    "add_reaction(model, \"Phloem_constraint_night\", multi=\"\")\n",
    "add_reaction(model, \"Phloem_tx_overall\", multi=\"\")\n",
    "for i in range(1, number_of_models + 1):\n",
    "    length_of_phase = 1 / (\n",
    "        -model.reactions.get_by_id(f\"SUCROSE_v_gc_Linker_{i}\").get_coefficient(\n",
    "            f\"SUCROSE_v_gc_{i}\"\n",
    "        )\n",
    "    )\n",
    "    model.reactions.get_by_id(f\"Phloem_output_tx_me_{i}\").add_metabolites(\n",
    "        {f\"pseudoPhloem_me_{i}\": 1}\n",
    "    )\n",
    "    if i in day:\n",
    "        model.reactions.get_by_id(f\"Phloem_output_tx_me_{i}\").add_metabolites(\n",
    "            {\"pseudoPhloem_day_me\": 1 * length_of_phase}\n",
    "        )\n",
    "        model.reactions.Phloem_constraint_day.add_metabolites(\n",
    "            {f\"pseudoPhloem_me_{i}\": -1}\n",
    "        )\n",
    "    elif i in night:\n",
    "        model.reactions.get_by_id(f\"Phloem_output_tx_me_{i}\").add_metabolites(\n",
    "            {\"pseudoPhloem_night_me\": 1 * length_of_phase}\n",
    "        )\n",
    "        model.reactions.Phloem_constraint_night.add_metabolites(\n",
    "            {f\"pseudoPhloem_me_{i}\": -1}\n",
    "        )\n",
    "    else:\n",
    "        raise ValueError(\"Make sure all phases are either assigned to day or night\")\n",
    "model.reactions.Phloem_constraint_day.add_metabolites({})\n",
    "model.reactions.Phloem_tx_overall.add_metabolites(\n",
    "    {\n",
    "        \"pseudoPhloem_day_me\": -3,\n",
    "        \"pseudoPhloem_night_me\": -1,\n",
    "    }\n",
    ")"
   ]
  },
  {
   "cell_type": "markdown",
   "metadata": {},
   "source": [
    "## Add pseudoreactions for total metabolite counting and FVA "
   ]
  },
  {
   "cell_type": "markdown",
   "metadata": {},
   "source": [
    "Essentially, here we add a 'total' pseudometabolite in the guard cel for each of a list of metabolites. We can use this metabolite to see the sum of the linker reactions for the vacuole and cytoplasm, but most importantly we can perform FVA on this reaction to see if the total transfer of a metabolite matters. Otherwise, we end up in a situation where we can do FVA on the cytoplasmic and vacuolar reactions separately but it could be the case that when cytoplasm goes down the vacuole compensates etc."
   ]
  },
  {
   "cell_type": "markdown",
   "metadata": {},
   "source": [
    "```{important}\n",
    "\"total\" added as keyword to getweightings in order to prevent these reactions from contributing to sum of fluxes constraint\n",
    "```"
   ]
  },
  {
   "cell_type": "code",
   "execution_count": null,
   "metadata": {},
   "outputs": [],
   "source": [
    "metabolites = [\"SUCROSE\", \"GLC\", \"MAL\", \"FRU\", \"K\", \"Cl\", \"CIT\"]  # \"NITRATE\", \"CIT\"]\n",
    "\n",
    "\n",
    "for metabolite in metabolites:\n",
    "    if metabolite == \"MAL\" or metabolite == \"CIT\":\n",
    "        add_reaction(model, f\"{metabolite}_total_pseudolinker\")\n",
    "        add_metabolite(model, f\"{metabolite}_total_pseudometabolite\")\n",
    "        add_metabolites_to_reaction_multi(\n",
    "            model,\n",
    "            f\"{metabolite}_total_pseudolinker\",\n",
    "            {f\"{metabolite}_total_pseudometabolite\": -1},\n",
    "        )\n",
    "        add_metabolites_to_reaction_multi(\n",
    "            model,\n",
    "            f\"{metabolite}_c_gc_Linker\",\n",
    "            {f\"{metabolite}_total_pseudometabolite\": 1},\n",
    "        )\n",
    "        add_metabolites_to_reaction_multi(\n",
    "            model,\n",
    "            f\"{metabolite}_v_gc_Linker\",\n",
    "            {f\"{metabolite}_total_pseudometabolite\": 1},\n",
    "        )\n",
    "        add_metabolites_to_reaction_multi(\n",
    "            model,\n",
    "            f\"a{metabolite}_v_gc_Linker\",\n",
    "            {f\"{metabolite}_total_pseudometabolite\": 1},\n",
    "        )\n",
    "    else:\n",
    "        add_reaction(model, f\"{metabolite}_total_pseudolinker\")\n",
    "        add_metabolite(model, f\"{metabolite}_total_pseudometabolite\")\n",
    "        add_metabolites_to_reaction_multi(\n",
    "            model,\n",
    "            f\"{metabolite}_total_pseudolinker\",\n",
    "            {f\"{metabolite}_total_pseudometabolite\": -1},\n",
    "        )\n",
    "        add_metabolites_to_reaction_multi(\n",
    "            model,\n",
    "            f\"{metabolite}_c_gc_Linker\",\n",
    "            {f\"{metabolite}_total_pseudometabolite\": 1},\n",
    "        )\n",
    "        add_metabolites_to_reaction_multi(\n",
    "            model,\n",
    "            f\"{metabolite}_v_gc_Linker\",\n",
    "            {f\"{metabolite}_total_pseudometabolite\": 1},\n",
    "        )"
   ]
  },
  {
   "cell_type": "markdown",
   "metadata": {},
   "source": [
    "## Export Model"
   ]
  },
  {
   "cell_type": "code",
   "execution_count": null,
   "metadata": {},
   "outputs": [],
   "source": [
    "cobra.io.write_sbml_model(model, \"../models/4_stage_GC.xml\")\n",
    "cobra.io.save_json_model(model, \"../models/4_stage_GC.json\")"
   ]
  }
 ],
 "metadata": {
  "kernelspec": {
   "display_name": "python3",
   "language": "python",
   "name": "python3"
  }
 },
 "nbformat": 4,
 "nbformat_minor": 4
}
