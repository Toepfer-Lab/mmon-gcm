{
 "cells": [
  {
   "cell_type": "raw",
   "id": "ae81f27e",
   "metadata": {},
   "source": [
    "---\n",
    "output-file: runalternativemodes.html\n",
    "skip_showdoc: true\n",
    "---\n",
    "\n"
   ]
  },
  {
   "cell_type": "markdown",
   "id": "65521110-61df-4a70-b617-b15bd39acb73",
   "metadata": {},
   "source": [
    "# Run alternative flux modes simulations"
   ]
  },
  {
   "cell_type": "code",
   "execution_count": 1,
   "id": "d25b5916-6b34-47a2-b85c-bc5d3c304aa4",
   "metadata": {},
   "outputs": [],
   "source": [
    "# | default_exp runalternativemodes"
   ]
  },
  {
   "cell_type": "markdown",
   "id": "288ed0e6-8447-4ceb-96a3-45217b88dae4",
   "metadata": {},
   "source": [
    "As with runconstraintscan.py, this notebook can either be run as a notebook, or using nbdev a python script is produced that can be run in the command line for easier running on e.g. a cluster. It is a notebook in the nbs directory that is symlinked in the nbs/functions directory in order to be exported as a .py file in the mmon-gcm library."
   ]
  },
  {
   "cell_type": "markdown",
   "id": "9144fa87-629a-4334-bc93-a5884a5703f5",
   "metadata": {},
   "source": [
    "NOTE: I have had issues where for an unknown reason the code hangs while solving. In this case I can check the temporary files to see which solutions are missing and run it again to just get those. For the paper, the blue light, unconstrained, KO solution number 348 hangs with a tolerance of 1e-8 and says infeasible for a tolerance of 1e-7. So the solution list is constructed from combining the remaining temporary files rather than all in one go. "
   ]
  },
  {
   "cell_type": "code",
   "execution_count": 2,
   "id": "064fad5c-58d3-4517-bced-5e3ac5720894",
   "metadata": {},
   "outputs": [],
   "source": [
    "# | export\n",
    "\n",
    "import os\n",
    "import shutil\n",
    "import sys\n",
    "from pathlib import Path\n",
    "\n",
    "import cobra\n",
    "\n",
    "# from x import y syntax doesn't work because of nbdev export format\n",
    "import mmon_gcm.alternativemodes\n",
    "import mmon_gcm.buildingediting\n",
    "import mmon_gcm.supermodel\n",
    "import pandas as pd\n",
    "from pandarallel import pandarallel"
   ]
  },
  {
   "cell_type": "code",
   "execution_count": 3,
   "id": "84a299dd-8b93-40f0-9c42-11d86f5531dc",
   "metadata": {},
   "outputs": [],
   "source": [
    "# This cell isn't exported to the .py file, so define here if running in notebook rather than as .py on e.g.a cluster\n",
    "\n",
    "sys.argv = [\n",
    "    \"script_name\",\n",
    "    \"../outputs/alternative_weighting/test_solution.csv\",\n",
    "    \"../models/4_stage_GC.json\",\n",
    "    \"../outputs/alternative_weighting/alternative_weights.csv\",\n",
    "    \"../inputs/arabidopsis_parameters.csv\",\n",
    "    \"blue\",\n",
    "    \"False\",\n",
    "    \"True\",\n",
    "    \"2\",\n",
    "]"
   ]
  },
  {
   "cell_type": "code",
   "execution_count": 4,
   "id": "5b1902e9-9e35-4eb9-a939-cda46e7e8054",
   "metadata": {},
   "outputs": [],
   "source": [
    "# | export\n",
    "\n",
    "results_path = sys.argv[1]\n",
    "model_path = sys.argv[2]\n",
    "weightings_csv = sys.argv[3]\n",
    "parameters_csv = sys.argv[4]\n",
    "light_colour = sys.argv[5]\n",
    "atpase_constraint = sys.argv[6]\n",
    "starch_knockout = sys.argv[7]\n",
    "no_cores = int(sys.argv[8])"
   ]
  },
  {
   "cell_type": "code",
   "execution_count": 5,
   "id": "45780526-ed0c-44c7-b67b-1639b8b22e64",
   "metadata": {},
   "outputs": [],
   "source": [
    "# | export\n",
    "\n",
    "if light_colour != \"blue\" and light_colour != \"white\" and light_colour != \"nops\":\n",
    "    raise ValueError(\n",
    "        f\"Please specify either 'blue' or 'white' or 'nops' for light, not {light_colour}\"\n",
    "    )\n",
    "\n",
    "if atpase_constraint == \"True\":\n",
    "    atpase_constraint = True\n",
    "elif atpase_constraint == \"False\":\n",
    "    atpase_constraint = False\n",
    "else:\n",
    "    raise ValueError(\n",
    "        f\"Please specify True or False for the ATPase constraint, not {atpase_constraint}\"\n",
    "    )\n",
    "\n",
    "if starch_knockout == \"True\":\n",
    "    starch_knockout = True\n",
    "elif starch_knockout == \"False\":\n",
    "    starch_knockout = False\n",
    "else:\n",
    "    raise ValueError(\n",
    "        f\"Please specify True or False for the starck knockout, not {starch_knockout}\"\n",
    "    )"
   ]
  },
  {
   "cell_type": "code",
   "execution_count": 6,
   "id": "8504c3aa-8c7d-4861-b071-421d56c37b2a",
   "metadata": {},
   "outputs": [
    {
     "name": "stdout",
     "output_type": "stream",
     "text": [
      "Model imported\n"
     ]
    }
   ],
   "source": [
    "# | export\n",
    "\n",
    "model = cobra.io.load_json_model(model_path)\n",
    "print(\"Model imported\")"
   ]
  },
  {
   "cell_type": "code",
   "execution_count": 9,
   "id": "2472101a-b580-436a-bfee-846ff39e5015",
   "metadata": {},
   "outputs": [
    {
     "data": {
      "text/html": [
       "\n",
       "        <table>\n",
       "            <tr>\n",
       "                <td><strong>Reaction identifier</strong></td><td>GLC_c_gc_Linker_2</td>\n",
       "            </tr><tr>\n",
       "                <td><strong>Name</strong></td><td>GLC_c_gc_Linker_2</td>\n",
       "            </tr><tr>\n",
       "                <td><strong>Memory address</strong></td>\n",
       "                <td>0x7ff5e4fd9310</td>\n",
       "            </tr><tr>\n",
       "                <td><strong>Stoichiometry</strong></td>\n",
       "                <td>\n",
       "                    <p style='text-align:right'>2.0 GLC_c_gc_2 --> 0.08695652173913043 GLC_c_gc_3 + GLC_total_pseudometabolite_2 + pseudoOs_c_gc_2</p>\n",
       "                    <p style='text-align:right'>2.0 GLC_gc_2 --> 0.08695652173913043 GLC_gc_3 + GLC_total_pseudometabolite_2 + pseudoOs_c_gc_2</p>\n",
       "                </td>\n",
       "            </tr><tr>\n",
       "                <td><strong>GPR</strong></td><td></td>\n",
       "            </tr><tr>\n",
       "                <td><strong>Lower bound</strong></td><td>0.0</td>\n",
       "            </tr><tr>\n",
       "                <td><strong>Upper bound</strong></td><td>1000.0</td>\n",
       "            </tr>\n",
       "        </table>\n",
       "        "
      ],
      "text/plain": [
       "<Reaction GLC_c_gc_Linker_2 at 0x7ff5e4fd9310>"
      ]
     },
     "execution_count": 9,
     "metadata": {},
     "output_type": "execute_result"
    }
   ],
   "source": [
    "model.reactions.GLC_c_gc_Linker_2"
   ]
  },
  {
   "cell_type": "code",
   "execution_count": 6,
   "id": "36b655ff-531b-4657-b560-8537ca008e57",
   "metadata": {},
   "outputs": [
    {
     "name": "stdout",
     "output_type": "stream",
     "text": [
      "1e-07\n",
      "1e-07\n",
      "1e-08\n"
     ]
    }
   ],
   "source": [
    "# | export\n",
    "\n",
    "print(model.solver.configuration.tolerances.integrality)\n",
    "print(model.solver.configuration.tolerances.feasibility)\n",
    "model.solver.configuration.tolerances.feasibility = (\n",
    "    1e-8  # 1e-9 takes a long time to solve\n",
    ")\n",
    "print(model.solver.configuration.tolerances.feasibility)"
   ]
  },
  {
   "cell_type": "code",
   "execution_count": 7,
   "id": "df2b481e-e48b-46d8-afcd-1619144cf416",
   "metadata": {},
   "outputs": [],
   "source": [
    "# | export\n",
    "\n",
    "parameters_df = pd.read_csv(parameters_csv, index_col=0)"
   ]
  },
  {
   "cell_type": "code",
   "execution_count": 8,
   "id": "fbe7d1ce-2cfe-43f8-98df-5955baa9a635",
   "metadata": {},
   "outputs": [
    {
     "data": {
      "text/html": [
       "<div>\n",
       "<style scoped>\n",
       "    .dataframe tbody tr th:only-of-type {\n",
       "        vertical-align: middle;\n",
       "    }\n",
       "\n",
       "    .dataframe tbody tr th {\n",
       "        vertical-align: top;\n",
       "    }\n",
       "\n",
       "    .dataframe thead th {\n",
       "        text-align: right;\n",
       "    }\n",
       "</style>\n",
       "<table border=\"1\" class=\"dataframe\">\n",
       "  <thead>\n",
       "    <tr style=\"text-align: right;\">\n",
       "      <th></th>\n",
       "      <th>Value</th>\n",
       "      <th>Units</th>\n",
       "      <th>Source</th>\n",
       "    </tr>\n",
       "  </thead>\n",
       "  <tbody>\n",
       "    <tr>\n",
       "      <th>P_abs</th>\n",
       "      <td>9.000000e-01</td>\n",
       "      <td>Dimensionless</td>\n",
       "      <td>Zhu, Long, and Ort (2010)</td>\n",
       "    </tr>\n",
       "    <tr>\n",
       "      <th>T_l</th>\n",
       "      <td>1.700000e-04</td>\n",
       "      <td>m</td>\n",
       "      <td>Wuyts et al. (2010)</td>\n",
       "    </tr>\n",
       "    <tr>\n",
       "      <th>A_l</th>\n",
       "      <td>1.000000e+00</td>\n",
       "      <td>m$^2$</td>\n",
       "      <td>Fixed</td>\n",
       "    </tr>\n",
       "    <tr>\n",
       "      <th>V_gc_ind</th>\n",
       "      <td>4.750000e-13</td>\n",
       "      <td>dm$^3$</td>\n",
       "      <td>Jezek and Blatt (2017)</td>\n",
       "    </tr>\n",
       "    <tr>\n",
       "      <th>FqFm</th>\n",
       "      <td>9.000000e-01</td>\n",
       "      <td>Dimensionless</td>\n",
       "      <td>Lawson (2003)</td>\n",
       "    </tr>\n",
       "    <tr>\n",
       "      <th>R_ch</th>\n",
       "      <td>6.923077e-02</td>\n",
       "      <td>Dimensionless</td>\n",
       "      <td>Fujiwara, Sanjaya, and Itoh (2019)</td>\n",
       "    </tr>\n",
       "    <tr>\n",
       "      <th>L_air</th>\n",
       "      <td>3.700000e-01</td>\n",
       "      <td>Dimensionless</td>\n",
       "      <td>Earles et al. (2018)</td>\n",
       "    </tr>\n",
       "    <tr>\n",
       "      <th>L_epidermis</th>\n",
       "      <td>1.500000e-01</td>\n",
       "      <td>Dimensionless</td>\n",
       "      <td>Wuyts et al. (2010)</td>\n",
       "    </tr>\n",
       "    <tr>\n",
       "      <th>Vac_frac</th>\n",
       "      <td>7.510000e-01</td>\n",
       "      <td>Dimensionless</td>\n",
       "      <td>Wang et al. (2017)</td>\n",
       "    </tr>\n",
       "    <tr>\n",
       "      <th>T</th>\n",
       "      <td>2.961500e+02</td>\n",
       "      <td>K</td>\n",
       "      <td>Horrer et al. (2016)</td>\n",
       "    </tr>\n",
       "    <tr>\n",
       "      <th>R</th>\n",
       "      <td>8.205000e-02</td>\n",
       "      <td>dm$^3$$\\cdot$atm$\\cdot$K$^{-1}$$\\cdot$mol$^{-1}$</td>\n",
       "      <td>Tiesinga et al. (2019)</td>\n",
       "    </tr>\n",
       "    <tr>\n",
       "      <th>N_gcs</th>\n",
       "      <td>5.800000e+08</td>\n",
       "      <td>GCs$\\cdot$m$^{-2}$</td>\n",
       "      <td>Papanatsiou, Amtmann, and Blatt (2016)</td>\n",
       "    </tr>\n",
       "    <tr>\n",
       "      <th>n</th>\n",
       "      <td>2.500000e+00</td>\n",
       "      <td>atm</td>\n",
       "      <td>Wang et al. (2017)</td>\n",
       "    </tr>\n",
       "    <tr>\n",
       "      <th>m</th>\n",
       "      <td>8.000000e-01</td>\n",
       "      <td>atm$\\cdot$µm$^{-1}$</td>\n",
       "      <td>Wang et al. (2017)</td>\n",
       "    </tr>\n",
       "    <tr>\n",
       "      <th>r</th>\n",
       "      <td>5.000000e-14</td>\n",
       "      <td>dm$^3$ µm$^{-1}$</td>\n",
       "      <td>Wang et al. (2017)</td>\n",
       "    </tr>\n",
       "    <tr>\n",
       "      <th>s</th>\n",
       "      <td>3.000000e-13</td>\n",
       "      <td>dm$^3$</td>\n",
       "      <td>Wang et al. (2017)</td>\n",
       "    </tr>\n",
       "    <tr>\n",
       "      <th>C_apo</th>\n",
       "      <td>2.302007e-02</td>\n",
       "      <td>mol$\\cdot$dm$^{-3}$</td>\n",
       "      <td>Wang et al. (2017)</td>\n",
       "    </tr>\n",
       "    <tr>\n",
       "      <th>A_closed</th>\n",
       "      <td>1.600000e+00</td>\n",
       "      <td>µm</td>\n",
       "      <td>Horrer et al. (2016)</td>\n",
       "    </tr>\n",
       "    <tr>\n",
       "      <th>A_open</th>\n",
       "      <td>2.750000e+00</td>\n",
       "      <td>µm</td>\n",
       "      <td>Horrer et al. (2016)</td>\n",
       "    </tr>\n",
       "  </tbody>\n",
       "</table>\n",
       "</div>"
      ],
      "text/plain": [
       "                    Value                                             Units  \\\n",
       "P_abs        9.000000e-01                                     Dimensionless   \n",
       "T_l          1.700000e-04                                                 m   \n",
       "A_l          1.000000e+00                                             m$^2$   \n",
       "V_gc_ind     4.750000e-13                                            dm$^3$   \n",
       "FqFm         9.000000e-01                                     Dimensionless   \n",
       "R_ch         6.923077e-02                                     Dimensionless   \n",
       "L_air        3.700000e-01                                     Dimensionless   \n",
       "L_epidermis  1.500000e-01                                     Dimensionless   \n",
       "Vac_frac     7.510000e-01                                     Dimensionless   \n",
       "T            2.961500e+02                                                 K   \n",
       "R            8.205000e-02  dm$^3$$\\cdot$atm$\\cdot$K$^{-1}$$\\cdot$mol$^{-1}$   \n",
       "N_gcs        5.800000e+08                                GCs$\\cdot$m$^{-2}$   \n",
       "n            2.500000e+00                                               atm   \n",
       "m            8.000000e-01                               atm$\\cdot$µm$^{-1}$   \n",
       "r            5.000000e-14                                  dm$^3$ µm$^{-1}$   \n",
       "s            3.000000e-13                                            dm$^3$   \n",
       "C_apo        2.302007e-02                               mol$\\cdot$dm$^{-3}$   \n",
       "A_closed     1.600000e+00                                                µm   \n",
       "A_open       2.750000e+00                                                µm   \n",
       "\n",
       "                                             Source  \n",
       "P_abs                     Zhu, Long, and Ort (2010)  \n",
       "T_l                             Wuyts et al. (2010)  \n",
       "A_l                                           Fixed  \n",
       "V_gc_ind                     Jezek and Blatt (2017)  \n",
       "FqFm                                  Lawson (2003)  \n",
       "R_ch             Fujiwara, Sanjaya, and Itoh (2019)  \n",
       "L_air                          Earles et al. (2018)  \n",
       "L_epidermis                     Wuyts et al. (2010)  \n",
       "Vac_frac                         Wang et al. (2017)  \n",
       "T                              Horrer et al. (2016)  \n",
       "R                            Tiesinga et al. (2019)  \n",
       "N_gcs        Papanatsiou, Amtmann, and Blatt (2016)  \n",
       "n                                Wang et al. (2017)  \n",
       "m                                Wang et al. (2017)  \n",
       "r                                Wang et al. (2017)  \n",
       "s                                Wang et al. (2017)  \n",
       "C_apo                            Wang et al. (2017)  \n",
       "A_closed                       Horrer et al. (2016)  \n",
       "A_open                         Horrer et al. (2016)  "
      ]
     },
     "execution_count": 8,
     "metadata": {},
     "output_type": "execute_result"
    }
   ],
   "source": [
    "parameters_df"
   ]
  },
  {
   "cell_type": "code",
   "execution_count": 9,
   "id": "fc4f17aa-a414-40bb-a5db-d3b454af9d82",
   "metadata": {},
   "outputs": [],
   "source": [
    "# | export\n",
    "\n",
    "arabidopsis_supermodel = mmon_gcm.supermodel.SuperModel(\n",
    "    parameters_df.loc[:, \"Value\"], fba_model=model\n",
    ")\n",
    "arabidopsis_supermodel.constrain_osmolarity(printouts=False)\n",
    "arabidopsis_supermodel.constrain_photons(150, printouts=False)\n",
    "arabidopsis_supermodel.add_maintenance();"
   ]
  },
  {
   "cell_type": "markdown",
   "id": "9454f281-772f-47ec-a13d-32c827b323c4",
   "metadata": {},
   "source": [
    "## Constrain light, ATPase, starch"
   ]
  },
  {
   "cell_type": "code",
   "execution_count": 10,
   "id": "4e214bce-0a6e-42db-af0e-17c31307d102",
   "metadata": {},
   "outputs": [
    {
     "name": "stdout",
     "output_type": "stream",
     "text": [
      "Model constrained with blue light\n",
      "Model ATPase left unconstrained\n",
      "Model starch knocked out\n",
      "Supermodel established and model constrained\n"
     ]
    }
   ],
   "source": [
    "# | export\n",
    "\n",
    "if light_colour == \"blue\":\n",
    "    arabidopsis_supermodel.fba_model.reactions.Photon_tx_gc_2.upper_bound = 0\n",
    "    arabidopsis_supermodel.fba_model.reactions.Photon_tx_me_2.upper_bound = 0\n",
    "    print(\"Model constrained with blue light\")\n",
    "elif light_colour == \"nops\":\n",
    "    mmon_gcm.buildingediting.set_bounds_multi(\n",
    "        arabidopsis_supermodel.fba_model, \"Photon_tx_gc\", 0, 0\n",
    "    )\n",
    "    print(\"Photosynthesis prevented in guard cell\")\n",
    "else:\n",
    "    print(\"Model constrained with white light\")\n",
    "\n",
    "if atpase_constraint == True:\n",
    "    gc_atpase_upper_bound = arabidopsis_supermodel.get_atpase_constraint_value(7.48)\n",
    "    mmon_gcm.buildingediting.set_bounds_multi(\n",
    "        arabidopsis_supermodel.fba_model, \"PROTON_ATPase_c_gc\", 0, gc_atpase_upper_bound\n",
    "    )\n",
    "    print(\"Model ATPase constrained\")\n",
    "else:\n",
    "    print(\"Model ATPase left unconstrained\")\n",
    "\n",
    "if starch_knockout == True:\n",
    "    mmon_gcm.buildingediting.set_bounds_multi(\n",
    "        arabidopsis_supermodel.fba_model, \"RXN_1827_p_gc\", 0, 0\n",
    "    )\n",
    "    print(\"Model starch knocked out\")\n",
    "else:\n",
    "    print(\"Model starch left unconstrained\")\n",
    "\n",
    "print(\"Supermodel established and model constrained\")"
   ]
  },
  {
   "cell_type": "code",
   "execution_count": 13,
   "id": "03e09dd8-51d8-4fb5-bb61-6e15f97d562d",
   "metadata": {},
   "outputs": [
    {
     "name": "stdout",
     "output_type": "stream",
     "text": [
      "Weightings file imported\n"
     ]
    }
   ],
   "source": [
    "# | export\n",
    "weightings = pd.read_csv(weightings_csv, index_col=[0], header=[0])\n",
    "print(\"Weightings file imported\")"
   ]
  },
  {
   "cell_type": "markdown",
   "id": "999da536-07c6-4e62-b2ba-2edb62989bc9",
   "metadata": {},
   "source": [
    "**If you are running from notebook you'll want to comment out the next cell! It's here so that running nbdev tests doesn't take too long, as they test running the entire notebook. It won't be exported so running as a script will be fine**"
   ]
  },
  {
   "cell_type": "code",
   "execution_count": 12,
   "id": "5d31553c-ee9f-419c-b904-67f492140278",
   "metadata": {},
   "outputs": [
    {
     "data": {
      "text/html": [
       "<div>\n",
       "<style scoped>\n",
       "    .dataframe tbody tr th:only-of-type {\n",
       "        vertical-align: middle;\n",
       "    }\n",
       "\n",
       "    .dataframe tbody tr th {\n",
       "        vertical-align: top;\n",
       "    }\n",
       "\n",
       "    .dataframe thead th {\n",
       "        text-align: right;\n",
       "    }\n",
       "</style>\n",
       "<table border=\"1\" class=\"dataframe\">\n",
       "  <thead>\n",
       "    <tr style=\"text-align: right;\">\n",
       "      <th></th>\n",
       "      <th>10_FORMYL_THF_pc_gc_1</th>\n",
       "      <th>10_FORMYL_THF_pc_gc_2</th>\n",
       "      <th>10_FORMYL_THF_pc_gc_3</th>\n",
       "      <th>10_FORMYL_THF_pc_gc_4</th>\n",
       "      <th>10_FORMYL_THF_pc_me_1</th>\n",
       "      <th>10_FORMYL_THF_pc_me_2</th>\n",
       "      <th>10_FORMYL_THF_pc_me_3</th>\n",
       "      <th>10_FORMYL_THF_pc_me_4</th>\n",
       "      <th>1TRANSKETO_RXN_p_gc_1</th>\n",
       "      <th>1TRANSKETO_RXN_p_gc_2</th>\n",
       "      <th>...</th>\n",
       "      <th>sSUC_biomass_me_3</th>\n",
       "      <th>sSUC_biomass_me_4</th>\n",
       "      <th>unlProtHYPO_c_gc_1</th>\n",
       "      <th>unlProtHYPO_c_gc_2</th>\n",
       "      <th>unlProtHYPO_c_gc_3</th>\n",
       "      <th>unlProtHYPO_c_gc_4</th>\n",
       "      <th>unlProtHYPO_c_me_1</th>\n",
       "      <th>unlProtHYPO_c_me_2</th>\n",
       "      <th>unlProtHYPO_c_me_3</th>\n",
       "      <th>unlProtHYPO_c_me_4</th>\n",
       "    </tr>\n",
       "  </thead>\n",
       "  <tbody>\n",
       "    <tr>\n",
       "      <th>0</th>\n",
       "      <td>3.196322</td>\n",
       "      <td>0.266360</td>\n",
       "      <td>6.126284</td>\n",
       "      <td>3.196322</td>\n",
       "      <td>2.003810</td>\n",
       "      <td>0.166984</td>\n",
       "      <td>3.840636</td>\n",
       "      <td>2.003810</td>\n",
       "      <td>4.628290</td>\n",
       "      <td>0.385691</td>\n",
       "      <td>...</td>\n",
       "      <td>3.685919</td>\n",
       "      <td>1.923088</td>\n",
       "      <td>3.013075</td>\n",
       "      <td>0.251090</td>\n",
       "      <td>5.775060</td>\n",
       "      <td>3.013075</td>\n",
       "      <td>4.919640</td>\n",
       "      <td>0.409970</td>\n",
       "      <td>9.429310</td>\n",
       "      <td>4.919640</td>\n",
       "    </tr>\n",
       "    <tr>\n",
       "      <th>1</th>\n",
       "      <td>2.405191</td>\n",
       "      <td>0.200433</td>\n",
       "      <td>4.609950</td>\n",
       "      <td>2.405191</td>\n",
       "      <td>2.976393</td>\n",
       "      <td>0.248033</td>\n",
       "      <td>5.704753</td>\n",
       "      <td>2.976393</td>\n",
       "      <td>5.442639</td>\n",
       "      <td>0.453553</td>\n",
       "      <td>...</td>\n",
       "      <td>10.874785</td>\n",
       "      <td>5.673801</td>\n",
       "      <td>1.602658</td>\n",
       "      <td>0.133555</td>\n",
       "      <td>3.071762</td>\n",
       "      <td>1.602658</td>\n",
       "      <td>4.092069</td>\n",
       "      <td>0.341006</td>\n",
       "      <td>7.843133</td>\n",
       "      <td>4.092069</td>\n",
       "    </tr>\n",
       "    <tr>\n",
       "      <th>2</th>\n",
       "      <td>5.692358</td>\n",
       "      <td>0.474363</td>\n",
       "      <td>10.910353</td>\n",
       "      <td>5.692358</td>\n",
       "      <td>4.656864</td>\n",
       "      <td>0.388072</td>\n",
       "      <td>8.925656</td>\n",
       "      <td>4.656864</td>\n",
       "      <td>4.362721</td>\n",
       "      <td>0.363560</td>\n",
       "      <td>...</td>\n",
       "      <td>6.496164</td>\n",
       "      <td>3.389303</td>\n",
       "      <td>2.826699</td>\n",
       "      <td>0.235558</td>\n",
       "      <td>5.417839</td>\n",
       "      <td>2.826699</td>\n",
       "      <td>3.024736</td>\n",
       "      <td>0.252061</td>\n",
       "      <td>5.797410</td>\n",
       "      <td>3.024736</td>\n",
       "    </tr>\n",
       "    <tr>\n",
       "      <th>3</th>\n",
       "      <td>3.247298</td>\n",
       "      <td>0.270608</td>\n",
       "      <td>6.223988</td>\n",
       "      <td>3.247298</td>\n",
       "      <td>3.545171</td>\n",
       "      <td>0.295431</td>\n",
       "      <td>6.794911</td>\n",
       "      <td>3.545171</td>\n",
       "      <td>2.244889</td>\n",
       "      <td>0.187074</td>\n",
       "      <td>...</td>\n",
       "      <td>8.896234</td>\n",
       "      <td>4.641513</td>\n",
       "      <td>2.847609</td>\n",
       "      <td>0.237301</td>\n",
       "      <td>5.457916</td>\n",
       "      <td>2.847609</td>\n",
       "      <td>2.109259</td>\n",
       "      <td>0.175772</td>\n",
       "      <td>4.042746</td>\n",
       "      <td>2.109259</td>\n",
       "    </tr>\n",
       "  </tbody>\n",
       "</table>\n",
       "<p>4 rows × 7097 columns</p>\n",
       "</div>"
      ],
      "text/plain": [
       "   10_FORMYL_THF_pc_gc_1  10_FORMYL_THF_pc_gc_2  10_FORMYL_THF_pc_gc_3  \\\n",
       "0               3.196322               0.266360               6.126284   \n",
       "1               2.405191               0.200433               4.609950   \n",
       "2               5.692358               0.474363              10.910353   \n",
       "3               3.247298               0.270608               6.223988   \n",
       "\n",
       "   10_FORMYL_THF_pc_gc_4  10_FORMYL_THF_pc_me_1  10_FORMYL_THF_pc_me_2  \\\n",
       "0               3.196322               2.003810               0.166984   \n",
       "1               2.405191               2.976393               0.248033   \n",
       "2               5.692358               4.656864               0.388072   \n",
       "3               3.247298               3.545171               0.295431   \n",
       "\n",
       "   10_FORMYL_THF_pc_me_3  10_FORMYL_THF_pc_me_4  1TRANSKETO_RXN_p_gc_1  \\\n",
       "0               3.840636               2.003810               4.628290   \n",
       "1               5.704753               2.976393               5.442639   \n",
       "2               8.925656               4.656864               4.362721   \n",
       "3               6.794911               3.545171               2.244889   \n",
       "\n",
       "   1TRANSKETO_RXN_p_gc_2  ...  sSUC_biomass_me_3  sSUC_biomass_me_4  \\\n",
       "0               0.385691  ...           3.685919           1.923088   \n",
       "1               0.453553  ...          10.874785           5.673801   \n",
       "2               0.363560  ...           6.496164           3.389303   \n",
       "3               0.187074  ...           8.896234           4.641513   \n",
       "\n",
       "   unlProtHYPO_c_gc_1  unlProtHYPO_c_gc_2  unlProtHYPO_c_gc_3  \\\n",
       "0            3.013075            0.251090            5.775060   \n",
       "1            1.602658            0.133555            3.071762   \n",
       "2            2.826699            0.235558            5.417839   \n",
       "3            2.847609            0.237301            5.457916   \n",
       "\n",
       "   unlProtHYPO_c_gc_4  unlProtHYPO_c_me_1  unlProtHYPO_c_me_2  \\\n",
       "0            3.013075            4.919640            0.409970   \n",
       "1            1.602658            4.092069            0.341006   \n",
       "2            2.826699            3.024736            0.252061   \n",
       "3            2.847609            2.109259            0.175772   \n",
       "\n",
       "   unlProtHYPO_c_me_3  unlProtHYPO_c_me_4  \n",
       "0            9.429310            4.919640  \n",
       "1            7.843133            4.092069  \n",
       "2            5.797410            3.024736  \n",
       "3            4.042746            2.109259  \n",
       "\n",
       "[4 rows x 7097 columns]"
      ]
     },
     "execution_count": 12,
     "metadata": {},
     "output_type": "execute_result"
    }
   ],
   "source": [
    "weightings = weightings.iloc[0:4]  # so tests don't take too long\n",
    "weightings.head()"
   ]
  },
  {
   "cell_type": "markdown",
   "id": "bd726703-3fea-450d-95a8-68af0812aaca",
   "metadata": {},
   "source": [
    "First let's check for a temporary directory to see if we already have some solutions:"
   ]
  },
  {
   "cell_type": "code",
   "execution_count": 25,
   "id": "4189ede8-b5a2-463e-859d-7069ae672d53",
   "metadata": {},
   "outputs": [],
   "source": [
    "# | export\n",
    "\n",
    "temp_results = Path(results_path).parent / \"_tmp/\""
   ]
  },
  {
   "cell_type": "code",
   "execution_count": 30,
   "id": "bc56ad2c-217a-4adb-a18a-573100b427c0",
   "metadata": {},
   "outputs": [],
   "source": [
    "# | export\n",
    "\n",
    "\n",
    "def get_file_names_as_integers(directory_path):\n",
    "    try:\n",
    "        # Get a list of all files and directories in the specified directory\n",
    "        file_list = os.listdir(directory_path)\n",
    "\n",
    "        # Filter out directories and keep only file names\n",
    "        file_names_as_integers = [\n",
    "            int(os.path.splitext(filename)[0])\n",
    "            for filename in file_list\n",
    "            if os.path.isfile(os.path.join(directory_path, filename))\n",
    "        ]\n",
    "\n",
    "        return file_names_as_integers\n",
    "    except (OSError, ValueError) as e:\n",
    "        print(f\"An error occurred: {e}\")\n",
    "        return []"
   ]
  },
  {
   "cell_type": "code",
   "execution_count": 36,
   "id": "b85d0522-c1e5-483e-ab47-f0d7be2784b5",
   "metadata": {
    "tags": []
   },
   "outputs": [
    {
     "name": "stdout",
     "output_type": "stream",
     "text": [
      "Already a tmp directory at ../outputs/alternative_weighting/_tmp, checking for existing solutions\n",
      "There are already 645 solutions, dropping these from the weightings csv\n"
     ]
    },
    {
     "ename": "KeyError",
     "evalue": "'[528, 758, 163, 216, 677, 45, 104, 620, 196, 77, 772, 557, 126, 299, 648, 264, 587, 809, 812, 849, 559, 751, 107, 204, 103, 280, 178, 591, 314, 646, 766, 269, 145, 55, 89, 791, 229, 90, 652, 530, 602, 511, 84, 13, 186, 796, 114, 10, 806, 215, 298, 764, 860, 670, 64, 624, 853, 172, 58, 39, 326, 327, 310, 816, 833, 625, 211, 283, 61, 507, 682, 43, 838, 595, 54, 236, 799, 221, 820, 613, 294, 253, 512, 308, 8, 855, 336, 60, 194, 768, 580, 271, 522, 19, 655, 815, 69, 544, 586, 824, 828, 31, 571, 590, 81, 788, 500, 140, 623, 795, 292, 329, 632, 11, 579, 14, 645, 173, 232, 598, 59, 158, 567, 56, 304, 866, 16, 761, 249, 626, 515, 199, 854, 857, 553, 513, 569, 588, 518, 258, 823, 514, 225, 519, 202, 548, 313, 309, 49, 606, 207, 868, 546, 802, 324, 152, 195, 200, 575, 53, 601, 814, 862, 750, 790, 577, 37, 32, 183, 817, 572, 536, 94, 539, 678, 65, 165, 785, 504, 119, 669, 251, 133, 209, 102, 770, 753, 765, 113, 604, 291, 858, 281, 661, 543, 657, 585, 568, 275, 782, 671, 859, 110, 130, 169, 212, 25, 829, 845, 230, 128, 523, 757, 198, 666, 599, 754, 603, 120, 1, 320, 241, 44, 638, 843, 2, 801, 97, 28, 538, 516, 869, 537, 17, 263, 540, 337, 287, 267, 270, 332, 322, 526, 79, 197, 756, 51, 124, 274, 524, 339, 29, 164, 150, 4, 135, 213, 321, 675, 651, 92, 819, 21, 805, 793, 832, 30, 20, 794, 609, 218, 660, 302, 248, 40, 62, 129, 637, 205, 24, 639, 99, 155, 156, 618, 804, 288, 797, 851, 257, 656, 658, 839, 68, 619, 605, 151, 621, 861, 338, 171, 826, 318, 662, 334, 78, 654, 87, 566, 12, 227, 664, 560, 243, 640, 153, 529, 614, 503, 612, 333, 98, 159, 821, 180, 650, 220, 238, 784, 279, 628, 9, 610, 583, 278, 277, 273, 262, 226, 506, 676, 679, 116, 319, 307, 634, 105, 47, 70, 611, 42, 635, 681, 286, 672, 63, 231, 325, 255, 293, 210, 233, 556, 825, 295, 830, 162, 189, 268, 312, 667, 775, 502, 240, 3, 674, 779, 123, 193, 109, 786, 578, 134, 101, 138, 616, 214, 67, 641, 773, 228, 673, 41, 837, 792, 160, 787, 0, 52, 776, 88, 127, 222, 289, 93, 644, 582, 100, 752, 179, 800, 250, 174, 665, 850, 245, 6, 541, 76, 844, 534, 870, 132, 83, 122, 647, 237, 219, 521, 643, 82, 594, 311, 636, 246, 167, 234, 864, 510, 284, 296, 26, 121, 254, 576, 235, 848, 305, 136, 323, 85, 142, 144, 545, 5, 840, 810, 96, 818, 301, 330, 629, 771, 760, 562, 161, 244, 505, 856, 508, 813, 597, 36, 863, 633, 509, 317, 300, 755, 217, 589, 834, 803, 584, 38, 808, 176, 642, 149, 831, 581, 192, 266, 175, 822, 22, 835, 596, 649, 290, 177, 95, 617, 574, 188, 668, 27, 555, 190, 139, 627, 252, 206, 774, 680, 131, 316, 547, 276, 201, 527, 297, 187, 73, 146, 148, 224, 780, 111, 23, 846, 841, 565, 242, 118, 260, 549, 182, 282, 653, 535, 33, 208, 112, 265, 170, 247, 48, 272, 558, 285, 564, 663, 303, 137, 328, 34, 117, 542, 520, 811, 778, 852, 185, 631, 762, 763, 807, 259, 147, 91, 86, 683, 108, 798, 593, 554, 517, 563, 71, 836, 46, 75, 622, 57, 331, 15, 531, 7, 615, 525, 106, 166, 50, 157, 842, 783, 551, 306, 533, 168, 767, 143, 18, 181, 80, 125, 561, 630, 315, 191, 789, 35, 573, 600, 592, 847, 759, 570, 74, 777, 867, 223, 769, 141, 501, 608, 184, 532, 239, 781, 256, 115, 607, 550, 659, 827, 66, 154, 552, 261, 203, 335, 865, 72] not found in axis'",
     "output_type": "error",
     "traceback": [
      "\u001b[0;31m---------------------------------------------------------------------------\u001b[0m",
      "\u001b[0;31mKeyError\u001b[0m                                  Traceback (most recent call last)",
      "Cell \u001b[0;32mIn[36], line 10\u001b[0m\n\u001b[1;32m      5\u001b[0m existing_solutions \u001b[38;5;241m=\u001b[39m get_file_names_as_integers(temp_results)\n\u001b[1;32m      6\u001b[0m \u001b[38;5;28mprint\u001b[39m(\n\u001b[1;32m      7\u001b[0m     \u001b[38;5;124mf\u001b[39m\u001b[38;5;124m\"\u001b[39m\u001b[38;5;124mThere are already \u001b[39m\u001b[38;5;132;01m{\u001b[39;00m\u001b[38;5;28mlen\u001b[39m(existing_solutions)\u001b[38;5;132;01m}\u001b[39;00m\u001b[38;5;124m solutions, dropping these from the weightings csv\u001b[39m\u001b[38;5;124m\"\u001b[39m\n\u001b[1;32m      8\u001b[0m )\n\u001b[0;32m---> 10\u001b[0m weightings \u001b[38;5;241m=\u001b[39m \u001b[43mweightings\u001b[49m\u001b[38;5;241;43m.\u001b[39;49m\u001b[43mdrop\u001b[49m\u001b[43m(\u001b[49m\u001b[43mexisting_solutions\u001b[49m\u001b[43m)\u001b[49m\n",
      "File \u001b[0;32m~/lib/miniconda3/envs/mmon-gcm/lib/python3.9/site-packages/pandas/util/_decorators.py:331\u001b[0m, in \u001b[0;36mdeprecate_nonkeyword_arguments.<locals>.decorate.<locals>.wrapper\u001b[0;34m(*args, **kwargs)\u001b[0m\n\u001b[1;32m    325\u001b[0m \u001b[38;5;28;01mif\u001b[39;00m \u001b[38;5;28mlen\u001b[39m(args) \u001b[38;5;241m>\u001b[39m num_allow_args:\n\u001b[1;32m    326\u001b[0m     warnings\u001b[38;5;241m.\u001b[39mwarn(\n\u001b[1;32m    327\u001b[0m         msg\u001b[38;5;241m.\u001b[39mformat(arguments\u001b[38;5;241m=\u001b[39m_format_argument_list(allow_args)),\n\u001b[1;32m    328\u001b[0m         \u001b[38;5;167;01mFutureWarning\u001b[39;00m,\n\u001b[1;32m    329\u001b[0m         stacklevel\u001b[38;5;241m=\u001b[39mfind_stack_level(),\n\u001b[1;32m    330\u001b[0m     )\n\u001b[0;32m--> 331\u001b[0m \u001b[38;5;28;01mreturn\u001b[39;00m \u001b[43mfunc\u001b[49m\u001b[43m(\u001b[49m\u001b[38;5;241;43m*\u001b[39;49m\u001b[43margs\u001b[49m\u001b[43m,\u001b[49m\u001b[43m \u001b[49m\u001b[38;5;241;43m*\u001b[39;49m\u001b[38;5;241;43m*\u001b[39;49m\u001b[43mkwargs\u001b[49m\u001b[43m)\u001b[49m\n",
      "File \u001b[0;32m~/lib/miniconda3/envs/mmon-gcm/lib/python3.9/site-packages/pandas/core/frame.py:5399\u001b[0m, in \u001b[0;36mDataFrame.drop\u001b[0;34m(self, labels, axis, index, columns, level, inplace, errors)\u001b[0m\n\u001b[1;32m   5251\u001b[0m \u001b[38;5;129m@deprecate_nonkeyword_arguments\u001b[39m(version\u001b[38;5;241m=\u001b[39m\u001b[38;5;28;01mNone\u001b[39;00m, allowed_args\u001b[38;5;241m=\u001b[39m[\u001b[38;5;124m\"\u001b[39m\u001b[38;5;124mself\u001b[39m\u001b[38;5;124m\"\u001b[39m, \u001b[38;5;124m\"\u001b[39m\u001b[38;5;124mlabels\u001b[39m\u001b[38;5;124m\"\u001b[39m])\n\u001b[1;32m   5252\u001b[0m \u001b[38;5;28;01mdef\u001b[39;00m \u001b[38;5;21mdrop\u001b[39m(  \u001b[38;5;66;03m# type: ignore[override]\u001b[39;00m\n\u001b[1;32m   5253\u001b[0m     \u001b[38;5;28mself\u001b[39m,\n\u001b[0;32m   (...)\u001b[0m\n\u001b[1;32m   5260\u001b[0m     errors: IgnoreRaise \u001b[38;5;241m=\u001b[39m \u001b[38;5;124m\"\u001b[39m\u001b[38;5;124mraise\u001b[39m\u001b[38;5;124m\"\u001b[39m,\n\u001b[1;32m   5261\u001b[0m ) \u001b[38;5;241m-\u001b[39m\u001b[38;5;241m>\u001b[39m DataFrame \u001b[38;5;241m|\u001b[39m \u001b[38;5;28;01mNone\u001b[39;00m:\n\u001b[1;32m   5262\u001b[0m \u001b[38;5;250m    \u001b[39m\u001b[38;5;124;03m\"\"\"\u001b[39;00m\n\u001b[1;32m   5263\u001b[0m \u001b[38;5;124;03m    Drop specified labels from rows or columns.\u001b[39;00m\n\u001b[1;32m   5264\u001b[0m \n\u001b[0;32m   (...)\u001b[0m\n\u001b[1;32m   5397\u001b[0m \u001b[38;5;124;03m            weight  1.0     0.8\u001b[39;00m\n\u001b[1;32m   5398\u001b[0m \u001b[38;5;124;03m    \"\"\"\u001b[39;00m\n\u001b[0;32m-> 5399\u001b[0m     \u001b[38;5;28;01mreturn\u001b[39;00m \u001b[38;5;28;43msuper\u001b[39;49m\u001b[43m(\u001b[49m\u001b[43m)\u001b[49m\u001b[38;5;241;43m.\u001b[39;49m\u001b[43mdrop\u001b[49m\u001b[43m(\u001b[49m\n\u001b[1;32m   5400\u001b[0m \u001b[43m        \u001b[49m\u001b[43mlabels\u001b[49m\u001b[38;5;241;43m=\u001b[39;49m\u001b[43mlabels\u001b[49m\u001b[43m,\u001b[49m\n\u001b[1;32m   5401\u001b[0m \u001b[43m        \u001b[49m\u001b[43maxis\u001b[49m\u001b[38;5;241;43m=\u001b[39;49m\u001b[43maxis\u001b[49m\u001b[43m,\u001b[49m\n\u001b[1;32m   5402\u001b[0m \u001b[43m        \u001b[49m\u001b[43mindex\u001b[49m\u001b[38;5;241;43m=\u001b[39;49m\u001b[43mindex\u001b[49m\u001b[43m,\u001b[49m\n\u001b[1;32m   5403\u001b[0m \u001b[43m        \u001b[49m\u001b[43mcolumns\u001b[49m\u001b[38;5;241;43m=\u001b[39;49m\u001b[43mcolumns\u001b[49m\u001b[43m,\u001b[49m\n\u001b[1;32m   5404\u001b[0m \u001b[43m        \u001b[49m\u001b[43mlevel\u001b[49m\u001b[38;5;241;43m=\u001b[39;49m\u001b[43mlevel\u001b[49m\u001b[43m,\u001b[49m\n\u001b[1;32m   5405\u001b[0m \u001b[43m        \u001b[49m\u001b[43minplace\u001b[49m\u001b[38;5;241;43m=\u001b[39;49m\u001b[43minplace\u001b[49m\u001b[43m,\u001b[49m\n\u001b[1;32m   5406\u001b[0m \u001b[43m        \u001b[49m\u001b[43merrors\u001b[49m\u001b[38;5;241;43m=\u001b[39;49m\u001b[43merrors\u001b[49m\u001b[43m,\u001b[49m\n\u001b[1;32m   5407\u001b[0m \u001b[43m    \u001b[49m\u001b[43m)\u001b[49m\n",
      "File \u001b[0;32m~/lib/miniconda3/envs/mmon-gcm/lib/python3.9/site-packages/pandas/util/_decorators.py:331\u001b[0m, in \u001b[0;36mdeprecate_nonkeyword_arguments.<locals>.decorate.<locals>.wrapper\u001b[0;34m(*args, **kwargs)\u001b[0m\n\u001b[1;32m    325\u001b[0m \u001b[38;5;28;01mif\u001b[39;00m \u001b[38;5;28mlen\u001b[39m(args) \u001b[38;5;241m>\u001b[39m num_allow_args:\n\u001b[1;32m    326\u001b[0m     warnings\u001b[38;5;241m.\u001b[39mwarn(\n\u001b[1;32m    327\u001b[0m         msg\u001b[38;5;241m.\u001b[39mformat(arguments\u001b[38;5;241m=\u001b[39m_format_argument_list(allow_args)),\n\u001b[1;32m    328\u001b[0m         \u001b[38;5;167;01mFutureWarning\u001b[39;00m,\n\u001b[1;32m    329\u001b[0m         stacklevel\u001b[38;5;241m=\u001b[39mfind_stack_level(),\n\u001b[1;32m    330\u001b[0m     )\n\u001b[0;32m--> 331\u001b[0m \u001b[38;5;28;01mreturn\u001b[39;00m \u001b[43mfunc\u001b[49m\u001b[43m(\u001b[49m\u001b[38;5;241;43m*\u001b[39;49m\u001b[43margs\u001b[49m\u001b[43m,\u001b[49m\u001b[43m \u001b[49m\u001b[38;5;241;43m*\u001b[39;49m\u001b[38;5;241;43m*\u001b[39;49m\u001b[43mkwargs\u001b[49m\u001b[43m)\u001b[49m\n",
      "File \u001b[0;32m~/lib/miniconda3/envs/mmon-gcm/lib/python3.9/site-packages/pandas/core/generic.py:4505\u001b[0m, in \u001b[0;36mNDFrame.drop\u001b[0;34m(self, labels, axis, index, columns, level, inplace, errors)\u001b[0m\n\u001b[1;32m   4503\u001b[0m \u001b[38;5;28;01mfor\u001b[39;00m axis, labels \u001b[38;5;129;01min\u001b[39;00m axes\u001b[38;5;241m.\u001b[39mitems():\n\u001b[1;32m   4504\u001b[0m     \u001b[38;5;28;01mif\u001b[39;00m labels \u001b[38;5;129;01mis\u001b[39;00m \u001b[38;5;129;01mnot\u001b[39;00m \u001b[38;5;28;01mNone\u001b[39;00m:\n\u001b[0;32m-> 4505\u001b[0m         obj \u001b[38;5;241m=\u001b[39m \u001b[43mobj\u001b[49m\u001b[38;5;241;43m.\u001b[39;49m\u001b[43m_drop_axis\u001b[49m\u001b[43m(\u001b[49m\u001b[43mlabels\u001b[49m\u001b[43m,\u001b[49m\u001b[43m \u001b[49m\u001b[43maxis\u001b[49m\u001b[43m,\u001b[49m\u001b[43m \u001b[49m\u001b[43mlevel\u001b[49m\u001b[38;5;241;43m=\u001b[39;49m\u001b[43mlevel\u001b[49m\u001b[43m,\u001b[49m\u001b[43m \u001b[49m\u001b[43merrors\u001b[49m\u001b[38;5;241;43m=\u001b[39;49m\u001b[43merrors\u001b[49m\u001b[43m)\u001b[49m\n\u001b[1;32m   4507\u001b[0m \u001b[38;5;28;01mif\u001b[39;00m inplace:\n\u001b[1;32m   4508\u001b[0m     \u001b[38;5;28mself\u001b[39m\u001b[38;5;241m.\u001b[39m_update_inplace(obj)\n",
      "File \u001b[0;32m~/lib/miniconda3/envs/mmon-gcm/lib/python3.9/site-packages/pandas/core/generic.py:4546\u001b[0m, in \u001b[0;36mNDFrame._drop_axis\u001b[0;34m(self, labels, axis, level, errors, only_slice)\u001b[0m\n\u001b[1;32m   4544\u001b[0m         new_axis \u001b[38;5;241m=\u001b[39m axis\u001b[38;5;241m.\u001b[39mdrop(labels, level\u001b[38;5;241m=\u001b[39mlevel, errors\u001b[38;5;241m=\u001b[39merrors)\n\u001b[1;32m   4545\u001b[0m     \u001b[38;5;28;01melse\u001b[39;00m:\n\u001b[0;32m-> 4546\u001b[0m         new_axis \u001b[38;5;241m=\u001b[39m \u001b[43maxis\u001b[49m\u001b[38;5;241;43m.\u001b[39;49m\u001b[43mdrop\u001b[49m\u001b[43m(\u001b[49m\u001b[43mlabels\u001b[49m\u001b[43m,\u001b[49m\u001b[43m \u001b[49m\u001b[43merrors\u001b[49m\u001b[38;5;241;43m=\u001b[39;49m\u001b[43merrors\u001b[49m\u001b[43m)\u001b[49m\n\u001b[1;32m   4547\u001b[0m     indexer \u001b[38;5;241m=\u001b[39m axis\u001b[38;5;241m.\u001b[39mget_indexer(new_axis)\n\u001b[1;32m   4549\u001b[0m \u001b[38;5;66;03m# Case for non-unique axis\u001b[39;00m\n\u001b[1;32m   4550\u001b[0m \u001b[38;5;28;01melse\u001b[39;00m:\n",
      "File \u001b[0;32m~/lib/miniconda3/envs/mmon-gcm/lib/python3.9/site-packages/pandas/core/indexes/base.py:6934\u001b[0m, in \u001b[0;36mIndex.drop\u001b[0;34m(self, labels, errors)\u001b[0m\n\u001b[1;32m   6932\u001b[0m \u001b[38;5;28;01mif\u001b[39;00m mask\u001b[38;5;241m.\u001b[39many():\n\u001b[1;32m   6933\u001b[0m     \u001b[38;5;28;01mif\u001b[39;00m errors \u001b[38;5;241m!=\u001b[39m \u001b[38;5;124m\"\u001b[39m\u001b[38;5;124mignore\u001b[39m\u001b[38;5;124m\"\u001b[39m:\n\u001b[0;32m-> 6934\u001b[0m         \u001b[38;5;28;01mraise\u001b[39;00m \u001b[38;5;167;01mKeyError\u001b[39;00m(\u001b[38;5;124mf\u001b[39m\u001b[38;5;124m\"\u001b[39m\u001b[38;5;132;01m{\u001b[39;00m\u001b[38;5;28mlist\u001b[39m(labels[mask])\u001b[38;5;132;01m}\u001b[39;00m\u001b[38;5;124m not found in axis\u001b[39m\u001b[38;5;124m\"\u001b[39m)\n\u001b[1;32m   6935\u001b[0m     indexer \u001b[38;5;241m=\u001b[39m indexer[\u001b[38;5;241m~\u001b[39mmask]\n\u001b[1;32m   6936\u001b[0m \u001b[38;5;28;01mreturn\u001b[39;00m \u001b[38;5;28mself\u001b[39m\u001b[38;5;241m.\u001b[39mdelete(indexer)\n",
      "\u001b[0;31mKeyError\u001b[0m: '[528, 758, 163, 216, 677, 45, 104, 620, 196, 77, 772, 557, 126, 299, 648, 264, 587, 809, 812, 849, 559, 751, 107, 204, 103, 280, 178, 591, 314, 646, 766, 269, 145, 55, 89, 791, 229, 90, 652, 530, 602, 511, 84, 13, 186, 796, 114, 10, 806, 215, 298, 764, 860, 670, 64, 624, 853, 172, 58, 39, 326, 327, 310, 816, 833, 625, 211, 283, 61, 507, 682, 43, 838, 595, 54, 236, 799, 221, 820, 613, 294, 253, 512, 308, 8, 855, 336, 60, 194, 768, 580, 271, 522, 19, 655, 815, 69, 544, 586, 824, 828, 31, 571, 590, 81, 788, 500, 140, 623, 795, 292, 329, 632, 11, 579, 14, 645, 173, 232, 598, 59, 158, 567, 56, 304, 866, 16, 761, 249, 626, 515, 199, 854, 857, 553, 513, 569, 588, 518, 258, 823, 514, 225, 519, 202, 548, 313, 309, 49, 606, 207, 868, 546, 802, 324, 152, 195, 200, 575, 53, 601, 814, 862, 750, 790, 577, 37, 32, 183, 817, 572, 536, 94, 539, 678, 65, 165, 785, 504, 119, 669, 251, 133, 209, 102, 770, 753, 765, 113, 604, 291, 858, 281, 661, 543, 657, 585, 568, 275, 782, 671, 859, 110, 130, 169, 212, 25, 829, 845, 230, 128, 523, 757, 198, 666, 599, 754, 603, 120, 1, 320, 241, 44, 638, 843, 2, 801, 97, 28, 538, 516, 869, 537, 17, 263, 540, 337, 287, 267, 270, 332, 322, 526, 79, 197, 756, 51, 124, 274, 524, 339, 29, 164, 150, 4, 135, 213, 321, 675, 651, 92, 819, 21, 805, 793, 832, 30, 20, 794, 609, 218, 660, 302, 248, 40, 62, 129, 637, 205, 24, 639, 99, 155, 156, 618, 804, 288, 797, 851, 257, 656, 658, 839, 68, 619, 605, 151, 621, 861, 338, 171, 826, 318, 662, 334, 78, 654, 87, 566, 12, 227, 664, 560, 243, 640, 153, 529, 614, 503, 612, 333, 98, 159, 821, 180, 650, 220, 238, 784, 279, 628, 9, 610, 583, 278, 277, 273, 262, 226, 506, 676, 679, 116, 319, 307, 634, 105, 47, 70, 611, 42, 635, 681, 286, 672, 63, 231, 325, 255, 293, 210, 233, 556, 825, 295, 830, 162, 189, 268, 312, 667, 775, 502, 240, 3, 674, 779, 123, 193, 109, 786, 578, 134, 101, 138, 616, 214, 67, 641, 773, 228, 673, 41, 837, 792, 160, 787, 0, 52, 776, 88, 127, 222, 289, 93, 644, 582, 100, 752, 179, 800, 250, 174, 665, 850, 245, 6, 541, 76, 844, 534, 870, 132, 83, 122, 647, 237, 219, 521, 643, 82, 594, 311, 636, 246, 167, 234, 864, 510, 284, 296, 26, 121, 254, 576, 235, 848, 305, 136, 323, 85, 142, 144, 545, 5, 840, 810, 96, 818, 301, 330, 629, 771, 760, 562, 161, 244, 505, 856, 508, 813, 597, 36, 863, 633, 509, 317, 300, 755, 217, 589, 834, 803, 584, 38, 808, 176, 642, 149, 831, 581, 192, 266, 175, 822, 22, 835, 596, 649, 290, 177, 95, 617, 574, 188, 668, 27, 555, 190, 139, 627, 252, 206, 774, 680, 131, 316, 547, 276, 201, 527, 297, 187, 73, 146, 148, 224, 780, 111, 23, 846, 841, 565, 242, 118, 260, 549, 182, 282, 653, 535, 33, 208, 112, 265, 170, 247, 48, 272, 558, 285, 564, 663, 303, 137, 328, 34, 117, 542, 520, 811, 778, 852, 185, 631, 762, 763, 807, 259, 147, 91, 86, 683, 108, 798, 593, 554, 517, 563, 71, 836, 46, 75, 622, 57, 331, 15, 531, 7, 615, 525, 106, 166, 50, 157, 842, 783, 551, 306, 533, 168, 767, 143, 18, 181, 80, 125, 561, 630, 315, 191, 789, 35, 573, 600, 592, 847, 759, 570, 74, 777, 867, 223, 769, 141, 501, 608, 184, 532, 239, 781, 256, 115, 607, 550, 659, 827, 66, 154, 552, 261, 203, 335, 865, 72] not found in axis'"
     ]
    }
   ],
   "source": [
    "# | export\n",
    "\n",
    "if os.path.isdir(temp_results):\n",
    "    print(f\"Already a tmp directory at {temp_results}, checking for existing solutions\")\n",
    "    existing_solutions = get_file_names_as_integers(temp_results)\n",
    "    print(\n",
    "        f\"There are already {len(existing_solutions)} solutions, dropping these from the weightings csv\"\n",
    "    )\n",
    "\n",
    "    weightings = weightings.drop(existing_solutions)\n",
    "\n",
    "else:\n",
    "    print(\n",
    "        f\"No existing tmp directory at {temp_results}, creating temp directory to store solutions as they come in\"\n",
    "    )\n",
    "    Path(temp_results).mkdir(parents=True, exist_ok=True)"
   ]
  },
  {
   "cell_type": "code",
   "execution_count": null,
   "id": "7d0aef76-cf33-41d2-82a0-bc636718e2d1",
   "metadata": {},
   "outputs": [
    {
     "name": "stdout",
     "output_type": "stream",
     "text": [
      "INFO: Pandarallel will run on 2 workers.\n",
      "INFO: Pandarallel will use Memory file system to transfer data between the main process and workers.\n",
      "Solving model for 4 alternative weightings\n",
      "Solving solution 0\n",
      "Solving solution 2\n",
      "Solving solution 3\n",
      "Solving solution 1\n"
     ]
    }
   ],
   "source": [
    "# | export\n",
    "\n",
    "pandarallel.initialize(nb_workers=no_cores, progress_bar=False)\n",
    "print(f\"Solving model for {len(weightings.index)} alternative weightings\")\n",
    "weightings_solution = weightings.parallel_apply(\n",
    "    mmon_gcm.alternativemodes.solve_model_with_weightings,\n",
    "    args=([arabidopsis_supermodel.fba_model, temp_results]),\n",
    "    axis=1,\n",
    ")"
   ]
  },
  {
   "cell_type": "code",
   "execution_count": null,
   "id": "54e9f44f-591c-430b-830e-5b9d28c7bf73",
   "metadata": {},
   "outputs": [
    {
     "name": "stdout",
     "output_type": "stream",
     "text": [
      "All solutions saved to ../outputs/alternative_weighting/test_solution.csv\n",
      "Deleting temp directory _tmp/\n"
     ]
    }
   ],
   "source": [
    "# | export\n",
    "\n",
    "weightings_solution.to_csv(results_path)\n",
    "if len(weightings_solution) == len(weightings):\n",
    "    print(f\"All solutions saved to {results_path}\")\n",
    "    print(f\"Deleting temp directory {temp_results}\")\n",
    "    shutil.rmtree(temp_results)"
   ]
  }
 ],
 "metadata": {
  "kernelspec": {
   "display_name": "mmon-gcm",
   "language": "python",
   "name": "mmon-gcm"
  },
  "language_info": {
   "codemirror_mode": {
    "name": "ipython",
    "version": 3
   },
   "file_extension": ".py",
   "mimetype": "text/x-python",
   "name": "python",
   "nbconvert_exporter": "python",
   "pygments_lexer": "ipython3",
   "version": "3.9.17"
  }
 },
 "nbformat": 4,
 "nbformat_minor": 5
}
