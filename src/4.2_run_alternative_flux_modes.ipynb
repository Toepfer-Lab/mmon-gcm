{
 "cells": [
  {
   "cell_type": "raw",
   "id": "ae81f27e",
   "metadata": {},
   "source": [
    "---\n",
    "output-file: runalternativemodes.html\n",
    "skip_showdoc: true\n",
    "---\n",
    "\n"
   ]
  },
  {
   "cell_type": "markdown",
   "id": "65521110-61df-4a70-b617-b15bd39acb73",
   "metadata": {},
   "source": [
    "# Run alternative flux modes simulations"
   ]
  },
  {
   "cell_type": "code",
   "execution_count": null,
   "id": "d25b5916-6b34-47a2-b85c-bc5d3c304aa4",
   "metadata": {},
   "outputs": [],
   "source": [
    "# | default_exp runalternativemodes"
   ]
  },
  {
   "cell_type": "markdown",
   "id": "288ed0e6-8447-4ceb-96a3-45217b88dae4",
   "metadata": {},
   "source": [
    "As with runconstraintscan.py, this notebook can either be run as a notebook, or using nbdev a python script is produced that can be run in the command line for easier running on e.g. a cluster. It is a notebook in the nbs directory that is symlinked in the nbs/functions directory in order to be exported as a .py file in the mmon-gcm library."
   ]
  },
  {
   "cell_type": "markdown",
   "id": "9144fa87-629a-4334-bc93-a5884a5703f5",
   "metadata": {},
   "source": [
    "NOTE: I have had issues where for an unknown reason the code hangs while solving. In this case I can check the temporary files to see which solutions are missing and run it again to just get those. For the paper, the blue light, unconstrained, KO solution number 348 hangs with a tolerance of 1e-8 and says infeasible for a tolerance of 1e-7. So the solution list is constructed from combining the remaining temporary files rather than all in one go. "
   ]
  },
  {
   "cell_type": "code",
   "execution_count": null,
   "id": "064fad5c-58d3-4517-bced-5e3ac5720894",
   "metadata": {},
   "outputs": [],
   "source": [
    "# | export\n",
    "\n",
    "import shutil\n",
    "import sys\n",
    "from pathlib import Path\n",
    "\n",
    "import cobra\n",
    "# from x import y syntax doesn't work because of nbdev export format\n",
    "import mmon_gcm.alternativemodes\n",
    "import mmon_gcm.buildingediting\n",
    "import mmon_gcm.supermodel\n",
    "import pandas as pd\n",
    "from pandarallel import pandarallel"
   ]
  },
  {
   "cell_type": "code",
   "execution_count": null,
   "id": "84a299dd-8b93-40f0-9c42-11d86f5531dc",
   "metadata": {},
   "outputs": [],
   "source": [
    "# This cell isn't exported to the .py file, so define here if running in notebook rather than as .py on e.g.a cluster\n",
    "\n",
    "sys.argv = [\"script_name\",\n",
    "            \"../outputs/alternative_weighting/test_solution.csv\",\n",
    "            \"../models/4_stage_GC.json\",\n",
    "            \"../outputs/alternative_weighting/alternative_weights.csv\",\n",
    "            \"../inputs/arabidopsis_parameters.csv\",\n",
    "            \"blue\",\n",
    "            \"False\",\n",
    "            \"True\",\n",
    "            \"2\"]"
   ]
  },
  {
   "cell_type": "code",
   "execution_count": null,
   "id": "5b1902e9-9e35-4eb9-a939-cda46e7e8054",
   "metadata": {},
   "outputs": [],
   "source": [
    "# | export\n",
    "\n",
    "results_path = sys.argv[1]\n",
    "model_path = sys.argv[2]\n",
    "weightings_csv = sys.argv[3]\n",
    "parameters_csv = sys.argv[4]\n",
    "light_colour = sys.argv[5]\n",
    "atpase_constraint = sys.argv[6]\n",
    "starch_knockout = sys.argv[7]\n",
    "no_cores = int(sys.argv[8])"
   ]
  },
  {
   "cell_type": "code",
   "execution_count": null,
   "id": "45780526-ed0c-44c7-b67b-1639b8b22e64",
   "metadata": {},
   "outputs": [],
   "source": [
    "# | export\n",
    "\n",
    "if light_colour != \"blue\" and light_colour != \"white\" and light_colour != \"nops\":\n",
    "    raise ValueError(f\"Please specify either 'blue' or 'white' or 'nops' for light, not {light_colour}\")\n",
    "\n",
    "if atpase_constraint == \"True\":\n",
    "    atpase_constraint = True\n",
    "elif atpase_constraint == \"False\":\n",
    "    atpase_constraint = False\n",
    "else:\n",
    "    raise ValueError(f\"Please specify True or False for the ATPase constraint, not {atpase_constraint}\")\n",
    "\n",
    "if starch_knockout == \"True\":\n",
    "    starch_knockout = True\n",
    "elif starch_knockout == \"False\":\n",
    "    starch_knockout = False\n",
    "else:\n",
    "    raise ValueError(f\"Please specify True or False for the starck knockout, not {starch_knockout}\")"
   ]
  },
  {
   "cell_type": "code",
   "execution_count": null,
   "id": "8504c3aa-8c7d-4861-b071-421d56c37b2a",
   "metadata": {},
   "outputs": [
    {
     "name": "stdout",
     "output_type": "stream",
     "text": [
      "Model imported\n"
     ]
    }
   ],
   "source": [
    "# | export\n",
    "\n",
    "model = cobra.io.load_json_model(model_path)\n",
    "print(\"Model imported\")"
   ]
  },
  {
   "cell_type": "code",
   "execution_count": null,
   "id": "36b655ff-531b-4657-b560-8537ca008e57",
   "metadata": {},
   "outputs": [
    {
     "name": "stdout",
     "output_type": "stream",
     "text": [
      "1e-07\n",
      "1e-07\n",
      "1e-08\n"
     ]
    }
   ],
   "source": [
    "# | export\n",
    "\n",
    "print(model.solver.configuration.tolerances.integrality)\n",
    "print(model.solver.configuration.tolerances.feasibility)\n",
    "model.solver.configuration.tolerances.feasibility = 1e-8  # 1e-9 takes a long time to solve\n",
    "print(model.solver.configuration.tolerances.feasibility)"
   ]
  },
  {
   "cell_type": "code",
   "execution_count": null,
   "id": "df2b481e-e48b-46d8-afcd-1619144cf416",
   "metadata": {},
   "outputs": [],
   "source": [
    "# | export\n",
    "\n",
    "parameters_df = pd.read_csv(parameters_csv, index_col=0)"
   ]
  },
  {
   "cell_type": "code",
   "execution_count": null,
   "id": "fbe7d1ce-2cfe-43f8-98df-5955baa9a635",
   "metadata": {},
   "outputs": [
    {
     "data": {
      "text/html": [
       "<div>\n",
       "<style scoped>\n",
       "    .dataframe tbody tr th:only-of-type {\n",
       "        vertical-align: middle;\n",
       "    }\n",
       "\n",
       "    .dataframe tbody tr th {\n",
       "        vertical-align: top;\n",
       "    }\n",
       "\n",
       "    .dataframe thead th {\n",
       "        text-align: right;\n",
       "    }\n",
       "</style>\n",
       "<table border=\"1\" class=\"dataframe\">\n",
       "  <thead>\n",
       "    <tr style=\"text-align: right;\">\n",
       "      <th></th>\n",
       "      <th>Value</th>\n",
       "      <th>Units</th>\n",
       "      <th>Source</th>\n",
       "    </tr>\n",
       "  </thead>\n",
       "  <tbody>\n",
       "    <tr>\n",
       "      <th>P_abs</th>\n",
       "      <td>9.000000e-01</td>\n",
       "      <td>Dimensionless</td>\n",
       "      <td>Zhu, Long, and Ort (2010)</td>\n",
       "    </tr>\n",
       "    <tr>\n",
       "      <th>T_l</th>\n",
       "      <td>1.700000e-04</td>\n",
       "      <td>m</td>\n",
       "      <td>Wuyts et al. (2010)</td>\n",
       "    </tr>\n",
       "    <tr>\n",
       "      <th>A_l</th>\n",
       "      <td>1.000000e+00</td>\n",
       "      <td>m$^2$</td>\n",
       "      <td>Fixed</td>\n",
       "    </tr>\n",
       "    <tr>\n",
       "      <th>V_gc_ind</th>\n",
       "      <td>4.750000e-13</td>\n",
       "      <td>dm$^3$</td>\n",
       "      <td>Jezek and Blatt (2017)</td>\n",
       "    </tr>\n",
       "    <tr>\n",
       "      <th>FqFm</th>\n",
       "      <td>9.000000e-01</td>\n",
       "      <td>Dimensionless</td>\n",
       "      <td>Lawson (2003)</td>\n",
       "    </tr>\n",
       "    <tr>\n",
       "      <th>R_ch</th>\n",
       "      <td>6.923077e-02</td>\n",
       "      <td>Dimensionless</td>\n",
       "      <td>Fujiwara, Sanjaya, and Itoh (2019)</td>\n",
       "    </tr>\n",
       "    <tr>\n",
       "      <th>L_air</th>\n",
       "      <td>3.700000e-01</td>\n",
       "      <td>Dimensionless</td>\n",
       "      <td>Earles et al. (2018)</td>\n",
       "    </tr>\n",
       "    <tr>\n",
       "      <th>L_epidermis</th>\n",
       "      <td>1.500000e-01</td>\n",
       "      <td>Dimensionless</td>\n",
       "      <td>Wuyts et al. (2010)</td>\n",
       "    </tr>\n",
       "    <tr>\n",
       "      <th>Vac_frac</th>\n",
       "      <td>7.510000e-01</td>\n",
       "      <td>Dimensionless</td>\n",
       "      <td>Wang et al. (2017)</td>\n",
       "    </tr>\n",
       "    <tr>\n",
       "      <th>T</th>\n",
       "      <td>2.961500e+02</td>\n",
       "      <td>K</td>\n",
       "      <td>Horrer et al. (2016)</td>\n",
       "    </tr>\n",
       "    <tr>\n",
       "      <th>R</th>\n",
       "      <td>8.205000e-02</td>\n",
       "      <td>dm$^3$$\\cdot$atm$\\cdot$K$^{-1}$$\\cdot$mol$^{-1}$</td>\n",
       "      <td>Tiesinga et al. (2019)</td>\n",
       "    </tr>\n",
       "    <tr>\n",
       "      <th>N_gcs</th>\n",
       "      <td>5.800000e+08</td>\n",
       "      <td>GCs$\\cdot$m$^{-2}$</td>\n",
       "      <td>Papanatsiou, Amtmann, and Blatt (2016)</td>\n",
       "    </tr>\n",
       "    <tr>\n",
       "      <th>n</th>\n",
       "      <td>2.500000e+00</td>\n",
       "      <td>atm</td>\n",
       "      <td>Wang et al. (2017)</td>\n",
       "    </tr>\n",
       "    <tr>\n",
       "      <th>m</th>\n",
       "      <td>8.000000e-01</td>\n",
       "      <td>atm$\\cdot$µm$^{-1}$</td>\n",
       "      <td>Wang et al. (2017)</td>\n",
       "    </tr>\n",
       "    <tr>\n",
       "      <th>r</th>\n",
       "      <td>5.000000e-14</td>\n",
       "      <td>dm$^3$ µm$^{-1}$</td>\n",
       "      <td>Wang et al. (2017)</td>\n",
       "    </tr>\n",
       "    <tr>\n",
       "      <th>s</th>\n",
       "      <td>3.000000e-13</td>\n",
       "      <td>dm$^3$</td>\n",
       "      <td>Wang et al. (2017)</td>\n",
       "    </tr>\n",
       "    <tr>\n",
       "      <th>C_apo</th>\n",
       "      <td>2.302007e-02</td>\n",
       "      <td>mol$\\cdot$dm$^{-3}$</td>\n",
       "      <td>Wang et al. (2017)</td>\n",
       "    </tr>\n",
       "    <tr>\n",
       "      <th>A_closed</th>\n",
       "      <td>1.600000e+00</td>\n",
       "      <td>µm</td>\n",
       "      <td>Horrer et al. (2016)</td>\n",
       "    </tr>\n",
       "    <tr>\n",
       "      <th>A_open</th>\n",
       "      <td>2.750000e+00</td>\n",
       "      <td>µm</td>\n",
       "      <td>Horrer et al. (2016)</td>\n",
       "    </tr>\n",
       "  </tbody>\n",
       "</table>\n",
       "</div>"
      ],
      "text/plain": [
       "                    Value                                             Units  \\\n",
       "P_abs        9.000000e-01                                     Dimensionless   \n",
       "T_l          1.700000e-04                                                 m   \n",
       "A_l          1.000000e+00                                             m$^2$   \n",
       "V_gc_ind     4.750000e-13                                            dm$^3$   \n",
       "FqFm         9.000000e-01                                     Dimensionless   \n",
       "R_ch         6.923077e-02                                     Dimensionless   \n",
       "L_air        3.700000e-01                                     Dimensionless   \n",
       "L_epidermis  1.500000e-01                                     Dimensionless   \n",
       "Vac_frac     7.510000e-01                                     Dimensionless   \n",
       "T            2.961500e+02                                                 K   \n",
       "R            8.205000e-02  dm$^3$$\\cdot$atm$\\cdot$K$^{-1}$$\\cdot$mol$^{-1}$   \n",
       "N_gcs        5.800000e+08                                GCs$\\cdot$m$^{-2}$   \n",
       "n            2.500000e+00                                               atm   \n",
       "m            8.000000e-01                               atm$\\cdot$µm$^{-1}$   \n",
       "r            5.000000e-14                                  dm$^3$ µm$^{-1}$   \n",
       "s            3.000000e-13                                            dm$^3$   \n",
       "C_apo        2.302007e-02                               mol$\\cdot$dm$^{-3}$   \n",
       "A_closed     1.600000e+00                                                µm   \n",
       "A_open       2.750000e+00                                                µm   \n",
       "\n",
       "                                             Source  \n",
       "P_abs                     Zhu, Long, and Ort (2010)  \n",
       "T_l                             Wuyts et al. (2010)  \n",
       "A_l                                           Fixed  \n",
       "V_gc_ind                     Jezek and Blatt (2017)  \n",
       "FqFm                                  Lawson (2003)  \n",
       "R_ch             Fujiwara, Sanjaya, and Itoh (2019)  \n",
       "L_air                          Earles et al. (2018)  \n",
       "L_epidermis                     Wuyts et al. (2010)  \n",
       "Vac_frac                         Wang et al. (2017)  \n",
       "T                              Horrer et al. (2016)  \n",
       "R                            Tiesinga et al. (2019)  \n",
       "N_gcs        Papanatsiou, Amtmann, and Blatt (2016)  \n",
       "n                                Wang et al. (2017)  \n",
       "m                                Wang et al. (2017)  \n",
       "r                                Wang et al. (2017)  \n",
       "s                                Wang et al. (2017)  \n",
       "C_apo                            Wang et al. (2017)  \n",
       "A_closed                       Horrer et al. (2016)  \n",
       "A_open                         Horrer et al. (2016)  "
      ]
     },
     "execution_count": null,
     "metadata": {},
     "output_type": "execute_result"
    }
   ],
   "source": [
    "parameters_df"
   ]
  },
  {
   "cell_type": "code",
   "execution_count": null,
   "id": "fc4f17aa-a414-40bb-a5db-d3b454af9d82",
   "metadata": {},
   "outputs": [],
   "source": [
    "# | export\n",
    "\n",
    "arabidopsis_supermodel = mmon_gcm.supermodel.SuperModel(parameters_df.loc[:, \"Value\"], fba_model=model)\n",
    "arabidopsis_supermodel.constrain_osmolarity(printouts=False)\n",
    "arabidopsis_supermodel.constrain_photons(150, printouts=False)\n",
    "arabidopsis_supermodel.add_maintenance();"
   ]
  },
  {
   "cell_type": "markdown",
   "id": "9454f281-772f-47ec-a13d-32c827b323c4",
   "metadata": {},
   "source": [
    "## Constrain light, ATPase, starch"
   ]
  },
  {
   "cell_type": "code",
   "execution_count": null,
   "id": "4e214bce-0a6e-42db-af0e-17c31307d102",
   "metadata": {},
   "outputs": [
    {
     "name": "stdout",
     "output_type": "stream",
     "text": [
      "Model constrained with blue light\n",
      "Model ATPase left unconstrained\n",
      "Model starch knocked out\n",
      "Supermodel established and model constrained\n"
     ]
    }
   ],
   "source": [
    "# | export\n",
    "\n",
    "if light_colour == \"blue\":\n",
    "    arabidopsis_supermodel.fba_model.reactions.Photon_tx_gc_2.upper_bound = 0\n",
    "    arabidopsis_supermodel.fba_model.reactions.Photon_tx_me_2.upper_bound = 0\n",
    "    print(\"Model constrained with blue light\")\n",
    "elif light_colour == \"nops\":\n",
    "    mmon_gcm.buildingediting.set_bounds_multi(arabidopsis_supermodel.fba_model, \"Photon_tx_gc\", 0, 0)\n",
    "    print(\"Photosynthesis prevented in guard cell\")\n",
    "else:\n",
    "    print(\"Model constrained with white light\")\n",
    "\n",
    "if atpase_constraint == True:\n",
    "    gc_atpase_upper_bound = arabidopsis_supermodel.get_atpase_constraint_value(7.48)\n",
    "    mmon_gcm.buildingediting.set_bounds_multi(arabidopsis_supermodel.fba_model,\n",
    "                                              \"PROTON_ATPase_c_gc\", 0, gc_atpase_upper_bound)\n",
    "    print(\"Model ATPase constrained\")\n",
    "else:\n",
    "    print(\"Model ATPase left unconstrained\")\n",
    "\n",
    "if starch_knockout == True:\n",
    "    mmon_gcm.buildingediting.set_bounds_multi(arabidopsis_supermodel.fba_model, \"RXN_1827_p_gc\", 0, 0)\n",
    "    print(\"Model starch knocked out\")\n",
    "else:\n",
    "    print(\"Model starch left unconstrained\")\n",
    "\n",
    "print(\"Supermodel established and model constrained\")"
   ]
  },
  {
   "cell_type": "code",
   "execution_count": null,
   "id": "03e09dd8-51d8-4fb5-bb61-6e15f97d562d",
   "metadata": {},
   "outputs": [
    {
     "name": "stdout",
     "output_type": "stream",
     "text": [
      "Weightings file imported\n"
     ]
    }
   ],
   "source": [
    "# | export\n",
    "weightings = pd.read_csv(weightings_csv, index_col=[0], header=[0])\n",
    "print(\"Weightings file imported\")"
   ]
  },
  {
   "cell_type": "markdown",
   "id": "999da536-07c6-4e62-b2ba-2edb62989bc9",
   "metadata": {},
   "source": [
    "**If you are running from notebook you'll want to comment out the next cell! It's here so that running nbdev tests doesn't take too long, as they test running the entire notebook. It won't be exported so running as a script will be fine**"
   ]
  },
  {
   "cell_type": "code",
   "execution_count": null,
   "id": "5d31553c-ee9f-419c-b904-67f492140278",
   "metadata": {},
   "outputs": [
    {
     "data": {
      "text/html": [
       "<div>\n",
       "<style scoped>\n",
       "    .dataframe tbody tr th:only-of-type {\n",
       "        vertical-align: middle;\n",
       "    }\n",
       "\n",
       "    .dataframe tbody tr th {\n",
       "        vertical-align: top;\n",
       "    }\n",
       "\n",
       "    .dataframe thead th {\n",
       "        text-align: right;\n",
       "    }\n",
       "</style>\n",
       "<table border=\"1\" class=\"dataframe\">\n",
       "  <thead>\n",
       "    <tr style=\"text-align: right;\">\n",
       "      <th></th>\n",
       "      <th>10_FORMYL_THF_pc_gc_1</th>\n",
       "      <th>10_FORMYL_THF_pc_gc_2</th>\n",
       "      <th>10_FORMYL_THF_pc_gc_3</th>\n",
       "      <th>10_FORMYL_THF_pc_gc_4</th>\n",
       "      <th>10_FORMYL_THF_pc_me_1</th>\n",
       "      <th>10_FORMYL_THF_pc_me_2</th>\n",
       "      <th>10_FORMYL_THF_pc_me_3</th>\n",
       "      <th>10_FORMYL_THF_pc_me_4</th>\n",
       "      <th>1TRANSKETO_RXN_p_gc_1</th>\n",
       "      <th>1TRANSKETO_RXN_p_gc_2</th>\n",
       "      <th>...</th>\n",
       "      <th>sSUC_biomass_me_3</th>\n",
       "      <th>sSUC_biomass_me_4</th>\n",
       "      <th>unlProtHYPO_c_gc_1</th>\n",
       "      <th>unlProtHYPO_c_gc_2</th>\n",
       "      <th>unlProtHYPO_c_gc_3</th>\n",
       "      <th>unlProtHYPO_c_gc_4</th>\n",
       "      <th>unlProtHYPO_c_me_1</th>\n",
       "      <th>unlProtHYPO_c_me_2</th>\n",
       "      <th>unlProtHYPO_c_me_3</th>\n",
       "      <th>unlProtHYPO_c_me_4</th>\n",
       "    </tr>\n",
       "  </thead>\n",
       "  <tbody>\n",
       "    <tr>\n",
       "      <th>0</th>\n",
       "      <td>3.196322</td>\n",
       "      <td>0.266360</td>\n",
       "      <td>6.126284</td>\n",
       "      <td>3.196322</td>\n",
       "      <td>2.003810</td>\n",
       "      <td>0.166984</td>\n",
       "      <td>3.840636</td>\n",
       "      <td>2.003810</td>\n",
       "      <td>4.628290</td>\n",
       "      <td>0.385691</td>\n",
       "      <td>...</td>\n",
       "      <td>3.685919</td>\n",
       "      <td>1.923088</td>\n",
       "      <td>3.013075</td>\n",
       "      <td>0.251090</td>\n",
       "      <td>5.775060</td>\n",
       "      <td>3.013075</td>\n",
       "      <td>4.919640</td>\n",
       "      <td>0.409970</td>\n",
       "      <td>9.429310</td>\n",
       "      <td>4.919640</td>\n",
       "    </tr>\n",
       "    <tr>\n",
       "      <th>1</th>\n",
       "      <td>2.976393</td>\n",
       "      <td>0.248033</td>\n",
       "      <td>5.704753</td>\n",
       "      <td>2.976393</td>\n",
       "      <td>0.059372</td>\n",
       "      <td>0.004948</td>\n",
       "      <td>0.113797</td>\n",
       "      <td>0.059372</td>\n",
       "      <td>3.306903</td>\n",
       "      <td>0.275575</td>\n",
       "      <td>...</td>\n",
       "      <td>11.088275</td>\n",
       "      <td>5.785187</td>\n",
       "      <td>4.092069</td>\n",
       "      <td>0.341006</td>\n",
       "      <td>7.843133</td>\n",
       "      <td>4.092069</td>\n",
       "      <td>0.268098</td>\n",
       "      <td>0.022342</td>\n",
       "      <td>0.513855</td>\n",
       "      <td>0.268098</td>\n",
       "    </tr>\n",
       "    <tr>\n",
       "      <th>2</th>\n",
       "      <td>3.812475</td>\n",
       "      <td>0.317706</td>\n",
       "      <td>7.307244</td>\n",
       "      <td>3.812475</td>\n",
       "      <td>3.160252</td>\n",
       "      <td>0.263354</td>\n",
       "      <td>6.057151</td>\n",
       "      <td>3.160252</td>\n",
       "      <td>1.036738</td>\n",
       "      <td>0.086395</td>\n",
       "      <td>...</td>\n",
       "      <td>5.557520</td>\n",
       "      <td>2.899576</td>\n",
       "      <td>3.424889</td>\n",
       "      <td>0.285407</td>\n",
       "      <td>6.564371</td>\n",
       "      <td>3.424889</td>\n",
       "      <td>1.629429</td>\n",
       "      <td>0.135786</td>\n",
       "      <td>3.123073</td>\n",
       "      <td>1.629429</td>\n",
       "    </tr>\n",
       "    <tr>\n",
       "      <th>3</th>\n",
       "      <td>0.186226</td>\n",
       "      <td>0.015519</td>\n",
       "      <td>0.356934</td>\n",
       "      <td>0.186226</td>\n",
       "      <td>1.913905</td>\n",
       "      <td>0.159492</td>\n",
       "      <td>3.668317</td>\n",
       "      <td>1.913905</td>\n",
       "      <td>4.470282</td>\n",
       "      <td>0.372524</td>\n",
       "      <td>...</td>\n",
       "      <td>2.648911</td>\n",
       "      <td>1.382040</td>\n",
       "      <td>4.475259</td>\n",
       "      <td>0.372938</td>\n",
       "      <td>8.577580</td>\n",
       "      <td>4.475259</td>\n",
       "      <td>0.418057</td>\n",
       "      <td>0.034838</td>\n",
       "      <td>0.801276</td>\n",
       "      <td>0.418057</td>\n",
       "    </tr>\n",
       "  </tbody>\n",
       "</table>\n",
       "<p>4 rows × 7093 columns</p>\n",
       "</div>"
      ],
      "text/plain": [
       "   10_FORMYL_THF_pc_gc_1  10_FORMYL_THF_pc_gc_2  10_FORMYL_THF_pc_gc_3  \\\n",
       "0               3.196322               0.266360               6.126284   \n",
       "1               2.976393               0.248033               5.704753   \n",
       "2               3.812475               0.317706               7.307244   \n",
       "3               0.186226               0.015519               0.356934   \n",
       "\n",
       "   10_FORMYL_THF_pc_gc_4  10_FORMYL_THF_pc_me_1  10_FORMYL_THF_pc_me_2  \\\n",
       "0               3.196322               2.003810               0.166984   \n",
       "1               2.976393               0.059372               0.004948   \n",
       "2               3.812475               3.160252               0.263354   \n",
       "3               0.186226               1.913905               0.159492   \n",
       "\n",
       "   10_FORMYL_THF_pc_me_3  10_FORMYL_THF_pc_me_4  1TRANSKETO_RXN_p_gc_1  \\\n",
       "0               3.840636               2.003810               4.628290   \n",
       "1               0.113797               0.059372               3.306903   \n",
       "2               6.057151               3.160252               1.036738   \n",
       "3               3.668317               1.913905               4.470282   \n",
       "\n",
       "   1TRANSKETO_RXN_p_gc_2  ...  sSUC_biomass_me_3  sSUC_biomass_me_4  \\\n",
       "0               0.385691  ...           3.685919           1.923088   \n",
       "1               0.275575  ...          11.088275           5.785187   \n",
       "2               0.086395  ...           5.557520           2.899576   \n",
       "3               0.372524  ...           2.648911           1.382040   \n",
       "\n",
       "   unlProtHYPO_c_gc_1  unlProtHYPO_c_gc_2  unlProtHYPO_c_gc_3  \\\n",
       "0            3.013075            0.251090            5.775060   \n",
       "1            4.092069            0.341006            7.843133   \n",
       "2            3.424889            0.285407            6.564371   \n",
       "3            4.475259            0.372938            8.577580   \n",
       "\n",
       "   unlProtHYPO_c_gc_4  unlProtHYPO_c_me_1  unlProtHYPO_c_me_2  \\\n",
       "0            3.013075            4.919640            0.409970   \n",
       "1            4.092069            0.268098            0.022342   \n",
       "2            3.424889            1.629429            0.135786   \n",
       "3            4.475259            0.418057            0.034838   \n",
       "\n",
       "   unlProtHYPO_c_me_3  unlProtHYPO_c_me_4  \n",
       "0            9.429310            4.919640  \n",
       "1            0.513855            0.268098  \n",
       "2            3.123073            1.629429  \n",
       "3            0.801276            0.418057  \n",
       "\n",
       "[4 rows x 7093 columns]"
      ]
     },
     "execution_count": null,
     "metadata": {},
     "output_type": "execute_result"
    }
   ],
   "source": [
    "weightings = weightings.iloc[0:4]  # so tests don't take too long\n",
    "weightings.head()"
   ]
  },
  {
   "cell_type": "code",
   "execution_count": null,
   "id": "102412a4-21b1-4dc2-929d-c348fd9cb410",
   "metadata": {},
   "outputs": [
    {
     "name": "stdout",
     "output_type": "stream",
     "text": [
      "Creating temp directory _tmp/ to store solutions as they come in\n"
     ]
    }
   ],
   "source": [
    "# | export\n",
    "\n",
    "temp_results = results_path.split(\".\")[0]+\"_tmp/\"\n",
    "print(f\"Creating temp directory {temp_results} to store solutions as they come in\")\n",
    "Path(temp_results).mkdir(parents=True, exist_ok=True)"
   ]
  },
  {
   "cell_type": "code",
   "execution_count": null,
   "id": "7d0aef76-cf33-41d2-82a0-bc636718e2d1",
   "metadata": {},
   "outputs": [
    {
     "name": "stdout",
     "output_type": "stream",
     "text": [
      "INFO: Pandarallel will run on 2 workers.\n",
      "INFO: Pandarallel will use Memory file system to transfer data between the main process and workers.\n",
      "Solving model for 4 alternative weightings\n",
      "Solving solution 0\n",
      "Solving solution 2\n",
      "Solving solution 3\n",
      "Solving solution 1\n"
     ]
    }
   ],
   "source": [
    "# | export\n",
    "\n",
    "pandarallel.initialize(nb_workers=no_cores, progress_bar=False)\n",
    "print(f\"Solving model for {len(weightings.index)} alternative weightings\")\n",
    "weightings_solution = weightings.parallel_apply(\n",
    "    mmon_gcm.alternativemodes.solve_model_with_weightings, args=([arabidopsis_supermodel.fba_model, temp_results]), axis=1)"
   ]
  },
  {
   "cell_type": "code",
   "execution_count": null,
   "id": "54e9f44f-591c-430b-830e-5b9d28c7bf73",
   "metadata": {},
   "outputs": [
    {
     "name": "stdout",
     "output_type": "stream",
     "text": [
      "All solutions saved to ../outputs/alternative_weighting/test_solution.csv\n",
      "Deleting temp directory _tmp/\n"
     ]
    }
   ],
   "source": [
    "# | export\n",
    "\n",
    "weightings_solution.to_csv(results_path)\n",
    "if len(weightings_solution) == len(weightings):\n",
    "    print(f\"All solutions saved to {results_path}\")\n",
    "    print(f\"Deleting temp directory {temp_results}\")\n",
    "    shutil.rmtree(temp_results)"
   ]
  }
 ],
 "metadata": {
  "kernelspec": {
   "display_name": "mmon-gcm",
   "language": "python",
   "name": "mmon-gcm"
  }
 },
 "nbformat": 4,
 "nbformat_minor": 5
}
