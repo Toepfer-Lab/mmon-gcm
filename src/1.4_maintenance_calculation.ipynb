{
 "cells": [
  {
   "cell_type": "markdown",
   "id": "bc9fd559-4704-4cf5-9bc7-e01ba7203c1a",
   "metadata": {},
   "source": [
    "## Calculating guard cell maintenance value"
   ]
  },
  {
   "cell_type": "markdown",
   "id": "5fa860ee-8e63-4d40-8883-1a995cd6e8f4",
   "metadata": {},
   "source": [
    "Tan and Cheung (2020) included a maintenance value in their model:\n",
    "\n",
    "> Cellular maintenance was modelled in similar way to previous studies (Cheung et al., 2014; Shameer et al., 2018; see Experimental Procedures for details). Given the lack of experimental information on guard cell maintenance costs, we varied the magnitude of cellular maintenance costs and selected a value of 2.87 mmol ATP g−1 DW h−1 as the ATP maintenance cost for the standard scenario based on matching carbon fixation during the Day phase contributing to 20% of osmolyte accumulation (see Experimental Procedures for details)\n",
    "\n",
    "They set constraints to force sucrose to be accumulated:\n",
    "\n",
    "> To simulate the choice of osmolytes corresponding to specific times of day, we set K+ storage to zero during the Day phase and sucrose storage to zero during the Open phase. These constraints forced K+ to be exported after the Open phase and for sucrose to be accumulated during the Day phase.\n",
    "\n",
    "\n",
    "They then used the fact that sucrose was accumulated to set the maintenance to be 20% of total CO2 influx:\n",
    "\n",
    "> With all constraints and objective functions of the standard scenario applied, except the magnitude of maintenance costs, a binary search algorithm was used to identify the magnitude of maintenance costs that gave a value of CO2 influx during the day phase that matched 20% of the total sucrose accumulation during the day phase (2.16 mmol CO2 g−1 DW as 20% of 0.9 mmol sucrose g−1 DW with sucrose having 12 carbons)."
   ]
  },
  {
   "cell_type": "markdown",
   "id": "5637d689-c2fd-4f8a-a190-5c560b2c14af",
   "metadata": {},
   "source": [
    "So their maintenance value was 2.87 mmol $\\cdot$ ATP $\\cdot$ gDW$^{−1}$ $\\cdot$ h$^{−1}$, which we can use in our model. However, our model is in units of mmol $\\cdot$ m$^{-2}$leaf $\\cdot$ h$^{-1}$, so it needs to be converted."
   ]
  },
  {
   "cell_type": "markdown",
   "id": "aea8cf71-69c8-4074-8ce6-84f27b9b1514",
   "metadata": {},
   "source": [
    "## Converting mmol ⋅ gDW-1 to mmol ⋅ m-2"
   ]
  },
  {
   "attachments": {
    "01703cdc-995b-4d25-86fd-cd077025343e.png": {
     "image/png": "[encoded data removed]"
    }
   },
   "cell_type": "markdown",
   "id": "a8e40db4-81c0-457e-8c8e-5eb21fa114ed",
   "metadata": {},
   "source": [
    "Tschoep et al (2009) found, and then Arnold 2014 referenced, that the dry weight content of Arabidopsis during optimal growth was 0.088:\n",
    "\n",
    "![image.png](attachment:01703cdc-995b-4d25-86fd-cd077025343e.png)\n",
    "\n",
    "We assume that this relationship holds for guard cells as well.\n",
    "\n",
    "We want to know the concentration of ATP, and as it will only dissolve in the water component of the leaf, not the dry, we need to first convert from mmol $\\cdot$ gDW$^{−1}$ to mmol $\\cdot$ gFW$^{−1}$. \n",
    "\n",
    "$$ 0.088 = \\frac{gDW}{gFW} $$\n",
    "\n",
    "We assume that the fresh weight of the leaf is the gDW + water:\n",
    "\n",
    "$$ 0.088 = \\frac{gDW}{gDW + gWater} $$\n",
    "\n",
    "And using the density of water 1g=1cm3:\n",
    "\n",
    "$$ 0.088 = \\frac{gDW}{gDW + cm^3leaf} $$\n",
    "\n",
    "$$ 0.088 \\cdot (gDW + cm^3leaf) = gDW$$\n",
    "\n",
    "$$ 0.088 \\cdot gDW + 0.088 \\cdot cm^3leaf = gDW$$\n",
    "\n",
    "$$ 0.088 \\cdot cm^3leaf = 0.912 \\cdot gDW$$\n",
    "\n",
    "$$ cm^3leaf = 10.36 \\cdot gDW$$"
   ]
  },
  {
   "cell_type": "markdown",
   "id": "7c2cfa0d-4486-4fc3-b669-94fbee1fe962",
   "metadata": {},
   "source": [
    "So for every gram of dry weight we have 10.36 cm$^3$ of water that the ATP can be dissolved in, or 0.010 dm$^3$."
   ]
  },
  {
   "cell_type": "markdown",
   "id": "ecdfd98c-b465-46ec-a915-e060b2a33f39",
   "metadata": {},
   "source": [
    "2.87 mmol $\\cdot$ ATP $\\cdot$ gDW$^{−1}$ $\\cdot$ h$^{-1}$ $\\times$ $\\frac{1}{0.01}$ gDW $\\cdot$ dm$^{-3}$ = 287 mmoles $\\cdot$ dm$^{-3}$ $\\cdot$ ATP $\\cdot$ h$^{-1}$"
   ]
  },
  {
   "cell_type": "markdown",
   "id": "9cdb0d69-a0c8-4906-bba7-181675298e68",
   "metadata": {},
   "source": [
    "This then needs to be converted to mmoles $\\cdot$ ATP $\\cdot$ m$^{-2}$leaf $\\cdot$ h$^{-1}$ by multiplying by the volume of guard cells per m2leaf (this will vary depending on parameters chosen, but here is one example as a sanity check):"
   ]
  },
  {
   "cell_type": "code",
   "execution_count": 1,
   "id": "534bec73-34f4-4b69-aeb7-70552fc4c43a",
   "metadata": {
    "tags": []
   },
   "outputs": [],
   "source": [
    "import pandas as pd"
   ]
  },
  {
   "cell_type": "code",
   "execution_count": 2,
   "id": "710b8df9-42d0-4f86-bebd-de3e22e1f858",
   "metadata": {
    "tags": []
   },
   "outputs": [
    {
     "data": {
      "text/html": [
       "<div>\n",
       "<style scoped>\n",
       "    .dataframe tbody tr th:only-of-type {\n",
       "        vertical-align: middle;\n",
       "    }\n",
       "\n",
       "    .dataframe tbody tr th {\n",
       "        vertical-align: top;\n",
       "    }\n",
       "\n",
       "    .dataframe thead th {\n",
       "        text-align: right;\n",
       "    }\n",
       "</style>\n",
       "<table border=\"1\" class=\"dataframe\">\n",
       "  <thead>\n",
       "    <tr style=\"text-align: right;\">\n",
       "      <th></th>\n",
       "      <th>Value</th>\n",
       "      <th>Units</th>\n",
       "      <th>Source</th>\n",
       "    </tr>\n",
       "  </thead>\n",
       "  <tbody>\n",
       "    <tr>\n",
       "      <th>P_abs</th>\n",
       "      <td>9.000000e-01</td>\n",
       "      <td>Dimensionless</td>\n",
       "      <td>Zhu, Long, and Ort (2010)</td>\n",
       "    </tr>\n",
       "    <tr>\n",
       "      <th>T_l</th>\n",
       "      <td>1.700000e-04</td>\n",
       "      <td>m</td>\n",
       "      <td>Wuyts et al. (2010)</td>\n",
       "    </tr>\n",
       "    <tr>\n",
       "      <th>A_l</th>\n",
       "      <td>1.000000e+00</td>\n",
       "      <td>m$^2$</td>\n",
       "      <td>Fixed</td>\n",
       "    </tr>\n",
       "    <tr>\n",
       "      <th>V_gc_ind</th>\n",
       "      <td>4.750000e-13</td>\n",
       "      <td>dm$^3$</td>\n",
       "      <td>Jezek and Blatt (2017)</td>\n",
       "    </tr>\n",
       "    <tr>\n",
       "      <th>FqFm</th>\n",
       "      <td>9.000000e-01</td>\n",
       "      <td>Dimensionless</td>\n",
       "      <td>Lawson (2003)</td>\n",
       "    </tr>\n",
       "    <tr>\n",
       "      <th>R_ch</th>\n",
       "      <td>6.923077e-02</td>\n",
       "      <td>Dimensionless</td>\n",
       "      <td>Fujiwara, Sanjaya, and Itoh (2019)</td>\n",
       "    </tr>\n",
       "    <tr>\n",
       "      <th>L_air</th>\n",
       "      <td>3.700000e-01</td>\n",
       "      <td>Dimensionless</td>\n",
       "      <td>Earles et al. (2018)</td>\n",
       "    </tr>\n",
       "    <tr>\n",
       "      <th>L_epidermis</th>\n",
       "      <td>1.500000e-01</td>\n",
       "      <td>Dimensionless</td>\n",
       "      <td>Wuyts et al. (2010)</td>\n",
       "    </tr>\n",
       "    <tr>\n",
       "      <th>Vac_frac</th>\n",
       "      <td>7.510000e-01</td>\n",
       "      <td>Dimensionless</td>\n",
       "      <td>Wang et al. (2017)</td>\n",
       "    </tr>\n",
       "    <tr>\n",
       "      <th>T</th>\n",
       "      <td>2.961500e+02</td>\n",
       "      <td>K</td>\n",
       "      <td>Horrer et al. (2016)</td>\n",
       "    </tr>\n",
       "    <tr>\n",
       "      <th>R</th>\n",
       "      <td>8.205000e-02</td>\n",
       "      <td>dm$^3$$\\cdot$atm$\\cdot$K$^{-1}$$\\cdot$mol$^{-1}$</td>\n",
       "      <td>Tiesinga et al. (2019)</td>\n",
       "    </tr>\n",
       "    <tr>\n",
       "      <th>N_gcs</th>\n",
       "      <td>5.800000e+08</td>\n",
       "      <td>GCs$\\cdot$m$^{-2}$</td>\n",
       "      <td>Papanatsiou, Amtmann, and Blatt (2016)</td>\n",
       "    </tr>\n",
       "    <tr>\n",
       "      <th>n</th>\n",
       "      <td>2.500000e+00</td>\n",
       "      <td>atm</td>\n",
       "      <td>Wang et al. (2017)</td>\n",
       "    </tr>\n",
       "    <tr>\n",
       "      <th>m</th>\n",
       "      <td>8.000000e-01</td>\n",
       "      <td>atm$\\cdot$µm$^{-1}$</td>\n",
       "      <td>Wang et al. (2017)</td>\n",
       "    </tr>\n",
       "    <tr>\n",
       "      <th>r</th>\n",
       "      <td>5.000000e-14</td>\n",
       "      <td>dm$^3$ µm$^{-1}$</td>\n",
       "      <td>Wang et al. (2017)</td>\n",
       "    </tr>\n",
       "    <tr>\n",
       "      <th>s</th>\n",
       "      <td>3.000000e-13</td>\n",
       "      <td>dm$^3$</td>\n",
       "      <td>Wang et al. (2017)</td>\n",
       "    </tr>\n",
       "    <tr>\n",
       "      <th>C_apo</th>\n",
       "      <td>2.302007e-02</td>\n",
       "      <td>mol$\\cdot$dm$^{-3}$</td>\n",
       "      <td>Wang et al. (2017)</td>\n",
       "    </tr>\n",
       "    <tr>\n",
       "      <th>A_closed</th>\n",
       "      <td>1.600000e+00</td>\n",
       "      <td>µm</td>\n",
       "      <td>Horrer et al. (2016)</td>\n",
       "    </tr>\n",
       "    <tr>\n",
       "      <th>A_open</th>\n",
       "      <td>2.750000e+00</td>\n",
       "      <td>µm</td>\n",
       "      <td>Horrer et al. (2016)</td>\n",
       "    </tr>\n",
       "  </tbody>\n",
       "</table>\n",
       "</div>"
      ],
      "text/plain": [
       "                    Value                                             Units  \\\n",
       "P_abs        9.000000e-01                                     Dimensionless   \n",
       "T_l          1.700000e-04                                                 m   \n",
       "A_l          1.000000e+00                                             m$^2$   \n",
       "V_gc_ind     4.750000e-13                                            dm$^3$   \n",
       "FqFm         9.000000e-01                                     Dimensionless   \n",
       "R_ch         6.923077e-02                                     Dimensionless   \n",
       "L_air        3.700000e-01                                     Dimensionless   \n",
       "L_epidermis  1.500000e-01                                     Dimensionless   \n",
       "Vac_frac     7.510000e-01                                     Dimensionless   \n",
       "T            2.961500e+02                                                 K   \n",
       "R            8.205000e-02  dm$^3$$\\cdot$atm$\\cdot$K$^{-1}$$\\cdot$mol$^{-1}$   \n",
       "N_gcs        5.800000e+08                                GCs$\\cdot$m$^{-2}$   \n",
       "n            2.500000e+00                                               atm   \n",
       "m            8.000000e-01                               atm$\\cdot$µm$^{-1}$   \n",
       "r            5.000000e-14                                  dm$^3$ µm$^{-1}$   \n",
       "s            3.000000e-13                                            dm$^3$   \n",
       "C_apo        2.302007e-02                               mol$\\cdot$dm$^{-3}$   \n",
       "A_closed     1.600000e+00                                                µm   \n",
       "A_open       2.750000e+00                                                µm   \n",
       "\n",
       "                                             Source  \n",
       "P_abs                     Zhu, Long, and Ort (2010)  \n",
       "T_l                             Wuyts et al. (2010)  \n",
       "A_l                                           Fixed  \n",
       "V_gc_ind                     Jezek and Blatt (2017)  \n",
       "FqFm                                  Lawson (2003)  \n",
       "R_ch             Fujiwara, Sanjaya, and Itoh (2019)  \n",
       "L_air                          Earles et al. (2018)  \n",
       "L_epidermis                     Wuyts et al. (2010)  \n",
       "Vac_frac                         Wang et al. (2017)  \n",
       "T                              Horrer et al. (2016)  \n",
       "R                            Tiesinga et al. (2019)  \n",
       "N_gcs        Papanatsiou, Amtmann, and Blatt (2016)  \n",
       "n                                Wang et al. (2017)  \n",
       "m                                Wang et al. (2017)  \n",
       "r                                Wang et al. (2017)  \n",
       "s                                Wang et al. (2017)  \n",
       "C_apo                            Wang et al. (2017)  \n",
       "A_closed                       Horrer et al. (2016)  \n",
       "A_open                         Horrer et al. (2016)  "
      ]
     },
     "execution_count": 2,
     "metadata": {},
     "output_type": "execute_result"
    }
   ],
   "source": [
    "parameters_df = pd.read_csv(\"../inputs/arabidopsis_parameters.csv\", index_col=0)\n",
    "parameters_df"
   ]
  },
  {
   "cell_type": "markdown",
   "id": "fbd639e8-7439-4eda-8a46-3547063ef745",
   "metadata": {},
   "source": [
    "So we multiply the volume of an individual guard cell by the number of guard cells per m2 of leaf to give us the volume of guard cells per m2 leaf"
   ]
  },
  {
   "cell_type": "code",
   "execution_count": 3,
   "id": "964a02b9-f373-4410-a99b-ec6d653a3ee8",
   "metadata": {
    "tags": []
   },
   "outputs": [
    {
     "data": {
      "text/plain": [
       "0.0002755"
      ]
     },
     "execution_count": 3,
     "metadata": {},
     "output_type": "execute_result"
    }
   ],
   "source": [
    "dm3_gc_per_m2leaf = parameters_df.loc[\"V_gc_ind\", \"Value\"] * parameters_df.loc[\"N_gcs\", \"Value\"]\n",
    "dm3_gc_per_m2leaf"
   ]
  },
  {
   "cell_type": "markdown",
   "id": "2d6003ad-cb8c-4aff-8e2c-fb96747eab16",
   "metadata": {},
   "source": [
    "We then multiply this by 287, the number calculated above:"
   ]
  },
  {
   "cell_type": "code",
   "execution_count": 4,
   "id": "a28128ee-dfe8-4045-8109-5931f000d234",
   "metadata": {
    "tags": []
   },
   "outputs": [
    {
     "data": {
      "text/plain": [
       "0.07906849999999999"
      ]
     },
     "execution_count": 4,
     "metadata": {},
     "output_type": "execute_result"
    }
   ],
   "source": [
    "dm3_gc_per_m2leaf * 287"
   ]
  },
  {
   "cell_type": "markdown",
   "id": "94c3625d-4179-4de8-b12c-2771dadf87d6",
   "metadata": {},
   "source": [
    "So we need to add maintenance of 0.079 mmoles $\\cdot$ ATP $\\cdot$ m$^{-2}$leaf $\\cdot$ h$^{-1}$ to the model. Currently during the opening phase of the model we have an ATP production rate from the mitochondrial ATP synthase of 0.003, so using this equation maintenance would be over 20X the amount of ATP production needed for guard cell opening, which seems unrealistic."
   ]
  },
  {
   "cell_type": "markdown",
   "id": "c24c3c77-b4b8-4a27-ba18-80ba374b7e80",
   "metadata": {},
   "source": [
    "Maintenance in the mesophyll portion of the model is 5.17 mmoles $\\cdot$ ATP $\\cdot$ m$^{-2}$leaf $\\cdot$ h$^{-1}$. Let's see what happens if we correct this to guard cell by size, as another possible way to do this:"
   ]
  },
  {
   "cell_type": "markdown",
   "id": "c0441716-b10c-411c-901d-e01190d51119",
   "metadata": {},
   "source": [
    "The volume of 1m2 of leaf (in dm3):"
   ]
  },
  {
   "cell_type": "code",
   "execution_count": 5,
   "id": "22624d33-5df7-4d93-a90a-0f3569f2ac3e",
   "metadata": {
    "tags": []
   },
   "outputs": [
    {
     "data": {
      "text/plain": [
       "0.17"
      ]
     },
     "execution_count": 5,
     "metadata": {},
     "output_type": "execute_result"
    }
   ],
   "source": [
    "volume_of_leaf_m2 = (parameters_df.loc[\"T_l\", \"Value\"] * 1) * 1000\n",
    "volume_of_leaf_m2"
   ]
  },
  {
   "cell_type": "markdown",
   "id": "c471f6b0-24ed-4e89-8cdc-94a635a1855e",
   "metadata": {},
   "source": [
    "The proportion of the leaf that is air:"
   ]
  },
  {
   "cell_type": "code",
   "execution_count": 6,
   "id": "6a095aaa-8701-4398-b56d-ae28d046c881",
   "metadata": {
    "tags": []
   },
   "outputs": [
    {
     "data": {
      "text/plain": [
       "0.37"
      ]
     },
     "execution_count": 6,
     "metadata": {},
     "output_type": "execute_result"
    }
   ],
   "source": [
    "parameters_df.loc[\"L_air\", \"Value\"]"
   ]
  },
  {
   "cell_type": "markdown",
   "id": "0440d9d1-870b-48eb-92a3-8f1ee7b92a30",
   "metadata": {},
   "source": [
    "The volume of leaf that is not air:"
   ]
  },
  {
   "cell_type": "code",
   "execution_count": 7,
   "id": "9fe9516f-3736-4233-8e97-f50ca6840735",
   "metadata": {
    "tags": []
   },
   "outputs": [
    {
     "data": {
      "text/plain": [
       "0.10710000000000001"
      ]
     },
     "execution_count": 7,
     "metadata": {},
     "output_type": "execute_result"
    }
   ],
   "source": [
    "volume_of_leaf_not_air = volume_of_leaf_m2 * (1 - parameters_df.loc[\"L_air\", \"Value\"])\n",
    "volume_of_leaf_not_air"
   ]
  },
  {
   "cell_type": "markdown",
   "id": "a7ad7a84-a3fb-45f3-b3ec-235d11cd31b7",
   "metadata": {},
   "source": [
    "The volume of the leaf that is not air and is not guard cells (ie. mesophyll):"
   ]
  },
  {
   "cell_type": "code",
   "execution_count": 8,
   "id": "9220c7ac-bf0d-4149-a3b7-9bdf6ec181fa",
   "metadata": {
    "tags": []
   },
   "outputs": [
    {
     "data": {
      "text/plain": [
       "0.10682450000000002"
      ]
     },
     "execution_count": 8,
     "metadata": {},
     "output_type": "execute_result"
    }
   ],
   "source": [
    "volume_of_mesophyll = volume_of_leaf_not_air - dm3_gc_per_m2leaf\n",
    "volume_of_mesophyll"
   ]
  },
  {
   "cell_type": "markdown",
   "id": "016433b7-566c-4109-8a8f-fa5adc63f8e0",
   "metadata": {},
   "source": [
    "So the proportion of cells modelled that are guard cells:"
   ]
  },
  {
   "cell_type": "code",
   "execution_count": 9,
   "id": "75103312-4ea3-486e-8ece-32c1a003d3a2",
   "metadata": {
    "tags": []
   },
   "outputs": [
    {
     "data": {
      "text/plain": [
       "0.002578996391277281"
      ]
     },
     "execution_count": 9,
     "metadata": {},
     "output_type": "execute_result"
    }
   ],
   "source": [
    "proportion_of_leaf_gc = dm3_gc_per_m2leaf / volume_of_mesophyll\n",
    "proportion_of_leaf_gc"
   ]
  },
  {
   "cell_type": "markdown",
   "id": "b26f5449-7361-42b5-ade9-02cc4d68b035",
   "metadata": {},
   "source": [
    "And if we multiply this by the maintenance in the mesophyll:"
   ]
  },
  {
   "cell_type": "code",
   "execution_count": 10,
   "id": "09d36caf-456d-48b0-b655-37c97ac53b9d",
   "metadata": {
    "tags": []
   },
   "outputs": [
    {
     "data": {
      "text/plain": [
       "0.013333411342903542"
      ]
     },
     "execution_count": 10,
     "metadata": {},
     "output_type": "execute_result"
    }
   ],
   "source": [
    "5.17 * proportion_of_leaf_gc"
   ]
  },
  {
   "cell_type": "markdown",
   "id": "f25d41ea-8d4c-420b-8cad-927c7f19e6ce",
   "metadata": {},
   "source": [
    "Giving us 0.01 mmoles $\\cdot$ ATP $\\cdot$ m$^{-2}$leaf $\\cdot$ h$^{-1}$, interestingly still approximately 3x the energy required for opening, and not too far from the values that Maurice used."
   ]
  }
 ],
 "metadata": {
  "kernelspec": {
   "display_name": "Python 3 (ipykernel)",
   "language": "python",
   "name": "python3"
  },
  "language_info": {
   "codemirror_mode": {
    "name": "ipython",
    "version": 3
   },
   "file_extension": ".py",
   "mimetype": "text/x-python",
   "name": "python",
   "nbconvert_exporter": "python",
   "pygments_lexer": "ipython3",
   "version": "3.9.18"
  }
 },
 "nbformat": 4,
 "nbformat_minor": 5
}
