{
 "cells": [
  {
   "cell_type": "markdown",
   "id": "b53437bd-b749-499d-8f52-3f35574b72da",
   "metadata": {},
   "source": [
    "# Preparing data for 'The Plant Cell' submission"
   ]
  },
  {
   "cell_type": "markdown",
   "id": "0c7ecf58-7838-4bfd-be48-a55d821e2f4b",
   "metadata": {},
   "source": [
    "This is pretty slow as the files are large"
   ]
  },
  {
   "cell_type": "code",
   "execution_count": null,
   "id": "ee8a316c-ecb8-4bf7-bed8-e9c3e090d21e",
   "metadata": {},
   "outputs": [],
   "source": [
    "import os\n",
    "\n",
    "import pandas as pd"
   ]
  },
  {
   "cell_type": "code",
   "execution_count": null,
   "id": "ce44d8f2-7cc6-4892-910b-234e8ba35513",
   "metadata": {},
   "outputs": [],
   "source": [
    "i = 1"
   ]
  },
  {
   "cell_type": "code",
   "execution_count": null,
   "id": "d2f26954-d053-4eba-ae94-d1528c9bd3bd",
   "metadata": {},
   "outputs": [],
   "source": [
    "with pd.ExcelWriter(f\"../plant_cell_paper/tpc00001-SupplementalDS{i}.xlsx\") as writer:\n",
    "    for file in os.listdir(\"../outputs/model_solutions\"):\n",
    "        filename = os.fsdecode(file)\n",
    "        if filename.endswith(\".csv\"):\n",
    "            solution_df = pd.read_csv(\"../outputs/model_solutions/\" + file, index_col=0)\n",
    "            solution_df.to_excel(writer, sheet_name=filename[:-4])\n",
    "i += 1"
   ]
  },
  {
   "cell_type": "code",
   "execution_count": null,
   "id": "17484827-d864-4fdd-a810-a85b4714177f",
   "metadata": {},
   "outputs": [],
   "source": [
    "file_list = [\"../outputs/constraint_scan/constraints_df.csv\", \"../outputs/constraint_scan/constraint_scan_results_blue.csv\",\n",
    "             \"../outputs/constraint_scan/constraint_scan_results_white.csv\", \"../outputs/alternative_weighting/alternative_weights.csv\"]"
   ]
  },
  {
   "cell_type": "code",
   "execution_count": null,
   "id": "85f1c793-4e23-4978-960b-f4e67f147868",
   "metadata": {},
   "outputs": [],
   "source": [
    "for file in file_list:\n",
    "    file_df = pd.read_csv(file, index_col=0)\n",
    "    file_df.to_excel(f\"../plant_cell_paper/tpc00001-SupplementalDS{i}.xlsx\")\n",
    "    i += 1"
   ]
  },
  {
   "cell_type": "code",
   "execution_count": null,
   "id": "492ddc74-74f2-41d6-8069-e4eeb5fc7a88",
   "metadata": {},
   "outputs": [
    {
     "name": "stdout",
     "output_type": "stream",
     "text": [
      "No solution for white, unconstrained, wt\n",
      "No solution for white, unconstrained, ko\n",
      "No solution for nops, unconstrained, wt\n",
      "No solution for nops, unconstrained, ko\n"
     ]
    }
   ],
   "source": [
    "for light in [\"blue\", \"white\", \"nops\"]:\n",
    "    for atpase in [\"unconstrained\", \"constrained\"]:\n",
    "        for starch in [\"wt\", \"ko\"]:\n",
    "            filename = f\"../outputs/alternative_weighting/solution_{light}_{atpase}_{starch}.csv\"\n",
    "            try:\n",
    "                solution_df = pd.read_csv(filename, index_col=0)\n",
    "                solution_df.to_excel(f\"../plant_cell_paper/tpc00001-SupplementalDS{i}.xlsx\")\n",
    "\n",
    "                i += 1\n",
    "\n",
    "            except:\n",
    "                print(f\"No solution for {light}, {atpase}, {starch}\")"
   ]
  }
 ],
 "metadata": {
  "kernelspec": {
   "display_name": "mmon-gcm",
   "language": "python",
   "name": "mmon-gcm"
  }
 },
 "nbformat": 4,
 "nbformat_minor": 5
}
