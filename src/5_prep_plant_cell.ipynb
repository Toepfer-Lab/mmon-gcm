{
 "cells": [
  {
   "cell_type": "markdown",
   "id": "b53437bd-b749-499d-8f52-3f35574b72da",
   "metadata": {},
   "source": [
    "# Preparing data for 'The Plant Cell' submission"
   ]
  },
  {
   "cell_type": "markdown",
   "id": "0c7ecf58-7838-4bfd-be48-a55d821e2f4b",
   "metadata": {},
   "source": [
    "This is pretty slow as the files are large"
   ]
  },
  {
   "cell_type": "code",
   "execution_count": 1,
   "id": "ee8a316c-ecb8-4bf7-bed8-e9c3e090d21e",
   "metadata": {},
   "outputs": [],
   "source": [
    "import os\n",
    "import cobra\n",
    "\n",
    "import pandas as pd"
   ]
  },
  {
   "cell_type": "code",
   "execution_count": 2,
   "id": "ce44d8f2-7cc6-4892-910b-234e8ba35513",
   "metadata": {},
   "outputs": [],
   "source": [
    "i = 1"
   ]
  },
  {
   "cell_type": "code",
   "execution_count": 3,
   "id": "a601522d-dd46-40f0-8aba-09c5c2e0fd05",
   "metadata": {},
   "outputs": [
    {
     "name": "stderr",
     "output_type": "stream",
     "text": [
      "No objective coefficients in model. Unclear what should be optimized\n"
     ]
    }
   ],
   "source": [
    "model = cobra.io.read_sbml_model(\"../models/4_stage_GC.xml\")\n",
    "cobra.io.write_sbml_model(model, f\"../plant_cell_paper/SupplementalDS{i}.xml\")\n",
    "i += 1"
   ]
  },
  {
   "cell_type": "code",
   "execution_count": 4,
   "id": "387e0509-4f6a-4fe0-9eee-6c4a262cb48d",
   "metadata": {},
   "outputs": [],
   "source": [
    "sup_num = f\"Supplemental Data Set {i}: Sprent at al., Metabolic modelling suggests distinct roles for sugars and carboxylic acids during stomatal opening and unexpected flux configurations in central carbon metabolism\"\n",
    "model_solutions_legend = \"Apart from this one, each sheet contains the solution to the scenario given by the sheet name in the format [light_scenario]_[atpase constrained or unconstrained]_[starch is wt or ko]. Rows are reaction ids, fluxes column is the solution, and minimum and maximum give the flux bounds from FVA for the reactions which it was carried out on. The following suffixes are appended to the reaction ID to indicate the cell type or time phase: _me (mesophyll); _gc (guard cell); _1, _2, _3, _4 (indicate the time phases as shown in Figure 1: night2, opening, day, night1, respectively)\""
   ]
  },
  {
   "cell_type": "code",
   "execution_count": 5,
   "id": "d2f26954-d053-4eba-ae94-d1528c9bd3bd",
   "metadata": {},
   "outputs": [],
   "source": [
    "with pd.ExcelWriter(f\"../plant_cell_paper/SupplementalDS{i}.xlsx\") as writer:\n",
    "    legend_df = pd.DataFrame([sup_num, model_solutions_legend])\n",
    "    legend_df.to_excel(writer, sheet_name=\"Legend\",index=False, header=False)\n",
    "    for file in os.listdir(\"../outputs/model_solutions\"):\n",
    "        filename = os.fsdecode(file)\n",
    "        if filename.endswith(\".csv\"):\n",
    "            solution_df = pd.read_csv(\"../outputs/model_solutions/\" + file, index_col=0)\n",
    "            solution_df.to_excel(writer, sheet_name=filename[:-4])\n",
    "i += 1\n",
    "i += 1 # Manually added SuppDS3"
   ]
  },
  {
   "cell_type": "code",
   "execution_count": 6,
   "id": "17484827-d864-4fdd-a810-a85b4714177f",
   "metadata": {},
   "outputs": [],
   "source": [
    "file_list = [\"../outputs/constraint_scan/constraints_df.csv\", \"../outputs/constraint_scan/constraint_scan_results_blue.csv\",\n",
    "             \"../outputs/constraint_scan/constraint_scan_results_white.csv\"]\n",
    "constraints_df_legend = \"The data sheet contains the list of constraints used to constrain the model in the constraint scan\"\n",
    "scan_results_blue_legend = \"The data sheet contains the flux results for each set of constraints in the constraint scan for the model solved under blue light. The rows correspond to the constraints list and the columns to reaction IDs.\"\n",
    "scan_results_white_legend = \"The data sheet contains the flux results for each set of constraints in the constraint scan for the model solved under white light. The rows correspond to the constraints list and the columns to reaction IDs.\"\n",
    "legend_list = [constraints_df_legend, scan_results_blue_legend, scan_results_white_legend]"
   ]
  },
  {
   "cell_type": "code",
   "execution_count": 7,
   "id": "85f1c793-4e23-4978-960b-f4e67f147868",
   "metadata": {},
   "outputs": [],
   "source": [
    "for file, legend in zip(file_list, legend_list):\n",
    "    with pd.ExcelWriter(f\"../plant_cell_paper/SupplementalDS{i}.xlsx\") as writer:\n",
    "        sup_num = f\"Supplemental Data Set {i}: Sprent at al., Metabolic modelling suggests distinct roles for sugars and carboxylic acids during stomatal opening and unexpected flux configurations in central carbon metabolism\"\n",
    "        legend_df = pd.DataFrame([sup_num, legend])\n",
    "        legend_df.to_excel(writer, sheet_name=\"Legend\",index=False, header=False)\n",
    "        file_df = pd.read_csv(file, index_col=0)\n",
    "        #if \"constraints_df\" in file:\n",
    "            #file_df.drop('Maintenance', axis=1, inplace=True)\n",
    "        file_df.to_excel(writer, sheet_name=\"Data\")\n",
    "        i += 1"
   ]
  },
  {
   "cell_type": "code",
   "execution_count": 8,
   "id": "492ddc74-74f2-41d6-8069-e4eeb5fc7a88",
   "metadata": {},
   "outputs": [],
   "source": [
    "#for light in [\"blue\", \"white\", \"nops\"]:\n",
    "#    for atpase in [\"unconstrained\", \"constrained\"]:\n",
    "#        for starch in [\"wt\", \"ko\"]:\n",
    "#            filename = f\"../outputs/alternative_weighting/solution_{light}_{atpase}_{starch}.csv\"\n",
    "#            legend = f\"The data sheet contains the results for solving the alternative weightings for the scenario with {light} light, {atpase} ATPase, and {starch} starch. The columns are reaction IDs and the rows match the alternative weights given in Supplemental Data Set 6\"\n",
    "#            try:\n",
    "#                with pd.ExcelWriter(f\"../plant_cell_paper/SupplementalDS{i}.xlsx\") as writer:\n",
    "#                    legend_df = pd.DataFrame([legend])\n",
    "#                    legend_df.to_excel(writer, sheet_name=\"Legend\",index=False, header=False)\n",
    "#                    solution_df = pd.read_csv(filename, index_col=0)\n",
    "#                    solution_df.to_excel(writer, sheet_name=\"Data\")\n",
    "#\n",
    "#                i += 1\n",
    "#\n",
    "#            except:\n",
    "#                print(f\"No solution for {light}, {atpase}, {starch}\")"
   ]
  }
 ],
 "metadata": {
  "kernelspec": {
   "display_name": "Python 3 (ipykernel)",
   "language": "python",
   "name": "python3"
  },
  "language_info": {
   "codemirror_mode": {
    "name": "ipython",
    "version": 3
   },
   "file_extension": ".py",
   "mimetype": "text/x-python",
   "name": "python",
   "nbconvert_exporter": "python",
   "pygments_lexer": "ipython3",
   "version": "3.9.18"
  }
 },
 "nbformat": 4,
 "nbformat_minor": 5
}
