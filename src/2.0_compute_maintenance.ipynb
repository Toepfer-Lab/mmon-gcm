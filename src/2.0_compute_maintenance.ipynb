{
 "cells": [
  {
   "cell_type": "raw",
   "metadata": {},
   "source": [
    "---\n",
    "output-file: solvemodels.html\n",
    "title: Solving guard cell models for different parameters\n",
    "skip_showdoc: true\n",
    "---\n",
    "\n"
   ]
  },
  {
   "cell_type": "code",
   "execution_count": null,
   "metadata": {},
   "outputs": [],
   "source": [
    "# | default_exp solvemodels"
   ]
  },
  {
   "cell_type": "markdown",
   "metadata": {},
   "source": [
    "<span style=\"color:red\">\n",
    "    <font size=\"6\">\n",
    "Remember to change maintenance ratio in 2.1 and supermodel.py\n",
    "    </font>\n",
    "</span>"
   ]
  },
  {
   "cell_type": "markdown",
   "metadata": {},
   "source": [
    "## Setup"
   ]
  },
  {
   "cell_type": "code",
   "execution_count": null,
   "metadata": {},
   "outputs": [],
   "source": [
    "# | export\n",
    "\n",
    "\n",
    "import json\n",
    "import sys\n",
    "\n",
    "import cobra\n",
    "\n",
    "# from x import y syntax doesn't work because of nbdev export format\n",
    "import mmon_gcm.buildingediting\n",
    "import mmon_gcm.solving\n",
    "import mmon_gcm.supermodel\n",
    "import pandas as pd"
   ]
  },
  {
   "cell_type": "code",
   "execution_count": null,
   "metadata": {},
   "outputs": [],
   "source": [
    "# This cell isn't exported to the .py file, so define here if running in notebook rather than as .py on e.g.a cluster\n",
    "# This is where to adjust whether fva is run if running in notebook\n",
    "args = {\n",
    "    \"run_fva\": \"True\",\n",
    "    \"no_processes\": 6,\n",
    "    \"output_dir\": \"../outputs/model_solutions/\",\n",
    "    \"model_file\": \"../models/4_stage_GC.xml\",\n",
    "    \"map_file\": \"../inputs/map.json\",\n",
    "    \"parameters_file\": \"../inputs/arabidopsis_parameters.csv\",\n",
    "}\n",
    "\n",
    "sys.argv = [\"script_name\"] + list(args.values())"
   ]
  },
  {
   "cell_type": "code",
   "execution_count": null,
   "metadata": {},
   "outputs": [],
   "source": [
    "# | export\n",
    "\n",
    "run_fva = sys.argv[1]\n",
    "if run_fva == \"True\":\n",
    "    run_fva = True\n",
    "elif run_fva == \"False\":\n",
    "    run_fva = False\n",
    "else:\n",
    "    raise ValueError(f\"Please specify True or False for run_fva, not {run_fva}\")\n",
    "\n",
    "no_processes = int(sys.argv[2])\n",
    "output_dir = sys.argv[3]\n",
    "model_file = sys.argv[4]\n",
    "map_file = sys.argv[5]\n",
    "parameters_file = sys.argv[6]"
   ]
  },
  {
   "cell_type": "markdown",
   "metadata": {},
   "source": [
    "## Instantiate and apply base constraints to model"
   ]
  },
  {
   "cell_type": "markdown",
   "metadata": {},
   "source": [
    "### Import FBA model"
   ]
  },
  {
   "cell_type": "code",
   "execution_count": null,
   "metadata": {},
   "outputs": [
    {
     "name": "stderr",
     "output_type": "stream",
     "text": [
      "No objective coefficients in model. Unclear what should be optimized\n"
     ]
    }
   ],
   "source": [
    "# | export\n",
    "\n",
    "four_stage_GC_model = cobra.io.sbml.read_sbml_model(model_file)  # read model"
   ]
  },
  {
   "cell_type": "markdown",
   "metadata": {},
   "source": [
    "Decrease tolerance"
   ]
  },
  {
   "cell_type": "code",
   "execution_count": null,
   "metadata": {},
   "outputs": [
    {
     "name": "stdout",
     "output_type": "stream",
     "text": [
      "1e-07\n",
      "1e-07\n",
      "1e-07\n"
     ]
    }
   ],
   "source": [
    "# | export\n",
    "\n",
    "print(four_stage_GC_model.solver.configuration.tolerances.integrality)\n",
    "print(four_stage_GC_model.solver.configuration.tolerances.feasibility)\n",
    "four_stage_GC_model.solver.configuration.tolerances.feasibility = 1e-7\n",
    "print(four_stage_GC_model.solver.configuration.tolerances.feasibility)"
   ]
  },
  {
   "cell_type": "markdown",
   "metadata": {},
   "source": [
    "### Define reactions to use for FVA"
   ]
  },
  {
   "cell_type": "code",
   "execution_count": null,
   "metadata": {},
   "outputs": [],
   "source": [
    "# | export\n",
    "\n",
    "if run_fva == True:\n",
    "    linker_list = [\n",
    "        reaction\n",
    "        for reaction in four_stage_GC_model.reactions\n",
    "        if \"gc_Linker_2\" in reaction.id\n",
    "        or \"gc_Linker_1\" in reaction.id\n",
    "        or \"_total_pseudolinker_1\" in reaction.id\n",
    "        or \"_total_pseudolinker_2\" in reaction.id\n",
    "        or \"ae_gc\" in reaction.id\n",
    "    ]\n",
    "\n",
    "    extra_fva_rxns = set()\n",
    "\n",
    "    with open(map_file, \"r+\") as f:\n",
    "        map_data = json.load(f)\n",
    "\n",
    "    for reaction in map_data[1][\"reactions\"].values():\n",
    "        extra_fva_rxns.add(four_stage_GC_model.reactions.get_by_id(reaction[\"bigg_id\"]))\n",
    "\n",
    "    fva_list = list(set(linker_list) | extra_fva_rxns)\n",
    "\n",
    "else:\n",
    "    fva_list = []"
   ]
  },
  {
   "cell_type": "markdown",
   "metadata": {},
   "source": [
    "### Instantiate Supermodel"
   ]
  },
  {
   "cell_type": "markdown",
   "metadata": {},
   "source": [
    "Import parameters from csv, created in [parameters notebook](1.2_defining_parameters.ipynb)"
   ]
  },
  {
   "cell_type": "code",
   "execution_count": null,
   "metadata": {},
   "outputs": [
    {
     "data": {
      "text/html": [
       "<div>\n",
       "<style scoped>\n",
       "    .dataframe tbody tr th:only-of-type {\n",
       "        vertical-align: middle;\n",
       "    }\n",
       "\n",
       "    .dataframe tbody tr th {\n",
       "        vertical-align: top;\n",
       "    }\n",
       "\n",
       "    .dataframe thead th {\n",
       "        text-align: right;\n",
       "    }\n",
       "</style>\n",
       "<table border=\"1\" class=\"dataframe\">\n",
       "  <thead>\n",
       "    <tr style=\"text-align: right;\">\n",
       "      <th></th>\n",
       "      <th>Value</th>\n",
       "      <th>Units</th>\n",
       "      <th>Source</th>\n",
       "    </tr>\n",
       "  </thead>\n",
       "  <tbody>\n",
       "    <tr>\n",
       "      <th>P_abs</th>\n",
       "      <td>9.000000e-01</td>\n",
       "      <td>Dimensionless</td>\n",
       "      <td>Zhu, Long, and Ort (2010)</td>\n",
       "    </tr>\n",
       "    <tr>\n",
       "      <th>T_l</th>\n",
       "      <td>1.700000e-04</td>\n",
       "      <td>m</td>\n",
       "      <td>Wuyts et al. (2010)</td>\n",
       "    </tr>\n",
       "    <tr>\n",
       "      <th>A_l</th>\n",
       "      <td>1.000000e+00</td>\n",
       "      <td>m$^2$</td>\n",
       "      <td>Fixed</td>\n",
       "    </tr>\n",
       "    <tr>\n",
       "      <th>V_gc_ind</th>\n",
       "      <td>4.750000e-13</td>\n",
       "      <td>dm$^3$</td>\n",
       "      <td>Jezek and Blatt (2017)</td>\n",
       "    </tr>\n",
       "    <tr>\n",
       "      <th>FqFm</th>\n",
       "      <td>9.000000e-01</td>\n",
       "      <td>Dimensionless</td>\n",
       "      <td>Lawson (2003)</td>\n",
       "    </tr>\n",
       "    <tr>\n",
       "      <th>R_ch</th>\n",
       "      <td>6.923077e-02</td>\n",
       "      <td>Dimensionless</td>\n",
       "      <td>Fujiwara, Sanjaya, and Itoh (2019)</td>\n",
       "    </tr>\n",
       "    <tr>\n",
       "      <th>R_ch_vol</th>\n",
       "      <td>2.004760e-01</td>\n",
       "      <td>Dimensionless</td>\n",
       "      <td>Knoblauch et al. (2023)</td>\n",
       "    </tr>\n",
       "    <tr>\n",
       "      <th>L_air</th>\n",
       "      <td>3.700000e-01</td>\n",
       "      <td>Dimensionless</td>\n",
       "      <td>Earles et al. (2018)</td>\n",
       "    </tr>\n",
       "    <tr>\n",
       "      <th>L_epidermis</th>\n",
       "      <td>1.500000e-01</td>\n",
       "      <td>Dimensionless</td>\n",
       "      <td>Wuyts et al. (2010)</td>\n",
       "    </tr>\n",
       "    <tr>\n",
       "      <th>Vac_frac</th>\n",
       "      <td>7.510000e-01</td>\n",
       "      <td>Dimensionless</td>\n",
       "      <td>Wang et al. (2017)</td>\n",
       "    </tr>\n",
       "    <tr>\n",
       "      <th>T</th>\n",
       "      <td>2.961500e+02</td>\n",
       "      <td>K</td>\n",
       "      <td>Horrer et al. (2016)</td>\n",
       "    </tr>\n",
       "    <tr>\n",
       "      <th>R</th>\n",
       "      <td>8.205000e-02</td>\n",
       "      <td>dm$^3$$\\cdot$atm$\\cdot$K$^{-1}$$\\cdot$mol$^{-1}$</td>\n",
       "      <td>Tiesinga et al. (2019)</td>\n",
       "    </tr>\n",
       "    <tr>\n",
       "      <th>N_gcs</th>\n",
       "      <td>5.800000e+08</td>\n",
       "      <td>GCs$\\cdot$m$^{-2}$</td>\n",
       "      <td>Papanatsiou, Amtmann, and Blatt (2016)</td>\n",
       "    </tr>\n",
       "    <tr>\n",
       "      <th>n</th>\n",
       "      <td>2.500000e+00</td>\n",
       "      <td>atm</td>\n",
       "      <td>Wang et al. (2017)</td>\n",
       "    </tr>\n",
       "    <tr>\n",
       "      <th>m</th>\n",
       "      <td>8.000000e-01</td>\n",
       "      <td>atm$\\cdot$µm$^{-1}$</td>\n",
       "      <td>Wang et al. (2017)</td>\n",
       "    </tr>\n",
       "    <tr>\n",
       "      <th>r</th>\n",
       "      <td>5.000000e-14</td>\n",
       "      <td>dm$^3$ µm$^{-1}$</td>\n",
       "      <td>Wang et al. (2017)</td>\n",
       "    </tr>\n",
       "    <tr>\n",
       "      <th>s</th>\n",
       "      <td>3.000000e-13</td>\n",
       "      <td>dm$^3$</td>\n",
       "      <td>Wang et al. (2017)</td>\n",
       "    </tr>\n",
       "    <tr>\n",
       "      <th>C_apo</th>\n",
       "      <td>2.302007e-02</td>\n",
       "      <td>mol$\\cdot$dm$^{-3}$</td>\n",
       "      <td>Wang et al. (2017)</td>\n",
       "    </tr>\n",
       "    <tr>\n",
       "      <th>A_closed</th>\n",
       "      <td>1.600000e+00</td>\n",
       "      <td>µm</td>\n",
       "      <td>Horrer et al. (2016)</td>\n",
       "    </tr>\n",
       "    <tr>\n",
       "      <th>A_open</th>\n",
       "      <td>2.750000e+00</td>\n",
       "      <td>µm</td>\n",
       "      <td>Horrer et al. (2016)</td>\n",
       "    </tr>\n",
       "  </tbody>\n",
       "</table>\n",
       "</div>"
      ],
      "text/plain": [
       "                    Value                                             Units  \\\n",
       "P_abs        9.000000e-01                                     Dimensionless   \n",
       "T_l          1.700000e-04                                                 m   \n",
       "A_l          1.000000e+00                                             m$^2$   \n",
       "V_gc_ind     4.750000e-13                                            dm$^3$   \n",
       "FqFm         9.000000e-01                                     Dimensionless   \n",
       "R_ch         6.923077e-02                                     Dimensionless   \n",
       "R_ch_vol     2.004760e-01                                     Dimensionless   \n",
       "L_air        3.700000e-01                                     Dimensionless   \n",
       "L_epidermis  1.500000e-01                                     Dimensionless   \n",
       "Vac_frac     7.510000e-01                                     Dimensionless   \n",
       "T            2.961500e+02                                                 K   \n",
       "R            8.205000e-02  dm$^3$$\\cdot$atm$\\cdot$K$^{-1}$$\\cdot$mol$^{-1}$   \n",
       "N_gcs        5.800000e+08                                GCs$\\cdot$m$^{-2}$   \n",
       "n            2.500000e+00                                               atm   \n",
       "m            8.000000e-01                               atm$\\cdot$µm$^{-1}$   \n",
       "r            5.000000e-14                                  dm$^3$ µm$^{-1}$   \n",
       "s            3.000000e-13                                            dm$^3$   \n",
       "C_apo        2.302007e-02                               mol$\\cdot$dm$^{-3}$   \n",
       "A_closed     1.600000e+00                                                µm   \n",
       "A_open       2.750000e+00                                                µm   \n",
       "\n",
       "                                             Source  \n",
       "P_abs                     Zhu, Long, and Ort (2010)  \n",
       "T_l                             Wuyts et al. (2010)  \n",
       "A_l                                           Fixed  \n",
       "V_gc_ind                     Jezek and Blatt (2017)  \n",
       "FqFm                                  Lawson (2003)  \n",
       "R_ch             Fujiwara, Sanjaya, and Itoh (2019)  \n",
       "R_ch_vol                    Knoblauch et al. (2023)  \n",
       "L_air                          Earles et al. (2018)  \n",
       "L_epidermis                     Wuyts et al. (2010)  \n",
       "Vac_frac                         Wang et al. (2017)  \n",
       "T                              Horrer et al. (2016)  \n",
       "R                            Tiesinga et al. (2019)  \n",
       "N_gcs        Papanatsiou, Amtmann, and Blatt (2016)  \n",
       "n                                Wang et al. (2017)  \n",
       "m                                Wang et al. (2017)  \n",
       "r                                Wang et al. (2017)  \n",
       "s                                Wang et al. (2017)  \n",
       "C_apo                            Wang et al. (2017)  \n",
       "A_closed                       Horrer et al. (2016)  \n",
       "A_open                         Horrer et al. (2016)  "
      ]
     },
     "execution_count": null,
     "metadata": {},
     "output_type": "execute_result"
    }
   ],
   "source": [
    "# | export\n",
    "\n",
    "parameters_df = pd.read_csv(parameters_file, index_col=0)\n",
    "parameters_df"
   ]
  },
  {
   "cell_type": "code",
   "execution_count": null,
   "metadata": {},
   "outputs": [],
   "source": [
    "# | export\n",
    "\n",
    "arabidopsis_supermodel = mmon_gcm.supermodel.SuperModel(parameters_df.loc[:, \"Value\"], fba_model=four_stage_GC_model)"
   ]
  },
  {
   "cell_type": "code",
   "execution_count": null,
   "metadata": {},
   "outputs": [
    {
     "name": "stdout",
     "output_type": "stream",
     "text": [
      "Volume in phase 0 is 0.38pL\n",
      "Volume in phase 1 is 0.4375pL\n",
      "Volume in phase 2 is 0.38pL\n",
      "Volume in phase 3 is 0.38pL\n"
     ]
    }
   ],
   "source": [
    "# | export\n",
    "\n",
    "arabidopsis_supermodel.get_volumes(printouts=True);"
   ]
  },
  {
   "cell_type": "code",
   "execution_count": null,
   "metadata": {},
   "outputs": [
    {
     "name": "stdout",
     "output_type": "stream",
     "text": [
      "Volume in phase 0 is 0.0002204dm3\n",
      "Volume in phase 1 is 0.00025375dm3\n",
      "Volume in phase 2 is 0.0002204dm3\n",
      "Volume in phase 3 is 0.0002204dm3\n"
     ]
    }
   ],
   "source": [
    "# | export\n",
    "\n",
    "arabidopsis_supermodel.get_volumes(printouts=True, per_guard_cell=False);"
   ]
  },
  {
   "cell_type": "markdown",
   "metadata": {},
   "source": [
    "This is a little different to Jezek and Blatt (2017), where they have closed as 0.3-0.4pL and open as 0.5-0.65. Open apertures are on the small side but still within their range (2-6). Wang used a volume of 0.4pL."
   ]
  },
  {
   "cell_type": "markdown",
   "metadata": {},
   "source": [
    "### Constrain SuperModel"
   ]
  },
  {
   "cell_type": "markdown",
   "metadata": {},
   "source": [
    "#### Constrain osmolarity of the model using the equation from the OnGuard model (Hills et al 2012)"
   ]
  },
  {
   "cell_type": "code",
   "execution_count": null,
   "metadata": {},
   "outputs": [
    {
     "name": "stdout",
     "output_type": "stream",
     "text": [
      "Raw osmolarities: [0.039359327616195004, 0.05492236409486689, 0.039359327616195004, 0.039359327616195004]\n",
      "Osmolarities in mM: [178.58134127 216.44281417 178.58134127 178.58134127]\n",
      "Change in osmolarity: 37.86147289566091mM\n",
      "c osmolarities constrained to [0.00980047 0.01367567 0.00980047 0.00980047]\n",
      "v osmolarities constrained to [0.02955886 0.0412467  0.02955886 0.02955886]\n"
     ]
    }
   ],
   "source": [
    "# | export\n",
    "\n",
    "arabidopsis_supermodel.constrain_osmolarity(printouts=True);"
   ]
  },
  {
   "cell_type": "code",
   "execution_count": null,
   "metadata": {},
   "outputs": [],
   "source": [
    "import numpy as np"
   ]
  },
  {
   "cell_type": "code",
   "execution_count": null,
   "metadata": {},
   "outputs": [
    {
     "data": {
      "text/plain": [
       "array([0.03935933, 0.05492236, 0.03935933, 0.03935933])"
      ]
     },
     "execution_count": null,
     "metadata": {},
     "output_type": "execute_result"
    }
   ],
   "source": [
    "np.array(arabidopsis_supermodel.get_osmolarities())"
   ]
  },
  {
   "cell_type": "code",
   "execution_count": null,
   "metadata": {},
   "outputs": [
    {
     "name": "stdout",
     "output_type": "stream",
     "text": [
      "Help on method get_osmolarities in module mmon_gcm.supermodel:\n",
      "\n",
      "get_osmolarities(apertures='default', equation='onguard', printouts=False) method of mmon_gcm.supermodel.SuperModel instance\n",
      "    Calculates the osmolarities at each phase of the model using the equation\n",
      "    specified, default is onguard. Adds these as an attribute to the SuperModel\n",
      "\n"
     ]
    }
   ],
   "source": [
    "help(arabidopsis_supermodel.get_osmolarities)"
   ]
  },
  {
   "cell_type": "code",
   "execution_count": null,
   "metadata": {},
   "outputs": [
    {
     "name": "stdout",
     "output_type": "stream",
     "text": [
      "Closed fmoles: 67.86090968309483\n",
      "Open fmoles: 94.69373119804636\n",
      "Increase in fmoles: 26.832821514951533\n"
     ]
    }
   ],
   "source": [
    "mmoles_per_m2 = np.array(arabidopsis_supermodel.get_osmolarities())\n",
    "mmoles_per_gc = mmoles_per_m2 / arabidopsis_supermodel.N_gcs\n",
    "moles_per_gc = mmoles_per_gc * 10**-3\n",
    "fmoles_per_gc = moles_per_gc / 10**-15\n",
    "print(f\"Closed fmoles: {fmoles_per_gc[0]}\")\n",
    "print(f\"Open fmoles: {fmoles_per_gc[1]}\")\n",
    "print(f\"Increase in fmoles: {fmoles_per_gc[1] - fmoles_per_gc[0]}\")"
   ]
  },
  {
   "cell_type": "markdown",
   "metadata": {},
   "source": [
    "#### Constrain photons using a PPFD of 150µmolm$^{-2}$s$^{-1}$, same as used in Horrer et al (2016)"
   ]
  },
  {
   "cell_type": "code",
   "execution_count": null,
   "metadata": {},
   "outputs": [
    {
     "name": "stdout",
     "output_type": "stream",
     "text": [
      "Total leaf volume: 0.17dm3\n",
      "Guard cell volume in 1m2 leaf: 0.0003dm3\n",
      "Mesophyll cell volume in 1m2 leaf: 0.091dm3\n",
      "Proportion of the leaf that is gc: 0.003\n",
      "PPFD 150umolphotonsm-2\n",
      "Photon influx into leaf: 486.0 mmolphotonsm-2hr-1\n",
      "e = 0.012\n",
      "Photon influx into Guard cells: 0.018mmolphotonsm-2hr-1\n",
      "Photon influx into mesophyll cells: 485.982mmolphotonsm-2hr-1\n"
     ]
    }
   ],
   "source": [
    "# | export\n",
    "\n",
    "PPFD = 150\n",
    "arabidopsis_supermodel.constrain_photons(PPFD, printouts=True);"
   ]
  },
  {
   "cell_type": "markdown",
   "metadata": {},
   "source": [
    "## Run FBA without maintenance to get sum of fluxes"
   ]
  },
  {
   "cell_type": "code",
   "execution_count": null,
   "metadata": {},
   "outputs": [
    {
     "name": "stdout",
     "output_type": "stream",
     "text": [
      "Started running pFBA (and FVA) @ 2024-05-29 11:00:18.771459\n",
      "Running pFBA\n",
      "FVA list is empty\n",
      "Finished running pFBA (and FVA) @ 2024-05-29 11:00:32.121406, that took 0.2224991202354431 minutes\n",
      "Started running pFBA (and FVA) @ 2024-05-29 11:00:32.142613\n",
      "Running pFBA\n",
      "FVA list is empty\n",
      "Finished running pFBA (and FVA) @ 2024-05-29 11:00:45.305443, that took 0.21938050587972005 minutes\n",
      "Started running pFBA (and FVA) @ 2024-05-29 11:00:45.317288\n",
      "Running pFBA\n",
      "FVA list is empty\n",
      "Finished running pFBA (and FVA) @ 2024-05-29 11:01:01.051978, that took 0.26224482456843057 minutes\n",
      "Started running pFBA (and FVA) @ 2024-05-29 11:01:01.061748\n",
      "Running pFBA\n",
      "FVA list is empty\n",
      "Finished running pFBA (and FVA) @ 2024-05-29 11:01:16.650575, that took 0.25981378157933555 minutes\n",
      "Started running pFBA (and FVA) @ 2024-05-29 11:01:16.676700\n",
      "Running pFBA\n",
      "FVA list is empty\n",
      "Finished running pFBA (and FVA) @ 2024-05-29 11:01:31.049585, that took 0.23954807917277018 minutes\n",
      "Started running pFBA (and FVA) @ 2024-05-29 11:01:31.059779\n",
      "Running pFBA\n",
      "FVA list is empty\n",
      "Finished running pFBA (and FVA) @ 2024-05-29 11:01:43.139856, that took 0.20133462349573772 minutes\n",
      "Started running pFBA (and FVA) @ 2024-05-29 11:01:43.147558\n",
      "Running pFBA\n",
      "FVA list is empty\n",
      "Finished running pFBA (and FVA) @ 2024-05-29 11:01:56.033926, that took 0.21477279663085938 minutes\n",
      "Started running pFBA (and FVA) @ 2024-05-29 11:01:56.054080\n",
      "Running pFBA\n",
      "FVA list is empty\n",
      "Finished running pFBA (and FVA) @ 2024-05-29 11:02:08.338509, that took 0.20474048455556235 minutes\n",
      "Started running pFBA (and FVA) @ 2024-05-29 11:02:08.346494\n",
      "Running pFBA\n",
      "FVA list is empty\n",
      "Finished running pFBA (and FVA) @ 2024-05-29 11:02:21.707902, that took 0.22269012133280436 minutes\n",
      "Started running pFBA (and FVA) @ 2024-05-29 11:02:21.716943\n",
      "Running pFBA\n",
      "FVA list is empty\n",
      "Finished running pFBA (and FVA) @ 2024-05-29 11:02:34.071597, that took 0.20591090122858682 minutes\n",
      "Started running pFBA (and FVA) @ 2024-05-29 11:02:34.083323\n",
      "Running pFBA\n",
      "FVA list is empty\n",
      "Finished running pFBA (and FVA) @ 2024-05-29 11:02:45.305673, that took 0.18703916470209758 minutes\n",
      "Started running pFBA (and FVA) @ 2024-05-29 11:02:45.319825\n",
      "Running pFBA\n",
      "FVA list is empty\n",
      "Finished running pFBA (and FVA) @ 2024-05-29 11:02:57.736401, that took 0.20694292783737184 minutes\n"
     ]
    }
   ],
   "source": [
    "no_maintenance_solutions = pd.DataFrame()\n",
    "\n",
    "### Blue Light Unconstrained H+-ATPase WT\n",
    "\n",
    "arabidopsis_supermodel.constrain_photons(PPFD, printouts=False)\n",
    "with arabidopsis_supermodel.fba_model as m:\n",
    "    m.reactions.Photon_tx_gc_2.upper_bound = 0\n",
    "    m.reactions.Photon_tx_me_2.upper_bound = 0\n",
    "    mmon_gcm.buildingediting.set_bounds_multi(m, \"RXN_1827_p_gc\", 0, cobra.Configuration().upper_bound)\n",
    "    mmon_gcm.buildingediting.set_bounds_multi(m, \"PROTON_ATPase_c_gc\", 0, cobra.Configuration().upper_bound) \n",
    "    (\n",
    "        blue_unconstrained_wt,\n",
    "        blue_unconstrained_wt_solution,\n",
    "    ) = mmon_gcm.solving.get_pfba_fva_solution(m, rxn_list=[], processes=no_processes)\n",
    "no_maintenance_solutions['blue_uncon_wt'] = blue_unconstrained_wt_solution['fluxes']\n",
    "\n",
    "### Blue Light Unconstrained H+-ATPase Starch KO\n",
    "\n",
    "arabidopsis_supermodel.constrain_photons(PPFD, printouts=False)\n",
    "with arabidopsis_supermodel.fba_model as m:\n",
    "    m.reactions.Photon_tx_gc_2.upper_bound = 0\n",
    "    m.reactions.Photon_tx_me_2.upper_bound = 0\n",
    "    mmon_gcm.buildingediting.set_bounds_multi(m, \"RXN_1827_p_gc\", 0, 0)\n",
    "    mmon_gcm.buildingediting.set_bounds_multi(m, \"PROTON_ATPase_c_gc\", 0, cobra.Configuration().upper_bound) \n",
    "    (\n",
    "        blue_unconstrained_ko,\n",
    "        blue_unconstrained_ko_solution,\n",
    "    ) = mmon_gcm.solving.get_pfba_fva_solution(m, rxn_list=[], processes=no_processes)\n",
    "no_maintenance_solutions['blue_uncon_ko'] = blue_unconstrained_ko_solution['fluxes']\n",
    "\n",
    "### Blue Light Constrained H+-ATPase WT\n",
    "\n",
    "arabidopsis_supermodel.constrain_photons(PPFD, printouts=False)\n",
    "with arabidopsis_supermodel.fba_model as m:\n",
    "    m.reactions.Photon_tx_gc_2.upper_bound = 0\n",
    "    m.reactions.Photon_tx_me_2.upper_bound = 0\n",
    "    mmon_gcm.buildingediting.set_bounds_multi(m, \"RXN_1827_p_gc\", 0, cobra.Configuration().upper_bound)\n",
    "    gc_atpase_upper_bound = arabidopsis_supermodel.get_atpase_constraint_value(7.5)\n",
    "    mmon_gcm.buildingediting.set_bounds_multi(m, \"PROTON_ATPase_c_gc\", 0, gc_atpase_upper_bound)\n",
    "    (\n",
    "        blue_constrained_wt,\n",
    "        blue_constrained_wt_solution,\n",
    "    ) = mmon_gcm.solving.get_pfba_fva_solution(m, rxn_list=[], processes=no_processes)\n",
    "no_maintenance_solutions['blue_con_wt'] = blue_constrained_wt_solution['fluxes']\n",
    "\n",
    "### Blue Light Constrained H+-ATPase Starch KO\n",
    "\n",
    "arabidopsis_supermodel.constrain_photons(PPFD, printouts=False)\n",
    "with arabidopsis_supermodel.fba_model as m:\n",
    "    m.reactions.Photon_tx_gc_2.upper_bound = 0\n",
    "    m.reactions.Photon_tx_me_2.upper_bound = 0\n",
    "    mmon_gcm.buildingediting.set_bounds_multi(m, \"RXN_1827_p_gc\", 0, 0)\n",
    "    gc_atpase_upper_bound = arabidopsis_supermodel.get_atpase_constraint_value(7.5)\n",
    "    mmon_gcm.buildingediting.set_bounds_multi(m, \"PROTON_ATPase_c_gc\", 0, gc_atpase_upper_bound) \n",
    "    (\n",
    "        blue_constrained_ko,\n",
    "        blue_constrained_ko_solution,\n",
    "    ) = mmon_gcm.solving.get_pfba_fva_solution(m, rxn_list=[], processes=no_processes)\n",
    "no_maintenance_solutions['blue_con_ko'] = blue_constrained_ko_solution['fluxes']\n",
    "\n",
    "### White Light Unconstrained H+-ATPase WT\n",
    "\n",
    "arabidopsis_supermodel.constrain_photons(PPFD, printouts=False)\n",
    "with arabidopsis_supermodel.fba_model as m:\n",
    "    #m.reactions.Photon_tx_gc_2.upper_bound = 0\n",
    "    #m.reactions.Photon_tx_me_2.upper_bound = 0\n",
    "    mmon_gcm.buildingediting.set_bounds_multi(m, \"RXN_1827_p_gc\", 0, cobra.Configuration().upper_bound)\n",
    "    mmon_gcm.buildingediting.set_bounds_multi(m, \"PROTON_ATPase_c_gc\", 0, cobra.Configuration().upper_bound) \n",
    "    (\n",
    "        white_unconstrained_wt,\n",
    "        white_unconstrained_wt_solution,\n",
    "    ) = mmon_gcm.solving.get_pfba_fva_solution(m, rxn_list=[], processes=no_processes)\n",
    "no_maintenance_solutions['white_uncon_wt'] = white_unconstrained_wt_solution['fluxes']\n",
    "\n",
    "### White Light Unconstrained H+-ATPase Starch KO\n",
    "\n",
    "arabidopsis_supermodel.constrain_photons(PPFD, printouts=False)\n",
    "with arabidopsis_supermodel.fba_model as m:\n",
    "    #m.reactions.Photon_tx_gc_2.upper_bound = 0\n",
    "    #m.reactions.Photon_tx_me_2.upper_bound = 0\n",
    "    mmon_gcm.buildingediting.set_bounds_multi(m, \"RXN_1827_p_gc\", 0, 0)\n",
    "    mmon_gcm.buildingediting.set_bounds_multi(m, \"PROTON_ATPase_c_gc\", 0, cobra.Configuration().upper_bound) \n",
    "    (\n",
    "        white_unconstrained_ko,\n",
    "        white_unconstrained_ko_solution,\n",
    "    ) = mmon_gcm.solving.get_pfba_fva_solution(m, rxn_list=[], processes=no_processes)\n",
    "no_maintenance_solutions['white_uncon_ko'] = white_unconstrained_ko_solution['fluxes']\n",
    "\n",
    "### White Light Constrained H+-ATPase WT\n",
    "\n",
    "arabidopsis_supermodel.constrain_photons(PPFD, printouts=False)\n",
    "with arabidopsis_supermodel.fba_model as m:\n",
    "    #m.reactions.Photon_tx_gc_2.upper_bound = 0\n",
    "    #m.reactions.Photon_tx_me_2.upper_bound = 0\n",
    "    mmon_gcm.buildingediting.set_bounds_multi(m, \"RXN_1827_p_gc\", 0, cobra.Configuration().upper_bound)\n",
    "    gc_atpase_upper_bound = arabidopsis_supermodel.get_atpase_constraint_value(7.5)\n",
    "    mmon_gcm.buildingediting.set_bounds_multi(m, \"PROTON_ATPase_c_gc\", 0, gc_atpase_upper_bound)\n",
    "    (\n",
    "        white_constrained_wt,\n",
    "        white_constrained_wt_solution,\n",
    "    ) = mmon_gcm.solving.get_pfba_fva_solution(m, rxn_list=[], processes=no_processes)\n",
    "no_maintenance_solutions['white_con_wt'] = white_constrained_wt_solution['fluxes']\n",
    "\n",
    "### White Light Constrained H+-ATPase Starch KO\n",
    "\n",
    "arabidopsis_supermodel.constrain_photons(PPFD, printouts=False)\n",
    "with arabidopsis_supermodel.fba_model as m:\n",
    "    #m.reactions.Photon_tx_gc_2.upper_bound = 0\n",
    "    #m.reactions.Photon_tx_me_2.upper_bound = 0\n",
    "    mmon_gcm.buildingediting.set_bounds_multi(m, \"RXN_1827_p_gc\", 0, 0)\n",
    "    gc_atpase_upper_bound = arabidopsis_supermodel.get_atpase_constraint_value(7.5)\n",
    "    mmon_gcm.buildingediting.set_bounds_multi(m, \"PROTON_ATPase_c_gc\", 0, gc_atpase_upper_bound) \n",
    "    (\n",
    "        white_constrained_ko,\n",
    "        white_constrained_ko_solution,\n",
    "    ) = mmon_gcm.solving.get_pfba_fva_solution(m, rxn_list=[], processes=no_processes)\n",
    "no_maintenance_solutions['white_con_ko'] = white_constrained_ko_solution['fluxes']\n",
    "\n",
    "### No PS Unconstrained H+-ATPase WT\n",
    "\n",
    "arabidopsis_supermodel.constrain_photons(PPFD, printouts=False)\n",
    "with arabidopsis_supermodel.fba_model as m:\n",
    "    #m.reactions.Photon_tx_gc_2.upper_bound = 0\n",
    "    #m.reactions.Photon_tx_me_2.upper_bound = 0\n",
    "    for p in [1, 2, 3, 4]:\n",
    "        m.reactions.get_by_id(f\"Photon_tx_gc_{p}\").bounds = (0, 0)\n",
    "    mmon_gcm.buildingediting.set_bounds_multi(m, \"RXN_1827_p_gc\", 0, cobra.Configuration().upper_bound)\n",
    "    mmon_gcm.buildingediting.set_bounds_multi(m, \"PROTON_ATPase_c_gc\", 0, cobra.Configuration().upper_bound) \n",
    "    (\n",
    "        nops_unconstrained_wt,\n",
    "        nops_unconstrained_wt_solution,\n",
    "    ) = mmon_gcm.solving.get_pfba_fva_solution(m, rxn_list=[], processes=no_processes)\n",
    "no_maintenance_solutions['nops_uncon_wt'] = nops_unconstrained_wt_solution['fluxes']\n",
    "\n",
    "### No PS Unconstrained H+-ATPase Starch KO\n",
    "\n",
    "arabidopsis_supermodel.constrain_photons(PPFD, printouts=False)\n",
    "with arabidopsis_supermodel.fba_model as m:\n",
    "    #m.reactions.Photon_tx_gc_2.upper_bound = 0\n",
    "    #m.reactions.Photon_tx_me_2.upper_bound = 0\n",
    "    for p in [1, 2, 3, 4]:\n",
    "        m.reactions.get_by_id(f\"Photon_tx_gc_{p}\").bounds = (0, 0)\n",
    "    mmon_gcm.buildingediting.set_bounds_multi(m, \"RXN_1827_p_gc\", 0, 0)\n",
    "    mmon_gcm.buildingediting.set_bounds_multi(m, \"PROTON_ATPase_c_gc\", 0, cobra.Configuration().upper_bound) \n",
    "    (\n",
    "        nops_unconstrained_ko,\n",
    "        nops_unconstrained_ko_solution,\n",
    "    ) = mmon_gcm.solving.get_pfba_fva_solution(m, rxn_list=[], processes=no_processes)\n",
    "no_maintenance_solutions['nops_uncon_ko'] = nops_unconstrained_ko_solution['fluxes']\n",
    "\n",
    "### No PS Constrained H+-ATPase WT\n",
    "\n",
    "arabidopsis_supermodel.constrain_photons(PPFD, printouts=False)\n",
    "with arabidopsis_supermodel.fba_model as m:\n",
    "    #m.reactions.Photon_tx_gc_2.upper_bound = 0\n",
    "    #m.reactions.Photon_tx_me_2.upper_bound = 0\n",
    "    for p in [1, 2, 3, 4]:\n",
    "        m.reactions.get_by_id(f\"Photon_tx_gc_{p}\").bounds = (0, 0)\n",
    "    mmon_gcm.buildingediting.set_bounds_multi(m, \"RXN_1827_p_gc\", 0, cobra.Configuration().upper_bound)\n",
    "    gc_atpase_upper_bound = arabidopsis_supermodel.get_atpase_constraint_value(7.5)\n",
    "    mmon_gcm.buildingediting.set_bounds_multi(m, \"PROTON_ATPase_c_gc\", 0, gc_atpase_upper_bound)\n",
    "    (\n",
    "        nops_constrained_wt,\n",
    "        nops_constrained_wt_solution,\n",
    "    ) = mmon_gcm.solving.get_pfba_fva_solution(m, rxn_list=[], processes=no_processes)\n",
    "no_maintenance_solutions['nops_con_wt'] = nops_constrained_wt_solution['fluxes']\n",
    "\n",
    "### No PS Constrained H+-ATPase Starch KO\n",
    "\n",
    "arabidopsis_supermodel.constrain_photons(PPFD, printouts=False)\n",
    "with arabidopsis_supermodel.fba_model as m:\n",
    "    #m.reactions.Photon_tx_gc_2.upper_bound = 0\n",
    "    #m.reactions.Photon_tx_me_2.upper_bound = 0\n",
    "    for p in [1, 2, 3, 4]:\n",
    "        m.reactions.get_by_id(f\"Photon_tx_gc_{p}\").bounds = (0, 0)\n",
    "    mmon_gcm.buildingediting.set_bounds_multi(m, \"RXN_1827_p_gc\", 0, 0)\n",
    "    gc_atpase_upper_bound = arabidopsis_supermodel.get_atpase_constraint_value(7.5)\n",
    "    mmon_gcm.buildingediting.set_bounds_multi(m, \"PROTON_ATPase_c_gc\", 0, gc_atpase_upper_bound) \n",
    "    (\n",
    "        nops_constrained_ko,\n",
    "        nops_constrained_ko_solution,\n",
    "    ) = mmon_gcm.solving.get_pfba_fva_solution(m, rxn_list=[], processes=no_processes)\n",
    "no_maintenance_solutions['nops_con_ko'] = nops_constrained_ko_solution['fluxes']"
   ]
  },
  {
   "cell_type": "markdown",
   "metadata": {},
   "source": [
    "### Get the list of reactions to exclude from sum of fluxes calculation"
   ]
  },
  {
   "cell_type": "code",
   "execution_count": null,
   "metadata": {},
   "outputs": [],
   "source": [
    "sum_fluxes_exclude = set()\n",
    "for r in list(no_maintenance_solutions.index):\n",
    "    parts = r.split('_')\n",
    "    if parts[-1] in ['gc', 'me', 'day', 'overall', 'night']: # not in ['1', '2', '3', '4']\n",
    "        sum_fluxes_exclude.add(r)\n",
    "    else:\n",
    "        if parts[-2] in ['tx', 'pseudolinker', 'Linker', 'a']: # not in ['me', 'gc']\n",
    "            sum_fluxes_exclude.add(r)\n",
    "        else:\n",
    "            if parts[-3] in ['ae', 't', 'b', 'ep', 'tx', 'biomass']: # not in ['cv', 'p', 'xc', 'pc', 'mc', 'im', 'vc', 'mi', 'v', 'c', 'm', 'x', 'ec', 'pr', 'r', 'ce', 'cwINV']\n",
    "                sum_fluxes_exclude.add(r)\n",
    "            else:\n",
    "                if 'constraint' in r:\n",
    "                    sum_fluxes_exclude.add(r)"
   ]
  },
  {
   "cell_type": "code",
   "execution_count": null,
   "metadata": {},
   "outputs": [],
   "source": [
    "# Filter solution with only metabolic reactions and transporters (with constrained H+-ATPase only)\n",
    "filtered_df = no_maintenance_solutions.loc[~no_maintenance_solutions.index.isin(sum_fluxes_exclude), no_maintenance_solutions.columns.str.contains('_con_')]"
   ]
  },
  {
   "cell_type": "code",
   "execution_count": null,
   "metadata": {},
   "outputs": [],
   "source": [
    "phase_length = {'1': 6, '2': 0.5, '3': 11.5, '4': 6}\n",
    "\n",
    "def multiply_by_hours(row):\n",
    "    index_suffix = row.name.split('_')[-1]\n",
    "    factor = phase_length[index_suffix]\n",
    "    return row * factor\n",
    "\n",
    "scaled_df = filtered_df.apply(multiply_by_hours, axis=1)\n",
    "\n",
    "#gc_sum_flux = filtered_df[filtered_df.index.str.contains('|'.join(['_gc_1', '_gc_4']))].abs().sum()\n",
    "#me_sum_flux = filtered_df[filtered_df.index.str.contains('|'.join(['_me_1', '_me_4']))].abs().sum()\n",
    "gc_sum_flux = scaled_df[scaled_df.index.str.contains('_gc_')].abs().sum()\n",
    "me_sum_flux = scaled_df[scaled_df.index.str.contains('_me_')].abs().sum()"
   ]
  },
  {
   "cell_type": "code",
   "execution_count": null,
   "metadata": {},
   "outputs": [
    {
     "name": "stdout",
     "output_type": "stream",
     "text": [
      "blue_con_wt     0.901933\n",
      "blue_con_ko     0.899520\n",
      "white_con_wt    0.918848\n",
      "white_con_ko    0.921276\n",
      "nops_con_wt     0.201886\n",
      "nops_con_ko     0.214510\n",
      "dtype: float64\n",
      "blue_con_wt     20142.122686\n",
      "blue_con_ko     20142.122755\n",
      "white_con_wt    20994.863369\n",
      "white_con_ko    20994.863952\n",
      "nops_con_wt     20994.859108\n",
      "nops_con_ko     20994.859400\n",
      "dtype: float64\n"
     ]
    }
   ],
   "source": [
    "#print(scaled_df)\n",
    "print(gc_sum_flux)\n",
    "print(me_sum_flux)"
   ]
  },
  {
   "cell_type": "code",
   "execution_count": null,
   "metadata": {},
   "outputs": [
    {
     "name": "stdout",
     "output_type": "stream",
     "text": [
      "blue_con_wt     0.000045\n",
      "blue_con_ko     0.000045\n",
      "white_con_wt    0.000044\n",
      "white_con_ko    0.000044\n",
      "nops_con_wt     0.000010\n",
      "nops_con_ko     0.000010\n",
      "dtype: float64\n"
     ]
    }
   ],
   "source": [
    "gc_me_ratio = gc_sum_flux/me_sum_flux\n",
    "print(gc_me_ratio)"
   ]
  },
  {
   "cell_type": "code",
   "execution_count": null,
   "metadata": {},
   "outputs": [
    {
     "data": {
      "text/plain": [
       "4.427086760474383e-05"
      ]
     },
     "execution_count": null,
     "metadata": {},
     "output_type": "execute_result"
    }
   ],
   "source": [
    "gc_me_ratio.head(4).mean()"
   ]
  },
  {
   "cell_type": "markdown",
   "metadata": {},
   "source": [
    "Ratio of GC:ME maintenance = 4.427086760474383e-05\n",
    "(Update value in 2.1_solvingmodel AND in supermodel.py)"
   ]
  }
 ],
 "metadata": {
  "kernelspec": {
   "display_name": "python3",
   "language": "python",
   "name": "python3"
  }
 },
 "nbformat": 4,
 "nbformat_minor": 4
}
