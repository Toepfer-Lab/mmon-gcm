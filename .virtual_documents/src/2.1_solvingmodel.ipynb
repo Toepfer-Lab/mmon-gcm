# | default_exp solvemodels


# | export


import json
import sys

import cobra

# from x import y syntax doesn't work because of nbdev export format
import mmon_gcm.buildingediting
import mmon_gcm.solving
import mmon_gcm.supermodel
import pandas as pd


# This cell isn't exported to the .py file, so define here if running in notebook rather than as .py on e.g.a cluster
# This is where to adjust whether fva is run if running in notebook
args = {
    "run_fva": "True",
    "no_processes": 6,
    "output_dir": "../outputs/model_solutions/",
    "model_file": "../models/4_stage_GC.xml",
    "map_file": "../inputs/map.json",
    "parameters_file": "../inputs/arabidopsis_parameters.csv",
}

sys.argv = ["script_name"] + list(args.values())


# | export

run_fva = sys.argv[1]
if run_fva == "True":
    run_fva = True
elif run_fva == "False":
    run_fva = False
else:
    raise ValueError(f"Please specify True or False for run_fva, not {run_fva}")

no_processes = int(sys.argv[2])
output_dir = sys.argv[3]
model_file = sys.argv[4]
map_file = sys.argv[5]
parameters_file = sys.argv[6]


# | export

four_stage_GC_model = cobra.io.sbml.read_sbml_model(model_file)  # read model


# | export

print(four_stage_GC_model.solver.configuration.tolerances.integrality)
print(four_stage_GC_model.solver.configuration.tolerances.feasibility)
four_stage_GC_model.solver.configuration.tolerances.feasibility = 1e-7
print(four_stage_GC_model.solver.configuration.tolerances.feasibility)


# | export

if run_fva == True:
    linker_list = [
        reaction
        for reaction in four_stage_GC_model.reactions
        if "gc_Linker_2" in reaction.id
        or "gc_Linker_1" in reaction.id
        or "_total_pseudolinker_1" in reaction.id
        or "_total_pseudolinker_2" in reaction.id
        or "ae_gc" in reaction.id
    ]

    extra_fva_rxns = set()

    with open(map_file, "r+") as f:
        map_data = json.load(f)

    for reaction in map_data[1]["reactions"].values():
        extra_fva_rxns.add(four_stage_GC_model.reactions.get_by_id(reaction["bigg_id"]))

    fva_list = list(set(linker_list) | extra_fva_rxns)

else:
    fva_list = []


# | export

parameters_df = pd.read_csv(parameters_file, index_col=0)
parameters_df


# | export

arabidopsis_supermodel = mmon_gcm.supermodel.SuperModel(parameters_df.loc[:, "Value"], fba_model=four_stage_GC_model)


# | export

arabidopsis_supermodel.get_volumes(printouts=True);


# | export

arabidopsis_supermodel.get_volumes(printouts=True, per_guard_cell=False);


# | export

arabidopsis_supermodel.constrain_osmolarity(printouts=True);


import numpy as np


np.array(arabidopsis_supermodel.get_osmolarities())


help(arabidopsis_supermodel.get_osmolarities)


mmoles_per_m2 = np.array(arabidopsis_supermodel.get_osmolarities())
mmoles_per_gc = mmoles_per_m2 / arabidopsis_supermodel.N_gcs
moles_per_gc = mmoles_per_gc * 10**-3
fmoles_per_gc = moles_per_gc / 10**-15
print(f"Closed fmoles: {fmoles_per_gc[0]}")
print(f"Open fmoles: {fmoles_per_gc[1]}")
print(f"Increase in fmoles: {fmoles_per_gc[1] - fmoles_per_gc[0]}")


# | export

PPFD = 150
arabidopsis_supermodel.constrain_photons(PPFD, printouts=True);


no_maintenance_solutions = pd.DataFrame()

### Blue Light Unconstrained H+-ATPase WT

arabidopsis_supermodel.constrain_photons(PPFD, printouts=False)
with arabidopsis_supermodel.fba_model as m:
    m.reactions.Photon_tx_gc_2.upper_bound = 0
    m.reactions.Photon_tx_me_2.upper_bound = 0
    mmon_gcm.buildingediting.set_bounds_multi(m, "RXN_1827_p_gc", 0, cobra.Configuration().upper_bound)
    mmon_gcm.buildingediting.set_bounds_multi(m, "PROTON_ATPase_c_gc", 0, cobra.Configuration().upper_bound) 
    (
        blue_unconstrained_wt,
        blue_unconstrained_wt_solution,
    ) = mmon_gcm.solving.get_pfba_fva_solution(m, rxn_list=[], processes=no_processes)
no_maintenance_solutions['blue_uncon_wt'] = blue_unconstrained_wt_solution['fluxes']

### Blue Light Unconstrained H+-ATPase Starch KO

arabidopsis_supermodel.constrain_photons(PPFD, printouts=False)
with arabidopsis_supermodel.fba_model as m:
    m.reactions.Photon_tx_gc_2.upper_bound = 0
    m.reactions.Photon_tx_me_2.upper_bound = 0
    mmon_gcm.buildingediting.set_bounds_multi(m, "RXN_1827_p_gc", 0, 0)
    mmon_gcm.buildingediting.set_bounds_multi(m, "PROTON_ATPase_c_gc", 0, cobra.Configuration().upper_bound) 
    (
        blue_unconstrained_ko,
        blue_unconstrained_ko_solution,
    ) = mmon_gcm.solving.get_pfba_fva_solution(m, rxn_list=[], processes=no_processes)
no_maintenance_solutions['blue_uncon_ko'] = blue_unconstrained_ko_solution['fluxes']

### Blue Light Constrained H+-ATPase WT

arabidopsis_supermodel.constrain_photons(PPFD, printouts=False)
with arabidopsis_supermodel.fba_model as m:
    m.reactions.Photon_tx_gc_2.upper_bound = 0
    m.reactions.Photon_tx_me_2.upper_bound = 0
    mmon_gcm.buildingediting.set_bounds_multi(m, "RXN_1827_p_gc", 0, cobra.Configuration().upper_bound)
    gc_atpase_upper_bound = arabidopsis_supermodel.get_atpase_constraint_value(7.5)
    mmon_gcm.buildingediting.set_bounds_multi(m, "PROTON_ATPase_c_gc", 0, gc_atpase_upper_bound)
    (
        blue_constrained_wt,
        blue_constrained_wt_solution,
    ) = mmon_gcm.solving.get_pfba_fva_solution(m, rxn_list=[], processes=no_processes)
no_maintenance_solutions['blue_con_wt'] = blue_constrained_wt_solution['fluxes']

### Blue Light Constrained H+-ATPase Starch KO

arabidopsis_supermodel.constrain_photons(PPFD, printouts=False)
with arabidopsis_supermodel.fba_model as m:
    m.reactions.Photon_tx_gc_2.upper_bound = 0
    m.reactions.Photon_tx_me_2.upper_bound = 0
    mmon_gcm.buildingediting.set_bounds_multi(m, "RXN_1827_p_gc", 0, 0)
    gc_atpase_upper_bound = arabidopsis_supermodel.get_atpase_constraint_value(7.5)
    mmon_gcm.buildingediting.set_bounds_multi(m, "PROTON_ATPase_c_gc", 0, gc_atpase_upper_bound) 
    (
        blue_constrained_ko,
        blue_constrained_ko_solution,
    ) = mmon_gcm.solving.get_pfba_fva_solution(m, rxn_list=[], processes=no_processes)
no_maintenance_solutions['blue_con_ko'] = blue_constrained_ko_solution['fluxes']

### White Light Unconstrained H+-ATPase WT

arabidopsis_supermodel.constrain_photons(PPFD, printouts=False)
with arabidopsis_supermodel.fba_model as m:
    #m.reactions.Photon_tx_gc_2.upper_bound = 0
    #m.reactions.Photon_tx_me_2.upper_bound = 0
    mmon_gcm.buildingediting.set_bounds_multi(m, "RXN_1827_p_gc", 0, cobra.Configuration().upper_bound)
    mmon_gcm.buildingediting.set_bounds_multi(m, "PROTON_ATPase_c_gc", 0, cobra.Configuration().upper_bound) 
    (
        white_unconstrained_wt,
        white_unconstrained_wt_solution,
    ) = mmon_gcm.solving.get_pfba_fva_solution(m, rxn_list=[], processes=no_processes)
no_maintenance_solutions['white_uncon_wt'] = white_unconstrained_wt_solution['fluxes']

### White Light Unconstrained H+-ATPase Starch KO

arabidopsis_supermodel.constrain_photons(PPFD, printouts=False)
with arabidopsis_supermodel.fba_model as m:
    #m.reactions.Photon_tx_gc_2.upper_bound = 0
    #m.reactions.Photon_tx_me_2.upper_bound = 0
    mmon_gcm.buildingediting.set_bounds_multi(m, "RXN_1827_p_gc", 0, 0)
    mmon_gcm.buildingediting.set_bounds_multi(m, "PROTON_ATPase_c_gc", 0, cobra.Configuration().upper_bound) 
    (
        white_unconstrained_ko,
        white_unconstrained_ko_solution,
    ) = mmon_gcm.solving.get_pfba_fva_solution(m, rxn_list=[], processes=no_processes)
no_maintenance_solutions['white_uncon_ko'] = white_unconstrained_ko_solution['fluxes']

### White Light Constrained H+-ATPase WT

arabidopsis_supermodel.constrain_photons(PPFD, printouts=False)
with arabidopsis_supermodel.fba_model as m:
    #m.reactions.Photon_tx_gc_2.upper_bound = 0
    #m.reactions.Photon_tx_me_2.upper_bound = 0
    mmon_gcm.buildingediting.set_bounds_multi(m, "RXN_1827_p_gc", 0, cobra.Configuration().upper_bound)
    gc_atpase_upper_bound = arabidopsis_supermodel.get_atpase_constraint_value(7.5)
    mmon_gcm.buildingediting.set_bounds_multi(m, "PROTON_ATPase_c_gc", 0, gc_atpase_upper_bound)
    (
        white_constrained_wt,
        white_constrained_wt_solution,
    ) = mmon_gcm.solving.get_pfba_fva_solution(m, rxn_list=[], processes=no_processes)
no_maintenance_solutions['white_con_wt'] = white_constrained_wt_solution['fluxes']

### White Light Constrained H+-ATPase Starch KO

arabidopsis_supermodel.constrain_photons(PPFD, printouts=False)
with arabidopsis_supermodel.fba_model as m:
    #m.reactions.Photon_tx_gc_2.upper_bound = 0
    #m.reactions.Photon_tx_me_2.upper_bound = 0
    mmon_gcm.buildingediting.set_bounds_multi(m, "RXN_1827_p_gc", 0, 0)
    gc_atpase_upper_bound = arabidopsis_supermodel.get_atpase_constraint_value(7.5)
    mmon_gcm.buildingediting.set_bounds_multi(m, "PROTON_ATPase_c_gc", 0, gc_atpase_upper_bound) 
    (
        white_constrained_ko,
        white_constrained_ko_solution,
    ) = mmon_gcm.solving.get_pfba_fva_solution(m, rxn_list=[], processes=no_processes)
no_maintenance_solutions['white_con_ko'] = white_constrained_ko_solution['fluxes']

### No PS Unconstrained H+-ATPase WT

arabidopsis_supermodel.constrain_photons(PPFD, printouts=False)
with arabidopsis_supermodel.fba_model as m:
    #m.reactions.Photon_tx_gc_2.upper_bound = 0
    #m.reactions.Photon_tx_me_2.upper_bound = 0
    for p in [1, 2, 3, 4]:
        m.reactions.get_by_id(f"Photon_tx_gc_{p}").bounds = (0, 0)
    mmon_gcm.buildingediting.set_bounds_multi(m, "RXN_1827_p_gc", 0, cobra.Configuration().upper_bound)
    mmon_gcm.buildingediting.set_bounds_multi(m, "PROTON_ATPase_c_gc", 0, cobra.Configuration().upper_bound) 
    (
        nops_unconstrained_wt,
        nops_unconstrained_wt_solution,
    ) = mmon_gcm.solving.get_pfba_fva_solution(m, rxn_list=[], processes=no_processes)
no_maintenance_solutions['nops_uncon_wt'] = nops_unconstrained_wt_solution['fluxes']

### No PS Unconstrained H+-ATPase Starch KO

arabidopsis_supermodel.constrain_photons(PPFD, printouts=False)
with arabidopsis_supermodel.fba_model as m:
    #m.reactions.Photon_tx_gc_2.upper_bound = 0
    #m.reactions.Photon_tx_me_2.upper_bound = 0
    for p in [1, 2, 3, 4]:
        m.reactions.get_by_id(f"Photon_tx_gc_{p}").bounds = (0, 0)
    mmon_gcm.buildingediting.set_bounds_multi(m, "RXN_1827_p_gc", 0, 0)
    mmon_gcm.buildingediting.set_bounds_multi(m, "PROTON_ATPase_c_gc", 0, cobra.Configuration().upper_bound) 
    (
        nops_unconstrained_ko,
        nops_unconstrained_ko_solution,
    ) = mmon_gcm.solving.get_pfba_fva_solution(m, rxn_list=[], processes=no_processes)
no_maintenance_solutions['nops_uncon_ko'] = nops_unconstrained_ko_solution['fluxes']

### No PS Constrained H+-ATPase WT

arabidopsis_supermodel.constrain_photons(PPFD, printouts=False)
with arabidopsis_supermodel.fba_model as m:
    #m.reactions.Photon_tx_gc_2.upper_bound = 0
    #m.reactions.Photon_tx_me_2.upper_bound = 0
    for p in [1, 2, 3, 4]:
        m.reactions.get_by_id(f"Photon_tx_gc_{p}").bounds = (0, 0)
    mmon_gcm.buildingediting.set_bounds_multi(m, "RXN_1827_p_gc", 0, cobra.Configuration().upper_bound)
    gc_atpase_upper_bound = arabidopsis_supermodel.get_atpase_constraint_value(7.5)
    mmon_gcm.buildingediting.set_bounds_multi(m, "PROTON_ATPase_c_gc", 0, gc_atpase_upper_bound)
    (
        nops_constrained_wt,
        nops_constrained_wt_solution,
    ) = mmon_gcm.solving.get_pfba_fva_solution(m, rxn_list=[], processes=no_processes)
no_maintenance_solutions['nops_con_wt'] = nops_constrained_wt_solution['fluxes']

### No PS Constrained H+-ATPase Starch KO

arabidopsis_supermodel.constrain_photons(PPFD, printouts=False)
with arabidopsis_supermodel.fba_model as m:
    #m.reactions.Photon_tx_gc_2.upper_bound = 0
    #m.reactions.Photon_tx_me_2.upper_bound = 0
    for p in [1, 2, 3, 4]:
        m.reactions.get_by_id(f"Photon_tx_gc_{p}").bounds = (0, 0)
    mmon_gcm.buildingediting.set_bounds_multi(m, "RXN_1827_p_gc", 0, 0)
    gc_atpase_upper_bound = arabidopsis_supermodel.get_atpase_constraint_value(7.5)
    mmon_gcm.buildingediting.set_bounds_multi(m, "PROTON_ATPase_c_gc", 0, gc_atpase_upper_bound) 
    (
        nops_constrained_ko,
        nops_constrained_ko_solution,
    ) = mmon_gcm.solving.get_pfba_fva_solution(m, rxn_list=[], processes=no_processes)
no_maintenance_solutions['nops_con_ko'] = nops_constrained_ko_solution['fluxes']


sum_fluxes_exclude = set()
for r in list(no_maintenance_solutions.index):
    parts = r.split('_')
    if parts[-1] in ['gc', 'me', 'day', 'overall', 'night']: # not in ['1', '2', '3', '4']
        sum_fluxes_exclude.add(r)
    else:
        if parts[-2] in ['tx', 'pseudolinker', 'Linker', 'a']: # not in ['me', 'gc']
            sum_fluxes_exclude.add(r)
        else:
            if parts[-3] in ['ae', 't', 'b', 'ep', 'tx', 'biomass']: # not in ['cv', 'p', 'xc', 'pc', 'mc', 'im', 'vc', 'mi', 'v', 'c', 'm', 'x', 'ec', 'pr', 'r', 'ce', 'cwINV']
                sum_fluxes_exclude.add(r)
            else:
                if 'constraint' in r:
                    sum_fluxes_exclude.add(r)


# Filter solution with only metabolic reactions and transporters (with constrained H+-ATPase only)
filtered_df = no_maintenance_solutions.loc[~no_maintenance_solutions.index.isin(sum_fluxes_exclude), no_maintenance_solutions.columns.str.contains('_con_')]


phase_length = {'1': 6, '2': 0.5, '3': 11.5, '4': 6}

def multiply_by_hours(row):
    index_suffix = row.name.split('_')[-1]
    factor = phase_length[index_suffix]
    return row * factor

scaled_df = filtered_df.apply(multiply_by_hours, axis=1)

#gc_sum_flux = filtered_df[filtered_df.index.str.contains('|'.join(['_gc_1', '_gc_4']))].abs().sum()
#me_sum_flux = filtered_df[filtered_df.index.str.contains('|'.join(['_me_1', '_me_4']))].abs().sum()
gc_sum_flux = scaled_df[scaled_df.index.str.contains('_gc_')].abs().sum()
me_sum_flux = scaled_df[scaled_df.index.str.contains('_me_')].abs().sum()


#print(scaled_df)
print(gc_sum_flux)
print(me_sum_flux)


gc_me_ratio = gc_sum_flux/me_sum_flux
print(gc_me_ratio)


gc_me_ratio.head(4).mean()


# | export

arabidopsis_supermodel.add_maintenance(gc=True, gc_ratio=4.4270867608601426e-05);


# | export

# Added this line to explictly set Photon constraint
arabidopsis_supermodel.constrain_photons(PPFD, printouts=False)
with arabidopsis_supermodel.fba_model as m:
    m.reactions.Photon_tx_gc_2.upper_bound = 0
    m.reactions.Photon_tx_me_2.upper_bound = 0
    # Added this line to explictly set bounds for starch degradation
    mmon_gcm.buildingediting.set_bounds_multi(m, "RXN_1827_p_gc", 0, cobra.Configuration().upper_bound)

    # Added this line to explictly set bounds for H+-ATPase in GC
    mmon_gcm.buildingediting.set_bounds_multi(m, "PROTON_ATPase_c_gc", 0, cobra.Configuration().upper_bound)
 
    (
        blue_unconstrained_wt,
        blue_unconstrained_wt_solution,
    ) = mmon_gcm.solving.get_pfba_fva_solution(m, rxn_list=fva_list, processes=no_processes)


# | export

blue_unconstrained_wt_solution.to_csv(output_dir + f"blue_unconstrained_wt.csv")


# | export

# Added this line to explictly set Photon constraint
arabidopsis_supermodel.constrain_photons(PPFD, printouts=False)
with arabidopsis_supermodel.fba_model as m:
    m.reactions.Photon_tx_gc_2.upper_bound = 0
    m.reactions.Photon_tx_me_2.upper_bound = 0
    mmon_gcm.buildingediting.set_bounds_multi(m, "RXN_1827_p_gc", 0, 0)
    
    # Added this line to explictly set bounds for H+-ATPase in GC
    mmon_gcm.buildingediting.set_bounds_multi(m, "PROTON_ATPase_c_gc", 0, cobra.Configuration().upper_bound)

    (
        blue_unconstrained_starchko,
        blue_unconstrained_starchko_solution,
    ) = mmon_gcm.solving.get_pfba_fva_solution(m, rxn_list=fva_list, processes=no_processes)


# | export

blue_unconstrained_starchko_solution.to_csv(output_dir + "blue_unconstrained_starchko.csv")


# | export

# Added this line to explictly set Photon constraint
arabidopsis_supermodel.constrain_photons(PPFD, printouts=False)
with arabidopsis_supermodel.fba_model as m:
    m.reactions.Photon_tx_gc_2.upper_bound = 0
    m.reactions.Photon_tx_me_2.upper_bound = 0
    # Added this line to explictly set bounds for starch degradation
    mmon_gcm.buildingediting.set_bounds_multi(m, "RXN_1827_p_gc", 0, cobra.Configuration().upper_bound)

    gc_atpase_upper_bound = arabidopsis_supermodel.get_atpase_constraint_value(7.5)
    mmon_gcm.buildingediting.set_bounds_multi(m, "PROTON_ATPase_c_gc", 0, gc_atpase_upper_bound)

    (
        blue_constrained_wt,
        blue_constrained_wt_solution,
    ) = mmon_gcm.solving.get_pfba_fva_solution(m, rxn_list=fva_list, processes=no_processes)


# | export

blue_constrained_wt_solution.to_csv(output_dir + "blue_constrained_wt.csv")


# | export

# Added this line to explictly set Photon constraint
arabidopsis_supermodel.constrain_photons(PPFD, printouts=False)
with arabidopsis_supermodel.fba_model as m:
    m.reactions.Photon_tx_gc_2.upper_bound = 0
    m.reactions.Photon_tx_me_2.upper_bound = 0
    
    mmon_gcm.buildingediting.set_bounds_multi(m, "RXN_1827_p_gc", 0, 0)

    gc_atpase_upper_bound = arabidopsis_supermodel.get_atpase_constraint_value(7.5)
    mmon_gcm.buildingediting.set_bounds_multi(m, "PROTON_ATPase_c_gc", 0, gc_atpase_upper_bound)

    (
        blue_constrained_starchko,
        blue_constrained_starchko_solution,
    ) = mmon_gcm.solving.get_pfba_fva_solution(m, rxn_list=fva_list, processes=no_processes)


# | export

blue_constrained_starchko_solution.to_csv(output_dir + "blue_constrained_starchko.csv")


# | export

# Added this line to explictly set Photon constraint
arabidopsis_supermodel.constrain_photons(PPFD, printouts=False)
with arabidopsis_supermodel.fba_model as m:
    # Added this line to explictly set bounds for starch degradation
    mmon_gcm.buildingediting.set_bounds_multi(m, "RXN_1827_p_gc", 0, cobra.Configuration().upper_bound)

    # Added this line to explictly set bounds for H+-ATPase in GC
    mmon_gcm.buildingediting.set_bounds_multi(m, "PROTON_ATPase_c_gc", 0, cobra.Configuration().upper_bound)

    (
        white_unconstrained_wt,
        white_unconstrained_wt_solution,
    ) = mmon_gcm.solving.get_pfba_fva_solution(m, rxn_list=fva_list, processes=no_processes)


# | export

white_unconstrained_wt_solution.to_csv(output_dir + "white_unconstrained_wt.csv")


 # | export

# Added this line to explictly set Photon constraint
arabidopsis_supermodel.constrain_photons(PPFD, printouts=False)
with arabidopsis_supermodel.fba_model as m:

    mmon_gcm.buildingediting.set_bounds_multi(m, "RXN_1827_p_gc", 0, 0)
    
    # Added this line to explictly set bounds for H+-ATPase in GC
    mmon_gcm.buildingediting.set_bounds_multi(m, "PROTON_ATPase_c_gc", 0, cobra.Configuration().upper_bound)

    (
        white_unconstrained_starchko,
        white_unconstrained_starchko_solution,
    ) = mmon_gcm.solving.get_pfba_fva_solution(m, rxn_list=fva_list, processes=no_processes)


# | export

white_unconstrained_starchko_solution.to_csv(output_dir + "white_unconstrained_starchko.csv")


# | export

# Added this line to explictly set Photon constraint
arabidopsis_supermodel.constrain_photons(PPFD, printouts=False)
with arabidopsis_supermodel.fba_model as m:
    # Added this line to explictly set bounds for starch degradation
    mmon_gcm.buildingediting.set_bounds_multi(m, "RXN_1827_p_gc", 0, cobra.Configuration().upper_bound)

    gc_atpase_upper_bound = arabidopsis_supermodel.get_atpase_constraint_value(7.5)
    mmon_gcm.buildingediting.set_bounds_multi(m, "PROTON_ATPase_c_gc", 0, gc_atpase_upper_bound)

    (
        white_constrained_wt,
        white_constrained_wt_solution,
    ) = mmon_gcm.solving.get_pfba_fva_solution(m, rxn_list=fva_list, processes=no_processes)


# | export

white_constrained_wt_solution.to_csv(output_dir + "white_constrained_wt.csv")


# | export

# Added this line to explictly set Photon constraint
arabidopsis_supermodel.constrain_photons(PPFD, printouts=False)
with arabidopsis_supermodel.fba_model as m:
    
    mmon_gcm.buildingediting.set_bounds_multi(m, "RXN_1827_p_gc", 0, 0)
    
    gc_atpase_upper_bound = arabidopsis_supermodel.get_atpase_constraint_value(7.5)
    mmon_gcm.buildingediting.set_bounds_multi(m, "PROTON_ATPase_c_gc", 0, gc_atpase_upper_bound)

    (
        white_constrained_starchko,
        white_constrained_starchko_solution,
    ) = mmon_gcm.solving.get_pfba_fva_solution(m, rxn_list=fva_list, processes=no_processes)


# | export

white_constrained_starchko_solution.to_csv(output_dir + "white_constrained_starchko.csv")


# | export

# Added this line to explictly set Photon constraint
arabidopsis_supermodel.constrain_photons(PPFD, printouts=False)
with arabidopsis_supermodel.fba_model as m:
    for p in [1, 2, 3, 4]:
        m.reactions.get_by_id(f"Photon_tx_gc_{p}").bounds = (0, 0)

    # Added this line to explictly set bounds for starch degradation
    mmon_gcm.buildingediting.set_bounds_multi(m, "RXN_1827_p_gc", 0, cobra.Configuration().upper_bound)

    # Added this line to explictly set bounds for H+-ATPase in GC
    mmon_gcm.buildingediting.set_bounds_multi(m, "PROTON_ATPase_c_gc", 0, cobra.Configuration().upper_bound)

    (
        nops_unconstrained_wt,
        nops_unconstrained_wt_solution,
    ) = mmon_gcm.solving.get_pfba_fva_solution(m, rxn_list=fva_list, processes=no_processes)


# | export

nops_unconstrained_wt_solution.to_csv(output_dir + "nops_unconstrained_wt.csv")


# | export
# Added this line to explictly set Photon constraint
arabidopsis_supermodel.constrain_photons(PPFD, printouts=False)
with arabidopsis_supermodel.fba_model as m:
    for p in [1, 2, 3, 4]:
        m.reactions.get_by_id(f"Photon_tx_gc_{p}").bounds = (0, 0)

    # Added this line to explictly set bounds for H+-ATPase in GC
    mmon_gcm.buildingediting.set_bounds_multi(m, "PROTON_ATPase_c_gc", 0, cobra.Configuration().upper_bound)

    mmon_gcm.buildingediting.set_bounds_multi(m, "RXN_1827_p_gc", 0, 0)
    
    (
        nops_unconstrained_starchko,
        nops_unconstrained_starchko_solution,
    ) = mmon_gcm.solving.get_pfba_fva_solution(m, rxn_list=fva_list, processes=no_processes)


# | export

nops_unconstrained_starchko_solution.to_csv(output_dir + "nops_unconstrained_starchko.csv")


# | export

# Added this line to explictly set Photon constraint
arabidopsis_supermodel.constrain_photons(PPFD, printouts=False)
with arabidopsis_supermodel.fba_model as m:
    for p in [1, 2, 3, 4]:
        m.reactions.get_by_id(f"Photon_tx_gc_{p}").bounds = (0, 0)

    # Added this line to explictly set bounds for starch degradation
    mmon_gcm.buildingediting.set_bounds_multi(m, "RXN_1827_p_gc", 0, cobra.Configuration().upper_bound)

    gc_atpase_upper_bound = arabidopsis_supermodel.get_atpase_constraint_value(7.5)
    mmon_gcm.buildingediting.set_bounds_multi(m, "PROTON_ATPase_c_gc", 0, gc_atpase_upper_bound)

    (
        nops_unconstrained_wt,
        nops_unconstrained_wt_solution,
    ) = mmon_gcm.solving.get_pfba_fva_solution(m, rxn_list=fva_list, processes=no_processes)


# | export

nops_unconstrained_wt_solution.to_csv(output_dir + "nops_constrained_wt.csv")


# | export

# Added this line to explictly set Photon constraint
arabidopsis_supermodel.constrain_photons(PPFD, printouts=False)
with arabidopsis_supermodel.fba_model as m:
    for p in [1, 2, 3, 4]:
        m.reactions.get_by_id(f"Photon_tx_gc_{p}").bounds = (0, 0)

    gc_atpase_upper_bound = arabidopsis_supermodel.get_atpase_constraint_value(7.5)
    mmon_gcm.buildingediting.set_bounds_multi(m, "PROTON_ATPase_c_gc", 0, gc_atpase_upper_bound)

    mmon_gcm.buildingediting.set_bounds_multi(m, "RXN_1827_p_gc", 0, 0)

    (
        nops_unconstrained_starchko,
        nops_unconstrained_starchko_solution,
    ) = mmon_gcm.solving.get_pfba_fva_solution(m, rxn_list=fva_list, processes=no_processes)


# | export

nops_unconstrained_starchko_solution.to_csv(output_dir + "nops_constrained_starchko.csv")


P_gc, P_me = arabidopsis_supermodel.get_photons(PPFD=PPFD, printouts=False)

for i, p in enumerate([0, P_me, P_me, 0], start=1):
    arabidopsis_supermodel.fba_model.reactions.get_by_id("Photon_tx_me_" + str(i)).bounds = 0, p

with arabidopsis_supermodel.fba_model as m:
    # Added this line to explictly set bounds for starch degradation
    mmon_gcm.buildingediting.set_bounds_multi(m, "RXN_1827_p_gc", 0, cobra.Configuration().upper_bound)

    gc_atpase_upper_bound = arabidopsis_supermodel.get_atpase_constraint_value(7.5)
    mmon_gcm.buildingediting.set_bounds_multi(m, "PROTON_ATPase_c_gc", 0, gc_atpase_upper_bound)

    scan_df = pd.DataFrame()
    for photon in range(PPFD+1):
        P_gc, P_me = arabidopsis_supermodel.get_photons(PPFD=photon, printouts=False)
        for i, p in enumerate([0, P_gc, P_gc, 0], start=1):
            m.reactions.get_by_id("Photon_tx_gc_" + str(i)).bounds = 0, p
        cobra_model, solution = mmon_gcm.solving.pfba_Weighted(m, objective="Phloem_tx_overall")
        scan_df[photon] = solution.fluxes
        print(photon, solution.fluxes['Photon_tx_gc_2'], solution.fluxes['Photon_tx_me_2'])
scan_df.to_csv("../outputs/scans/gc_photon_scan.csv", )
